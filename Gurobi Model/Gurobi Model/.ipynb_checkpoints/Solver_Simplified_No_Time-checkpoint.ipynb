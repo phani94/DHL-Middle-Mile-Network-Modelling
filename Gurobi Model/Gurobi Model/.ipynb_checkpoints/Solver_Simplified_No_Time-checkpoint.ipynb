{
 "cells": [
  {
   "cell_type": "code",
   "execution_count": 1,
   "metadata": {},
   "outputs": [],
   "source": [
    "from gurobipy import Model, GRB, quicksum, tuplelist\n",
    "import numpy as np\n",
    "import pandas as pd"
   ]
  },
  {
   "cell_type": "code",
   "execution_count": 2,
   "metadata": {},
   "outputs": [],
   "source": [
    "# The following file works as a reference table to match the names of 2 sheets\n",
    "hub_list = pd.read_csv('Database/Hub list.csv')\n",
    "hub_list.Ref_City = hub_list.Ref_City + \"-\" + hub_list.Country\n",
    "\n",
    "# drop duplicates\n",
    "hub_list.drop_duplicates(subset = \"Ref_City\", keep='first', inplace=True)\n",
    "\n",
    "\n",
    "hub_ref = {}\n",
    "for row in hub_list.index:\n",
    "    hub_ref[hub_list.loc[row, \"City\"]] = hub_list.loc[row, \"Ref_City\"]\n",
    "\n",
    "    \n",
    "    \n",
    "def name_transform(city_name):\n",
    "    if city_name in hub_ref.keys():\n",
    "        return hub_ref[city_name]\n",
    "    else:\n",
    "        return city_name\n"
   ]
  },
  {
   "cell_type": "code",
   "execution_count": 3,
   "metadata": {},
   "outputs": [],
   "source": [
    "# Simple Version\n",
    "masterfile = pd.read_excel(\"Database/Simple/Simple Routes.xlsx\", sheet_name = 0)\n",
    "\n",
    "# Complete Version\n",
    "#masterfile = pd.read_csv(\"Database/inter_distances.csv\")\n"
   ]
  },
  {
   "cell_type": "code",
   "execution_count": 4,
   "metadata": {},
   "outputs": [],
   "source": [
    "# Import forecast for creating the country set\n",
    "forecast = pd.read_csv(\"Database/Average_Forecast.csv\")\n",
    "forecast.fillna(0, inplace = True)\n",
    "\n",
    "# Only satisfied those the current network can reach\n",
    "# Otherwise the solution would be infeasible\n",
    "\n",
    "used_c = masterfile[\"Origin Country\"].unique().tolist() +  masterfile[\"Destination Country\"].unique().tolist() # Not every hubs in the hub list is used\n",
    "used_c = list( dict.fromkeys(used_c) )  # Remove duplicate\n",
    "\n",
    "all_c = forecast.Origin.unique().tolist() +  forecast.Destination.unique().tolist() # Not every hubs in the hub list is used\n",
    "all_c = list( dict.fromkeys(all_c) )  # Remove duplicate\n",
    "\n",
    "for x in used_c:\n",
    "    try:\n",
    "        all_c.remove(x)\n",
    "    except:\n",
    "        continue\n",
    "        \n",
    "for c in all_c:\n",
    "    forecast[\"Origin\"].replace(c, np.nan, inplace = True)\n",
    "    forecast[\"Destination\"].replace(c, np.nan, inplace = True)\n",
    "forecast.dropna(how = \"any\", inplace = True)\n",
    "\n",
    "\n",
    "# Set up the threshold for the demands\n",
    "minimum_demands = 0\n",
    "maximum_demands = 10000000000\n",
    "forecast[\"Target\"] = forecast.apply(lambda row: row.Average if row.Average >= minimum_demands else 0, axis = 1)\n",
    "\n",
    "forecast[\"Target\"] = forecast.apply(lambda row: row.Target if row.Target <= maximum_demands else 0, axis = 1)\n",
    "\n",
    "\n",
    "forecast = forecast[forecast[\"Target\"] > 0]\n",
    "country_set = list(zip(forecast[\"Origin\"].to_list(), forecast[\"Destination\"].to_list()))\n",
    "\n",
    "origin_list = list(forecast[\"Origin\"].unique())\n",
    "dst_list =  list(forecast[\"Destination\"].unique())\n",
    "\n",
    "country_with_forecast = forecast.Origin.unique().tolist() +  forecast.Destination.unique().tolist()\n",
    "country_with_forecast = list( dict.fromkeys(country_with_forecast))  # Remove Dup"
   ]
  },
  {
   "cell_type": "code",
   "execution_count": 5,
   "metadata": {},
   "outputs": [
    {
     "data": {
      "text/plain": [
       "212"
      ]
     },
     "execution_count": 5,
     "metadata": {},
     "output_type": "execute_result"
    }
   ],
   "source": [
    "len(forecast)"
   ]
  },
  {
   "cell_type": "markdown",
   "metadata": {},
   "source": [
    "# Define the Set\n",
    "## 1. Hubs in each Country (L) & All Hubs (H)"
   ]
  },
  {
   "cell_type": "code",
   "execution_count": 6,
   "metadata": {},
   "outputs": [],
   "source": [
    "used_hubs = masterfile.From.unique().tolist() +  masterfile.To.unique().tolist() # Not every hubs in the hub list is used\n",
    "used_hubs = list( dict.fromkeys(used_hubs) )  # Remove duplicate\n",
    "\n",
    "hub_list_used = hub_list.set_index(\"Ref_City\")\n",
    "hub_list_used = hub_list_used.loc[hub_list_used.index.isin(used_hubs), :]\n",
    "hub_list_used.reset_index(inplace = True)\n",
    "\n",
    "#hub_list_used[\"Country\"] = hub_list_used.apply(lambda row: row[\"Ref_City\"].split(\"-\")[-1], axis = 1) # To fill NA in country\n",
    "\n",
    "L = {}\n",
    "for country in country_with_forecast:  # hub_list_used.Country.unique():\n",
    "    hub_collect = hub_list_used[hub_list_used.loc[:, \"Country\"] == country][\"Ref_City\"].tolist()\n",
    "    L[country] = hub_collect\n",
    "\n",
    "    #for row in hub_list_used.index:\n",
    "\n",
    "    #L[hub_list_used.loc[row, \"Country\"]].append(hub_list_used.loc[row, \"Ref_City\"])\n",
    "H = hub_list_used.Ref_City.unique().tolist() # All hubs"
   ]
  },
  {
   "cell_type": "markdown",
   "metadata": {},
   "source": [
    "## 2. European Countries (E)"
   ]
  },
  {
   "cell_type": "code",
   "execution_count": 7,
   "metadata": {},
   "outputs": [],
   "source": [
    "E = country_with_forecast # from the \"forecast\" file"
   ]
  },
  {
   "cell_type": "markdown",
   "metadata": {},
   "source": [
    "## 3. Truck Types (T)"
   ]
  },
  {
   "cell_type": "code",
   "execution_count": 8,
   "metadata": {},
   "outputs": [],
   "source": [
    "truck_cap = pd.read_csv(\"Database/TruckVSCap.csv\")\n",
    "T = truck_cap[\"Truck Type\"].tolist()\n",
    "#T.remove(\"Swap Body\") # To simplify the model"
   ]
  },
  {
   "cell_type": "markdown",
   "metadata": {},
   "source": [
    "## Define subset for the later use"
   ]
  },
  {
   "cell_type": "code",
   "execution_count": 9,
   "metadata": {},
   "outputs": [],
   "source": [
    "# Define tuplelist for the assign of variables\n",
    "\n",
    "mjk = tuplelist([(m,j,k) for m, k in country_set for j in country_with_forecast if (m != j) & (j != k)])\n",
    "mk = tuplelist([(m,k) for m, k in country_set])\n",
    "\n",
    "mj_k = [(m, j) for m in origin_list for j in country_with_forecast if (m, j) not in mk if m != j]   # m connects to j exlcudes k (transit countries)\n",
    "mj_k = list( dict.fromkeys(mj_k) )\n",
    "\n",
    "#j_mk = [(m, k) for m in country_with_forecast for k in dst_list if (m not in origin_list) & (m != k)]   # m connects to j exlcudes k (transit countries)\n",
    "j_mk = [(j, k)  for j in country_with_forecast for k in dst_list if (j,k) not in mk if k != j]  \n",
    "#j_mk = [(j, k) for m, j, k in mjk if (j,k) not in mk]   # j excludes m (transit countries), connects to k\n",
    "j_mk = list( dict.fromkeys(j_mk) )\n",
    "\n",
    "mk_all = j_mk + mj_k + mk\n",
    "mk_all = list( dict.fromkeys(mk_all) )\n",
    "\n",
    "pq = tuplelist([(p,q) for m,k in mk for p in L[m] for q in L[k]])\n",
    "piq = tuplelist([(p,i,q) for (m,j,k) in mjk for p in L[m] for i in L[j] for q in L[k]])\n",
    "pq_all = tuplelist((p, q) for m,k in mk_all for p in L[m] for q in L[k])\n",
    "pqt = tuplelist([(p,q,t) for p,q in pq_all for t in T])"
   ]
  },
  {
   "cell_type": "markdown",
   "metadata": {},
   "source": [
    "# Define all the parameters\n",
    "\n",
    "## 1. Cost: \n",
    "Transportation Cost between hub p ∈ H and hub q ∈ H using truck t ∈ T (Euro/ kg)\t\n"
   ]
  },
  {
   "cell_type": "code",
   "execution_count": 10,
   "metadata": {},
   "outputs": [],
   "source": [
    "cost_file = pd.read_csv(\"Database/Costs.csv\")"
   ]
  },
  {
   "cell_type": "code",
   "execution_count": 11,
   "metadata": {},
   "outputs": [
    {
     "data": {
      "text/plain": [
       "'    \\ncl_distance = 500\\n\\nif \"Co-loading\" in T:\\n    for p, q in pq_all:\\n        cost[(p, q, \"Co-loading\")] = max([cost[p_s, q_s, t] for p_s, q_s, t in pqt.select(p, q, \"*\") if t != \"Co-loading\"])*1.5 if cost[(p, q, \"Van\")] < ((0.6*cl_distance+5)/2250) else 99\\n        # (0.6*500+5)/2250 use distance as a filter, over 500 km, the Co-loading opportunities are less\\n\\nfor p, q in pq:\\n    cost[(p, q, \"Co-loading-Extra\")] = cost[(p, q, \"Van\")]*10\\n'"
      ]
     },
     "execution_count": 11,
     "metadata": {},
     "output_type": "execute_result"
    }
   ],
   "source": [
    "cost = {}\n",
    "for row in cost_file.index:\n",
    "    cost_key = (cost_file[\"From\"][row], cost_file[\"To\"][row], cost_file[\"Truck type\"][row])\n",
    "    cost[cost_key] = cost_file[\"Cost/kg\"][row]\n",
    "'''    \n",
    "cl_distance = 500\n",
    "\n",
    "if \"Co-loading\" in T:\n",
    "    for p, q in pq_all:\n",
    "        cost[(p, q, \"Co-loading\")] = max([cost[p_s, q_s, t] for p_s, q_s, t in pqt.select(p, q, \"*\") if t != \"Co-loading\"])*1.5 if cost[(p, q, \"Van\")] < ((0.6*cl_distance+5)/2250) else 99\n",
    "        # (0.6*500+5)/2250 use distance as a filter, over 500 km, the Co-loading opportunities are less\n",
    "\n",
    "for p, q in pq:\n",
    "    cost[(p, q, \"Co-loading-Extra\")] = cost[(p, q, \"Van\")]*10\n",
    "'''"
   ]
  },
  {
   "cell_type": "code",
   "execution_count": 12,
   "metadata": {},
   "outputs": [],
   "source": [
    "cl_file = pd.read_excel(\"Database/Co Loading Hubs.xlsx\", sheet_name = \"List hub\")\n",
    "\n",
    "cl_od = tuple(zip(cl_file[\"Origin\"].to_list(), cl_file[\"Destination\"].to_list()))\n",
    "\n",
    "\n",
    "#cl={}\n",
    "\n",
    "#cl=tuple(zip(cl_od))\n",
    "\n",
    "    \n",
    "if \"Co-loading\" in T:\n",
    "    for p, q in pq_all:\n",
    "        #for cl_od in cl:\n",
    "        cost[(p, q, \"Co-loading\")] = max([cost[p_s, q_s, t] for p_s, q_s, t in pqt.select(p, q, \"*\") if t != \"Co-loading\"])*1.5 if (p,q) in cl_od else 99\n"
   ]
  },
  {
   "cell_type": "markdown",
   "metadata": {},
   "source": [
    "# 2. Forecast volume: Z\n",
    "Average forecasted parcel volume from country m ∈ E to country j ∈ E"
   ]
  },
  {
   "cell_type": "code",
   "execution_count": 13,
   "metadata": {},
   "outputs": [],
   "source": [
    "Z = {}\n",
    "\n",
    "\n",
    "for row in forecast.index:\n",
    "    key = (forecast[\"Origin\"][row], forecast[\"Destination\"][row])\n",
    "    Z[key] = int(round(forecast[\"Target\"][row])) # Can only be interger\n",
    "\n",
    "# Some missing connection in the forecast\n",
    "for conn in mk:\n",
    "    if conn not in Z.keys():\n",
    "        Z[conn] = 0\n",
    "        print(conn)"
   ]
  },
  {
   "cell_type": "markdown",
   "metadata": {},
   "source": [
    "## 3. Current Freqency (F_)\n",
    "the frequency of truck t from hub to hub q in the current network."
   ]
  },
  {
   "cell_type": "code",
   "execution_count": 14,
   "metadata": {},
   "outputs": [
    {
     "data": {
      "text/plain": [
       "'\\nfreq_truck = pd.read_excel(\"Database/Result_Freq.xlsx\", sheet_name = 0)\\nfreq_truck.replace(\"Ryton Gateway\", \"Ryton\", inplace = True)\\nfreq_truck[\"From\"] = freq_truck.apply(lambda row: name_transform(row[\"Org. GTW\"]), axis = 1)\\nfreq_truck[\"To\"] = freq_truck.apply(lambda row: name_transform(row[\"Dst. GTW\"]), axis = 1)\\nfreq_truck.loc[:, :].to_csv(\"Database/current_network.csv\")\\n\\n'"
      ]
     },
     "execution_count": 14,
     "metadata": {},
     "output_type": "execute_result"
    }
   ],
   "source": [
    "# The following code transform the excel files to csv file in specific format\n",
    "'''\n",
    "freq_truck = pd.read_excel(\"Database/Result_Freq.xlsx\", sheet_name = 0)\n",
    "freq_truck.replace(\"Ryton Gateway\", \"Ryton\", inplace = True)\n",
    "freq_truck[\"From\"] = freq_truck.apply(lambda row: name_transform(row[\"Org. GTW\"]), axis = 1)\n",
    "freq_truck[\"To\"] = freq_truck.apply(lambda row: name_transform(row[\"Dst. GTW\"]), axis = 1)\n",
    "freq_truck.loc[:, :].to_csv(\"Database/current_network.csv\")\n",
    "\n",
    "'''"
   ]
  },
  {
   "cell_type": "code",
   "execution_count": 15,
   "metadata": {},
   "outputs": [],
   "source": [
    "freq_current = pd.read_csv(\"Database/current_network.csv\")\n",
    "# The following section work as a formatting part. To avoid different naming issues\n",
    "freq_current.replace(\"trailer\", \"Trailer\", inplace = True)\n",
    "freq_current.replace(\"2 swap bodies\", \"2 Swap Bodies\", inplace = True)\n",
    "freq_current.replace(\"van\", \"Van\", inplace = True)\n",
    "freq_current.replace(\"1 swap body\", \"Swap Body\", inplace = True)\n",
    "freq_current.replace(\"SEMI TRAILER\", \"Swap Body\", inplace = True)\n",
    "freq_current.replace(\"Cargo 50 m3\", \"Swap Body\", inplace = True)\n",
    "freq_current.replace(\"Sea Container\", \"2 Swap Bodies\", inplace = True)\n",
    "freq_current.replace(\"Van 15 m3\", \"Van\", inplace = True)\n",
    "freq_current.replace(\"Van 22m3\", \"Van\", inplace = True)\n",
    "freq_current.replace(\"4 swap bodies\", \"2 Swap Bodies\", inplace = True)\n",
    "\n"
   ]
  },
  {
   "cell_type": "code",
   "execution_count": 16,
   "metadata": {},
   "outputs": [],
   "source": [
    "F_ = {}\n",
    "for row in freq_current.index:\n",
    "    key = (freq_current.loc[row, \"From\"], freq_current.loc[row, \"To\"], freq_current.loc[row, \"Truck type\"])\n",
    "    value = freq_current.loc[row, \"Frequency\"]\n",
    "    \n",
    "    F_[key] = value\n",
    "    \n",
    "for target in pqt:\n",
    "    if target not in F_.keys():\n",
    "        F_[target] = 0\n",
    "        "
   ]
  },
  {
   "cell_type": "markdown",
   "metadata": {},
   "source": [
    "## 4. Travel time (TT)\n",
    "Total transportation time from hub p ∈ H to q ∈ H"
   ]
  },
  {
   "cell_type": "code",
   "execution_count": 17,
   "metadata": {},
   "outputs": [],
   "source": [
    "tt_file = pd.read_csv(\"Database/travel time.csv\")\n",
    "TT = {}\n",
    "for row in tt_file.index:\n",
    "    key = (tt_file.loc[row, \"From\"], tt_file.loc[row, \"To\"])\n",
    "    value = tt_file.loc[row, \"est_tt\"]\n",
    "    \n",
    "    TT[key] = value"
   ]
  },
  {
   "cell_type": "markdown",
   "metadata": {},
   "source": [
    "## 5. Hub Open & Cut-off time\n",
    "- Op = Hub opened time for hub p ∈ H\n",
    "- COp  = Hub cut off time for hub p ∈ H\n"
   ]
  },
  {
   "cell_type": "code",
   "execution_count": 18,
   "metadata": {},
   "outputs": [],
   "source": [
    "def transform_time(target):\n",
    "    try: \n",
    "        return int(target.split(\":\")[0]) + int(target.split(\":\")[1])/60 \n",
    "    except:\n",
    "        return 0"
   ]
  },
  {
   "cell_type": "code",
   "execution_count": 19,
   "metadata": {},
   "outputs": [
    {
     "data": {
      "text/plain": [
       "'\\nhub_info = pd.read_csv(\"Database/Hub Cutoff and Open Time.csv\")\\nhub_info[\"Hub\"] = hub_info.apply(lambda row: name_transform(row[\"Gateways\"]), axis = 1)\\nhub_info[\"Cut-off\"] = hub_info.apply(lambda row: transform_time(row[\"Cut-Off\"]), axis = 1)\\nhub_info[\"Open\"] = hub_info.apply(lambda row: transform_time(row[\"Hub-Opening-Time\"]), axis = 1)\\nhub_info.to_csv(\"Database/hub_info.csv\")\\n'"
      ]
     },
     "execution_count": 19,
     "metadata": {},
     "output_type": "execute_result"
    }
   ],
   "source": [
    "'''\n",
    "hub_info = pd.read_csv(\"Database/Hub Cutoff and Open Time.csv\")\n",
    "hub_info[\"Hub\"] = hub_info.apply(lambda row: name_transform(row[\"Gateways\"]), axis = 1)\n",
    "hub_info[\"Cut-off\"] = hub_info.apply(lambda row: transform_time(row[\"Cut-Off\"]), axis = 1)\n",
    "hub_info[\"Open\"] = hub_info.apply(lambda row: transform_time(row[\"Hub-Opening-Time\"]), axis = 1)\n",
    "hub_info.to_csv(\"Database/hub_info.csv\")\n",
    "'''"
   ]
  },
  {
   "cell_type": "code",
   "execution_count": 20,
   "metadata": {
    "scrolled": true
   },
   "outputs": [],
   "source": [
    "hub_info = pd.read_csv(\"Database/hub_info.csv\")\n",
    "merged_hub_info = hub_list_used.merge(hub_info[[\"Hub\", \"Open\", \"Cut-off\"]], left_on = \"Ref_City\", right_on = \"Hub\", how = \"left\")\n",
    "\n",
    "merged_hub_info[\"Open\"].fillna(merged_hub_info[\"Open\"].mode().values[0], inplace = True)\n",
    "merged_hub_info[\"Cut-off\"].fillna(merged_hub_info[\"Cut-off\"].mode().values[0], inplace = True)\n",
    "\n",
    "O = {} # Open time\n",
    "for row in merged_hub_info.index:\n",
    "    key = merged_hub_info.loc[row, \"Ref_City\"]\n",
    "    value = merged_hub_info.loc[row, \"Open\"]\n",
    "    O[key] = value\n",
    "\n",
    "CO = {} # Cut-off time\n",
    "for row in merged_hub_info.index:\n",
    "    key = merged_hub_info.loc[row, \"Ref_City\"]\n",
    "    value = merged_hub_info.loc[row, \"Cut-off\"]\n",
    "    CO[key] =  value\n"
   ]
  },
  {
   "cell_type": "markdown",
   "metadata": {},
   "source": [
    "## 6. Truck Capacity"
   ]
  },
  {
   "cell_type": "code",
   "execution_count": 21,
   "metadata": {},
   "outputs": [],
   "source": [
    "C = {}\n",
    "for row in truck_cap.index:\n",
    "    C[truck_cap.loc[row, \"Truck Type\"]] = truck_cap.loc[row, \"Capacity\"]"
   ]
  },
  {
   "cell_type": "markdown",
   "metadata": {},
   "source": [
    "# Start the model"
   ]
  },
  {
   "cell_type": "code",
   "execution_count": 22,
   "metadata": {},
   "outputs": [
    {
     "name": "stdout",
     "output_type": "stream",
     "text": [
      "Academic license - for non-commercial use only\n"
     ]
    }
   ],
   "source": [
    "model = Model(\"DHL\")"
   ]
  },
  {
   "cell_type": "markdown",
   "metadata": {},
   "source": [
    "# Define the variables\n",
    "Decision variables:\n",
    "- xpq = 1 if the transportation from hub p ∈ H to hub q ∈ H is direct, else 0  \n",
    "- x’piq = 1 if the transportation from hub p ∈ H to hub q ∈ H has to go through i ∈ H, else 0\n",
    "- Xmk = 1 if the transportation from country m ∈ E to county k ∈ E is direct, else 0\n",
    "- X’mjk = 1 if the transportation from country m ∈ E  to county k ∈ E  has to go through country j ∈ E , else 0\n",
    "- Vpq = route capacity from hub p ∈ H to hub q ∈ H\n",
    "- Fpqt = recommended frequency of truck t ∈ T from hub p ∈ H to hub q ∈ H\n",
    "- Spq = start time of truck from hub p ∈ H to hub q ∈ H,\n",
    "- Npq = Night needed from hub p ∈ H to hub q ∈ H"
   ]
  },
  {
   "cell_type": "code",
   "execution_count": 23,
   "metadata": {},
   "outputs": [],
   "source": [
    "x = model.addVars(pq , vtype=GRB.BINARY, name='xpq')  # Direct from hub to hub\n",
    "\n",
    "x_ = model.addVars(piq, vtype = GRB.BINARY, name = 'x_piq')  # Indirect from hub to hub\n",
    "\n",
    "X = model.addVars(mk , vtype=GRB.BINARY, name='Xmk')       # Direct from country to country\n",
    "\n",
    "X_ = model.addVars(mjk,  vtype = GRB.BINARY, name = 'X_mjk') # Indirect from country to country\n",
    "\n",
    "V = model.addVars(pq_all , vtype=GRB.INTEGER, lb=0 ,name='Vpq')   # Route capacity\n",
    "\n",
    "F=model.addVars(pqt , vtype=GRB.INTEGER, lb=0, name='Fpqt') # Recommended Frequency\n",
    "\n",
    "# S=model.addVars(pq_all , vtype=GRB.CONTINUOUS, name='Spq')         # Start time from hub p\n",
    "\n",
    "# N=model.addVars(pq_all , vtype=GRB.INTEGER, name='Npq')         # Night Needed from hub p to hub q\n",
    "\n",
    "CL = model.addVars(pq_all, vtype = GRB.INTEGER, lb = 0, name = \"CLpq\") # Co-loading (in) between p and q"
   ]
  },
  {
   "cell_type": "code",
   "execution_count": 24,
   "metadata": {},
   "outputs": [],
   "source": [
    "attri_dict = {\"hub_direct\": x, \"hub_indirect\" : x_, \"country_direct\" : X, \"country_indirect\" : X_,\n",
    "              \"route_cap\": V, \"freq\" : F, \"Co-loading\":CL}\n"
   ]
  },
  {
   "cell_type": "markdown",
   "metadata": {},
   "source": [
    "## Objective"
   ]
  },
  {
   "cell_type": "code",
   "execution_count": 25,
   "metadata": {},
   "outputs": [
    {
     "data": {
      "text/plain": [
       "False"
      ]
     },
     "execution_count": 25,
     "metadata": {},
     "output_type": "execute_result"
    }
   ],
   "source": [
    "(\"NL\", \"AT\") in mj_k"
   ]
  },
  {
   "cell_type": "code",
   "execution_count": 26,
   "metadata": {},
   "outputs": [],
   "source": [
    "model.update()\n",
    "\n",
    "# Minimize the travel time for each route\n",
    "model.setObjective(quicksum(x[p, q] * TT[p, q] for p, q in pq) +\n",
    "                   quicksum(x_[p, i ,q] * (TT[p, i] + 9 + TT[i, q])for p, i, q in piq) # Consider the transit time in the hubs\n",
    "                                                                                       # Taking 9 as an example\n",
    "                   ,  GRB.MINIMIZE)"
   ]
  },
  {
   "cell_type": "markdown",
   "metadata": {},
   "source": [
    "## Constraints"
   ]
  },
  {
   "cell_type": "code",
   "execution_count": 27,
   "metadata": {},
   "outputs": [
    {
     "data": {
      "text/plain": [
       "<gurobi.Constr *Awaiting Model Update*>"
      ]
     },
     "execution_count": 27,
     "metadata": {},
     "output_type": "execute_result"
    }
   ],
   "source": [
    "\n",
    "\n",
    "### Constraints\n",
    "## Direct or Indirect Transportation\n",
    "\n",
    "model.addConstrs(((quicksum(X_[m,j,k] for j in E if (j != m) & (j != k)) == \n",
    "                   (1 - X[m,k])) for m, k in mk),\n",
    "                 \"Transportation can be direct or Indirect\")\n",
    "\n",
    "\n",
    "## Linking Countries and Hubs\n",
    "\n",
    "model.addConstrs(((quicksum(x[p,q] for p in L[m] for q in L[k]) == \n",
    "                  X[m,k]) for m, k in mk), \"Linking_pq\")  ## We can't use E_mjk here\n",
    "model.addConstrs(((quicksum(x_[p,i,q] for p in L[m] for i in L[j] for q in L[k]) ==\n",
    "                 X_[m,j,k]) for m,j,k in mjk), \"Linking_piq\")\n",
    "\n",
    "## Truck Capacity:\n",
    "\n",
    "# V = monthly demand of the route\n",
    "# For the countries of p, q are in mk\n",
    "model.addConstrs(((V[p,q] ==  \n",
    "                 quicksum(x_[p,q,i] * Z[m,j] for m, k, j in mjk.select(m, k, \"*\") for i in L[j]) +\n",
    "                 quicksum(x_[i,p,q] * Z[j,k] for j, m, k in mjk.select(\"*\", m, k) for i in L[j]) + \n",
    "                 x[p,q] * Z[m,k])\n",
    "                 for m, k in mk for p in L[m] for q in L[k]), \"Truck Capacity\")\n",
    "\n",
    "# For the countries of p are in the origin, q are not in the destination:\n",
    "model.addConstrs((V[p,q] ==  \n",
    "                 quicksum(x_[p,q,i] * Z[m,j] for m, k, j in mjk.select(m, k, \"*\") for i in L[j])\n",
    "                 for m, k in mj_k for p in L[m] for q in L[k] if (m,k) not in j_mk), \"Truck Capacity\")\n",
    "                 \n",
    "# For the countries of p are not in the origin, q are in the destination:           \n",
    "model.addConstrs((V[p,q] ==  \n",
    "                 quicksum(x_[i,p,q] * Z[j,k] for j, m, k in mjk.select(\"*\", m, k) for i in L[j]) \n",
    "                 for m, k in j_mk for p in L[m] for q in L[k] if (m,k) not in mj_k), \"Truck Capacity\")\n",
    "\n",
    "# For the countries of p and q are not in mk, but in j_mk and mj_k in the same time\n",
    "model.addConstrs((V[p,q] ==  \n",
    "                 quicksum(x_[p,q,i] * Z[m,j] for m, k, j in mjk.select(m, k, \"*\") for i in L[j]) +\n",
    "                 quicksum(x_[i,p,q] * Z[j,k] for j, m, k in mjk.select(\"*\", m, k) for i in L[j])\n",
    "                 for m, k in j_mk for p in L[m] for q in L[k] if (m,k) in mj_k), \"Truck Capacity 4\")\n",
    "\n",
    "\n",
    "## Truck type and Frequency of trucks\n",
    "# transforming the weekly frequency to monthly by multiplying 4\n",
    "model.addConstrs(((V[p,q] + CL[p, q]*4 <=   # Updated\n",
    "                 quicksum(F[p,q,t] * C[t] * 4 for t in T) )\n",
    "                 for m, k in mk_all for q in L[k] for p in L[m]),\n",
    "                 \"Truck Type and Frequency\"\n",
    "                )\n",
    "\n",
    "# Co-loading out constraints\n",
    "# model.addConstrs((F[p,q,\"Co-loading\"] <= 2000 for p,q in pq_all), \"Coloading out constraints\") ## Removed after discussion on 6/22\n",
    "\n",
    "# Co-loading in constraints\n",
    "model.addConstrs((CL[p,q] <= 2000 for p,q in pq_all), \"Coloading in constraints\")\n",
    "model.addConstrs((CL[p,q] <= quicksum(F[p,q,t]*C[t] for t in T)*0.3 for p, q in pq_all), \"Coloading in constraints 2\")\n",
    "\n",
    "\n",
    "'''\n",
    "BigM = 9999\n",
    "model.addConstrs((S[p,q] + TT[p,q] - N[p,q] * 24  <=  \n",
    "                 CO[q] + \n",
    "                 BigM * (\n",
    "                     1 - (x[p, q] + \n",
    "                          quicksum(x_[p, q, i] for m, k, j in mjk.select(m, k, \"*\") for i in L[j]) + \n",
    "                          quicksum(x_[i, p, q] for j, m, k in mjk.select(\"*\", m, k) for i in L[j])\n",
    "                 ) ) for m,k in mk for q in L[k] for p in L[m]), \"Hub Cut Off Time\")\n",
    "\n",
    "\n",
    "BigMM = 9000\n",
    "\n",
    "model.addConstrs((S[p,q] + TT[p,q] - N[p,q] * 24  >=  \n",
    "                 O[q] + \n",
    "                 BigMM * (\n",
    "                     1 - (x[p, q] + \n",
    "                          quicksum(x_[p, q, i] for m, k, j in mjk.select(m, k, \"*\") for i in L[j]) + \n",
    "                          quicksum(x_[i, p, q] for j, m, k in mjk.select(\"*\", m, k) for i in L[j])\n",
    "                 ) ) for m,k in mk for q in L[k] for p in L[m]), \"Hub Open Time\")\n",
    "\n",
    "'''\n",
    "\n",
    "# Assumption: all the excessive spaces could be loaded with co-loading opportunities in the current network\n",
    "# Assumption: In the new network, all the co-loading oppottunities doesn't exist\n",
    "\n",
    "\n",
    "Cost_bound = 1.05\n",
    "Current_full = 1\n",
    "\n",
    "\n",
    "'''\n",
    "# The tighten model (loose a bit)\n",
    "model.addConstr((quicksum(F[p,q,t] * cost[p,q,t] * C[t] for p, q, t in pqt) *\n",
    "                 quicksum(F_[p,q,t] * C[t] for p, q, t in pqt) <= \n",
    "                 (quicksum(F_[p,q,t] * cost[p,q,t] * C[t] for p, q, t in pqt) *\n",
    "                 (quicksum(Z[m,k] for m, k in mk)/4 + quicksum(CL[p,q] for p,q in pq)) * Cost_bound))\n",
    "                 , \"Cost Constraint\")\n",
    "'''\n",
    "\n",
    "current_cost = sum(F_[p,q,t] * C[t] * cost[p,q,t] for p, q, t in pqt) / sum(F_[p,q,t] * C[t] for p,q,t in pqt)\n",
    "\n",
    "model.addConstr((quicksum(F[p,q,t] * cost[p,q,t] * C[t] for p, q, t in pqt) <= \n",
    "                 (current_cost * (quicksum(Z[m,k] for m, k in mk) / 4 + quicksum(CL[p,q] for p,q in pq))) * Cost_bound / Current_full), \"Cost Constraint\")\n",
    "\n"
   ]
  },
  {
   "cell_type": "markdown",
   "metadata": {},
   "source": [
    "## Solver"
   ]
  },
  {
   "cell_type": "code",
   "execution_count": 28,
   "metadata": {},
   "outputs": [
    {
     "name": "stdout",
     "output_type": "stream",
     "text": [
      "\n",
      "Statistics for model DHL :\n",
      "  Linear constraint matrix    : 23305 Constrs, 209732 Vars, 619766 NZs\n",
      "  Variable types              : 0 Continuous, 209732 Integer (177854 Binary)\n",
      "  Matrix coefficient range    : [ 0.0784374, 1.43338e+06 ]\n",
      "  Objective coefficient range : [ 2.1, 197.2 ]\n",
      "  Variable bound range        : [ 1, 1 ]\n",
      "  RHS coefficient range       : [ 1, 135107 ]\n"
     ]
    }
   ],
   "source": [
    "model.update()\n",
    "model.printStats()"
   ]
  },
  {
   "cell_type": "code",
   "execution_count": null,
   "metadata": {},
   "outputs": [
    {
     "name": "stdout",
     "output_type": "stream",
     "text": [
      "Changed value of parameter TimeLimit to 28800.0\n",
      "   Prev: 1e+100  Min: 0.0  Max: 1e+100  Default: 1e+100\n",
      "Changed value of parameter Heuristics to 0.5\n",
      "   Prev: 0.05  Min: 0.0  Max: 1.0  Default: 0.05\n",
      "Changed value of parameter MIPFocus to 3\n",
      "   Prev: 0  Min: 0  Max: 3  Default: 0\n",
      "Changed value of parameter TuneCriterion to 2\n",
      "   Prev: -1  Min: -1  Max: 3  Default: -1\n",
      "Parameter TuneTrials unchanged\n",
      "   Value: 3  Min: 1  Max: 2000000000  Default: 3\n",
      "Changed value of parameter SolutionLimit to 10\n",
      "   Prev: 2000000000  Min: 1  Max: 2000000000  Default: 2000000000\n",
      "Changed value of parameter Seed to 3\n",
      "   Prev: 0  Min: 0  Max: 2000000000  Default: 0\n",
      "Changed value of parameter TuneTimeLimit to 9600.0\n",
      "   Prev: -1.0  Min: -1.0  Max: 1e+100  Default: -1.0\n",
      "\n",
      "Solving model using baseline parameter set with TimeLimit=28800s\n",
      "\n",
      "Solving with random seed #1 ...\n",
      "Optimize a model with 23305 rows, 209732 columns and 619766 nonzeros\n",
      "Variable types: 0 continuous, 209732 integer (177854 binary)\n",
      "Coefficient statistics:\n",
      "  Matrix range     [8e-02, 1e+06]\n",
      "  Objective range  [2e+00, 2e+02]\n",
      "  Bounds range     [1e+00, 1e+00]\n",
      "  RHS range        [1e+00, 1e+05]\n",
      "Presolve removed 12760 rows and 17294 columns (presolve time = 5s) ...\n",
      "Presolve removed 14164 rows and 18698 columns (presolve time = 10s) ...\n",
      "Presolve removed 15508 rows and 20042 columns (presolve time = 15s) ...\n",
      "Presolve removed 15508 rows and 20042 columns\n",
      "Presolve time: 16.08s\n",
      "Presolved: 7797 rows, 189690 columns, 561491 nonzeros\n",
      "Variable types: 0 continuous, 189690 integer (172987 binary)\n",
      "Presolve removed 10 rows and 10 columns\n",
      "Presolved: 7787 rows, 189680 columns, 561471 nonzeros\n",
      "\n",
      "\n",
      "Root simplex log...\n",
      "\n",
      "Iteration    Objective       Primal Inf.    Dual Inf.      Time\n",
      "       0    6.2375167e+03   4.952458e+03   0.000000e+00     17s\n",
      "     357    6.2375167e+03   0.000000e+00   0.000000e+00     17s\n",
      "     357    6.2375167e+03   0.000000e+00   0.000000e+00     17s\n",
      "\n",
      "Root relaxation: objective 6.237517e+03, 357 iterations, 0.86 seconds\n",
      "\n",
      "    Nodes    |    Current Node    |     Objective Bounds      |     Work\n",
      " Expl Unexpl |  Obj  Depth IntInf | Incumbent    BestBd   Gap | It/Node Time\n",
      "\n",
      "     0     0 6237.51667    0  213          - 6237.51667      -     -   18s\n",
      "     0     0 6267.08469    0  288          - 6267.08469      -     -   30s\n",
      "     0     0 6269.40283    0  286          - 6269.40283      -     -   32s\n",
      "     0     0 6334.27932    0  334          - 6334.27932      -     -   39s\n",
      "     0     0 6343.02400    0  343          - 6343.02400      -     -   42s\n",
      "     0     0 6343.36718    0  339          - 6343.36718      -     -   42s\n",
      "     0     0 6343.36809    0  339          - 6343.36809      -     -   42s\n",
      "     0     0 6379.60381    0  340          - 6379.60381      -     -   57s\n",
      "     0     0 6389.85761    0  336          - 6389.85761      -     -   61s\n",
      "     0     0 6389.99929    0  318          - 6389.99929      -     -   62s\n",
      "     0     0 6413.92350    0  324          - 6413.92350      -     -   78s\n",
      "     0     0 6416.97332    0  318          - 6416.97332      -     -   82s\n",
      "     0     0 6417.16023    0  316          - 6417.16023      -     -   82s\n",
      "     0     0 6430.26868    0  366          - 6430.26868      -     -   98s\n",
      "     0     0 6432.26167    0  358          - 6432.26167      -     -  101s\n",
      "     0     0 6432.26849    0  359          - 6432.26849      -     -  101s\n",
      "     0     0 6447.87122    0  381          - 6447.87122      -     -  116s\n",
      "     0     0 6448.47980    0  366          - 6448.47980      -     -  120s\n",
      "     0     0 6448.48894    0  366          - 6448.48894      -     -  120s\n",
      "     0     0 6454.40004    0  359          - 6454.40004      -     -  136s\n",
      "     0     0 6455.35497    0  365          - 6455.35497      -     -  140s\n",
      "     0     0 6456.03964    0  361          - 6456.03964      -     -  141s\n",
      "     0     0 6456.09010    0  354          - 6456.09010      -     -  141s\n",
      "     0     0 6462.21836    0  410          - 6462.21836      -     -  159s\n",
      "     0     0 6463.14763    0  394          - 6463.14763      -     -  163s\n",
      "     0     0 6463.27105    0  398          - 6463.27105      -     -  163s\n",
      "     0     0 6468.32466    0  414          - 6468.32466      -     -  181s\n",
      "     0     0 6469.09842    0  379          - 6469.09842      -     -  185s\n",
      "     0     0 6469.13670    0  374          - 6469.13670      -     -  185s\n",
      "     0     0 6472.14685    0  434          - 6472.14685      -     -  203s\n",
      "     0     0 6472.45548    0  422          - 6472.45548      -     -  207s\n",
      "     0     0 6472.73868    0  435          - 6472.73868      -     -  208s\n",
      "     0     0 6472.84217    0  431          - 6472.84217      -     -  208s\n",
      "     0     0 6475.36601    0  468          - 6475.36601      -     -  229s\n",
      "     0     0 6475.78885    0  445          - 6475.78885      -     -  234s\n",
      "     0     0 6475.94552    0  457          - 6475.94552      -     -  234s\n",
      "     0     0 6479.56279    0  442          - 6479.56279      -     -  256s\n",
      "     0     0 6480.20987    0  444          - 6480.20987      -     -  260s\n",
      "     0     0 6480.63042    0  487          - 6480.63042      -     -  261s\n",
      "     0     0 6480.75709    0  470          - 6480.75709      -     -  261s\n",
      "     0     0 6489.84666    0  515          - 6489.84666      -     -  283s\n",
      "     0     0 6490.60409    0  440          - 6490.60409      -     -  288s\n",
      "     0     0 6490.64971    0  440          - 6490.64971      -     -  288s\n",
      "     0     0 6495.00524    0  539          - 6495.00524      -     -  320s\n",
      "     0     0 6495.60454    0  502          - 6495.60454      -     -  323s\n",
      "     0     0 6495.77611    0  553          - 6495.77611      -     -  323s\n",
      "     0     0 6497.76607    0  533          - 6497.76607      -     -  341s\n",
      "     0     0 6498.25420    0  559          - 6498.25420      -     -  345s\n",
      "     0     0 6498.37323    0  581          - 6498.37323      -     -  345s\n",
      "     0     0 6500.01667    0  573          - 6500.01667      -     -  367s\n",
      "     0     0 6500.37926    0  576          - 6500.37926      -     -  370s\n",
      "     0     0 6500.51059    0  582          - 6500.51059      -     -  370s\n",
      "     0     0 6502.74305    0  581          - 6502.74305      -     -  389s\n",
      "     0     0 6503.09788    0  579          - 6503.09788      -     -  392s\n",
      "     0     0 6503.25364    0  543          - 6503.25364      -     -  392s\n",
      "     0     0 6504.94693    0  645          - 6504.94693      -     -  411s\n",
      "     0     0 6504.94693    0  645          - 6504.94693      -     -  438s\n",
      "     0     2 6504.94693    0  645          - 6504.94693      -     - 1078s\n",
      "     7    12 6505.03472    3  620          - 6505.02898      -  27.0 1080s\n",
      "    28    30 6505.25775    7  558          - 6505.02898      -  20.1 1085s\n",
      "    50    52 6505.65975   13  540          - 6505.02898      -  18.7 1090s\n",
      "   115   118 6506.00214   23  469          - 6505.02898      -  17.2 1097s\n",
      "   141   141 6506.12684   26  477          - 6505.02898      -  17.6 1102s\n",
      "   181   181 6506.77575   30  415          - 6505.02898      -  18.2 1106s\n",
      "   218   218 6506.81871   32  424          - 6505.02898      -  20.2 1111s\n",
      "   262   262 6507.40051   36  404          - 6505.02898      -  20.7 1115s\n",
      "   299   302 6507.86966   39  471          - 6505.02898      -  21.1 1121s\n",
      "   318   319 6507.21365   39  436          - 6505.02898      -  23.6 1127s\n",
      "   355   356 6507.95088   59  316          - 6505.02898      -  24.5 1132s\n",
      "   377   379 6507.97604   64  291          - 6505.02898      -  25.3 1137s\n",
      "   398   400 6508.68866   67  289          - 6505.02898      -  27.5 1144s\n",
      "   424   424 6508.05059   72  309          - 6505.02898      -  29.5 1157s\n",
      "   452   451 6507.98375   73  286          - 6505.02898      -  32.0 1163s\n",
      "   492   494 6508.05310   82  293          - 6505.02898      -  33.4 1172s\n",
      "   527   526 6508.06225   91  306          - 6505.02898      -  34.6 1182s\n",
      "   568   573 6508.07091  101  296          - 6505.02898      -  34.1 1194s\n",
      "   648   647 6508.42523  117  281          - 6505.02898      -  34.5 1203s\n",
      "   738   737 6511.40133  135  244          - 6505.02898      -  32.1 1213s\n",
      "   809   812 6511.48000  142  264          - 6505.02898      -  31.6 1224s\n",
      "   838   837 6511.51883  149  252          - 6505.02898      -  34.5 1236s\n",
      "   885   888 6511.56023  161  239          - 6505.02898      -  34.0 1249s\n"
     ]
    },
    {
     "name": "stdout",
     "output_type": "stream",
     "text": [
      "   934   933 6511.60386  172  239          - 6505.02898      -  35.0 1261s\n",
      "  1000  1001 6513.33093  191  231          - 6505.02898      -  34.3 1273s\n",
      "  1060  1064 6516.96692  199  241          - 6505.02898      -  33.6 1288s\n",
      "  1138  1138 6517.11389  225  238          - 6505.02898      -  34.4 1302s\n",
      "  1189  1191 6517.18188  235  239          - 6505.02898      -  36.3 1318s\n",
      "  1261  1260 6517.24744  249  238          - 6505.02898      -  37.2 1335s\n",
      "  1354  1355 6517.29149  267  250          - 6505.02898      -  36.7 1350s\n",
      "  1445  1447 6517.35564  283  252          - 6505.02898      -  36.0 1366s\n",
      "  1514  1516 6517.38727  310  255          - 6505.02898      -  37.0 1384s\n",
      "  1611  1611 6517.55780  333  254          - 6505.02898      -  38.0 1400s\n",
      "  1726  1726 6517.61786  343  249          - 6505.02898      -  37.8 1417s\n",
      "  1861  1864 6517.67429  397  256          - 6505.02898      -  36.1 1434s\n",
      "  1967  1968 6517.68436  437  252          - 6505.02898      -  36.5 1453s\n",
      "  2088  2086 6517.71821  474  241          - 6505.02898      -  37.2 1472s\n",
      "  2222  2224 6521.15505  492  249          - 6505.02898      -  37.0 1491s\n",
      "  2371  2373 6519.17974  543  236          - 6505.02898      -  36.4 1512s\n",
      "  2481  2485 6524.66724  582  236          - 6505.02898      -  38.1 1534s\n",
      "  2598  2602 6510.26804  730  193          - 6505.02898      -  37.1 1535s\n",
      "  2641  2639 6526.14035  624  231          - 6505.02898      -  38.3 1562s\n",
      "  2834  2836 6526.20490  659  232          - 6505.02898      -  37.9 1589s\n",
      "  3140  3140 6526.30897  702  251          - 6505.02898      -  36.6 1615s\n",
      "  3383  3383 6526.44163  769  236          - 6505.02898      -  36.1 1646s\n",
      "  3673  3673 6526.55742  819  253          - 6505.02898      -  35.5 1670s\n",
      "  4050  4052 6526.74571  905  250          - 6505.02898      -  32.8 1695s\n",
      "  4344  4344 6526.83880 1000  256          - 6505.02898      -  31.8 1719s\n",
      "  4572  4575 6526.88039 1092  259          - 6505.02898      -  31.4 1744s\n",
      "  4720  4722 6530.50110 1104  235          - 6505.02898      -  32.2 1770s\n",
      "  4863  4862 6536.32720 1114  229          - 6505.02898      -  33.5 1801s\n",
      "  5172  5173 6533.02023  639  645          - 6505.02898      -  33.4 1818s\n",
      "  5174  5174 6514.42108  581  213          - 6505.02898      -  33.4 1827s\n",
      "  5175  5175 6524.57732  276  289          - 6505.02898      -  33.4 1845s\n",
      "  5177  5176 6543.32961 1199  313          - 6505.02898      -  33.4 1852s\n",
      "  5179  5178 6510.56269  346  408          - 6505.02898      -  33.4 1857s\n",
      "  5182  5180 6538.53396  892  436          - 6505.02898      -  33.4 1860s\n",
      "  5187  5183 6512.55899  182  507          - 6505.02898      -  33.4 1865s\n",
      "  5192  5186 6516.95295  185  627          - 6505.02898      -  33.3 1870s\n",
      "  5195  5188 6507.52869   45  676          - 6505.02898      -  33.3 1877s\n",
      "  5196  5189 6510.99028  252  639          - 6505.74404      -  33.3 1898s\n",
      "  5198  5190 6510.70585  456  609          - 6505.98927      -  33.3 1916s\n",
      "  5199  5191 6537.59742  950  588          - 6507.50362      -  33.3 1939s\n",
      "  5200  5192 6514.77124  712  628          - 6507.76661      -  33.3 1940s\n",
      "  5202  5193 6511.55292  159  608          - 6507.95156      -  33.3 1960s\n",
      "  5203  5194 6516.22285  834  614          - 6508.64310      -  33.3 1986s\n",
      "  5206  5196 6510.64934  232  657          - 6508.89549      -  33.2 2004s\n",
      "  5207  5196 6554.97171 1137  659          - 6509.47104      -  33.2 2028s\n",
      "  5210  5198 6519.58764  552  703          - 6509.94633      -  33.2 2030s\n",
      "  5213  5200 6528.17992 1085  706          - 6509.96945      -  33.2 2053s\n",
      "  5214  5201 6511.64162  291  686          - 6511.40624      -  33.2 2081s\n",
      "  5217  5203 6513.88037  532  721          - 6511.66104      -  33.2 2102s\n",
      "  5218  5204 6533.02281  643  663          - 6513.51558      -  33.2 2126s\n",
      "  5221  5206 6532.81257  593  667          - 6513.71191      -  33.1 2146s\n",
      "  5222  5206 6543.77096 1218  661          - 6516.03108      -  33.1 2171s\n",
      "  5226  5209 6516.77450  344  650          - 6516.77450      -  33.1 2196s\n",
      "  5227  5210 6517.76206  518  623          - 6517.76206      -  33.1 2216s\n",
      "  5231  5212 6528.51113 1048  693          - 6518.28307      -  33.1 2235s\n",
      "  5232  5213 6539.18593  921  684          - 6519.19389      -  33.1 2259s\n",
      "  5233  5214 6519.35180  568  676          - 6519.35180      -  33.1 2260s\n",
      "  5238  5217 6521.17343  597  584          - 6519.44145      -  33.0 2278s\n",
      "  5239  5218 6520.03403  181  652          - 6520.03403      -  33.0 2300s\n",
      "  5245  5222 6520.17326  584  614          - 6520.17326      -  33.0 2320s\n",
      "  5246  5222 6527.93244 1082  700          - 6520.80104      -  33.0 2343s\n",
      "  5248  5224 6521.23693  316  566          - 6521.23693      -  33.0 2345s\n",
      "  5250  5225 6521.27796  336  599          - 6521.27796      -  33.0 2363s\n",
      "  5251  5226 6546.35922 1140  684          - 6522.27033      -  32.9 2384s\n",
      "  5252  5226 6527.58501  452  650          - 6522.74440      -  32.9 2385s\n",
      "  5257  5230 6540.26414  925  655          - 6523.10655      -  32.9 2405s\n",
      "  5258  5230 6523.55969  325  660          - 6523.55969      -  32.9 2426s\n",
      "  5263  5234 6533.28389  751  700          - 6523.98473      -  32.9 2446s\n",
      "  5264  5234 6524.45708  799  612          - 6524.45708      -  32.9 2468s\n",
      "  5268  5237 6524.68670  510  686          - 6524.68670      -  32.8 2485s\n",
      "  5269  5238 6525.14478  693  745          - 6525.14478      -  32.8 2507s\n",
      "  5272  5240 6533.02023  639  677          - 6525.45404      -  32.8 2529s\n",
      "  5273  5240 6544.63428 1077  763          - 6525.70186      -  32.8 2551s\n",
      "  5277  5243 6543.32961 1199  746          - 6525.98455      -  32.8 2571s\n",
      "  5278  5244 6526.26300  336  710          - 6526.26300      -  32.8 2592s\n",
      "  5285  5248 6526.42542  151  695          - 6526.42542      -  32.7 2612s\n",
      "  5286  5249 6526.66652  259  679          - 6526.66652      -  32.7 2637s\n",
      "  5288  5250 6526.86909  526  629          - 6526.86909      -  32.7 2658s\n",
      "  5289  5251 6527.21155   91  549          - 6527.21155      -  32.7 2683s\n",
      "  5292  5253 6527.47882  185  528          - 6527.47882      -  32.7 2685s\n",
      "  5295  5255 6527.49318   45  524          - 6527.49318      -  32.7 2705s\n",
      "  5296  5256 6527.69037  252  603          - 6527.69037      -  32.7 2728s\n",
      "  5299  5258 6537.59742  950  683          - 6528.15383      -  32.6 2730s\n",
      "  5300  5258 6528.15496  712  612          - 6528.15496      -  32.6 2748s\n",
      "  5301  5259 6528.38754  109  643          - 6528.38754      -  32.6 2772s\n",
      "  5306  5262 6528.76063  232  692          - 6528.76063      -  32.6 2775s\n",
      "  5307  5263 6554.97171 1137  698          - 6528.76298      -  32.6 2795s\n",
      "  5308  5264 6529.04191  644  737          - 6529.04191      -  32.6 2820s\n",
      "  5313  5267 6529.48480 1085  653          - 6529.48480      -  32.6 2845s\n",
      "  5314  5268 6529.98941  291  702          - 6529.98941      -  32.6 2870s\n",
      "  5318  5270 6533.02281  643  707          - 6530.42487      -  32.5 2893s\n",
      "  5319  5271 6530.66644  428  688          - 6530.66644      -  32.5 2918s\n",
      "  5321  5272 6532.81257  593  742          - 6530.83071      -  32.5 2920s\n",
      "  5323  5274 6551.69190  899  704          - 6530.83258      -  32.5 2942s\n",
      "  5324  5274 6533.27738  756  866          - 6531.18787      -  32.5 2970s\n",
      "  5328  5277 6531.67614  423  778          - 6531.67614      -  32.5 2994s\n",
      "  5329  5278 6531.81171   87  637          - 6531.81171      -  32.5 3020s\n",
      "  5332  5280 6539.18593  921  630          - 6531.83436      -  32.4 3042s\n",
      "  5333  5280 6531.97038  568  710          - 6531.97038      -  32.4 3069s\n",
      "  5334  5281 6532.11963  221  783          - 6532.11963      -  32.4 3070s\n",
      "  5339  5284 6532.26147  181  666          - 6532.26147      -  32.4 3075s\n",
      "  5341  5286 6532.26846   41  682          - 6532.26846      -  32.4 3096s\n",
      "  5342  5286 6532.36375  109  847          - 6532.36375      -  32.4 3121s\n",
      "  5345  5288 6532.41348  584  727          - 6532.41348      -  32.4 3144s\n",
      "  5346  5289 6532.53257 1082  846          - 6532.53257      -  32.4 3169s\n",
      "  5347  5290 6594.83656  992  828          - 6532.60924      -  32.4 3171s\n",
      "  5349  5291 6532.67530  163  810          - 6532.67530      -  32.3 3193s\n",
      "  5350  5292 6532.75560  336  814          - 6532.75560      -  32.3 3217s\n",
      "  5352  5293 6532.80249  452  786          - 6532.80249      -  32.3 3239s\n",
      "  5353  5294 6532.86958  412  748          - 6532.86958      -  32.3 3263s\n"
     ]
    },
    {
     "name": "stdout",
     "output_type": "stream",
     "text": [
      "  5355  5295 6532.87854  405  725          - 6532.87854      -  32.3 3284s\n",
      "  5356  5296 6533.24938  740  854          - 6533.02296      -  32.3 3310s\n",
      "  5357  5296 6540.26414  925  820          - 6533.02554      -  32.3 3329s\n",
      "  5358  5297 6533.09250  325  802          - 6533.09250      -  32.3 3375s\n",
      "  5359  5298 6533.17723  634  848          - 6533.17723      -  32.3 3403s\n",
      "  5361  5299 6533.28120  763  868          - 6533.27497      -  32.3 3405s\n",
      "  5366  5302 6533.30661  111  912          - 6533.30661      -  32.2 3429s\n",
      "  5367  5303 6576.33267  972  835          - 6533.37572      -  32.2 3454s\n",
      "  5368  5304 6533.37901  510  869          - 6533.37901      -  32.2 3455s\n",
      "  5370  5305 6576.26589  947  836          - 6533.38062      -  32.2 3474s\n",
      "  5371  5306 6543.42444 1070  861          - 6533.41820      -  32.2 3499s\n",
      "  5372  5306 6533.42471  639  830          - 6533.42471      -  32.2 3519s\n",
      "  5373  5307 6544.63428 1077  829          - 6533.51782      -  32.2 3543s\n",
      "  5376  5309 6543.67736  981  780          - 6533.58165      -  32.2 3545s\n",
      "  5379  5311 6533.59063  346  843          - 6533.59063      -  32.2 3563s\n",
      "  5380  5312 6533.62207  832  822          - 6533.62207      -  32.2 3583s\n",
      "  5381  5312 6533.62227  415  813          - 6533.62227      -  32.2 3599s\n",
      "  5382  5313 6538.53396  892  807          - 6533.65477      -  32.1 3618s\n",
      "  5385  5315 6533.68602  151  829          - 6533.68602      -  32.1 3635s\n",
      "  5386  5316 6533.70818  259  895          - 6533.70818      -  32.1 3657s\n",
      "  5391  5319 6554.95584 1147  859          - 6533.75737      -  32.1 3660s\n",
      "  5395  5322 6533.78652   45  847          - 6533.78652      -  32.1 3677s\n",
      "  5396  5322 6533.83099  252  876          - 6533.83099      -  32.1 3696s\n",
      "  5400  5325 6533.89321  712  812          - 6533.89321      -  32.0 3714s\n",
      "  5401  5326 6533.95567  109  707          - 6533.95567      -  32.0 3737s\n",
      "  5404  5328 6555.51622 1135  737          - 6533.97772      -  32.0 3753s\n",
      "  5405  5328 6534.03633  516  878          - 6534.03633      -  32.0 3771s\n",
      "  5407  5330 6554.97171 1137  846          - 6534.09683      -  32.0 3786s\n",
      "  5408  5330 6534.10638  644  838          - 6534.10638      -  32.0 3805s\n",
      "  5411  5332 6534.12274  485  823          - 6534.12274      -  32.0 3821s\n",
      "  5412  5333 6534.25188  691  791          - 6534.25188      -  32.0 3840s\n",
      "  5417  5336 6534.31475  532  920          - 6534.31475      -  31.9 3857s\n",
      "  5418  5337 6534.33935  643  878          - 6534.33935      -  31.9 3876s\n",
      "  5421  5339 6534.36625  593  897          - 6534.36625      -  31.9 3892s\n",
      "  5422  5340 6543.77096 1218  866          - 6534.40732      -  31.9 3911s\n",
      "  5425  5342 6534.42562  167  877          - 6534.42562      -  31.9 3927s\n",
      "  5426  5342 6534.43576  344  823          - 6534.43576      -  31.9 3945s\n",
      "  5428  5344 6534.45653  423  819          - 6534.45653      -  31.9 3961s\n",
      "  5429  5344 6534.47967   87  828          - 6534.47967      -  31.9 3981s\n",
      "  5431  5346 6534.49557 1048  791          - 6534.49557      -  31.9 3998s\n",
      "  5432  5346 6539.18593  921  785          - 6534.49787      -  31.8 4031s\n",
      "  5433  5347 6534.49911  568  784          - 6534.49911      -  31.8 4049s\n",
      "  5434  5348 6534.49919  221  785          - 6534.49919      -  31.8 4063s\n",
      "  5435  5348 6534.49998  307  785          - 6534.49998      -  31.8 4081s\n",
      "  5436  5349 6534.49998  402  785          - 6534.49998      -  31.8 4094s\n",
      "  5438  5352 6534.49998  597  645          - 6534.49998      -  38.7 4105s\n",
      "  5440  5353 6546.70869 1218  213          - 6534.49998      -  38.7 4112s\n",
      "  5441  5354 6534.49998   41  287          - 6534.49998      -  38.7 4126s\n",
      "  5443  5355 6534.49998  303  326          - 6534.49998      -  38.7 4135s\n",
      "  5447  5358 6594.83656  992  388          - 6534.49998      -  38.7 4140s\n",
      "  5452  5361 6534.49998  452  512          - 6534.49998      -  38.6 4145s\n",
      "  5456  5364 6534.49998  740  659          - 6534.49998      -  38.6 4150s\n",
      "  5461  5367 6534.49998  763  684          - 6534.49998      -  38.6 4155s\n",
      "  5465  5370 6537.51991  858  637          - 6534.49998      -  38.5 4160s\n",
      "  5469  5373 6534.49998  693  551          - 6534.49998      -  38.5 4165s\n",
      "  5474  5376 6534.49998  581  763          - 6534.49998      -  38.5 4170s\n",
      "  5479  5379 6534.49998  346  681          - 6534.49998      -  38.4 4175s\n",
      "  5483  5382 6534.49998  163  840          - 6534.49998      -  38.4 4180s\n",
      "  5491  5387 6554.95584 1147  891          - 6534.49998      -  38.4 4185s\n",
      "  5498  5392 6534.49998  456  814          - 6534.49998      -  38.3 4194s\n",
      "  5499  5393 6537.59742  950  809          - 6534.49998      -  38.3 4215s\n",
      "  5500  5393 6534.49998  712  820          - 6534.49998      -  38.3 4232s\n",
      "  5501  5394 6534.49998  109  756          - 6534.49998      -  38.3 4251s\n",
      "  5504  5396 6555.51622 1135  745          - 6534.49998      -  38.3 4268s\n",
      "  5505  5397 6534.49998  516  877          - 6534.49998      -  38.3 4288s\n",
      "  5510  5400 6534.49998  552  808          - 6534.49998      -  38.2 4306s\n",
      "  5511  5401 6534.49998  485  769          - 6534.49998      -  38.2 4326s\n",
      "  5513  5402 6534.49998 1085  786          - 6534.49998      -  38.2 4343s\n",
      "  5514  5403 6534.50584  291  871          - 6534.50584      -  38.2 4365s\n",
      "  5515  5403 6544.99264 1014  835          - 6534.50606      -  38.2 4384s\n",
      "  5516  5404 6534.51384  408  799          - 6534.51384      -  38.2 4406s\n",
      "  5523  5409 6551.69190  899  852          - 6534.55038      -  38.1 4427s\n",
      "  5524  5409 6534.55732  756  781          - 6534.55732      -  38.1 4448s\n",
      "  5525  5410 6534.55818  167  786          - 6534.55818      -  38.1 4465s\n",
      "  5526  5411 6534.55841  344  783          - 6534.55841      -  38.1 4499s\n",
      "  5527  5411 6534.56215  518  776          - 6534.56215      -  38.1 4519s\n",
      "  5529  5413 6534.56676   87  760          - 6534.56676      -  38.1 4520s\n",
      "  5530  5413 6534.56752  721  760          - 6534.56752      -  38.1 4600s\n",
      "  5531  5414 6534.56752 1048  760          - 6534.56752      -  38.1 4617s\n",
      "  5532  5415 6539.18593  921  760          - 6534.56752      -  38.1 5473s\n",
      "  5533  5418 6534.59601   27  835          - 6534.59601      -  42.7 5663s\n",
      "  5535  5422 6534.61569   28  790          - 6534.61569      -  42.7 5697s\n",
      "  5539  5424 6534.73126   29  791          - 6534.73126      -  42.7 5704s\n",
      "  5543  5427 6534.79391   29  837          - 6534.73127      -  42.8 5706s\n",
      "  5551  5432 6534.83364   30  846          - 6534.73127      -  42.8 5710s\n",
      "  5555  5434 6534.86747   31  624          - 6534.73127      -  42.8 5725s\n",
      "  5561  5437 6534.87542   31  558          - 6534.73127      -  42.8 5736s\n",
      "  5569  5439 6534.89272   32  477          - 6534.73127      -  42.8 5742s\n",
      "  5576  5447 6535.21174   33  573          - 6534.73127      -  42.9 5747s\n",
      "  5585  5450 6534.94466   34  497          - 6534.73127      -  42.9 5754s\n",
      "  5595  5457 6539.28970   35  419          - 6534.73127      -  43.1 5758s\n",
      "  5607  5467 6535.53290   36  501          - 6534.73127      -  43.2 5763s\n",
      "  5619  5473 6535.83133   37  499          - 6534.73127      -  43.2 5769s\n",
      "  5636  5487 6535.25540   39  540          - 6534.73127      -  43.4 5784s\n",
      "  5655  5497 6535.32014   42  509          - 6534.73127      -  43.6 5790s\n",
      "  5673  5510 6536.30692   44  487          - 6534.73127      -  43.7 5798s\n",
      "  5692  5523 6536.75876   46  332          - 6534.73127      -  43.9 5804s\n",
      "  5711  5536 6536.46318   49  359          - 6534.73127      -  44.0 5813s\n",
      "  5745  5555 6535.87505   53  383          - 6534.73127      -  44.2 5821s\n",
      "  5767  5571 6535.92113   57  462          - 6534.73127      -  44.3 5829s\n",
      "  5783  5586 6535.95744   59  378          - 6534.73127      -  44.5 5837s\n",
      "  5812  5600 6535.97324   61  388          - 6534.73127      -  44.7 5846s\n",
      "  5838  5622 6536.05527   63  236          - 6534.73127      -  44.9 5855s\n",
      "  5870  5638 6536.07098   67  260          - 6534.73127      -  45.2 5927s\n",
      "  5896  5661 6536.07998   70  257          - 6534.73127      -  45.5 5947s\n",
      "  5926  5677 6536.12268   74  245          - 6534.73127      -  45.8 5971s\n",
      "  5961  5703 6536.11821   77  232          - 6534.73127      -  46.3 5996s\n",
      "  5998  5728 6536.17697   79  181          - 6534.73127      -  46.5 6022s\n",
      "  6028  5744 6536.22957   83  185          - 6534.73127      -  47.0 6050s\n",
      "  6059  5768 6536.18663   86  178          - 6534.73127      -  47.3 6075s\n"
     ]
    },
    {
     "name": "stdout",
     "output_type": "stream",
     "text": [
      "  6107  5800 6536.41234   92  176          - 6534.73127      -  47.5 6104s\n",
      "  6140  5822 6536.41755   95  276          - 6534.73127      -  47.9 6137s\n",
      "  6183  5849 6536.41889   98  246          - 6534.73127      -  48.3 6166s\n",
      "  6217  5878 6536.41998  101  250          - 6534.73127      -  48.9 6196s\n",
      "  6245  5889 6536.42193  104  265          - 6534.73127      -  49.4 6224s\n",
      "  6281  5914 6536.42756  108  189          - 6534.73127      -  49.9 6255s\n",
      "  6326  5947 6536.79269  117  162          - 6534.73127      -  50.3 6289s\n",
      "  6371  5976 6536.79789  122  147          - 6534.73127      -  50.9 6324s\n",
      "  6393  5989 6536.79947  124  147          - 6534.73127      -  51.8 6357s\n",
      "  6430  6014 6536.80185  129  147          - 6534.73127      -  52.3 6396s\n",
      "  6466  6041 6536.80558  131  145          - 6534.73127      -  53.1 6433s\n",
      "  6494  6055 6536.83958  135  138          - 6534.73127      -  54.2 6475s\n",
      "  6526  6078 6536.84306  138  134          - 6534.73127      -  55.3 6513s\n",
      "  6571  6109 6536.84621  140  139          - 6534.73127      -  56.0 6553s\n",
      "  6607  6133 6538.61909  142  198          - 6534.73127      -  57.1 6589s\n",
      "  6637  6152 6536.84774  144  133          - 6534.73127      -  58.2 6634s\n",
      "  6675  6177 6536.85129  149  144          - 6534.73127      -  59.6 6684s\n",
      "  6720  6208 6536.85355  152  150          - 6534.73127      -  60.8 6733s\n",
      "  6767  6240 6536.85486  155  133          - 6534.73127      -  61.9 6780s\n",
      "  6820  6275 6536.85589  158  136          - 6534.73127      -  62.9 6832s\n",
      "  6864  6304 6536.85858  162  132          - 6534.73127      -  64.2 6890s\n",
      "  6928  6347 6536.85918  165  131          - 6534.73127      -  65.5 6943s\n",
      "  6970  6375 6536.85988  168  129          - 6534.73127      -  67.3 6987s\n",
      "  7010  6403 6539.33095  171  195          - 6534.73127      -  69.3 7035s\n",
      "  7052  6435 6536.86417  174  128          - 6534.73127      -  71.1 7087s\n",
      "  7078  6442 6537.51363  176  176          - 6534.73127      -  72.9 7147s\n",
      "  7109  6461 6536.86714  178  130          - 6534.73127      -  74.1 7209s\n",
      "  7177  6518 6536.87005  182  130          - 6534.73127      -  75.2 7277s\n",
      "  7238  6551 6536.87139  186  129          - 6534.73127      -  76.8 7346s\n",
      "  7285  6589 6536.87239  189  136          - 6534.73127      -  78.4 7382s\n",
      "  7320  6604 6536.87357  192  130          - 6534.73127      -  80.6 7418s\n",
      "  7372  6643 6536.87551  197  128          - 6534.73127      -  82.5 7455s\n",
      "  7412  6666 6536.87596  200  128          - 6534.73127      -  84.8 7498s\n",
      "  7494  6727 6536.87843  203  128          - 6534.73127      -  86.5 7543s\n",
      "  7532  6746 6536.87997  207  128          - 6534.73127      -  89.6 7584s\n",
      "  7587  6786 6536.88200  211  130          - 6534.73127      -  92.1 7624s\n",
      "  7660  6841 6536.88601  217  132          - 6534.73127      -  94.3 7672s\n",
      "  7716  6869 6536.89112  222  129          - 6534.73127      -  97.1 7719s\n",
      "  7771  6906 6536.89601  227  129          - 6534.73127      -   100 7769s\n",
      "  7840  6955 6537.02557  230  136          - 6534.73127      -   103 7847s\n",
      "  7924  7011 6537.05518  236  135          - 6534.73127      -   105 7890s\n",
      "  8000  7060 6537.06099  244  138          - 6534.73127      -   108 7936s\n",
      "  8084  7118 6537.06447  252  140          - 6534.73127      -   111 7988s\n",
      "  8239  7220 6537.06621  260  140          - 6534.73127      -   113 8037s\n",
      "  8306  7264 6537.06669  266  140          - 6534.73127      -   116 8091s\n",
      "  8449  7360 6537.06761  272  142          - 6534.73127      -   118 8146s\n",
      "  8591  7454 6537.06843  278  138          - 6534.73127      -   120 8202s\n",
      "  8706  7535 6541.45250  283  149          - 6534.73127      -   123 8263s\n",
      "  8876  7644 6538.30660  290  145          - 6534.73127      -   125 8324s\n",
      "  9003  7729 6538.32737  298  146          - 6534.73127      -   128 8388s\n",
      "  9184  7855 6538.34171  306  149          - 6534.73127      -   130 8454s\n",
      "  9310  7931 6538.35043  314  149          - 6534.73127      -   133 8521s\n",
      "  9405  8002 6538.35980  322  154          - 6534.73127      -   137 8599s\n",
      "  9698  8211 6574.57760  366  143          - 6534.73127      -   138 8723s\n",
      "  9996  8372 6588.98219  398  134          - 6534.73127      -   138 8816s\n",
      " 10315  8604 6589.49209  411  132          - 6534.73127      -   138 8912s\n",
      " 10529  8763 6589.81368  420  134          - 6534.73127      -   141 9011s\n",
      " 10959  9015 6626.61834  470  153          - 6534.73127      -   140 9118s\n",
      " 11380  9311 6626.86519  499  152          - 6534.73127      -   139 9209s\n",
      " 11441  9353 6644.31583  690  181          - 6534.73127      -   140 9210s\n",
      " 11818  9602 6631.36772  529  132          - 6534.73127      -   138 9302s\n",
      " 12233  9880 6627.25694  555  151          - 6534.73127      -   137 9396s\n",
      " 12621 10138 6627.40173  581  155          - 6534.73127      -   137 9487s\n",
      " 13012 10439 6627.50692  608  156          - 6534.73127      -   137 9584s\n",
      " 13391 10616 6627.65317  634  153          - 6534.73127      -   138 9600s\n",
      "\n",
      "Cutting planes:\n",
      "  Gomory: 312\n",
      "  Cover: 5\n",
      "  Implied bound: 2\n",
      "  Clique: 2\n",
      "  MIR: 1647\n",
      "  StrongCG: 41\n",
      "  Flow cover: 110\n",
      "  Zero half: 47\n",
      "\n",
      "Explored 13443 nodes (1875463 simplex iterations) in 9600.38 seconds\n",
      "Thread count was 8 (of 8 available processors)\n",
      "\n",
      "Solution count 0\n",
      "\n",
      "Time limit reached\n",
      "Best objective -, best bound 6.534733333333e+03, gap -\n",
      "\n",
      "-------------------------------------------------------------------------------\n",
      "\n",
      "\n",
      "\n",
      "Tune time limit reached.\n",
      "\n",
      "-------------------------------------------------------------------------------\n",
      "\n",
      "Tested 0 parameter sets in 9600.73s\n",
      "Unable to improve on baseline parameter set.\n",
      "\n",
      "Optimize a model with 23305 rows, 209732 columns and 619766 nonzeros\n",
      "Variable types: 0 continuous, 209732 integer (177854 binary)\n",
      "Coefficient statistics:\n",
      "  Matrix range     [8e-02, 1e+06]\n",
      "  Objective range  [2e+00, 2e+02]\n",
      "  Bounds range     [1e+00, 1e+00]\n",
      "  RHS range        [1e+00, 1e+05]\n",
      "Presolve removed 12760 rows and 17294 columns (presolve time = 5s) ...\n",
      "Presolve removed 14164 rows and 18698 columns (presolve time = 10s) ...\n",
      "Presolve removed 15316 rows and 19850 columns (presolve time = 15s) ...\n",
      "Presolve removed 15508 rows and 20042 columns\n",
      "Presolve time: 17.71s\n",
      "Presolved: 7797 rows, 189690 columns, 561491 nonzeros\n",
      "Variable types: 0 continuous, 189690 integer (172987 binary)\n",
      "Presolve removed 10 rows and 10 columns\n",
      "Presolved: 7787 rows, 189680 columns, 561471 nonzeros\n",
      "\n",
      "\n",
      "Root simplex log...\n",
      "\n",
      "Iteration    Objective       Primal Inf.    Dual Inf.      Time\n",
      "       0    6.2375167e+03   4.952458e+03   0.000000e+00     22s\n",
      "     329    6.2375167e+03   0.000000e+00   0.000000e+00     23s\n",
      "     329    6.2375167e+03   0.000000e+00   0.000000e+00     23s\n",
      "\n",
      "Root relaxation: objective 6.237517e+03, 329 iterations, 1.00 seconds\n",
      "\n",
      "    Nodes    |    Current Node    |     Objective Bounds      |     Work\n",
      " Expl Unexpl |  Obj  Depth IntInf | Incumbent    BestBd   Gap | It/Node Time\n",
      "\n",
      "     0     0 6237.51667    0  213          - 6237.51667      -     -   23s\n",
      "     0     0 6264.32162    0  281          - 6264.32162      -     -   40s\n",
      "     0     0 6265.41047    0  285          - 6265.41047      -     -   44s\n",
      "     0     0 6327.25210    0  318          - 6327.25210      -     -   59s\n",
      "     0     0 6334.84252    0  325          - 6334.84252      -     -   62s\n",
      "     0     0 6335.12052    0  321          - 6335.12052      -     -   63s\n",
      "     0     0 6335.12140    0  321          - 6335.12140      -     -   63s\n",
      "     0     0 6374.94723    0  337          - 6374.94723      -     -   77s\n",
      "     0     0 6383.82577    0  315          - 6383.82577      -     -   82s\n",
      "     0     0 6384.47770    0  315          - 6384.47770      -     -   82s\n",
      "     0     0 6411.24547    0  320          - 6411.24547      -     -   98s\n",
      "     0     0 6416.32417    0  306          - 6416.32417      -     -  102s\n",
      "     0     0 6416.37507    0  305          - 6416.37507      -     -  103s\n",
      "     0     0 6429.32055    0  340          - 6429.32055      -     -  119s\n",
      "     0     0 6431.43311    0  352          - 6431.43311      -     -  123s\n",
      "     0     0 6431.61983    0  351          - 6431.61983      -     -  123s\n",
      "     0     0 6431.61989    0  351          - 6431.61989      -     -  124s\n",
      "     0     0 6446.74464    0  384          - 6446.74464      -     -  140s\n",
      "     0     0 6447.51221    0  392          - 6447.51221      -     -  145s\n"
     ]
    },
    {
     "name": "stdout",
     "output_type": "stream",
     "text": [
      "     0     0 6447.53515    0  387          - 6447.53515      -     -  145s\n",
      "     0     0 6455.62927    0  430          - 6455.62927      -     -  162s\n",
      "     0     0 6456.35226    0  419          - 6456.35226      -     -  166s\n",
      "     0     0 6456.55310    0  424          - 6456.55310      -     -  167s\n",
      "     0     0 6462.63291    0  418          - 6462.63291      -     -  186s\n",
      "     0     0 6463.32489    0  437          - 6463.32489      -     -  190s\n",
      "     0     0 6463.56464    0  412          - 6463.56464      -     -  191s\n",
      "     0     0 6463.57634    0  410          - 6463.57634      -     -  191s\n",
      "     0     0 6467.94666    0  410          - 6467.94666      -     -  209s\n",
      "     0     0 6468.41643    0  413          - 6468.41643      -     -  213s\n",
      "     0     0 6468.60584    0  432          - 6468.60584      -     -  213s\n",
      "     0     0 6468.61427    0  435          - 6468.61427      -     -  214s\n",
      "     0     0 6472.54864    0  451          - 6472.54864      -     -  233s\n",
      "     0     0 6473.24453    0  432          - 6473.24453      -     -  237s\n",
      "     0     0 6473.51493    0  425          - 6473.51493      -     -  237s\n",
      "     0     0 6473.52481    0  427          - 6473.52481      -     -  238s\n",
      "     0     0 6476.76389    0  443          - 6476.76389      -     -  256s\n",
      "     0     0 6477.25932    0  462          - 6477.25932      -     -  260s\n",
      "     0     0 6477.39360    0  465          - 6477.39360      -     -  261s\n",
      "     0     0 6480.04487    0  459          - 6480.04487      -     -  280s\n",
      "     0     0 6480.36447    0  526          - 6480.36447      -     -  284s\n",
      "     0     0 6480.54898    0  483          - 6480.54898      -     -  285s\n",
      "     0     0 6488.79511    0  489          - 6488.79511      -     -  305s\n",
      "     0     0 6489.41105    0  461          - 6489.41105      -     -  309s\n",
      "     0     0 6489.55359    0  498          - 6489.55359      -     -  309s\n",
      "     0     0 6493.16284    0  474          - 6493.16284      -     -  331s\n",
      "     0     0 6493.77335    0  492          - 6493.77335      -     -  335s\n",
      "     0     0 6494.22305    0  495          - 6494.22305      -     -  336s\n",
      "     0     0 6494.32437    0  500          - 6494.32437      -     -  336s\n",
      "     0     0 6496.46552    0  515          - 6496.46552      -     -  357s\n",
      "     0     0 6496.87082    0  551          - 6496.87082      -     -  361s\n",
      "     0     0 6496.96379    0  585          - 6496.96379      -     -  361s\n",
      "     0     0 6501.92039    0  548          - 6501.92039      -     -  381s\n",
      "     0     0 6502.41908    0  575          - 6502.41908      -     -  385s\n",
      "     0     0 6502.55564    0  530          - 6502.55564      -     -  385s\n",
      "     0     0 6503.59443    0  647          - 6503.59443      -     -  405s\n",
      "     0     0 6503.59443    0  647          - 6503.59443      -     -  447s\n",
      "     0     2 6503.59443    0  647          - 6503.59443      -     - 1163s\n",
      "     1     4 6503.65309    1  633          - 6503.65309      -  47.0 1169s\n",
      "     3     8 6503.67944    2  645          - 6503.67944      -  53.3 1173s\n",
      "     7    12 6503.88887    3  638          - 6503.77638      -  39.7 1178s\n",
      "    11    16 6504.29237    3  624          - 6503.91530      -  61.8 1180s\n",
      "    35    38 6504.50232    9  573          - 6503.91530      -  36.3 1187s\n",
      "    45    45 6504.91842   13  545          - 6503.91530      -  36.0 1190s\n",
      "    89    93 6504.98151   16  561          - 6503.91530      -  27.4 1197s\n",
      "   132   131 6505.19900   21  522          - 6503.91530      -  24.8 1200s\n",
      "   200   199 6505.90552   30  479          - 6503.91530      -  22.0 1206s\n",
      "   225   226 6506.07772   36  434          - 6503.91530      -  22.5 1210s\n",
      "   283   285 6507.23700   49  354          - 6503.91530      -  22.8 1218s\n",
      "   298   297 6507.49445   52  314          - 6503.91530      -  25.4 1221s\n",
      "   314   315 6507.35088   54  322          - 6503.91530      -  24.8 1225s\n",
      "   340   342 6507.48181   55  316          - 6503.91530      -  23.9 1230s\n",
      "   353   354 6507.36729   56  314          - 6503.91530      -  23.6 1235s\n",
      "   366   366 6507.43780   62  289          - 6503.91530      -  26.0 1240s\n",
      "   385   387 6507.63092   66  276          - 6503.91530      -  25.3 1245s\n",
      "   420   421 6507.86125   71  310          - 6503.91530      -  27.8 1256s\n",
      "   434   432 6507.92158   73  309          - 6503.91530      -  29.3 1262s\n",
      "   491   495 6508.07640   78  292          - 6503.91530      -  29.1 1270s\n",
      "   521   522 6508.31854   80  295          - 6503.91530      -  30.9 1277s\n",
      "   548   549 6508.32699   81  312          - 6503.91530      -  32.1 1284s\n",
      "   574   573 6508.56011   87  264          - 6503.91530      -  34.3 1291s\n",
      "   607   612 6509.00756   98  282          - 6503.91530      -  34.6 1299s\n",
      "   648   646 6509.07117  100  282          - 6503.91530      -  35.8 1305s\n",
      "   684   684 6509.07731  112  284          - 6503.91530      -  34.9 1313s\n",
      "   738   739 6509.16622  142  283          - 6503.91530      -  34.9 1321s\n",
      "   782   784 6512.50383  157  254          - 6503.91530      -  34.8 1327s\n",
      "   841   842 6512.83644  170  246          - 6503.91530      -  33.9 1334s\n",
      "   869   871 6513.28869  172  261          - 6503.91530      -  34.5 1341s\n",
      "   901   904 6513.32819  173  257          - 6503.91530      -  34.5 1350s\n",
      "   936   935 6513.36469  174  252          - 6503.91530      -  37.1 1357s\n",
      "   966   965 6513.52384  179  225          - 6503.91530      -  38.4 1367s\n",
      "  1021  1024 6513.78418  187  213          - 6503.91530      -  38.3 1374s\n",
      "  1060  1059 6513.94127  194  209          - 6503.91530      -  39.3 1383s\n",
      "  1123  1124 6514.05533  207  187          - 6503.91530      -  38.7 1392s\n",
      "  1166  1167 6514.06435  212  189          - 6503.91530      -  39.1 1401s\n",
      "  1206  1206 6514.07205  220  174          - 6503.91530      -  39.3 1410s\n",
      "  1256  1258 6514.21378  227  173          - 6503.91530      -  39.2 1421s\n",
      "  1308  1309 6521.78326  231  241          - 6503.91530      -  41.9 1433s\n",
      "  1407  1410 6517.36864  272  232          - 6503.91530      -  41.1 1444s\n",
      "  1549  1550 6522.22893  356  238          - 6503.91530      -  40.4 1454s\n",
      "  1646  1648 6530.60552  411  224          - 6503.91530      -  40.7 1466s\n",
      "  1686  1685 6531.07051  412  221          - 6503.91530      -  42.6 1476s\n",
      "  1860  1861 6532.94394  421  191          - 6503.91530      -  40.2 1488s\n",
      "  2010  2011 6533.62168  424  207          - 6503.91530      -  39.6 1501s\n",
      "  2149  2149 6536.07017  449  216          - 6503.91530      -  39.3 1515s\n",
      "  2295  2296 6536.17272  515  231          - 6503.91530      -  38.7 1528s\n",
      "  2413  2414 6536.29054  561  225          - 6503.91530      -  38.3 1543s\n",
      "  2613  2615 6536.32871  597  226          - 6503.91530      -  35.8 1558s\n",
      "  2766  2765 6536.43236  618  217          - 6503.91530      -  35.6 1573s\n",
      "  2978  2979 6536.47730  657  223          - 6503.91530      -  33.5 1589s\n",
      "  3182  3185 6536.61054  701  216          - 6503.91530      -  31.8 1606s\n",
      "  3362  3361 6536.79163  745  215          - 6503.91530      -  31.6 1624s\n",
      "  3617  3620 6536.82769  786  210          - 6503.91530      -  29.9 1642s\n",
      "  3917  3918 6536.84825  831  211          - 6503.91530      -  28.1 1661s\n",
      "  4189  4188 6543.88059  844  213          - 6503.91530      -  27.4 1680s\n",
      "  4435  4438 6544.33034  916  221          - 6503.91530      -  26.4 1700s\n",
      "  4649  4648 6544.60950  968  214          - 6503.91530      -  25.8 1721s\n",
      "  4924  4925 6544.93915 1046  211          - 6503.91530      -  24.6 1742s\n",
      "  5250  5251 6535.48725 1250  647          - 6503.91530      -  23.3 1755s\n",
      "  5252  5252 6531.13511  783  213          - 6503.91530      -  23.3 1763s\n",
      "  5253  5253 6510.37864   31  279          - 6503.91530      -  23.3 1777s\n",
      "  5255  5254 6524.50600 1002  318          - 6503.91530      -  23.3 1783s\n",
      "  5256  5255 6544.76707  931  345          - 6503.91530      -  23.3 1786s\n",
      "  5258  5256 6547.31262  915  398          - 6503.91530      -  23.2 1790s\n",
      "  5263  5260 6524.16228  970  479          - 6503.91530      -  23.2 1795s\n",
      "  5267  5262 6509.32457  155  597          - 6503.91530      -  23.2 1800s\n",
      "  5273  5266 6545.50707 1019  624          - 6503.91530      -  23.2 1809s\n",
      "  5274  5267 6508.88335  181  649          - 6505.24141      -  23.2 1833s\n",
      "  5276  5268 6517.92394  245  619          - 6505.41748      -  23.2 1851s\n",
      "  5277  5269 6533.42447 1187  644          - 6506.51901      -  23.2 1873s\n"
     ]
    },
    {
     "name": "stdout",
     "output_type": "stream",
     "text": [
      "  5280  5271 6522.80400  507  624          - 6506.97855      -  23.1 1890s\n",
      "  5281  5272 6532.17608 1100  662          - 6508.16374      -  23.1 1912s\n",
      "  5284  5274 6540.74000  463  672          - 6508.42036      -  23.1 1931s\n",
      "  5285  5274 6523.72889  705  703          - 6509.86034      -  23.1 1954s\n",
      "  5286  5275 6537.54310  958  656          - 6510.14146      -  23.1 1955s\n",
      "  5290  5278 6510.27031   15  650          - 6510.27031      -  23.1 1974s\n",
      "  5291  5278 6524.16633  966  686          - 6511.38650      -  23.1 1995s\n",
      "  5295  5281 6539.19666 1011  607          - 6511.87994      -  23.1 2014s\n",
      "  5296  5282 6514.72056  401  684          - 6512.69784      -  23.1 2037s\n",
      "  5300  5284 6537.53144  574  711          - 6513.00002      -  23.1 2057s\n",
      "  5301  5285 6513.64624  170  723          - 6513.64624      -  23.1 2079s\n",
      "  5302  5286 6514.51056  385  693          - 6514.51056      -  23.1 2080s\n",
      "  5304  5287 6524.22366 1009  739          - 6514.59560      -  23.0 2102s\n",
      "  5305  5288 6537.24971  924  587          - 6516.07151      -  23.0 2126s\n",
      "  5309  5290 6536.72253  721  571          - 6516.75016      -  23.0 2143s\n",
      "  5310  5291 6529.27877  759  729          - 6517.19916      -  23.0 2163s\n",
      "  5314  5294 6536.17400  499  610          - 6517.68773      -  23.0 2180s\n",
      "  5315  5294 6522.68826  529  591          - 6518.29399      -  23.0 2200s\n",
      "  5320  5298 6538.37797  658  628          - 6518.72360      -  23.0 2216s\n",
      "  5321  5298 6529.49827 1034  675          - 6519.33506      -  23.0 2235s\n",
      "  5325  5301 6529.29555  770  594          - 6519.53232      -  23.0 2253s\n",
      "  5326  5302 6530.54164  748  691          - 6520.03704      -  22.9 2274s\n",
      "  5328  5303 6533.41439 1144  499          - 6520.19919      -  22.9 2275s\n",
      "  5329  5304 6522.25772  521  501          - 6520.19940      -  22.9 2290s\n",
      "  5330  5304 6523.35976  593  747          - 6520.66824      -  22.9 2309s\n",
      "  5331  5305 6538.89748 1036  681          - 6521.22015      -  22.9 2310s\n",
      "  5335  5308 6521.36582   82  546          - 6521.36582      -  22.9 2326s\n",
      "  5336  5308 6545.77682  984  785          - 6521.99927      -  22.9 2347s\n",
      "  5339  5310 6522.66490  526  617          - 6522.14746      -  22.9 2363s\n",
      "  5340  5311 6522.70955  739  865          - 6522.70955      -  22.9 2382s\n",
      "  5344  5314 6542.88539 1071  739          - 6523.06267      -  22.9 2400s\n",
      "  5345  5314 6523.43150  426  823          - 6523.43150      -  22.9 2421s\n",
      "  5349  5317 6530.05255  852  764          - 6523.90245      -  22.8 2425s\n",
      "  5352  5319 6531.13511  783  773          - 6523.98394      -  22.8 2442s\n",
      "  5353  5320 6524.34472   31  876          - 6524.34472      -  22.8 2462s\n",
      "  5356  5322 6544.76707  931  775          - 6524.48552      -  22.8 2480s\n",
      "  5357  5322 6536.25201  526  905          - 6524.70171      -  22.8 2501s\n",
      "  5360  5324 6537.44198  556  736          - 6524.79221      -  22.8 2519s\n",
      "  5361  5325 6530.57585  863  756          - 6525.19070      -  22.8 2539s\n",
      "  5363  5326 6525.36445  970  577          - 6525.36445      -  22.8 2540s\n",
      "  5366  5328 6539.16166  749  668          - 6525.38843      -  22.8 2556s\n",
      "  5367  5329 6525.61398  155  858          - 6525.61398      -  22.8 2576s\n"
     ]
    }
   ],
   "source": [
    "# model.reset()\n",
    "\n",
    "timeLimit = 3600*8 # In second\n",
    "\n",
    "model.Params.TimeLimit = timeLimit - model.getAttr(GRB.Attr.Runtime)\n",
    "\n",
    "model.Params.Heuristics = 0.5\n",
    "\n",
    "model.Params.MIPFocus=3\n",
    "\n",
    "model.Params.TuneCriterion = 2\n",
    "\n",
    "model.Params.TuneTrials = 3\n",
    "\n",
    "model.Params.SolutionLimit = 10\n",
    "\n",
    "oldSolutionLimit = model.Params.SolutionLimit\n",
    "\n",
    "model.Params.Seed = 3\n",
    "\n",
    "model.Params.TuneTimeLimit = timeLimit/3\n",
    "\n",
    "model.tune()\n",
    "\n",
    "# model.feasRelaxS(1, False, False, True)\n",
    "\n",
    "model.optimize()\n",
    "\n",
    "\n",
    "'''\n",
    "if model.tuneResultCount > 0:\n",
    "\n",
    "    # Load the best tuned parameters into the model\n",
    "    model.getTuneResult(0)\n",
    "\n",
    "    # Write tuned parameters to a file\n",
    "    model.write('tune.prm')\n",
    "\n",
    "    # Solve the model using the tuned parameters\n",
    "    model.optimize()\n",
    "    \n",
    "'''"
   ]
  },
  {
   "cell_type": "code",
   "execution_count": null,
   "metadata": {},
   "outputs": [],
   "source": [
    " "
   ]
  },
  {
   "cell_type": "code",
   "execution_count": null,
   "metadata": {},
   "outputs": [],
   "source": [
    "def turn_to_df(Var, col_name = None):  # Here you could input the variable\n",
    "    solution = model.getAttr('x_', Var)\n",
    "    num_col = len(solution.keys()[0])\n",
    "    collect = []\n",
    "    for row in range(0, len(solution)):\n",
    "        new_row = []\n",
    "        for col in range(0, num_col):\n",
    "            new_row.append(solution.keys()[row][col])\n",
    "        new_row.append(solution[solution.keys()[row]])\n",
    "    \n",
    "        collect.append(new_row)\n",
    "    return pd.DataFrame(collect, columns = col_name)\n",
    "\n"
   ]
  },
  {
   "cell_type": "code",
   "execution_count": null,
   "metadata": {},
   "outputs": [],
   "source": [
    "Hub_Indirect = turn_to_df(x_, [\"Ori_Hub\", \"Transit_Hub\",\"Dest_Hub\", \"Taken\"])\n",
    "Hub_Indirect[Hub_Indirect.Taken > 0 ]"
   ]
  },
  {
   "cell_type": "code",
   "execution_count": null,
   "metadata": {},
   "outputs": [],
   "source": [
    "Country_Direct = turn_to_df(X, [\"Ori_Country\", \"Dest_Country\", \"Taken\"])\n",
    "Country_Indirect = turn_to_df(X_, [\"Ori_Country\", \"Transit_Country\",\"Dest_Country\", \"Taken\"])\n",
    "\n",
    "Hub_Direct = turn_to_df(x, [\"Ori_Hub\", \"Dest_Hub\", \"Taken\"])\n",
    "Hub_Indirect = turn_to_df(x_, [\"Ori_Hub\", \"Transit_Hub\",\"Dest_Hub\", \"Taken\"])\n",
    "\n",
    "Route_Cap = turn_to_df(V, [\"Ori_Hub\", \"Dest_Hub\", \"Taken\"])\n",
    "Freq = turn_to_df(F, [\"Ori_Hub\", \"Dest_Hub\",\"Truck Type\", \"Taken\"])\n",
    "#Start = turn_to_df(S, [\"Ori_Hub\", \"Dest_Hub\", \"Time\"])\n",
    "#Night = turn_to_df(N, [\"Ori_Hub\", \"Dest_Hub\", \"Nights\"])\n",
    "Co_load = turn_to_df(CL, [\"Ori_Hub\", \"Dest_Hub\", \"Amount\"])\n",
    "CL_sol =  model.getAttr('x_', CL)"
   ]
  },
  {
   "cell_type": "code",
   "execution_count": null,
   "metadata": {},
   "outputs": [],
   "source": [
    "for key in attri_dict.keys():\n",
    "    df_output = turn_to_df(attri_dict[key])\n",
    "    df_output.to_csv(f\"Output/{key}_output.csv\")"
   ]
  },
  {
   "cell_type": "code",
   "execution_count": null,
   "metadata": {},
   "outputs": [],
   "source": [
    "ind = Country_Indirect.Taken.sum()\n",
    "d = Country_Direct.Taken.sum()\n",
    "\n",
    "print(f\"{ind} indriect routes and {d} direct route, total: {len(Z)}\" )"
   ]
  },
  {
   "cell_type": "code",
   "execution_count": null,
   "metadata": {},
   "outputs": [],
   "source": [
    "freq_result = model.getAttr('x', F)\n",
    "demand_filled = model.getAttr('x', V)\n",
    "print(\"Cost by Route Cap.:\", round(sum(freq_result[p,q,t] * C[t] * cost[p,q,t] for p, q, t in pqt) / (sum(demand_filled[p,q] for p, q in pq_all)/4), 2))\n",
    "print(\"Cost by Capacity.:\", sum(freq_result[p,q,t] * C[t] * cost[p,q,t] for p, q,t in pqt) / (sum(freq_result[p,q,t] * C[t] for p, q,t in pqt)))\n",
    "print(\"Cost by Demands.:\", sum(freq_result[p,q,t] * C[t] * cost[p,q,t] for p, q,t in pqt) / (sum(Z[m, k] for m, k in mk)/4))\n",
    "print(\"Cost by Demands + Co-load:\", sum(freq_result[p,q,t] * C[t] * cost[p,q,t] for p, q, t in pqt) / (sum(Z[m, k] for m, k in mk)/4 + sum(CL_sol[p, q] for p, q in pq_all)))"
   ]
  },
  {
   "cell_type": "code",
   "execution_count": null,
   "metadata": {},
   "outputs": [],
   "source": [
    "sum(F_[p,q,t] * C[t] * cost[p,q,t] for p, q, t in pqt) / sum(F_[p,q,t] * C[t] for p,q,t in pqt)"
   ]
  },
  {
   "cell_type": "code",
   "execution_count": null,
   "metadata": {},
   "outputs": [],
   "source": [
    "Freq_result = Freq[Freq.Taken > 0]\n",
    "Freq_result.groupby(\"Truck Type\").count()"
   ]
  },
  {
   "cell_type": "code",
   "execution_count": null,
   "metadata": {},
   "outputs": [],
   "source": [
    "Freq_result = Freq[Freq.Taken > 0]\n",
    "Freq_result[\"agg\"] = Freq_result[\"Ori_Hub\"] + Freq_result[\"Dest_Hub\"]\n",
    "print(Freq_result.groupby(\"Truck Type\").count()) # Truck type count per routes\n",
    "\n",
    "Freq_result[\"Capacity\"] = Freq_result.apply(lambda row: C[row[\"Truck Type\"]] * row[\"Taken\"] * 4, axis = 1)\n",
    "capacity_from_freq = Freq_result.groupby([\"agg\"]).sum()\n",
    "\n",
    "\n",
    "# Indirect Route Overview\n",
    "\n",
    "Hub_Indirect_T = Hub_Indirect[Hub_Indirect.Taken > 0]\n",
    "Hub_Indirect_T[\"First\"] = Hub_Indirect_T[\"Ori_Hub\"] + Hub_Indirect_T[\"Transit_Hub\"]\n",
    "Hub_Indirect_T[\"Second\"] = Hub_Indirect_T[\"Transit_Hub\"] + Hub_Indirect_T[\"Dest_Hub\"]\n",
    "\n",
    "Hub_merge = Hub_Indirect_T.merge(capacity_from_freq.loc[:, \"Capacity\"], left_on = \"First\", right_on = \"agg\", how = \"right\")\n",
    "Hub_merge = Hub_merge.merge(capacity_from_freq.loc[:, \"Capacity\"], left_on = \"Second\", right_on = \"agg\", how = \"right\")\n",
    "\n",
    "pd.options.display.max_rows = 100\n",
    "Hub_merge.dropna() \n",
    "\n"
   ]
  },
  {
   "cell_type": "code",
   "execution_count": null,
   "metadata": {},
   "outputs": [],
   "source": [
    "Z[\"NL\", \"GB\"]"
   ]
  },
  {
   "cell_type": "markdown",
   "metadata": {},
   "source": [
    "## Checking if some routes exist"
   ]
  },
  {
   "cell_type": "code",
   "execution_count": null,
   "metadata": {
    "scrolled": true
   },
   "outputs": [],
   "source": [
    "(\"FR\",\"ES\") in mk_all"
   ]
  },
  {
   "cell_type": "code",
   "execution_count": null,
   "metadata": {},
   "outputs": [],
   "source": [
    "'''\n",
    "solution = model.getAttr('x_', X_)\n",
    "print(solution[(\"HU\", \"AT\",\"BE\")])\n",
    "\n",
    "solution_dir = model.getAttr('x_', X)\n",
    "solution_dir[(\"AT\",\"BE\")]\n",
    "'''"
   ]
  },
  {
   "cell_type": "code",
   "execution_count": null,
   "metadata": {},
   "outputs": [],
   "source": [
    "Freq[\"Ori_C\"] = Freq.apply(lambda row: row.Ori_Hub.rsplit(\"-\")[-1], axis = 1)\n",
    "Freq[\"Dest_C\"] = Freq.apply(lambda row: row.Dest_Hub.rsplit(\"-\")[-1], axis = 1)\n",
    "Freq[Freq.Taken > 0]"
   ]
  },
  {
   "cell_type": "code",
   "execution_count": null,
   "metadata": {},
   "outputs": [],
   "source": [
    "Freq.loc[(Freq[\"Ori_C\"] == \"BE\") & (Freq[\"Dest_C\"] == \"DE\"), :]"
   ]
  },
  {
   "cell_type": "markdown",
   "metadata": {},
   "source": [
    "# Check the relationship between Route Capacity and Demands"
   ]
  },
  {
   "cell_type": "code",
   "execution_count": null,
   "metadata": {},
   "outputs": [],
   "source": [
    "Route_Cap[\"Ori_C\"] = Route_Cap.apply(lambda row: row.Ori_Hub.rsplit(\"-\")[-1], axis = 1)\n",
    "Route_Cap[\"Dest_C\"] = Route_Cap.apply(lambda row: row.Dest_Hub.rsplit(\"-\")[-1], axis = 1)\n",
    "Route_Cap[\"Demands\"] = Route_Cap.apply(lambda row: Z[row.Ori_C, row.Dest_C] if (row.Ori_C, row.Dest_C) in Z.keys() else 0, axis = 1)"
   ]
  },
  {
   "cell_type": "code",
   "execution_count": null,
   "metadata": {},
   "outputs": [],
   "source": [
    "# Route_Cap.loc[(Route_Cap[\"Ori_C\"] == \"DE\") & (Route_Cap[\"Dest_C\"] == \"FL\"), :]\n",
    "Route_Cap[Route_Cap.Taken > 0]"
   ]
  },
  {
   "cell_type": "code",
   "execution_count": null,
   "metadata": {},
   "outputs": [],
   "source": [
    "Route_Cap.loc[(Route_Cap[\"Ori_C\"] == \"BE\") & (Route_Cap[\"Dest_C\"] == \"NL\"), :]"
   ]
  },
  {
   "cell_type": "code",
   "execution_count": null,
   "metadata": {},
   "outputs": [],
   "source": [
    "Z[\"BE\", \"AT\"]"
   ]
  },
  {
   "cell_type": "code",
   "execution_count": null,
   "metadata": {},
   "outputs": [],
   "source": [
    "(\"NL\", \"AT\") in mk_all"
   ]
  },
  {
   "cell_type": "code",
   "execution_count": null,
   "metadata": {},
   "outputs": [],
   "source": []
  }
 ],
 "metadata": {
  "kernelspec": {
   "display_name": "Python 3",
   "language": "python",
   "name": "python3"
  },
  "language_info": {
   "codemirror_mode": {
    "name": "ipython",
    "version": 3
   },
   "file_extension": ".py",
   "mimetype": "text/x-python",
   "name": "python",
   "nbconvert_exporter": "python",
   "pygments_lexer": "ipython3",
   "version": "3.7.3"
  }
 },
 "nbformat": 4,
 "nbformat_minor": 2
}
