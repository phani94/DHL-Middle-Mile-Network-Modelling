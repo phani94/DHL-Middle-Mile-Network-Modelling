{
 "cells": [
  {
   "cell_type": "code",
   "execution_count": 1,
   "metadata": {},
   "outputs": [],
   "source": [
    "from gurobipy import Model, GRB, quicksum, tuplelist\n",
    "import numpy as np\n",
    "import pandas as pd"
   ]
  },
  {
   "cell_type": "code",
   "execution_count": 2,
   "metadata": {},
   "outputs": [],
   "source": [
    "# The following file works as a reference table to match the names of 2 sheets\n",
    "hub_list = pd.read_csv('Database/Hub list.csv')\n",
    "hub_list.Ref_City = hub_list.Ref_City + \"-\" + hub_list.Country\n",
    "\n",
    "# drop duplicates\n",
    "hub_list.drop_duplicates(subset = \"Ref_City\", keep='first', inplace=True)\n",
    "\n",
    "\n",
    "hub_ref = {}\n",
    "for row in hub_list.index:\n",
    "    hub_ref[hub_list.loc[row, \"City\"]] = hub_list.loc[row, \"Ref_City\"]\n",
    "\n",
    "    \n",
    "    \n",
    "def name_transform(city_name):\n",
    "    if city_name in hub_ref.keys():\n",
    "        return hub_ref[city_name]\n",
    "    else:\n",
    "        return city_name\n"
   ]
  },
  {
   "cell_type": "code",
   "execution_count": 3,
   "metadata": {},
   "outputs": [],
   "source": [
    "# Simple Version\n",
    "masterfile = pd.read_excel(\"Database/Simple/Simple Routes.xlsx\", sheet_name = 0)\n",
    "\n",
    "# Complete Version\n",
    "#masterfile = pd.read_csv(\"Database/inter_distances.csv\")\n"
   ]
  },
  {
   "cell_type": "code",
   "execution_count": 4,
   "metadata": {},
   "outputs": [],
   "source": [
    "# Import forecast for creating the country set\n",
    "forecast = pd.read_csv(\"Database/Average_Forecast.csv\")\n",
    "forecast.fillna(0, inplace = True)\n",
    "\n",
    "# Only satisfied those the current network can reach\n",
    "# Otherwise the solution would be infeasible\n",
    "\n",
    "used_c = masterfile[\"Origin Country\"].unique().tolist() +  masterfile[\"Destination Country\"].unique().tolist() # Not every hubs in the hub list is used\n",
    "used_c = list( dict.fromkeys(used_c) )  # Remove duplicate\n",
    "\n",
    "all_c = forecast.Origin.unique().tolist() +  forecast.Destination.unique().tolist() # Not every hubs in the hub list is used\n",
    "all_c = list( dict.fromkeys(all_c) )  # Remove duplicate\n",
    "\n",
    "for x in used_c:\n",
    "    try:\n",
    "        all_c.remove(x)\n",
    "    except:\n",
    "        continue\n",
    "        \n",
    "for c in all_c:\n",
    "    forecast[\"Origin\"].replace(c, np.nan, inplace = True)\n",
    "    forecast[\"Destination\"].replace(c, np.nan, inplace = True)\n",
    "forecast.dropna(how = \"any\", inplace = True)\n",
    "\n",
    "\n",
    "# Set up the threshold for the demands\n",
    "minimum_demands = 0\n",
    "maximum_demands = forecast.Average.max()\n",
    "forecast[\"Target\"] = forecast.apply(lambda row: row.Average if (row.Average >= minimum_demands) and (row.Average <= maximum_demands) else 0, axis = 1)\n",
    "#forecast[\"Target\"] = forecast.apply(lambda row: row.Target if row.Target <= maximum_demands else 0, axis = 1)\n",
    "\n",
    "\n",
    "forecast = forecast[forecast[\"Target\"] > 0]\n",
    "country_set = list(zip(forecast[\"Origin\"].to_list(), forecast[\"Destination\"].to_list()))\n",
    "\n",
    "origin_list = list(forecast[\"Origin\"].unique())\n",
    "dst_list =  list(forecast[\"Destination\"].unique())\n",
    "\n",
    "country_with_forecast = forecast.Origin.unique().tolist() +  forecast.Destination.unique().tolist()\n",
    "country_with_forecast = list( dict.fromkeys(country_with_forecast))  # Remove Dup"
   ]
  },
  {
   "cell_type": "code",
   "execution_count": 5,
   "metadata": {},
   "outputs": [
    {
     "data": {
      "text/plain": [
       "212"
      ]
     },
     "execution_count": 5,
     "metadata": {},
     "output_type": "execute_result"
    }
   ],
   "source": [
    "len(forecast)"
   ]
  },
  {
   "cell_type": "markdown",
   "metadata": {},
   "source": [
    "# Define the Set\n",
    "## 1. Hubs in each Country (L) & All Hubs (H)"
   ]
  },
  {
   "cell_type": "code",
   "execution_count": 6,
   "metadata": {},
   "outputs": [],
   "source": [
    "used_hubs = masterfile.From.unique().tolist() +  masterfile.To.unique().tolist() # Not every hubs in the hub list is used\n",
    "used_hubs = list( dict.fromkeys(used_hubs) )  # Remove duplicate\n",
    "\n",
    "hub_list_used = hub_list.set_index(\"Ref_City\")\n",
    "hub_list_used = hub_list_used.loc[hub_list_used.index.isin(used_hubs), :]\n",
    "hub_list_used.reset_index(inplace = True)\n",
    "\n",
    "#hub_list_used[\"Country\"] = hub_list_used.apply(lambda row: row[\"Ref_City\"].split(\"-\")[-1], axis = 1) # To fill NA in country\n",
    "\n",
    "L = {}\n",
    "for country in country_with_forecast:  # hub_list_used.Country.unique():\n",
    "    hub_collect = hub_list_used[hub_list_used.loc[:, \"Country\"] == country][\"Ref_City\"].tolist()\n",
    "    L[country] = hub_collect\n",
    "\n",
    "    #for row in hub_list_used.index:\n",
    "\n",
    "    #L[hub_list_used.loc[row, \"Country\"]].append(hub_list_used.loc[row, \"Ref_City\"])\n",
    "H = hub_list_used.Ref_City.unique().tolist() # All hubs"
   ]
  },
  {
   "cell_type": "markdown",
   "metadata": {},
   "source": [
    "## 2. European Countries (E)"
   ]
  },
  {
   "cell_type": "code",
   "execution_count": 7,
   "metadata": {},
   "outputs": [],
   "source": [
    "E = country_with_forecast # from the \"forecast\" file"
   ]
  },
  {
   "cell_type": "markdown",
   "metadata": {},
   "source": [
    "## 3. Truck Types (T)"
   ]
  },
  {
   "cell_type": "code",
   "execution_count": 8,
   "metadata": {},
   "outputs": [],
   "source": [
    "truck_cap = pd.read_csv(\"Database/TruckVSCap.csv\")\n",
    "T = truck_cap[\"Truck Type\"].tolist()\n",
    "#T.remove(\"Swap Body\") # To simplify the model"
   ]
  },
  {
   "cell_type": "markdown",
   "metadata": {},
   "source": [
    "## Define subset for the later use"
   ]
  },
  {
   "cell_type": "code",
   "execution_count": 9,
   "metadata": {},
   "outputs": [],
   "source": [
    "# Define tuplelist for the assign of variables\n",
    "\n",
    "mjk = tuplelist([(m,j,k) for m, k in country_set for j in country_with_forecast if (m != j) & (j != k)])\n",
    "mk = tuplelist([(m,k) for m, k in country_set])\n",
    "\n",
    "mj_k = [(m, j) for m in origin_list for j in country_with_forecast if (m, j) not in mk if m != j]   # m connects to j exlcudes k (transit countries)\n",
    "mj_k = list( dict.fromkeys(mj_k) )\n",
    "\n",
    "#j_mk = [(m, k) for m in country_with_forecast for k in dst_list if (m not in origin_list) & (m != k)]   # m connects to j exlcudes k (transit countries)\n",
    "j_mk = [(j, k)  for j in country_with_forecast for k in dst_list if (j,k) not in mk if k != j]  \n",
    "#j_mk = [(j, k) for m, j, k in mjk if (j,k) not in mk]   # j excludes m (transit countries), connects to k\n",
    "j_mk = list( dict.fromkeys(j_mk) )\n",
    "\n",
    "mk_all = j_mk + mj_k + mk\n",
    "mk_all = list( dict.fromkeys(mk_all) )\n",
    "\n",
    "pq = tuplelist([(p,q) for m,k in mk for p in L[m] for q in L[k]])\n",
    "piq = tuplelist([(p,i,q) for (m,j,k) in mjk for p in L[m] for i in L[j] for q in L[k]])\n",
    "pq_all = tuplelist((p, q) for m,k in mk_all for p in L[m] for q in L[k])\n",
    "pqt = tuplelist([(p,q,t) for p,q in pq_all for t in T])"
   ]
  },
  {
   "cell_type": "markdown",
   "metadata": {},
   "source": [
    "# Define all the parameters\n",
    "\n",
    "## 1. Cost: \n",
    "Transportation Cost between hub p ∈ H and hub q ∈ H using truck t ∈ T (Euro/ kg)\t\n"
   ]
  },
  {
   "cell_type": "code",
   "execution_count": 10,
   "metadata": {},
   "outputs": [],
   "source": [
    "cost_file = pd.read_csv(\"Database/Costs.csv\")"
   ]
  },
  {
   "cell_type": "code",
   "execution_count": 11,
   "metadata": {},
   "outputs": [
    {
     "name": "stdout",
     "output_type": "stream",
     "text": [
      "Madrid-ES Lisboa-PT\n",
      "PZ 90 (Feucht/Nürnberg)-DE Oradea-RO\n",
      "Hub Wien I-AT Sofia-BG\n",
      "Hub Graz-AT Ljubljana-SI\n",
      "Hub Wien I-AT Oradea-RO\n",
      "Hub Wien I-AT Zagreb-HR\n",
      "Hub Wien I-AT Budapest OLK-HU\n",
      "Zagreb-HR Ljubljana-SI\n",
      "Zagreb-HR Hub Wien I-AT\n",
      "Zagreb-HR PZ 90 (Feucht/Nürnberg)-DE\n",
      "Oslo-NO Göteborg-SE\n",
      "Oslo-NO PZ 21 (Hamburg)-DE\n",
      "Dublin-IE Göteborg-SE\n",
      "Dublin-IE Barcelona-ES\n",
      "Dublin-IE Madrid-ES\n",
      "Sofia-BG Hub Wien I-AT\n",
      "PZ 21 (Hamburg)-DE Oslo-NO\n",
      "PZ 90 (Feucht/Nürnberg)-DE Zagreb-HR\n",
      "Brno-CZ Helsingborg-SE\n",
      "Barcelona-ES Helsingborg-SE\n",
      "Ljubljana-SI Hub Wien I-AT\n",
      "Helsingborg-SE Brno-CZ\n",
      "Helsingborg-SE Poznań-PL\n",
      "Göteborg-SE Dublin-IE\n",
      "Helsingborg-SE Barcelona-ES\n",
      "Helsingborg-SE Madrid-ES\n",
      "PZ 50 (Köln)-DE Lisboa-PT\n",
      "Zaltbommel-NL Malmö-SE\n",
      "Zaltbommel-NL Poznań-PL\n",
      "Ljubljana-SI PZ 90 (Feucht/Nürnberg)-DE\n",
      "Budapest OLK-HU Hub Wien I-AT\n",
      "PZ 50 (Köln)-DE Barcelona-ES\n",
      "Poznań-PL Helsingborg-SE\n",
      "Budapest OLK-HU PZ 90 (Feucht/Nürnberg)-DE\n",
      "PZ 90 (Feucht/Nürnberg)-DE Sofia-BG\n",
      "Lisboa-PT PZ 50 (Köln)-DE\n",
      "PZ 90 (Feucht/Nürnberg)-DE Budapest OLK-HU\n",
      "Brno-CZ Hub Wien I-AT\n",
      "Zaltbommel-NL Ryton Gateway-GB\n",
      "PZ 50 (Köln)-DE Helsingborg-SE\n",
      "PZ 90 (Feucht/Nürnberg)-DE Helsingborg-SE\n",
      "PZ 21 (Hamburg)-DE Helsingborg-SE\n",
      "PZ 21 (Hamburg)-DE Malmö-SE\n",
      "Helsingborg-SE PZ 21 (Hamburg)-DE\n",
      "Malmö-SE PZ 21 (Hamburg)-DE\n",
      "PZ 90 (Feucht/Nürnberg)-DE Poznań-PL\n",
      "PZ 21 (Hamburg)-DE Poznań-PL\n",
      "PZ 90 (Feucht/Nürnberg)-DE Hub Wien I-AT\n",
      "PZ 21 (Hamburg)-DE Hub Wien I-AT\n",
      "Göteborg-SE Oslo-NO\n",
      "Helsingborg-SE Oslo-NO\n",
      "Barcelona-ES PZ 50 (Köln)-DE\n",
      "Hub Wien I-AT Brno-CZ\n",
      "PZ 47 (Krefeld)-DE Zaltbommel-NL\n",
      "Hub Wien I-AT PZ 90 (Feucht/Nürnberg)-DE\n",
      "Hub Graz-AT PZ 93 (Regensburg)-DE\n",
      "Zaltbommel-NL PZ 47 (Krefeld)-DE\n",
      "Zaltbommel-NL PZ 44 (Bochum) [im Bau]-DE\n"
     ]
    }
   ],
   "source": [
    "cost = {}\n",
    "for row in cost_file.index:\n",
    "    cost_key = (cost_file[\"From\"][row], cost_file[\"To\"][row], cost_file[\"Truck type\"][row])\n",
    "    cost[cost_key] = cost_file[\"Cost/kg\"][row]\n",
    "    \n",
    "cl_file = pd.read_csv(\"Database/Co Loading Hubs.csv\")\n",
    "cl_od = tuple(zip(cl_file[\"Origin Hub-Country\"].to_list(), cl_file[\"Destination Hub-Country\"].to_list()))\n",
    "    \n",
    "    \n",
    "coeff_cl = 0.7\n",
    "if \"Co-loading\" in T:\n",
    "    for p, q in pq_all:\n",
    "        if (p,q) in cl_od:\n",
    "            print(p,q)\n",
    "        cost[(p, q, \"Co-loading\")] = max([cost[p_s, q_s, t] for p_s, q_s, t in pqt.select(p, q, \"*\") if t != \"Co-loading\"])*coeff_cl if (p,q) in cl_od else 99\n",
    "           \n"
   ]
  },
  {
   "cell_type": "markdown",
   "metadata": {},
   "source": [
    "# 2. Forecast volume: Z\n",
    "Average forecasted parcel volume from country m ∈ E to country j ∈ E"
   ]
  },
  {
   "cell_type": "code",
   "execution_count": 12,
   "metadata": {},
   "outputs": [],
   "source": [
    "Z = {}\n",
    "\n",
    "\n",
    "for row in forecast.index:\n",
    "    key = (forecast[\"Origin\"][row], forecast[\"Destination\"][row])\n",
    "    Z[key] = int(round(forecast[\"Target\"][row])) # Can only be interger\n",
    "\n",
    "# Some missing connection in the forecast\n",
    "for conn in mk:\n",
    "    if conn not in Z.keys():\n",
    "        Z[conn] = 0\n",
    "        print(conn)"
   ]
  },
  {
   "cell_type": "markdown",
   "metadata": {},
   "source": [
    "## 3. Current Freqency (F_)\n",
    "the frequency of truck t from hub to hub q in the current network."
   ]
  },
  {
   "cell_type": "code",
   "execution_count": 13,
   "metadata": {},
   "outputs": [
    {
     "data": {
      "text/plain": [
       "'\\nfreq_truck = pd.read_excel(\"Database/Result_Freq.xlsx\", sheet_name = 0)\\nfreq_truck.replace(\"Ryton Gateway\", \"Ryton\", inplace = True)\\nfreq_truck[\"From\"] = freq_truck.apply(lambda row: name_transform(row[\"Org. GTW\"]), axis = 1)\\nfreq_truck[\"To\"] = freq_truck.apply(lambda row: name_transform(row[\"Dst. GTW\"]), axis = 1)\\nfreq_truck.loc[:, :].to_csv(\"Database/current_network.csv\")\\n\\n'"
      ]
     },
     "execution_count": 13,
     "metadata": {},
     "output_type": "execute_result"
    }
   ],
   "source": [
    "# The following code transform the excel files to csv file in specific format\n",
    "'''\n",
    "freq_truck = pd.read_excel(\"Database/Result_Freq.xlsx\", sheet_name = 0)\n",
    "freq_truck.replace(\"Ryton Gateway\", \"Ryton\", inplace = True)\n",
    "freq_truck[\"From\"] = freq_truck.apply(lambda row: name_transform(row[\"Org. GTW\"]), axis = 1)\n",
    "freq_truck[\"To\"] = freq_truck.apply(lambda row: name_transform(row[\"Dst. GTW\"]), axis = 1)\n",
    "freq_truck.loc[:, :].to_csv(\"Database/current_network.csv\")\n",
    "\n",
    "'''"
   ]
  },
  {
   "cell_type": "code",
   "execution_count": 14,
   "metadata": {},
   "outputs": [],
   "source": [
    "freq_current = pd.read_csv(\"Database/current_network.csv\")\n",
    "# The following section work as a formatting part. To avoid different naming issues\n",
    "freq_current.replace(\"trailer\", \"Trailer\", inplace = True)\n",
    "freq_current.replace(\"2 swap bodies\", \"2 Swap Bodies\", inplace = True)\n",
    "freq_current.replace(\"van\", \"Van\", inplace = True)\n",
    "freq_current.replace(\"1 swap body\", \"Swap Body\", inplace = True)\n",
    "freq_current.replace(\"SEMI TRAILER\", \"Swap Body\", inplace = True)\n",
    "freq_current.replace(\"Cargo 50 m3\", \"Swap Body\", inplace = True)\n",
    "freq_current.replace(\"Sea Container\", \"2 Swap Bodies\", inplace = True)\n",
    "freq_current.replace(\"Van 15 m3\", \"Van\", inplace = True)\n",
    "freq_current.replace(\"Van 22m3\", \"Van\", inplace = True)\n",
    "freq_current.replace(\"4 swap bodies\", \"2 Swap Bodies\", inplace = True)\n",
    "\n"
   ]
  },
  {
   "cell_type": "code",
   "execution_count": 15,
   "metadata": {},
   "outputs": [],
   "source": [
    "F_ = {}\n",
    "for row in freq_current.index:\n",
    "    key = (freq_current.loc[row, \"From\"], freq_current.loc[row, \"To\"], freq_current.loc[row, \"Truck type\"])\n",
    "    value = freq_current.loc[row, \"Frequency\"]\n",
    "    \n",
    "    F_[key] = value\n",
    "    \n",
    "for target in pqt:\n",
    "    if target not in F_.keys():\n",
    "        F_[target] = 0\n",
    "        "
   ]
  },
  {
   "cell_type": "markdown",
   "metadata": {},
   "source": [
    "## 4. Travel time (TT)\n",
    "Total transportation time from hub p ∈ H to q ∈ H"
   ]
  },
  {
   "cell_type": "code",
   "execution_count": 16,
   "metadata": {},
   "outputs": [],
   "source": [
    "tt_file = pd.read_csv(\"Database/travel time.csv\")\n",
    "TT = {}\n",
    "for row in tt_file.index:\n",
    "    key = (tt_file.loc[row, \"From\"], tt_file.loc[row, \"To\"])\n",
    "    value = tt_file.loc[row, \"est_tt\"]\n",
    "    \n",
    "    TT[key] = value"
   ]
  },
  {
   "cell_type": "markdown",
   "metadata": {},
   "source": [
    "## 5. Hub Open & Cut-off time\n",
    "- Op = Hub opened time for hub p ∈ H\n",
    "- COp  = Hub cut off time for hub p ∈ H\n"
   ]
  },
  {
   "cell_type": "code",
   "execution_count": 17,
   "metadata": {},
   "outputs": [],
   "source": [
    "def transform_time(target):\n",
    "    try: \n",
    "        return int(target.split(\":\")[0]) + int(target.split(\":\")[1])/60 \n",
    "    except:\n",
    "        return 0"
   ]
  },
  {
   "cell_type": "code",
   "execution_count": 18,
   "metadata": {},
   "outputs": [
    {
     "data": {
      "text/plain": [
       "'\\nhub_info = pd.read_csv(\"Database/Hub Cutoff and Open Time.csv\")\\nhub_info[\"Hub\"] = hub_info.apply(lambda row: name_transform(row[\"Gateways\"]), axis = 1)\\nhub_info[\"Cut-off\"] = hub_info.apply(lambda row: transform_time(row[\"Cut-Off\"]), axis = 1)\\nhub_info[\"Open\"] = hub_info.apply(lambda row: transform_time(row[\"Hub-Opening-Time\"]), axis = 1)\\nhub_info.to_csv(\"Database/hub_info.csv\")\\n'"
      ]
     },
     "execution_count": 18,
     "metadata": {},
     "output_type": "execute_result"
    }
   ],
   "source": [
    "'''\n",
    "hub_info = pd.read_csv(\"Database/Hub Cutoff and Open Time.csv\")\n",
    "hub_info[\"Hub\"] = hub_info.apply(lambda row: name_transform(row[\"Gateways\"]), axis = 1)\n",
    "hub_info[\"Cut-off\"] = hub_info.apply(lambda row: transform_time(row[\"Cut-Off\"]), axis = 1)\n",
    "hub_info[\"Open\"] = hub_info.apply(lambda row: transform_time(row[\"Hub-Opening-Time\"]), axis = 1)\n",
    "hub_info.to_csv(\"Database/hub_info.csv\")\n",
    "'''"
   ]
  },
  {
   "cell_type": "code",
   "execution_count": 19,
   "metadata": {
    "scrolled": true
   },
   "outputs": [],
   "source": [
    "hub_info = pd.read_csv(\"Database/hub_info.csv\")\n",
    "merged_hub_info = hub_list_used.merge(hub_info[[\"Hub\", \"Open\", \"Cut-off\"]], left_on = \"Ref_City\", right_on = \"Hub\", how = \"left\")\n",
    "\n",
    "merged_hub_info[\"Open\"].fillna(merged_hub_info[\"Open\"].mode().values[0], inplace = True)\n",
    "merged_hub_info[\"Cut-off\"].fillna(merged_hub_info[\"Cut-off\"].mode().values[0], inplace = True)\n",
    "\n",
    "O = {} # Open time\n",
    "for row in merged_hub_info.index:\n",
    "    key = merged_hub_info.loc[row, \"Ref_City\"]\n",
    "    value = merged_hub_info.loc[row, \"Open\"]\n",
    "    O[key] = value\n",
    "\n",
    "CO = {} # Cut-off time\n",
    "for row in merged_hub_info.index:\n",
    "    key = merged_hub_info.loc[row, \"Ref_City\"]\n",
    "    value = merged_hub_info.loc[row, \"Cut-off\"]\n",
    "    CO[key] =  value\n"
   ]
  },
  {
   "cell_type": "markdown",
   "metadata": {},
   "source": [
    "## 6. Truck Capacity"
   ]
  },
  {
   "cell_type": "code",
   "execution_count": 20,
   "metadata": {},
   "outputs": [],
   "source": [
    "C = {}\n",
    "for row in truck_cap.index:\n",
    "    C[truck_cap.loc[row, \"Truck Type\"]] = truck_cap.loc[row, \"Capacity\"]"
   ]
  },
  {
   "cell_type": "markdown",
   "metadata": {},
   "source": [
    "# Start the model"
   ]
  },
  {
   "cell_type": "code",
   "execution_count": 21,
   "metadata": {},
   "outputs": [
    {
     "name": "stdout",
     "output_type": "stream",
     "text": [
      "Academic license - for non-commercial use only\n"
     ]
    }
   ],
   "source": [
    "model = Model(\"DHL\")"
   ]
  },
  {
   "cell_type": "markdown",
   "metadata": {},
   "source": [
    "# Define the variables\n",
    "Decision variables:\n",
    "- xpq = 1 if the transportation from hub p ∈ H to hub q ∈ H is direct, else 0  \n",
    "- x’piq = 1 if the transportation from hub p ∈ H to hub q ∈ H has to go through i ∈ H, else 0\n",
    "- Xmk = 1 if the transportation from country m ∈ E to county k ∈ E is direct, else 0\n",
    "- X’mjk = 1 if the transportation from country m ∈ E  to county k ∈ E  has to go through country j ∈ E , else 0\n",
    "- Vpq = route capacity from hub p ∈ H to hub q ∈ H\n",
    "- Fpqt = recommended frequency of truck t ∈ T from hub p ∈ H to hub q ∈ H\n",
    "- Spq = start time of truck from hub p ∈ H to hub q ∈ H,\n",
    "- Npq = Night needed from hub p ∈ H to hub q ∈ H"
   ]
  },
  {
   "cell_type": "code",
   "execution_count": 22,
   "metadata": {},
   "outputs": [],
   "source": [
    "x = model.addVars(pq , vtype=GRB.BINARY, name='xpq')  # Direct from hub to hub\n",
    "\n",
    "x_ = model.addVars(piq, vtype = GRB.BINARY, name = 'x_piq')  # Indirect from hub to hub\n",
    "\n",
    "X = model.addVars(mk , vtype=GRB.BINARY, name='Xmk')       # Direct from country to country\n",
    "\n",
    "X_ = model.addVars(mjk,  vtype = GRB.BINARY, name = 'X_mjk') # Indirect from country to country\n",
    "\n",
    "V = model.addVars(pq_all , vtype=GRB.INTEGER, lb=0 ,name='Vpq')   # Route capacity\n",
    "\n",
    "F=model.addVars(pqt , vtype=GRB.INTEGER, lb=0, name='Fpqt') # Recommended Frequency\n",
    "\n",
    "# S=model.addVars(pq_all , vtype=GRB.CONTINUOUS, name='Spq')         # Start time from hub p\n",
    "\n",
    "# N=model.addVars(pq_all , vtype=GRB.INTEGER, name='Npq')         # Night Needed from hub p to hub q\n",
    "\n",
    "CL = model.addVars(pq_all, vtype = GRB.INTEGER, lb = 0, name = \"CLpq\") # Co-loading (in) between p and q"
   ]
  },
  {
   "cell_type": "code",
   "execution_count": 23,
   "metadata": {},
   "outputs": [],
   "source": [
    "attri_dict = {\"hub_direct\": x, \"hub_indirect\" : x_, \"country_direct\" : X, \"country_indirect\" : X_,\n",
    "              \"route_cap\": V, \"freq\" : F, \"Co-loading\":CL}\n"
   ]
  },
  {
   "cell_type": "markdown",
   "metadata": {},
   "source": [
    "## Objective"
   ]
  },
  {
   "cell_type": "code",
   "execution_count": 24,
   "metadata": {},
   "outputs": [],
   "source": [
    "model.update()\n",
    "\n",
    "# Minimize the travel time for each route\n",
    "\n",
    "model.setObjective(quicksum(x[p, q] * TT[p, q] * Z[m, k] for m,k in mk for p in L[m] for q in L[k]) +\n",
    "                   quicksum(x_[p, i ,q] * (TT[p, i] + 9 + TT[i, q]) * Z[m,k]  for m,j,k in mjk for p in L[m] for i in L[j] for q in L[k]) # Consider the transit time in the hubs\n",
    "                                                                                       # Taking 9 as an example\n",
    "                   ,  GRB.MINIMIZE)"
   ]
  },
  {
   "cell_type": "markdown",
   "metadata": {},
   "source": [
    "## Constraints"
   ]
  },
  {
   "cell_type": "code",
   "execution_count": 25,
   "metadata": {
    "scrolled": true
   },
   "outputs": [
    {
     "data": {
      "text/plain": [
       "'\\nmodel.addConstr((quicksum(F[p,q,t] * cost[p,q,t] * C[t] for p, q, t in pqt) <= \\n                 (current_cost * (quicksum(Z[m,k] for m, k in mk) / 4 + quicksum(CL[p,q] for p,q in pq_all))) * Cost_bound / Current_full), \"Cost Constraint\")\\n'"
      ]
     },
     "execution_count": 25,
     "metadata": {},
     "output_type": "execute_result"
    }
   ],
   "source": [
    "\n",
    "\n",
    "### Constraints\n",
    "## Direct or Indirect Transportation\n",
    "\n",
    "model.addConstrs(((quicksum(X_[m,j,k] for j in E if (j != m) & (j != k)) == \n",
    "                   (1 - X[m,k])) for m, k in mk),\n",
    "                 \"Transportation can be direct or Indirect\")\n",
    "\n",
    "\n",
    "## Linking Countries and Hubs\n",
    "\n",
    "model.addConstrs(((quicksum(x[p,q] for p in L[m] for q in L[k]) == \n",
    "                  X[m,k]) for m, k in mk), \"Linking_pq\")  ## We can't use E_mjk here\n",
    "model.addConstrs(((quicksum(x_[p,i,q] for p in L[m] for i in L[j] for q in L[k]) ==\n",
    "                 X_[m,j,k]) for m,j,k in mjk), \"Linking_piq\")\n",
    "\n",
    "## Truck Capacity:\n",
    "\n",
    "# V = monthly demand of the route\n",
    "# For the countries of p, q are in mk\n",
    "model.addConstrs((V[p,q] ==  \n",
    "                 quicksum(x_[p,q,i] * Z[m,j] for m, k, j in mjk.select(m, k, \"*\") for i in L[j]) +\n",
    "                 quicksum(x_[i,p,q] * Z[j,k] for j, m, k in mjk.select(\"*\", m, k) for i in L[j]) + \n",
    "                 x[p,q] * Z[m,k]\n",
    "                 for m, k in mk for p in L[m] for q in L[k]), \"Truck Capacity\")\n",
    "\n",
    "# For the countries of p are in the origin, q are not in the destination:\n",
    "model.addConstrs((V[p,q] ==  \n",
    "                 quicksum(x_[p,q,i] * Z[m,j] for m, k, j in mjk.select(m, k, \"*\") for i in L[j])\n",
    "                 for m, k in mj_k for p in L[m] for q in L[k] if (m,k) not in j_mk), \"Truck Capacity\")\n",
    "                 \n",
    "# For the countries of p are not in the origin, q are in the destination:           \n",
    "model.addConstrs((V[p,q] ==  \n",
    "                 quicksum(x_[i,p,q] * Z[j,k] for j, m, k in mjk.select(\"*\", m, k) for i in L[j]) \n",
    "                 for m, k in j_mk for p in L[m] for q in L[k] if (m,k) not in mj_k), \"Truck Capacity\")\n",
    "\n",
    "# For the countries of p and q are not in mk, but in j_mk and mj_k in the same time\n",
    "model.addConstrs((V[p,q] ==  \n",
    "                 quicksum(x_[p,q,i] * Z[m,j] for m, k, j in mjk.select(m, k, \"*\") for i in L[j]) +\n",
    "                 quicksum(x_[i,p,q] * Z[j,k] for j, m, k in mjk.select(\"*\", m, k) for i in L[j])\n",
    "                 for m, k in j_mk for p in L[m] for q in L[k] if (m,k) in mj_k), \"Truck Capacity 4\")\n",
    "\n",
    "\n",
    "## Truck type and Frequency of trucks\n",
    "# transforming the weekly frequency to monthly by multiplying 4\n",
    "model.addConstrs(((V[p,q] + CL[p, q]*4 <=   # Updated\n",
    "                 quicksum(F[p,q,t] * C[t] * 4 for t in T) )\n",
    "                 for m, k in mk_all for q in L[k] for p in L[m]),\n",
    "                 \"Truck Type and Frequency\"\n",
    "                )\n",
    "\n",
    "# Co-loading in constraints\n",
    "model.addConstrs((CL[p,q] <= 2000 for p,q in pq_all), \"Coloading in constraints\")\n",
    "model.addConstrs((CL[p,q] <= V[p, q]*0.3 for p, q in pq_all), \"Coloading in constraints 2\")\n",
    "\n",
    "\n",
    "\n",
    "# Assumption: all the excessive spaces could be loaded with co-loading opportunities in the current network\n",
    "# Assumption: In the new network, all the co-loading oppottunities doesn't exist\n",
    "\n",
    "\n",
    "Cost_bound = 1.05\n",
    "Current_full = 1\n",
    "\n",
    "\n",
    "current_cost = sum(F_[p,q,t] * C[t] * cost[p,q,t] for p, q, t in pqt) / sum(F_[p,q,t] * C[t] for p,q,t in pqt)\n",
    "model.addConstr((quicksum(F[p,q,t] * cost[p,q,t] * C[t] for p, q, t in pqt) <= \n",
    "                 (current_cost * (quicksum(V[p,q] for p, q in pq_all) / 4 + quicksum(CL[p,q] for p,q in pq_all))) * Cost_bound / Current_full), \"Cost Constraint\")\n",
    "\n"
   ]
  },
  {
   "cell_type": "markdown",
   "metadata": {},
   "source": [
    "## Solver"
   ]
  },
  {
   "cell_type": "code",
   "execution_count": 26,
   "metadata": {},
   "outputs": [
    {
     "name": "stdout",
     "output_type": "stream",
     "text": [
      "\n",
      "Statistics for model DHL :\n",
      "  Linear constraint matrix    : 23305 Constrs, 209732 Vars, 607628 NZs\n",
      "  Variable types              : 0 Continuous, 209732 Integer (177854 Binary)\n",
      "  Matrix coefficient range    : [ 0.0178267, 1.43338e+06 ]\n",
      "  Objective coefficient range : [ 338.1, 1.62149e+08 ]\n",
      "  Variable bound range        : [ 1, 1 ]\n",
      "  RHS coefficient range       : [ 1, 2000 ]\n"
     ]
    }
   ],
   "source": [
    "model.update()\n",
    "model.printStats()"
   ]
  },
  {
   "cell_type": "code",
   "execution_count": null,
   "metadata": {},
   "outputs": [
    {
     "name": "stdout",
     "output_type": "stream",
     "text": [
      "Changed value of parameter TimeLimit to 25200.0\n",
      "   Prev: 1e+100  Min: 0.0  Max: 1e+100  Default: 1e+100\n",
      "Changed value of parameter Heuristics to 0.2\n",
      "   Prev: 0.05  Min: 0.0  Max: 1.0  Default: 0.05\n",
      "Changed value of parameter MIPFocus to 3\n",
      "   Prev: 0  Min: 0  Max: 3  Default: 0\n",
      "Changed value of parameter TuneCriterion to 2\n",
      "   Prev: -1  Min: -1  Max: 3  Default: -1\n",
      "Parameter TuneTrials unchanged\n",
      "   Value: 3  Min: 1  Max: 2000000000  Default: 3\n",
      "Changed value of parameter SolutionLimit to 1\n",
      "   Prev: 2000000000  Min: 1  Max: 2000000000  Default: 2000000000\n",
      "Changed value of parameter Seed to 3\n",
      "   Prev: 0  Min: 0  Max: 2000000000  Default: 0\n",
      "Changed value of parameter TuneTimeLimit to 8400.0\n",
      "   Prev: -1.0  Min: -1.0  Max: 1e+100  Default: -1.0\n",
      "\n",
      "Solving model using baseline parameter set with TimeLimit=25200s\n",
      "\n",
      "Solving with random seed #1 ...\n",
      "Optimize a model with 23305 rows, 209732 columns and 607628 nonzeros\n",
      "Variable types: 0 continuous, 209732 integer (177854 binary)\n",
      "Coefficient statistics:\n",
      "  Matrix range     [2e-02, 1e+06]\n",
      "  Objective range  [3e+02, 2e+08]\n",
      "  Bounds range     [1e+00, 1e+00]\n",
      "  RHS range        [1e+00, 2e+03]\n",
      "Presolve removed 7894 rows and 12438 columns (presolve time = 5s) ...\n",
      "Presolve removed 8086 rows and 12630 columns\n",
      "Presolve time: 6.16s\n",
      "Presolved: 15219 rows, 197102 columns, 577814 nonzeros\n",
      "Variable types: 0 continuous, 197102 integer (174390 binary)\n",
      "Presolve removed 978 rows and 978 columns\n",
      "Presolved: 14241 rows, 196124 columns, 575831 nonzeros\n",
      "\n",
      "\n",
      "Root simplex log...\n",
      "\n",
      "Iteration    Objective       Primal Inf.    Dual Inf.      Time\n",
      "       0    1.6991650e+05   2.198750e+02   0.000000e+00      8s\n",
      "     592    5.3328140e+07   0.000000e+00   0.000000e+00      9s\n",
      "     592    5.3328140e+07   0.000000e+00   0.000000e+00      9s\n",
      "\n",
      "Root relaxation: objective 5.332814e+07, 592 iterations, 1.19 seconds\n",
      "Total elapsed time = 10.09s\n",
      "\n",
      "    Nodes    |    Current Node    |     Objective Bounds      |     Work\n",
      " Expl Unexpl |  Obj  Depth IntInf | Incumbent    BestBd   Gap | It/Node Time\n",
      "\n",
      "     0     0 5.3328e+07    0  211          - 5.3328e+07      -     -   10s\n",
      "     0     0 5.3355e+07    0  253          - 5.3355e+07      -     -   23s\n",
      "     0     0 5.3359e+07    0  252          - 5.3359e+07      -     -   29s\n",
      "     0     0 5.3359e+07    0  253          - 5.3359e+07      -     -   30s\n",
      "     0     0 5.3410e+07    0  369          - 5.3410e+07      -     -   44s\n",
      "     0     0 5.3412e+07    0  347          - 5.3412e+07      -     -   54s\n",
      "     0     0 5.3412e+07    0  350          - 5.3412e+07      -     -   54s\n",
      "     0     0 5.3440e+07    0  398          - 5.3440e+07      -     -   73s\n",
      "     0     0 5.3441e+07    0  389          - 5.3441e+07      -     -   88s\n",
      "     0     0 5.3441e+07    0  389          - 5.3441e+07      -     -   88s\n",
      "     0     0 5.3461e+07    0  394          - 5.3461e+07      -     -  108s\n",
      "     0     0 5.3464e+07    0  430          - 5.3464e+07      -     -  121s\n",
      "     0     0 5.3465e+07    0  424          - 5.3465e+07      -     -  121s\n",
      "     0     0 5.3476e+07    0  474          - 5.3476e+07      -     -  142s\n",
      "     0     0 5.3478e+07    0  487          - 5.3478e+07      -     -  154s\n",
      "     0     0 5.3478e+07    0  492          - 5.3478e+07      -     -  154s\n",
      "     0     0 5.3486e+07    0  594          - 5.3486e+07      -     -  184s\n",
      "     0     0 5.3487e+07    0  595          - 5.3487e+07      -     -  194s\n",
      "     0     0 5.3488e+07    0  594          - 5.3488e+07      -     -  194s\n",
      "     0     0 5.3488e+07    0  598          - 5.3488e+07      -     -  194s\n",
      "     0     0 5.3497e+07    0  565          - 5.3497e+07      -     -  222s\n",
      "     0     0 5.3500e+07    0  548          - 5.3500e+07      -     -  228s\n",
      "     0     0 5.3500e+07    0  581          - 5.3500e+07      -     -  228s\n",
      "     0     0 5.3500e+07    0  579          - 5.3500e+07      -     -  228s\n",
      "     0     0 5.3506e+07    0  689          - 5.3506e+07      -     -  259s\n",
      "     0     0 5.3506e+07    0  748          - 5.3506e+07      -     -  265s\n",
      "     0     0 5.3506e+07    0  721          - 5.3506e+07      -     -  266s\n",
      "     0     0 5.3511e+07    0  662          - 5.3511e+07      -     -  303s\n",
      "     0     0 5.3512e+07    0  666          - 5.3512e+07      -     -  310s\n",
      "     0     0 5.3512e+07    0  724          - 5.3512e+07      -     -  310s\n",
      "     0     0 5.3516e+07    0  788          - 5.3516e+07      -     -  349s\n",
      "     0     0 5.3516e+07    0  788          - 5.3516e+07      -     -  355s\n",
      "     0     0 5.3516e+07    0  757          - 5.3516e+07      -     -  356s\n",
      "     0     0 5.3519e+07    0  898          - 5.3519e+07      -     -  400s\n",
      "     0     0 5.3519e+07    0  871          - 5.3519e+07      -     -  406s\n",
      "     0     0 5.3519e+07    0  866          - 5.3519e+07      -     -  407s\n",
      "     0     0 5.3522e+07    0  901          - 5.3522e+07      -     -  457s\n",
      "     0     0 5.3523e+07    0  854          - 5.3523e+07      -     -  466s\n",
      "     0     0 5.3523e+07    0  830          - 5.3523e+07      -     -  466s\n",
      "     0     0 5.3523e+07    0  862          - 5.3523e+07      -     -  467s\n",
      "     0     0 5.3529e+07    0  842          - 5.3529e+07      -     -  516s\n",
      "     0     0 5.3530e+07    0  859          - 5.3530e+07      -     -  522s\n",
      "     0     0 5.3530e+07    0  896          - 5.3530e+07      -     -  523s\n",
      "     0     0 5.3530e+07    0  909          - 5.3530e+07      -     -  523s\n",
      "     0     0 5.3532e+07    0  971          - 5.3532e+07      -     -  572s\n",
      "     0     0 5.3532e+07    0  911          - 5.3532e+07      -     -  582s\n",
      "     0     0 5.3533e+07    0  989          - 5.3533e+07      -     -  583s\n",
      "     0     0 5.3533e+07    0  970          - 5.3533e+07      -     -  583s\n",
      "     0     0 5.3533e+07    0  921          - 5.3533e+07      -     -  584s\n",
      "     0     0 5.3535e+07    0  981          - 5.3535e+07      -     -  631s\n",
      "     0     0 5.3536e+07    0  919          - 5.3536e+07      -     -  640s\n",
      "     0     0 5.3536e+07    0  994          - 5.3536e+07      -     -  641s\n",
      "     0     0 5.3538e+07    0  997          - 5.3538e+07      -     -  689s\n",
      "     0     0 5.3539e+07    0  998          - 5.3539e+07      -     -  699s\n",
      "     0     0 5.3539e+07    0 1024          - 5.3539e+07      -     -  700s\n",
      "     0     0 5.3539e+07    0  996          - 5.3539e+07      -     -  700s\n",
      "     0     0 5.3541e+07    0 1124          - 5.3541e+07      -     -  754s\n",
      "     0     0 5.3542e+07    0 1074          - 5.3542e+07      -     -  767s\n",
      "     0     0 5.3542e+07    0 1039          - 5.3542e+07      -     -  768s\n",
      "     0     0 5.3542e+07    0 1052          - 5.3542e+07      -     -  768s\n",
      "     0     0 5.3543e+07    0 1195          - 5.3543e+07      -     -  826s\n",
      "     0     0 5.3544e+07    0 1018          - 5.3544e+07      -     -  840s\n",
      "     0     0 5.3544e+07    0 1070          - 5.3544e+07      -     -  841s\n",
      "     0     0 5.3546e+07    0 1103          - 5.3546e+07      -     -  900s\n",
      "     0     0 5.3546e+07    0 1111          - 5.3546e+07      -     -  910s\n",
      "     0     0 5.3546e+07    0 1145          - 5.3546e+07      -     -  911s\n",
      "     0     0 5.3546e+07    0 1122          - 5.3546e+07      -     -  912s\n",
      "     0     0 5.3548e+07    0 1182          - 5.3548e+07      -     -  973s\n",
      "     0     0 5.3549e+07    0 1096          - 5.3549e+07      -     -  984s\n",
      "     0     0 5.3549e+07    0 1117          - 5.3549e+07      -     -  985s\n",
      "     0     0 5.3550e+07    0 1209          - 5.3550e+07      -     - 1047s\n",
      "     0     0 5.3550e+07    0 1209          - 5.3550e+07      -     - 1123s\n",
      "     0     2 5.3550e+07    0 1209          - 5.3550e+07      -     - 1951s\n",
      "     1     4 5.3551e+07    1 1256          - 5.3550e+07      -   101 1965s\n",
      "     3     8 5.3551e+07    2 1353          - 5.3550e+07      -  95.7 1992s\n",
      "    19    20 5.3552e+07    6 1312          - 5.3551e+07      -  66.9 1998s\n",
      "    27    31 5.3552e+07    7 1300          - 5.3551e+07      -  61.4 2002s\n",
      "    33    31 5.3552e+07    8 1214          - 5.3551e+07      -  56.0 2005s\n",
      "    63    69 5.3552e+07   15 1171          - 5.3551e+07      -  40.0 2014s\n",
      "   105   104 5.3552e+07   23 1176          - 5.3551e+07      -  37.5 2032s\n",
      "   229   231 5.3554e+07   50 1150          - 5.3551e+07      -  28.7 2047s\n",
      "   341   342 5.3555e+07   68 1154          - 5.3551e+07      -  28.6 2061s\n",
      "   461   463 5.3556e+07   93 1007          - 5.3551e+07      -  29.9 2076s\n"
     ]
    },
    {
     "name": "stdout",
     "output_type": "stream",
     "text": [
      "   595   592 5.3557e+07  120  795          - 5.3551e+07      -  30.8 2090s\n",
      "   712   715 5.3557e+07  136  779          - 5.3551e+07      -  30.9 2105s\n",
      "   894   893 5.3559e+07  152  701          - 5.3551e+07      -  29.4 2120s\n",
      "  1043  1046 5.3559e+07  160  766          - 5.3551e+07      -  28.1 2134s\n",
      "  1157  1158 5.3559e+07  167  770          - 5.3551e+07      -  28.9 2147s\n",
      "  1234  1233 5.3561e+07  177  673          - 5.3551e+07      -  31.4 2161s\n",
      "  1314  1316 5.3562e+07  192  647          - 5.3551e+07      -  33.0 2175s\n",
      "  1402  1404 5.3569e+07  222  631          - 5.3551e+07      -  35.1 2191s\n",
      "  1576  1577 5.3591e+07  238  593          - 5.3551e+07      -  34.5 2207s\n",
      "  1711  1712 5.3593e+07  281  580          - 5.3551e+07      -  34.7 2224s\n",
      "  1848  1848 5.3597e+07  313  561          - 5.3551e+07      -  36.0 2241s\n",
      "  1991  1990 5.3598e+07  339  533          - 5.3551e+07      -  36.1 2260s\n",
      "  2132  2134 5.3598e+07  364  530          - 5.3551e+07      -  36.3 2279s\n",
      "  2337  2338 5.3600e+07  389  537          - 5.3551e+07      -  36.2 2299s\n",
      "  2656  2656 5.3609e+07  470  529          - 5.3551e+07      -  33.7 2319s\n",
      "  2878  2879 5.3730e+07  563  469          - 5.3551e+07      -  33.6 2340s\n",
      "  3171  3172 5.3757e+07  649  455          - 5.3551e+07      -  32.3 2362s\n",
      "  3393  3394 5.3767e+07  716  487          - 5.3551e+07      -  32.0 2386s\n",
      "  3734  3736 5.3791e+07  782  479          - 5.3551e+07      -  31.1 2413s\n",
      "  4024  4024 5.3863e+07  910  444          - 5.3551e+07      -  32.2 2437s\n",
      "  4339  4337 5.4162e+07 1051  443          - 5.3551e+07      -  32.3 2464s\n",
      "  4716  4713 5.4180e+07 1178  431          - 5.3551e+07      -  32.0 2490s\n",
      "  5067  5062 5.4187e+07 1326  421          - 5.3551e+07      -  31.8 2518s\n",
      "  5505  5500 5.3762e+07  657 1209          - 5.3551e+07      -  31.4 2541s\n",
      "  5507  5501 5.3553e+07  214  209          - 5.3551e+07      -  31.4 2566s\n",
      "  5508  5502 5.3729e+07  361  262          - 5.3551e+07      -  31.3 2587s\n",
      "  5512  5505 5.3622e+07  679  530          - 5.3551e+07      -  31.3 2590s\n",
      "  5519  5509 5.3728e+07  866  900          - 5.3551e+07      -  31.3 2595s\n",
      "  5524  5513 5.3552e+07   96 1069          - 5.3551e+07      -  31.3 2600s\n",
      "  5528  5515 5.4076e+07 1128 1214          - 5.3551e+07      -  31.2 2605s\n",
      "  5534  5519 5.3598e+07  355 1222          - 5.3551e+07      -  31.2 2610s\n",
      "  5536  5521 5.3571e+07  322 1208          - 5.3551e+07      -  31.2 2638s\n",
      "  5537  5521 5.3570e+07  129 1236          - 5.3552e+07      -  31.2 2690s\n",
      "  5540  5523 5.3599e+07  323 1324          - 5.3552e+07      -  31.2 2736s\n",
      "  5541  5524 5.3600e+07  499 1349          - 5.3554e+07      -  31.2 2794s\n",
      "  5542  5525 5.3556e+07  110 1230          - 5.3554e+07      -  31.2 2796s\n",
      "  5544  5526 5.3571e+07  320 1271          - 5.3554e+07      -  31.1 2845s\n",
      "  5545  5527 5.3598e+07  351 1340          - 5.3556e+07      -  31.1 2903s\n",
      "  5548  5529 5.3856e+07  721 1321          - 5.3556e+07      -  31.1 2948s\n",
      "  5549  5529 5.3722e+07  826 1312          - 5.3557e+07      -  31.1 3005s\n",
      "  5553  5532 5.4027e+07  937 1385          - 5.3558e+07      -  31.1 3048s\n",
      "  5554  5533 5.4328e+07 1110 1391          - 5.3559e+07      -  31.1 3097s\n",
      "  5557  5535 5.3768e+07  716 1344          - 5.3559e+07      -  31.1 3142s\n",
      "  5558  5535 5.3965e+07  956 1512          - 5.3561e+07      -  31.1 3199s\n",
      "  5559  5536 5.3665e+07  454 1472          - 5.3561e+07      -  31.1 3200s\n",
      "  5564  5539 5.3874e+07 1205 1471          - 5.3561e+07      -  31.0 3243s\n",
      "  5565  5540 5.4178e+07 1153 1341          - 5.3562e+07      -  31.0 3292s\n",
      "  5569  5543 5.3563e+07  164 1371          - 5.3563e+07      -  31.0 3295s\n",
      "  5571  5544 5.3563e+07  173 1357          - 5.3563e+07      -  31.0 3339s\n",
      "\n",
      "Cutting planes:\n",
      "  Gomory: 350\n",
      "  Cover: 4\n",
      "  Implied bound: 3\n",
      "  MIR: 2039\n",
      "  StrongCG: 17\n",
      "  Flow cover: 121\n",
      "  GUB cover: 3\n",
      "  Zero half: 71\n",
      "\n",
      "Explored 5571 nodes (212853 simplex iterations) in 59744.16 seconds\n",
      "Thread count was 8 (of 8 available processors)\n",
      "\n",
      "Solution count 0\n",
      "\n",
      "Time limit reached\n",
      "Best objective -, best bound 5.356477473654e+07, gap -\n",
      "\n",
      "-------------------------------------------------------------------------------\n",
      "\n",
      "\n",
      "\n",
      "Tune time limit reached.\n",
      "\n",
      "-------------------------------------------------------------------------------\n",
      "\n",
      "Tested 0 parameter sets in 59745.43s\n",
      "Unable to improve on baseline parameter set.\n",
      "\n",
      "Optimize a model with 23305 rows, 209732 columns and 607628 nonzeros\n",
      "Variable types: 0 continuous, 209732 integer (177854 binary)\n",
      "Coefficient statistics:\n",
      "  Matrix range     [2e-02, 1e+06]\n",
      "  Objective range  [3e+02, 2e+08]\n",
      "  Bounds range     [1e+00, 1e+00]\n",
      "  RHS range        [1e+00, 2e+03]\n",
      "Presolve removed 7894 rows and 12438 columns (presolve time = 5s) ...\n",
      "Presolve removed 8086 rows and 12630 columns\n",
      "Presolve time: 6.37s\n",
      "Presolved: 15219 rows, 197102 columns, 577814 nonzeros\n",
      "Variable types: 0 continuous, 197102 integer (174390 binary)\n",
      "Presolve removed 978 rows and 978 columns\n",
      "Presolved: 14241 rows, 196124 columns, 575831 nonzeros\n",
      "\n",
      "\n",
      "Root simplex log...\n",
      "\n",
      "Iteration    Objective       Primal Inf.    Dual Inf.      Time\n",
      "       0    1.6991650e+05   2.198750e+02   0.000000e+00     12s\n",
      "     628    5.3328140e+07   0.000000e+00   0.000000e+00     13s\n",
      "     628    5.3328140e+07   0.000000e+00   0.000000e+00     13s\n",
      "\n",
      "Root relaxation: objective 5.332814e+07, 628 iterations, 1.25 seconds\n",
      "\n",
      "    Nodes    |    Current Node    |     Objective Bounds      |     Work\n",
      " Expl Unexpl |  Obj  Depth IntInf | Incumbent    BestBd   Gap | It/Node Time\n",
      "\n",
      "     0     0 5.3328e+07    0  211          - 5.3328e+07      -     -   14s\n",
      "     0     0 5.3354e+07    0  255          - 5.3354e+07      -     -   30s\n",
      "     0     0 5.3358e+07    0  263          - 5.3358e+07      -     -   39s\n",
      "     0     0 5.3358e+07    0  264          - 5.3358e+07      -     -   39s\n",
      "     0     0 5.3410e+07    0  363          - 5.3410e+07      -     -   59s\n",
      "     0     0 5.3411e+07    0  341          - 5.3411e+07      -     -   71s\n",
      "     0     0 5.3412e+07    0  343          - 5.3412e+07      -     -   71s\n",
      "     0     0 5.3438e+07    0  411          - 5.3438e+07      -     -   92s\n",
      "     0     0 5.3439e+07    0  397          - 5.3439e+07      -     -  107s\n",
      "     0     0 5.3439e+07    0  397          - 5.3439e+07      -     -  108s\n",
      "     0     0 5.3461e+07    0  419          - 5.3461e+07      -     -  129s\n",
      "     0     0 5.3463e+07    0  382          - 5.3463e+07      -     -  148s\n",
      "     0     0 5.3463e+07    0  381          - 5.3463e+07      -     -  149s\n",
      "     0     0 5.3474e+07    0  513          - 5.3474e+07      -     -  176s\n",
      "     0     0 5.3476e+07    0  483          - 5.3476e+07      -     -  192s\n",
      "     0     0 5.3476e+07    0  451          - 5.3476e+07      -     -  193s\n",
      "     0     0 5.3487e+07    0  652          - 5.3487e+07      -     -  226s\n",
      "     0     0 5.3487e+07    0  549          - 5.3487e+07      -     -  245s\n",
      "     0     0 5.3488e+07    0  564          - 5.3488e+07      -     -  246s\n",
      "     0     0 5.3495e+07    0  615          - 5.3495e+07      -     -  274s\n",
      "     0     0 5.3498e+07    0  615          - 5.3498e+07      -     -  281s\n",
      "     0     0 5.3498e+07    0  612          - 5.3498e+07      -     -  281s\n",
      "     0     0 5.3506e+07    0  646          - 5.3506e+07      -     -  313s\n",
      "     0     0 5.3507e+07    0  665          - 5.3507e+07      -     -  318s\n",
      "     0     0 5.3508e+07    0  692          - 5.3508e+07      -     -  319s\n",
      "     0     0 5.3508e+07    0  674          - 5.3508e+07      -     -  319s\n",
      "     0     0 5.3508e+07    0  657          - 5.3508e+07      -     -  320s\n",
      "     0     0 5.3513e+07    0  669          - 5.3513e+07      -     -  358s\n",
      "     0     0 5.3513e+07    0  646          - 5.3513e+07      -     -  363s\n",
      "     0     0 5.3513e+07    0  650          - 5.3513e+07      -     -  363s\n",
      "     0     0 5.3516e+07    0  737          - 5.3516e+07      -     -  401s\n",
      "     0     0 5.3516e+07    0  750          - 5.3516e+07      -     -  405s\n",
      "     0     0 5.3516e+07    0  723          - 5.3516e+07      -     -  406s\n",
      "     0     0 5.3518e+07    0  841          - 5.3518e+07      -     -  450s\n",
      "     0     0 5.3519e+07    0  821          - 5.3519e+07      -     -  456s\n",
      "     0     0 5.3519e+07    0  805          - 5.3519e+07      -     -  457s\n",
      "     0     0 5.3525e+07    0  814          - 5.3525e+07      -     -  504s\n"
     ]
    },
    {
     "name": "stdout",
     "output_type": "stream",
     "text": [
      "     0     0 5.3525e+07    0  759          - 5.3525e+07      -     -  518s\n",
      "     0     0 5.3525e+07    0  748          - 5.3525e+07      -     -  519s\n",
      "     0     0 5.3525e+07    0  758          - 5.3525e+07      -     -  519s\n",
      "     0     0 5.3529e+07    0  934          - 5.3529e+07      -     -  565s\n",
      "     0     0 5.3529e+07    0  930          - 5.3529e+07      -     -  578s\n",
      "     0     0 5.3529e+07    0  938          - 5.3529e+07      -     -  578s\n",
      "     0     0 5.3529e+07    0  948          - 5.3529e+07      -     -  579s\n",
      "     0     0 5.3532e+07    0  860          - 5.3532e+07      -     -  625s\n",
      "     0     0 5.3532e+07    0  845          - 5.3532e+07      -     -  652s\n",
      "     0     0 5.3532e+07    0  769          - 5.3532e+07      -     -  653s\n",
      "     0     0 5.3534e+07    0  943          - 5.3534e+07      -     -  699s\n",
      "     0     0 5.3534e+07    0  921          - 5.3534e+07      -     -  712s\n",
      "     0     0 5.3534e+07    0  917          - 5.3534e+07      -     -  712s\n",
      "     0     0 5.3537e+07    0 1066          - 5.3537e+07      -     -  762s\n",
      "     0     0 5.3537e+07    0 1045          - 5.3537e+07      -     -  865s\n",
      "     0     0 5.3538e+07    0 1051          - 5.3538e+07      -     -  866s\n",
      "     0     0 5.3538e+07    0 1121          - 5.3538e+07      -     -  867s\n",
      "     0     0 5.3540e+07    0  989          - 5.3540e+07      -     -  931s\n",
      "     0     0 5.3541e+07    0  998          - 5.3541e+07      -     -  992s\n",
      "     0     0 5.3541e+07    0 1065          - 5.3541e+07      -     -  993s\n",
      "     0     0 5.3541e+07    0 1110          - 5.3541e+07      -     -  994s\n",
      "     0     0 5.3543e+07    0 1099          - 5.3543e+07      -     - 1052s\n",
      "     0     0 5.3544e+07    0 1091          - 5.3544e+07      -     - 1072s\n",
      "     0     0 5.3544e+07    0 1068          - 5.3544e+07      -     - 1073s\n",
      "     0     0 5.3544e+07    0 1042          - 5.3544e+07      -     - 1073s\n",
      "     0     0 5.3545e+07    0 1240          - 5.3545e+07      -     - 1138s\n",
      "     0     0 5.3546e+07    0 1205          - 5.3546e+07      -     - 1149s\n",
      "     0     0 5.3546e+07    0 1232          - 5.3546e+07      -     - 1150s\n",
      "     0     0 5.3546e+07    0 1198          - 5.3546e+07      -     - 1151s\n",
      "     0     0 5.3548e+07    0 1389          - 5.3548e+07      -     - 1230s\n",
      "     0     0 5.3548e+07    0 1348          - 5.3548e+07      -     - 1241s\n",
      "     0     0 5.3548e+07    0 1356          - 5.3548e+07      -     - 1242s\n",
      "     0     0 5.3550e+07    0 1401          - 5.3550e+07      -     - 1319s\n",
      "     0     0 5.3551e+07    0 1354          - 5.3551e+07      -     - 1328s\n",
      "     0     0 5.3551e+07    0 1359          - 5.3551e+07      -     - 1329s\n",
      "     0     0 5.3551e+07    0 1406          - 5.3551e+07      -     - 1330s\n",
      "     0     0 5.3552e+07    0 1306          - 5.3552e+07      -     - 1397s\n",
      "     0     0 5.3553e+07    0 1352          - 5.3553e+07      -     - 1408s\n",
      "     0     0 5.3554e+07    0 1439          - 5.3554e+07      -     - 1409s\n",
      "     0     0 5.3554e+07    0 1508          - 5.3554e+07      -     - 1410s\n",
      "     0     0 5.3554e+07    0 1503          - 5.3554e+07      -     - 1411s\n",
      "     0     0 5.3555e+07    0 1361          - 5.3555e+07      -     - 1489s\n",
      "     0     0 5.3556e+07    0 1470          - 5.3556e+07      -     - 1520s\n",
      "     0     0 5.3556e+07    0 1510          - 5.3556e+07      -     - 1521s\n",
      "     0     0 5.3557e+07    0 1564          - 5.3557e+07      -     - 1598s\n",
      "     0     0 5.3557e+07    0 1564          - 5.3557e+07      -     - 1674s\n",
      "     0     2 5.3557e+07    0 1564          - 5.3557e+07      -     - 2458s\n",
      "     1     4 5.3557e+07    1 1554          - 5.3557e+07      -  21.0 2477s\n",
      "     3     8 5.3557e+07    2 1693          - 5.3557e+07      -  89.3 2507s\n",
      "    11    16 5.3557e+07    4 1679          - 5.3557e+07      -   116 2510s\n",
      "    29    32 5.3557e+07    8 1522          - 5.3557e+07      -  74.8 2515s\n",
      "    40    41 5.3557e+07   11 1424          - 5.3557e+07      -  71.2 2520s\n",
      "    86    84 5.3558e+07   21 1209          - 5.3557e+07      -  49.1 2532s\n",
      "   179   180 5.3558e+07   37  916          - 5.3557e+07      -  40.9 2549s\n",
      "   367   370 5.3558e+07  105  858          - 5.3557e+07      -  28.2 2560s\n",
      "   515   517 5.3558e+07  143  857          - 5.3557e+07      -  28.1 2573s\n",
      "   706   709 5.3559e+07  212  843          - 5.3557e+07      -  23.9 2580s\n",
      "   797   793 5.3559e+07  249  769          - 5.3557e+07      -  24.7 2589s\n",
      "   851   854 5.3561e+07  270  668          - 5.3557e+07      -  25.5 2597s\n",
      "   930   931 5.3563e+07  285  589          - 5.3557e+07      -  26.2 2607s\n",
      "  1083  1088 5.3563e+07  294  575          - 5.3557e+07      -  26.1 2618s\n",
      "  1251  1247 5.3566e+07  300  557          - 5.3557e+07      -  25.3 2629s\n",
      "  1362  1364 5.3567e+07  304  593          - 5.3557e+07      -  25.6 2641s\n",
      "  1453  1451 5.3567e+07  308  566          - 5.3557e+07      -  26.9 2654s\n",
      "  1558  1553 5.3567e+07  314  578          - 5.3557e+07      -  27.7 2665s\n",
      "  1635  1632 5.3567e+07  323  556          - 5.3557e+07      -  29.0 2676s\n",
      "  1719  1715 5.3576e+07  334  475          - 5.3557e+07      -  29.6 2688s\n",
      "  1829  1829 5.3584e+07  372  458          - 5.3557e+07      -  29.6 2701s\n",
      "  1931  1923 5.3585e+07  393  457          - 5.3557e+07      -  30.4 2713s\n",
      "  2016  2009 5.3588e+07  418  447          - 5.3557e+07      -  31.4 2726s\n",
      "  2122  2117 5.3589e+07  457  427          - 5.3557e+07      -  31.3 2739s\n",
      "  2232  2230 5.3589e+07  493  405          - 5.3557e+07      -  31.1 2754s\n",
      "  2363  2360 5.3573e+07  474  454          - 5.3557e+07      -  30.3 2755s\n",
      "  2387  2381 5.3592e+07  540  403          - 5.3557e+07      -  30.7 2769s\n",
      "  2533  2527 5.3598e+07  565  385          - 5.3557e+07      -  30.4 2787s\n",
      "  2709  2705 5.3621e+07  605  343          - 5.3557e+07      -  30.5 2804s\n",
      "  2920  2914 5.3624e+07  631  357          - 5.3557e+07      -  30.6 2822s\n",
      "  3144  3140 5.3627e+07  663  372          - 5.3557e+07      -  31.3 2840s\n",
      "  3288  3284 5.3629e+07  690  372          - 5.3557e+07      -  33.4 2858s\n",
      "  3397  3392 5.3638e+07  707  419          - 5.3557e+07      -  36.4 2879s\n",
      "  3555  3548 5.3631e+07  716  363          - 5.3557e+07      -  37.9 2902s\n",
      "  3811  3807 5.3636e+07  779  376          - 5.3557e+07      -  37.6 2926s\n",
      "  4046  4040 5.3637e+07  790  382          - 5.3557e+07      -  38.2 2950s\n",
      "  4308  4303 5.3707e+07  844  321          - 5.3557e+07      -  38.5 2975s\n",
      "  4673  4668 5.4147e+07  965  365          - 5.3557e+07      -  38.0 3001s\n",
      "  5098  5093 5.4160e+07 1112  369          - 5.3557e+07      -  36.6 3028s\n",
      "  5571  5566 5.5190e+07 1583 1564          - 5.3557e+07      -  34.8 3050s\n",
      "  5573  5567 5.3627e+07  606  212          - 5.3557e+07      -  34.8 3071s\n",
      "  5574  5568 5.6763e+07 1756  258          - 5.3557e+07      -  34.8 3090s\n",
      "  5582  5573 5.3588e+07  441  737          - 5.3557e+07      -  34.8 3095s\n",
      "  5587  5577 5.4173e+07  750 1068          - 5.3557e+07      -  34.7 3100s\n",
      "  5591  5579 5.3559e+07   71 1363          - 5.3557e+07      -  34.7 3107s\n",
      "  5593  5581 5.3576e+07  633 1325          - 5.3557e+07      -  34.7 3110s\n",
      "  5597  5583 5.4414e+07 1150 1537          - 5.3557e+07      -  34.7 3115s\n",
      "  5601  5586 5.3578e+07  535 1671          - 5.3557e+07      -  34.6 3149s\n",
      "  5602  5587 5.3720e+07  509 1555          - 5.3558e+07      -  34.6 3215s\n",
      "  5604  5588 5.3574e+07  567 1537          - 5.3558e+07      -  34.6 3268s\n",
      "  5605  5589 5.4376e+07  532 1617          - 5.3559e+07      -  34.6 3337s\n",
      "  5608  5591 5.3565e+07   52 1460          - 5.3559e+07      -  34.6 3381s\n",
      "  5609  5591 5.3573e+07  467 1547          - 5.3560e+07      -  34.6 3439s\n",
      "  5610  5592 5.3603e+07  704 1560          - 5.3561e+07      -  34.6 3440s\n",
      "  5614  5595 5.3567e+07  309 1523          - 5.3561e+07      -  34.6 3488s\n",
      "  5615  5595 5.4021e+07 1036 1526          - 5.3562e+07      -  34.6 3548s\n",
      "  5617  5597 5.8865e+07 1486 1550          - 5.3563e+07      -  34.5 3550s\n",
      "  5618  5597 5.3572e+07  398 1564          - 5.3563e+07      -  34.5 3595s\n",
      "  5619  5598 5.3616e+07  331 1572          - 5.3564e+07      -  34.5 3653s\n",
      "  5621  5599 5.3589e+07  462 1527          - 5.3564e+07      -  34.5 3655s\n",
      "  5622  5600 5.3575e+07  453 1528          - 5.3564e+07      -  34.5 3700s\n",
      "  5623  5601 5.3566e+07   51 1727          - 5.3566e+07      -  34.5 3760s\n",
      "  5627  5603 5.3605e+07  535 1640          - 5.3566e+07      -  34.5 3810s\n"
     ]
    },
    {
     "name": "stdout",
     "output_type": "stream",
     "text": [
      "  5628  5604 5.3573e+07  110 1567          - 5.3567e+07      -  34.5 3867s\n",
      "  5631  5606 5.3818e+07  526 1716          - 5.3568e+07      -  34.5 3922s\n",
      "  5632  5607 5.4545e+07 1083 1742          - 5.3569e+07      -  34.5 3982s\n",
      "  5634  5608 5.3574e+07  576 1589          - 5.3570e+07      -  34.4 3985s\n",
      "  5640  5612 5.3588e+07  443 1663          - 5.3570e+07      -  34.4 4037s\n",
      "  5641  5613 5.8064e+07 1143 1553          - 5.3571e+07      -  34.4 4092s\n",
      "  5644  5615 5.3573e+07  368 1695          - 5.3571e+07      -  34.4 4095s\n",
      "  5645  5615 5.3644e+07  811 1703          - 5.3571e+07      -  34.4 4143s\n",
      "  5646  5616 5.4177e+07  813 1625          - 5.3572e+07      -  34.4 4200s\n",
      "  5651  5619 5.3573e+07  109 1607          - 5.3573e+07      -  34.3 4251s\n",
      "  5652  5620 5.4216e+07  924 1688          - 5.3574e+07      -  34.3 4314s\n",
      "  5653  5621 5.3575e+07   54 1721          - 5.3575e+07      -  34.3 4315s\n",
      "  5657  5623 5.3575e+07  129 1655          - 5.3575e+07      -  34.3 4320s\n",
      "  5658  5624 5.3575e+07  450 1700          - 5.3575e+07      -  34.3 12952s\n",
      "  5659  5625 5.3577e+07  304 1840          - 5.3576e+07      -  34.3 13016s\n",
      "  5661  5626 5.4580e+07 1244 1705          - 5.3576e+07      -  34.3 13020s\n",
      "  5663  5627 5.3615e+07  327 1728          - 5.3576e+07      -  34.3 13073s\n",
      "  5664  5628 5.3617e+07  911 1800          - 5.3577e+07      -  34.3 13138s\n",
      "  5666  5629 5.4622e+07  695 1885          - 5.3578e+07      -  34.3 13140s\n",
      "  5670  5632 5.3578e+07  107 1847          - 5.3578e+07      -  34.2 13193s\n",
      "  5671  5633 5.5190e+07 1583 1687          - 5.3579e+07      -  34.2 13248s\n",
      "  5672  5633 5.3579e+07  304 1756          - 5.3579e+07      -  34.2 13250s\n",
      "  5676  5636 5.5189e+07 1537 1677          - 5.3580e+07      -  34.2 13297s\n",
      "  5677  5637 5.3582e+07  162 1908          - 5.3582e+07      -  34.2 13355s\n",
      "  5681  5639 5.3614e+07  293 1845          - 5.3583e+07      -  34.2 13360s\n",
      "  5685  5642 5.3644e+07  799 1802          - 5.3583e+07      -  34.1 13405s\n",
      "  5686  5643 5.5548e+07 1326 1827          - 5.3584e+07      -  34.1 13461s\n",
      "  5691  5646 5.3584e+07   71 1729          - 5.3584e+07      -  34.1 13506s\n",
      "  5692  5647 5.3585e+07  600 1963          - 5.3585e+07      -  34.1 13566s\n",
      "  5695  5649 5.8108e+07 1230 1859          - 5.3585e+07      -  34.1 13570s\n",
      "  5696  5649 5.4025e+07  982 1912          - 5.3585e+07      -  34.1 13616s\n",
      "  5697  5650 5.4414e+07 1150 1903          - 5.3586e+07      -  34.1 13676s\n",
      "  5699  5651 5.3587e+07  145 1971          - 5.3587e+07      -  34.1 13680s\n",
      "  5704  5655 5.3587e+07  567 2178          - 5.3587e+07      -  34.0 13750s\n",
      "  5705  5655 5.4376e+07  532 1940          - 5.3588e+07      -  34.0 13873s\n",
      "  5706  5656 5.7505e+07 1193 1991          - 5.3589e+07      -  34.0 13877s\n",
      "  5709  5658 5.3589e+07  467 2025          - 5.3589e+07      -  34.0 13985s\n",
      "  5710  5659 5.3603e+07  704 1960          - 5.3589e+07      -  34.0 14113s\n",
      "  5711  5659 5.3725e+07  491 2071          - 5.3590e+07      -  34.0 14117s\n",
      "  5712  5660 5.3590e+07  300 2060          - 5.3590e+07      -  34.0 14120s\n",
      "  5715  5662 5.4021e+07 1036 1977          - 5.3590e+07      -  34.0 14125s\n",
      "  5716  5663 5.3613e+07  294 1996          - 5.3590e+07      -  34.0 14231s\n",
      "  5717  5663 5.8865e+07 1486 2020          - 5.3591e+07      -  33.9 14368s\n",
      "  5718  5664 5.3591e+07  398 2112          - 5.3591e+07      -  33.9 14371s\n",
      "  5720  5665 5.3777e+07  943 1974          - 5.3592e+07      -  33.9 14375s\n",
      "  5722  5667 5.3592e+07  453 1990          - 5.3592e+07      -  33.9 14480s\n",
      "  5723  5667 5.3593e+07   51 1851          - 5.3593e+07      -  33.9 14606s\n",
      "  5725  5669 5.3636e+07  785 1702          - 5.3593e+07      -  33.9 14611s\n",
      "  5729  5671 5.4184e+07 1476 1770          - 5.3593e+07      -  33.9 14615s\n",
      "  5732  5673 5.4545e+07 1083 1837          - 5.3593e+07      -  33.9 14716s\n",
      "  5733  5674 5.3594e+07  410 1940          - 5.3594e+07      -  33.8 14854s\n",
      "  5734  5675 5.3594e+07  576 1989          - 5.3594e+07      -  33.8 14858s\n",
      "  5735  5675 5.4228e+07 1136 1941          - 5.3594e+07      -  33.8 14860s\n",
      "  5738  5677 5.3594e+07   53 1955          - 5.3594e+07      -  33.8 14972s\n",
      "  5739  5678 5.4449e+07 1182 1994          - 5.3595e+07      -  33.8 15103s\n",
      "  5740  5679 5.3596e+07  443 1953          - 5.3596e+07      -  33.8 15107s\n",
      "  5741  5679 5.8064e+07 1143 2187          - 5.3596e+07      -  33.8 15110s\n",
      "  5745  5682 5.3644e+07  811 2168          - 5.3596e+07      -  33.8 15232s\n",
      "  5746  5683 5.4177e+07  813 2246          - 5.3597e+07      -  33.8 15380s\n",
      "  5748  5684 5.3647e+07  784 2076          - 5.3597e+07      -  33.8 15387s\n",
      "  5750  5685 5.4265e+07 1123 2136          - 5.3597e+07      -  33.7 15391s\n",
      "  5753  5687 5.3597e+07   54 2071          - 5.3597e+07      -  33.7 15506s\n",
      "  5754  5688 5.3598e+07  370 1869          - 5.3598e+07      -  33.7 15637s\n",
      "  5755  5689 5.3598e+07   14 2156          - 5.3598e+07      -  33.7 15642s\n",
      "  5757  5690 5.3598e+07  129 2053          - 5.3598e+07      -  33.7 15645s\n",
      "  5759  5691 5.3598e+07  304 2055          - 5.3598e+07      -  33.7 15756s\n",
      "  5760  5692 5.3599e+07   67 1979          - 5.3599e+07      -  33.7 15891s\n",
      "  5762  5693 5.3599e+07  166 1952          - 5.3599e+07      -  33.7 15896s\n",
      "  5765  5695 5.3599e+07  274 2127          - 5.3599e+07      -  33.7 16011s\n",
      "  5766  5696 5.4622e+07  695 2162          - 5.3600e+07      -  33.7 16149s\n",
      "  5767  5697 5.4986e+07 1709 2013          - 5.3600e+07      -  33.7 16153s\n",
      "  5768  5697 5.3600e+07   63 2119          - 5.3600e+07      -  33.6 16155s\n",
      "  5769  5698 5.3600e+07  596 2126          - 5.3600e+07      -  33.6 16261s\n",
      "  5770  5699 5.3601e+07  107 2264          - 5.3601e+07      -  33.6 16399s\n",
      "  5771  5699 5.5190e+07 1583 2155          - 5.3601e+07      -  33.6 16402s\n",
      "  5773  5701 5.3627e+07  606 2147          - 5.3601e+07      -  33.6 16405s\n",
      "  5774  5701 5.6763e+07 1756 2120          - 5.3601e+07      -  33.6 16512s\n",
      "  5775  5702 5.4196e+07 1451 2113          - 5.3601e+07      -  33.6 16645s\n",
      "  5778  5704 5.4656e+07 1153 2111          - 5.3602e+07      -  33.6 16650s\n",
      "  5780  5705 5.6418e+07 1223 2166          - 5.3602e+07      -  33.6 16747s\n",
      "  5781  5706 5.3614e+07  293 2071          - 5.3602e+07      -  33.6 16878s\n",
      "  5782  5707 5.3602e+07  441 2008          - 5.3602e+07      -  33.6 16880s\n",
      "  5784  5708 5.3602e+07  237 2030          - 5.3602e+07      -  33.6 16990s\n",
      "  5785  5709 5.3644e+07  799 2044          - 5.3603e+07      -  33.5 17119s\n",
      "  5786  5709 5.5548e+07 1326 2111          - 5.3603e+07      -  33.5 17121s\n",
      "  5788  5711 5.3603e+07  236 1992          - 5.3603e+07      -  33.5 17125s\n",
      "  5790  5712 5.3603e+07  147 1968          - 5.3603e+07      -  33.5 17238s\n",
      "  5791  5713 5.3603e+07   71 2014          - 5.3603e+07      -  33.5 17372s\n",
      "  5793  5714 5.3603e+07  633 1980          - 5.3603e+07      -  33.5 17375s\n",
      "  5794  5715 5.4207e+07  889 1929          - 5.3603e+07      -  33.5 17484s\n",
      "  5795  5715 5.8108e+07 1230 1927          - 5.3604e+07      -  33.5 17613s\n",
      "  5796  5716 5.4025e+07  982 1818          - 5.3604e+07      -  33.5 17615s\n",
      "  5799  5718 5.3604e+07  145 1965          - 5.3604e+07      -  33.5 17621s\n",
      "  5800  5719 5.3604e+07  328 1972          - 5.3604e+07      -  33.5 17737s\n",
      "  5801  5719 5.3604e+07  535 2094          - 5.3604e+07      -  33.5 17862s\n",
      "  5802  5720 5.3720e+07  509 2134          - 5.3604e+07      -  33.4 17865s\n",
      "  5804  5721 5.3604e+07  567 1911          - 5.3604e+07      -  33.4 17870s\n",
      "  5805  5722 5.4376e+07  532 1926          - 5.3604e+07      -  33.4 17975s\n",
      "  5806  5723 5.7505e+07 1193 2198          - 5.3605e+07      -  33.4 18119s\n",
      "  5807  5723 5.3615e+07  315 2206          - 5.3605e+07      -  33.4 18123s\n",
      "  5808  5724 5.3605e+07   52 2273          - 5.3605e+07      -  33.4 18125s\n",
      "  5811  5726 5.3725e+07  491 2274          - 5.3605e+07      -  33.4 18245s\n",
      "  5812  5727 5.3605e+07  300 2182          - 5.3605e+07      -  33.4 18393s\n",
      "  5813  5727 5.3636e+07  376 1996          - 5.3606e+07      -  33.4 18396s\n",
      "  5815  5729 5.4021e+07 1036 2159          - 5.3606e+07      -  33.4 18400s\n",
      "  5816  5729 5.3613e+07  294 2133          - 5.3606e+07      -  33.4 18513s\n",
      "  5817  5730 5.8865e+07 1486 2146          - 5.3606e+07      -  33.4 18649s\n",
      "  5818  5731 5.3606e+07  398 2095          - 5.3606e+07      -  33.4 18651s\n"
     ]
    }
   ],
   "source": [
    "# model.reset()\n",
    "\n",
    "timeLimit = 1800*14 # In second\n",
    "\n",
    "model.Params.TimeLimit = timeLimit - model.getAttr(GRB.Attr.Runtime)\n",
    "\n",
    "model.Params.Heuristics = 0.2\n",
    "\n",
    "model.Params.MIPFocus=3\n",
    "\n",
    "model.Params.TuneCriterion = 2\n",
    "\n",
    "model.Params.TuneTrials = 3\n",
    "\n",
    "model.Params.SolutionLimit = 1\n",
    "\n",
    "oldSolutionLimit = model.Params.SolutionLimit\n",
    "\n",
    "model.Params.Seed = 3\n",
    "\n",
    "model.Params.TuneTimeLimit = timeLimit/3\n",
    "\n",
    "model.tune()\n",
    "\n",
    "# model.feasRelaxS(1, False, False, True)\n",
    "\n",
    "model.optimize()\n",
    "\n",
    "\n",
    "'''\n",
    "if model.tuneResultCount > 0:\n",
    "\n",
    "    # Load the best tuned parameters into the model\n",
    "    model.getTuneResult(0)\n",
    "\n",
    "    # Write tuned parameters to a file\n",
    "    model.write('tune.prm')\n",
    "\n",
    "    # Solve the model using the tuned parameters\n",
    "    model.optimize()\n",
    "    \n",
    "'''"
   ]
  },
  {
   "cell_type": "raw",
   "metadata": {},
   "source": [
    " "
   ]
  },
  {
   "cell_type": "code",
   "execution_count": null,
   "metadata": {},
   "outputs": [],
   "source": [
    "def turn_to_df(Var, col_name = None):  # Here you could input the variable\n",
    "    solution = model.getAttr('x_', Var)\n",
    "    num_col = len(solution.keys()[0])\n",
    "    collect = []\n",
    "    for row in range(0, len(solution)):\n",
    "        new_row = []\n",
    "        for col in range(0, num_col):\n",
    "            new_row.append(solution.keys()[row][col])\n",
    "        new_row.append(solution[solution.keys()[row]])\n",
    "    \n",
    "        collect.append(new_row)\n",
    "    return pd.DataFrame(collect, columns = col_name)\n",
    "\n",
    "def cost_ref(A, B):\n",
    "    for p, q, t in pqt.select(A, B, \"*\"):\n",
    "        print(t, \": \", cost[p, q, t])\n",
    "        \n",
    "        "
   ]
  },
  {
   "cell_type": "code",
   "execution_count": null,
   "metadata": {},
   "outputs": [],
   "source": [
    "Country_Direct = turn_to_df(X, [\"Ori_Country\", \"Dest_Country\", \"Taken\"])\n",
    "X_sol = model.getAttr('x_', X)\n",
    "\n",
    "Country_Indirect = turn_to_df(X_, [\"Ori_Country\", \"Transit_Country\",\"Dest_Country\", \"Taken\"])\n",
    "Hub_Direct = turn_to_df(x, [\"Ori_Hub\", \"Dest_Hub\", \"Taken\"])\n",
    "Hub_Indirect = turn_to_df(x_, [\"Ori_Hub\", \"Transit_Hub\",\"Dest_Hub\", \"Taken\"])\n",
    "Route_Cap = turn_to_df(V, [\"Ori_Hub\", \"Dest_Hub\", \"Taken\"])\n",
    "v_sol = model.getAttr('x_', V)\n",
    "Freq = turn_to_df(F, [\"Ori_Hub\", \"Dest_Hub\",\"Truck Type\", \"Taken\"])\n",
    "#Start = turn_to_df(S, [\"Ori_Hub\", \"Dest_Hub\", \"Time\"])\n",
    "#Night = turn_to_df(N, [\"Ori_Hub\", \"Dest_Hub\", \"Nights\"])\n",
    "Co_load = turn_to_df(CL, [\"Ori_Hub\", \"Dest_Hub\", \"Amount\"])\n",
    "CL_sol =  model.getAttr('x_', CL)\n"
   ]
  },
  {
   "cell_type": "code",
   "execution_count": null,
   "metadata": {},
   "outputs": [],
   "source": [
    "for key in attri_dict.keys():\n",
    "    df_output = turn_to_df(attri_dict[key])\n",
    "    df_output.to_csv(f\"Output/{key}_output.csv\")"
   ]
  },
  {
   "cell_type": "code",
   "execution_count": null,
   "metadata": {},
   "outputs": [],
   "source": [
    "ind = Country_Indirect.Taken.sum()\n",
    "d = Country_Direct.Taken.sum()\n",
    "\n",
    "print(f\"{ind} indriect routes and {d} direct route, total: {len(Z)}\" )"
   ]
  },
  {
   "cell_type": "code",
   "execution_count": null,
   "metadata": {},
   "outputs": [],
   "source": [
    "freq_result = model.getAttr('x', F)\n",
    "demand_filled = model.getAttr('x', V)\n",
    "print(\"Current Cost:\", sum(F_[p,q,t] * C[t] * cost[p,q,t] for p, q, t in pqt) / sum(F_[p,q,t] * C[t] for p,q,t in pqt))\n",
    "print(\"Cost by Route Cap.:\", round(sum(freq_result[p,q,t] * C[t] * cost[p,q,t] for p, q, t in pqt) / (sum(demand_filled[p,q] for p, q in pq_all)/4), 2))\n",
    "print(\"Cost by Capacity.:\", sum(freq_result[p,q,t] * C[t] * cost[p,q,t] for p, q,t in pqt) / (sum(freq_result[p,q,t] * C[t] for p, q,t in pqt)))\n",
    "print(\"Cost by Demands.:\", sum(freq_result[p,q,t] * C[t] * cost[p,q,t] for p, q,t in pqt) / (sum(Z[m, k] for m, k in mk)/4))\n",
    "print(\"Cost by Demands + Co-load:\", sum(freq_result[p,q,t] * C[t] * cost[p,q,t] for p, q, t in pqt) / (sum(Z[m, k] for m, k in mk)/4 + sum(CL_sol[p, q] for p, q in pq_all)))\n",
    "print(\"Cost by Demands + Co-load:\", sum(freq_result[p,q,t] * C[t] * cost[p,q,t] for p, q, t in pqt) / (sum(v_sol[p, q] for p, q in pq_all)/4 + sum(CL_sol[p, q] for p, q in pq_all)))"
   ]
  },
  {
   "cell_type": "code",
   "execution_count": null,
   "metadata": {},
   "outputs": [],
   "source": [
    "Freq_result = Freq[Freq.Taken > 0]\n",
    "Freq_result.groupby(\"Truck Type\").count()"
   ]
  },
  {
   "cell_type": "code",
   "execution_count": null,
   "metadata": {},
   "outputs": [],
   "source": [
    "Freq_result = Freq[Freq.Taken > 0]\n",
    "Freq_result[\"agg\"] = Freq_result[\"Ori_Hub\"] + Freq_result[\"Dest_Hub\"]\n",
    "\n",
    "Freq_result[\"Capacity\"] = Freq_result.apply(lambda row: C[row[\"Truck Type\"]] * row[\"Taken\"] * 4, axis = 1)\n",
    "capacity_from_freq = Freq_result.groupby([\"agg\"]).sum()\n",
    "\n",
    "\n",
    "# Indirect Route Overview\n",
    "\n",
    "Hub_Indirect_T = Hub_Indirect[Hub_Indirect.Taken > 0]\n",
    "Hub_Indirect_T[\"First\"] = Hub_Indirect_T[\"Ori_Hub\"] + Hub_Indirect_T[\"Transit_Hub\"]\n",
    "Hub_Indirect_T[\"Second\"] = Hub_Indirect_T[\"Transit_Hub\"] + Hub_Indirect_T[\"Dest_Hub\"]\n",
    "\n",
    "Hub_merge = Hub_Indirect_T.merge(capacity_from_freq.loc[:, \"Capacity\"], left_on = \"First\", right_on = \"agg\", how = \"right\")\n",
    "Hub_merge = Hub_merge.merge(capacity_from_freq.loc[:, \"Capacity\"], left_on = \"Second\", right_on = \"agg\", how = \"right\")\n",
    "\n",
    "pd.options.display.max_rows = 100\n",
    "Hub_merge.dropna(inplace = True)\n",
    "\n",
    "for row in Hub_merge.index:\n",
    "    ori = Hub_merge.loc[row, \"Ori_Hub\"]\n",
    "    transit = Hub_merge.loc[row, \"Transit_Hub\"]\n",
    "    dest = Hub_merge.loc[row, \"Dest_Hub\"]\n",
    "    Hub_merge.loc[row, \"Route_Cap_1\"] = v_sol[ori, transit]\n",
    "    Hub_merge.loc[row, \"Route_Cap_2\"] = v_sol[transit, dest]"
   ]
  },
  {
   "cell_type": "code",
   "execution_count": null,
   "metadata": {
    "scrolled": true
   },
   "outputs": [],
   "source": [
    "cost_ref(\"Enns-AT\",\"PZ 93 (Regensburg)-DE\")"
   ]
  },
  {
   "cell_type": "code",
   "execution_count": null,
   "metadata": {},
   "outputs": [],
   "source": [
    "cost_ref(\"Plzen 1-CZ\", \"PZ 93 (Regensburg)-DE\")"
   ]
  },
  {
   "cell_type": "code",
   "execution_count": null,
   "metadata": {},
   "outputs": [],
   "source": [
    "cost_ref(\"Enns-AT\", \"Plzen 1-CZ\")"
   ]
  },
  {
   "cell_type": "code",
   "execution_count": null,
   "metadata": {
    "scrolled": true
   },
   "outputs": [],
   "source": [
    "Hub_merge"
   ]
  },
  {
   "cell_type": "code",
   "execution_count": null,
   "metadata": {},
   "outputs": [],
   "source": []
  },
  {
   "cell_type": "code",
   "execution_count": null,
   "metadata": {},
   "outputs": [],
   "source": [
    "#Freq_result[Freq_result[\"Truck Type\"] == \"Co-loading\"]\n",
    "co_loading_taken = Freq_result[Freq_result[\"Truck Type\"] == \"Co-loading\"]\n",
    "\n",
    "for row in co_loading_taken.index:\n",
    "    ori = co_loading_taken.loc[row, \"Ori_Hub\"]\n",
    "    dest = co_loading_taken.loc[row, \"Dest_Hub\"]\n",
    "    print(ori, dest, cost[ori, dest, \"Co-loading\"])"
   ]
  },
  {
   "cell_type": "markdown",
   "metadata": {},
   "source": [
    "## Checking if some routes exist"
   ]
  },
  {
   "cell_type": "code",
   "execution_count": null,
   "metadata": {},
   "outputs": [],
   "source": [
    "Freq[\"Ori_C\"] = Freq.apply(lambda row: row.Ori_Hub.rsplit(\"-\")[-1], axis = 1)\n",
    "Freq[\"Dest_C\"] = Freq.apply(lambda row: row.Dest_Hub.rsplit(\"-\")[-1], axis = 1)\n",
    "Freq[Freq.Taken > 0]\n"
   ]
  },
  {
   "cell_type": "code",
   "execution_count": null,
   "metadata": {},
   "outputs": [],
   "source": [
    "check = Freq.loc[(Freq[\"Ori_C\"] == \"AT\") & (Freq[\"Dest_C\"] == \"CZ\"), :]\n",
    "check[check.Taken> 0]"
   ]
  },
  {
   "cell_type": "markdown",
   "metadata": {},
   "source": [
    "# Check the relationship between Route Capacity and Demands"
   ]
  },
  {
   "cell_type": "code",
   "execution_count": null,
   "metadata": {},
   "outputs": [],
   "source": [
    "Route_Cap[\"Ori_C\"] = Route_Cap.apply(lambda row: row.Ori_Hub.rsplit(\"-\")[-1], axis = 1)\n",
    "Route_Cap[\"Dest_C\"] = Route_Cap.apply(lambda row: row.Dest_Hub.rsplit(\"-\")[-1], axis = 1)\n",
    "Route_Cap[\"Demands\"] = Route_Cap.apply(lambda row: Z[row.Ori_C, row.Dest_C] if (row.Ori_C, row.Dest_C) in Z.keys() else 0, axis = 1)"
   ]
  },
  {
   "cell_type": "code",
   "execution_count": null,
   "metadata": {},
   "outputs": [],
   "source": [
    "# Route_Cap.loc[(Route_Cap[\"Ori_C\"] == \"DE\") & (Route_Cap[\"Dest_C\"] == \"FL\"), :]\n",
    "Route_Cap[Route_Cap.Taken > 0]"
   ]
  },
  {
   "cell_type": "code",
   "execution_count": null,
   "metadata": {},
   "outputs": [],
   "source": [
    "ind_hubs = model.getAttr('x', x_)\n",
    "d_hubs = model.getAttr('x', x)\n",
    "\n",
    "capacity_from_freq_by_hub = Freq_result.groupby([\"Ori_Hub\", \"Dest_Hub\"]).sum()\n",
    "capacity_from_freq_by_hub.reset_index(inplace = True)\n",
    "capacity_from_freq_by_hub.loc[:, \"Clustering\"] = 0\n",
    "\n",
    "for row in capacity_from_freq_by_hub.index:\n",
    "    ori = capacity_from_freq_by_hub.loc[row, \"Ori_Hub\"]\n",
    "    dest = capacity_from_freq_by_hub.loc[row, \"Dest_Hub\"]\n",
    "    \n",
    "    try:\n",
    "        ind_1 = sum(ind_hubs[p, q, i] for p, q, i in piq.select(ori, dest, \"*\"))\n",
    "    except:\n",
    "        ind_1 = 0\n",
    "        \n",
    "    try:\n",
    "        ind_2 = sum(ind_hubs[i, p, q] for i, p, q in piq.select(\"*\", ori, dest))\n",
    "    except:\n",
    "        ind_2 = 0\n",
    "        \n",
    "    try:\n",
    "        d_1 = d_hubs[ori, dest]\n",
    "        \n",
    "    except:\n",
    "        d_1 = 0\n",
    "    \n",
    "        \n",
    "    capacity_from_freq_by_hub.loc[row, \"Clustering\"] = ind_1 + ind_2 + d_1\n",
    "    \n",
    "capacity_from_freq_by_hub"
   ]
  },
  {
   "cell_type": "code",
   "execution_count": null,
   "metadata": {},
   "outputs": [],
   "source": [
    "import seaborn as sns\n",
    "import matplotlib.pyplot as plt"
   ]
  },
  {
   "cell_type": "code",
   "execution_count": null,
   "metadata": {},
   "outputs": [],
   "source": [
    "cap_gb_count = capacity_from_freq_by_hub.groupby(\"Clustering\").count().reset_index()\n",
    "sns.barplot(data = cap_gb_count, x = \"Clustering\", y = \"Taken\")"
   ]
  },
  {
   "cell_type": "code",
   "execution_count": null,
   "metadata": {},
   "outputs": [],
   "source": [
    "capacity_from_freq_by_hub[capacity_from_freq_by_hub[\"Clustering\"] == 0]"
   ]
  },
  {
   "cell_type": "code",
   "execution_count": null,
   "metadata": {},
   "outputs": [],
   "source": [
    "capacity_from_freq_by_hub"
   ]
  },
  {
   "cell_type": "code",
   "execution_count": null,
   "metadata": {},
   "outputs": [],
   "source": [
    "Co_load[Co_load.Amount > 0]\n",
    "\n"
   ]
  },
  {
   "cell_type": "code",
   "execution_count": null,
   "metadata": {},
   "outputs": [],
   "source": []
  }
 ],
 "metadata": {
  "kernelspec": {
   "display_name": "Python 3",
   "language": "python",
   "name": "python3"
  },
  "language_info": {
   "codemirror_mode": {
    "name": "ipython",
    "version": 3
   },
   "file_extension": ".py",
   "mimetype": "text/x-python",
   "name": "python",
   "nbconvert_exporter": "python",
   "pygments_lexer": "ipython3",
   "version": "3.7.4"
  }
 },
 "nbformat": 4,
 "nbformat_minor": 2
}
