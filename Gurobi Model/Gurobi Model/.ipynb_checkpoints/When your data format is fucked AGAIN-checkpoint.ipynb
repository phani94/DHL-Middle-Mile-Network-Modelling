{
 "cells": [
  {
   "cell_type": "code",
   "execution_count": 3,
   "metadata": {},
   "outputs": [],
   "source": [
    "import pandas as pd"
   ]
  },
  {
   "cell_type": "code",
   "execution_count": 74,
   "metadata": {},
   "outputs": [],
   "source": [
    "hub_list = pd.read_csv('Database/Hub list.csv')\n",
    "# hub_list.Ref_City = hub_list.Ref_City + \"-\" + hub_list.Country\n",
    "hub_ref = {}\n",
    "for city in hub_list.City.unique():\n",
    "    hub_ref[city] = hub_list[hub_list[\"City\"] == city][\"Ref_City\"].tolist()[0]\n"
   ]
  },
  {
   "cell_type": "code",
   "execution_count": 12,
   "metadata": {},
   "outputs": [],
   "source": [
    "def match_name(rrrfreq):\n",
    "    for row in rrrfreq.index:\n",
    "        if rrrfreq.loc[row, \"Org. GTW\"] in list(hub_ref.keys()):\n",
    "            rrrfreq.loc[row, \"Org. GTW\"] = hub_ref[rrrfreq.loc[row, \"Org. GTW\"]]\n",
    "        else:\n",
    "            print(\"Can't find\", rrrfreq.loc[row, \"Org. GTW\"])\n",
    "\n",
    "        if rrrfreq.loc[row, \"Dst. GTW\"] in list(hub_ref.keys()):\n",
    "            rrrfreq.loc[row, \"Dst. GTW\"] = hub_ref[rrrfreq.loc[row, \"Dst. GTW\"]]\n",
    "        else:\n",
    "            print(\"Can't find\", rrrfreq.loc[row, \"Dst. GTW\"])\n"
   ]
  },
  {
   "cell_type": "markdown",
   "metadata": {},
   "source": []
  },
  {
   "cell_type": "code",
   "execution_count": 75,
   "metadata": {},
   "outputs": [],
   "source": []
  },
  {
   "cell_type": "code",
   "execution_count": 76,
   "metadata": {},
   "outputs": [],
   "source": []
  },
  {
   "cell_type": "markdown",
   "metadata": {},
   "source": [
    "# When the simple route doesn't match hub name"
   ]
  },
  {
   "cell_type": "code",
   "execution_count": 115,
   "metadata": {},
   "outputs": [],
   "source": [
    "new_hub_list = pd.read_excel(\"Database/Hub list.xlsx\")"
   ]
  },
  {
   "cell_type": "code",
   "execution_count": 116,
   "metadata": {},
   "outputs": [],
   "source": [
    "new_hub_list[\"Ref_City\"] = new_hub_list.apply(lambda row: row.Ref_City.rstrip(), axis = 1)"
   ]
  },
  {
   "cell_type": "code",
   "execution_count": 117,
   "metadata": {},
   "outputs": [
    {
     "data": {
      "text/plain": [
       "array(['AT', 'BE', 'BG', 'CZ', 'DE', 'DK', 'ES', 'FI', 'FR', 'GB', 'GR',\n",
       "       'HR', 'HU', 'IE', 'LT', 'LU', 'NL', 'NO', 'PL', 'PT', 'RO', 'SE',\n",
       "       'SI', 'SK', 'LV', 'IT', 'EE'], dtype=object)"
      ]
     },
     "execution_count": 117,
     "metadata": {},
     "output_type": "execute_result"
    }
   ],
   "source": [
    "hub_list = new_hub_list\n",
    "hub_list.Country.unique()"
   ]
  },
  {
   "cell_type": "code",
   "execution_count": 118,
   "metadata": {},
   "outputs": [],
   "source": [
    "hub_list[\"Country\"].replace(\"FI\", \"FL\", inplace = True)"
   ]
  },
  {
   "cell_type": "code",
   "execution_count": 119,
   "metadata": {},
   "outputs": [],
   "source": [
    "#hub_list[\"Ref_City\"].replace(\"Hradec Kralove\", \"Hradec Kralove - Brezhrad\", inplace = True)\n",
    "hub_list[\"Ref_City\"].replace(\"Eindhoven\", \"Eindhoven-Noord\", inplace = True)\n",
    "hub_list[\"Ref_City\"].replace(\"Zilina\", \"Zilina- Strecno\", inplace = True)\n",
    "hub_list[\"Ref_City\"].replace(\"Lieto (Turku)\", \"Lieto (Turku)\", inplace = True)\n",
    "hub_list[\"Ref_City\"].replace('Stockholm', \"Stockholm - Västberga\", inplace = True)\n",
    "hub_list[\"Ref_City\"].replace('Vantaa (Helsinki)', \"Vantaa (Helsinki)\", inplace = True)\n",
    "hub_list[\"Ref_City\"].replace(\"Kalsdorf bei Graz\", \"Hub Graz\", inplace = True)\n",
    "hub_list[\"Ref_City\"].replace(\"PZ 50 (Köln)\", \"Köln\", inplace = True)\n",
    "\n",
    "\n",
    "hub_list[\"Ref_City\"].replace(\"Hradec Kralove -CZ\", \"Hradec Kralove - Brezhrad-CZ\", inplace = True)\n",
    "hub_list[\"Ref_City\"].replace(\"Eindhoven-NL\", \"Eindhoven-Noord-NL\", inplace = True)\n",
    "hub_list[\"Ref_City\"].replace(\"Zilina-SK\", \"Zilina- Strecno-SK\", inplace = True)\n",
    "hub_list[\"Ref_City\"].replace(\"Lieto (Turku)-FI\", \"Lieto (Turku)-FL\", inplace = True)\n",
    "\n",
    "hub_list[\"Ref_City\"].replace('Stockholm -SE', \"Stockholm - Västberga-SE\", inplace = True)\n",
    "hub_list[\"Ref_City\"].replace('Vantaa (Helsinki)-FI', \"Vantaa (Helsinki)-FL\", inplace = True)\n",
    "\n",
    "hub_list[\"Ref_City\"].replace(\"Kalsdorf bei Graz-AT\", \"Hub Graz-AT\", inplace = True)\n",
    "\n",
    "hub_list[\"Ref_City\"].replace(\"PZ 93 (Regensburg)\", \"Regensburg\", inplace = True)\n",
    "hub_list[\"Ref_City\"].replace(\"Zilina- Strecno\", \"Strečno\", inplace = True)\n",
    "\n",
    "hub_list[\"Ref_City\"].replace(\"Hub Wien I\", \"Wien 1\", inplace = True)\n",
    "hub_list[\"Ref_City\"].replace(\"Budapest NPKK (OE)\", \"Budapest\", inplace = True)\n",
    "\n",
    "\n",
    "\n",
    "hub_list.to_csv(\"Database/Hub list.csv\")"
   ]
  },
  {
   "cell_type": "markdown",
   "metadata": {},
   "source": [
    "# Drop duplicate hubs in hub_list"
   ]
  },
  {
   "cell_type": "code",
   "execution_count": 121,
   "metadata": {},
   "outputs": [],
   "source": [
    "hub_list = pd.read_csv('Database/Hub list.csv')\n",
    "hub_list.Ref_City = hub_list.Ref_City + \"-\" + hub_list.Country\n",
    "hub_ref = {}\n",
    "for city in hub_list.City.unique():\n",
    "    hub_ref[city] = hub_list[hub_list[\"City\"] == city][\"Ref_City\"].tolist()[0]\n",
    "    \n",
    "hubs_unique = pd.DataFrame.from_dict(hub_ref, orient = \"index\")\n",
    "hubs_unique[\"Country\"] = hubs_unique.apply(lambda row: row[0].split(\"-\")[-1], axis = 1)\n",
    "hubs_unique = hubs_unique.reset_index()#.columns = [\"Ref_City\"]\n",
    "hubs_unique.columns = [\"City\", \"Ref_City\", \"Country\"]\n",
    "hubs_unique.to_csv(\"Database/Hub list.csv\")"
   ]
  },
  {
   "cell_type": "code",
   "execution_count": 122,
   "metadata": {},
   "outputs": [
    {
     "data": {
      "text/html": [
       "<div>\n",
       "<style scoped>\n",
       "    .dataframe tbody tr th:only-of-type {\n",
       "        vertical-align: middle;\n",
       "    }\n",
       "\n",
       "    .dataframe tbody tr th {\n",
       "        vertical-align: top;\n",
       "    }\n",
       "\n",
       "    .dataframe thead th {\n",
       "        text-align: right;\n",
       "    }\n",
       "</style>\n",
       "<table border=\"1\" class=\"dataframe\">\n",
       "  <thead>\n",
       "    <tr style=\"text-align: right;\">\n",
       "      <th></th>\n",
       "      <th>City</th>\n",
       "      <th>Ref_City</th>\n",
       "      <th>Country</th>\n",
       "    </tr>\n",
       "  </thead>\n",
       "  <tbody>\n",
       "    <tr>\n",
       "      <th>0</th>\n",
       "      <td>Wien 1</td>\n",
       "      <td>Wien 1-AT</td>\n",
       "      <td>AT</td>\n",
       "    </tr>\n",
       "    <tr>\n",
       "      <th>1</th>\n",
       "      <td>Wien 2</td>\n",
       "      <td>Hub Wien II-AT</td>\n",
       "      <td>AT</td>\n",
       "    </tr>\n",
       "    <tr>\n",
       "      <th>2</th>\n",
       "      <td>Hub Linz</td>\n",
       "      <td>Hub Linz-AT</td>\n",
       "      <td>AT</td>\n",
       "    </tr>\n",
       "    <tr>\n",
       "      <th>3</th>\n",
       "      <td>Hub Graz</td>\n",
       "      <td>Hub Graz-AT</td>\n",
       "      <td>AT</td>\n",
       "    </tr>\n",
       "    <tr>\n",
       "      <th>4</th>\n",
       "      <td>Meiningen</td>\n",
       "      <td>Meiningen-AT</td>\n",
       "      <td>AT</td>\n",
       "    </tr>\n",
       "    <tr>\n",
       "      <th>...</th>\n",
       "      <td>...</td>\n",
       "      <td>...</td>\n",
       "      <td>...</td>\n",
       "    </tr>\n",
       "    <tr>\n",
       "      <th>467</th>\n",
       "      <td>Ricany</td>\n",
       "      <td>Ricany - Jazlovice-CZ</td>\n",
       "      <td>CZ</td>\n",
       "    </tr>\n",
       "    <tr>\n",
       "      <th>468</th>\n",
       "      <td>NPKK</td>\n",
       "      <td>Budapest NPKK (OE)-HU</td>\n",
       "      <td>HU</td>\n",
       "    </tr>\n",
       "    <tr>\n",
       "      <th>469</th>\n",
       "      <td>Hall in Tirol</td>\n",
       "      <td>Hall in Tirol-AT</td>\n",
       "      <td>AT</td>\n",
       "    </tr>\n",
       "    <tr>\n",
       "      <th>470</th>\n",
       "      <td>Hub Wien II</td>\n",
       "      <td>Hub Wien II-AT</td>\n",
       "      <td>AT</td>\n",
       "    </tr>\n",
       "    <tr>\n",
       "      <th>471</th>\n",
       "      <td>PZ 44 (Bochum) [im Bau]</td>\n",
       "      <td>PZ 44 (Bochum) [im Bau]-DE</td>\n",
       "      <td>DE</td>\n",
       "    </tr>\n",
       "  </tbody>\n",
       "</table>\n",
       "<p>472 rows × 3 columns</p>\n",
       "</div>"
      ],
      "text/plain": [
       "                        City                    Ref_City Country\n",
       "0                     Wien 1                   Wien 1-AT      AT\n",
       "1                     Wien 2              Hub Wien II-AT      AT\n",
       "2                   Hub Linz                 Hub Linz-AT      AT\n",
       "3                   Hub Graz                 Hub Graz-AT      AT\n",
       "4                  Meiningen                Meiningen-AT      AT\n",
       "..                       ...                         ...     ...\n",
       "467                   Ricany       Ricany - Jazlovice-CZ      CZ\n",
       "468                     NPKK       Budapest NPKK (OE)-HU      HU\n",
       "469            Hall in Tirol            Hall in Tirol-AT      AT\n",
       "470              Hub Wien II              Hub Wien II-AT      AT\n",
       "471  PZ 44 (Bochum) [im Bau]  PZ 44 (Bochum) [im Bau]-DE      DE\n",
       "\n",
       "[472 rows x 3 columns]"
      ]
     },
     "execution_count": 122,
     "metadata": {},
     "output_type": "execute_result"
    }
   ],
   "source": []
  },
  {
   "cell_type": "markdown",
   "metadata": {},
   "source": [
    "# Match the hubs name"
   ]
  },
  {
   "cell_type": "code",
   "execution_count": 49,
   "metadata": {},
   "outputs": [
    {
     "name": "stdout",
     "output_type": "stream",
     "text": [
      "Can't find COMBS LA VILLE\n",
      "Can't find COMBS LA VILLE\n",
      "Can't find COMBS LA VILLE\n",
      "Can't find NPKK\n"
     ]
    }
   ],
   "source": [
    "rrrfreq = pd.read_excel(\"Result_Freq.xlsx\")\n",
    "\n",
    "rrrfreq.replace(\"Ryton Gateway\", \"Ryton\", inplace = True)\n",
    "for row in rrrfreq.index:\n",
    "    if rrrfreq.loc[row, \"Org. GTW\"] in list(hub_ref.keys()):\n",
    "        rrrfreq.loc[row, \"Org. GTW\"] = hub_ref[rrrfreq.loc[row, \"Org. GTW\"]]\n",
    "    else:\n",
    "        print(\"Can't find\", rrrfreq.loc[row, \"Org. GTW\"])\n",
    "\n",
    "    if rrrfreq.loc[row, \"Dst. GTW\"] in list(hub_ref.keys()):\n",
    "        rrrfreq.loc[row, \"Dst. GTW\"] = hub_ref[rrrfreq.loc[row, \"Dst. GTW\"]]\n",
    "    else:\n",
    "        print(\"Can't find\", rrrfreq.loc[row, \"Dst. GTW\"])\n",
    "\n",
    "final = rrrfreq.loc[:, [\"Org. GTW\", \"Dst. GTW\", \"Truck type\", \"Frequency\"]]\n",
    "final.columns = [\"From\", \"To\", \"Truck type\", \"Frequency\"]\n",
    "final.to_csv(\"Database/current_network.csv\")"
   ]
  },
  {
   "cell_type": "code",
   "execution_count": null,
   "metadata": {},
   "outputs": [],
   "source": []
  },
  {
   "cell_type": "markdown",
   "metadata": {},
   "source": []
  },
  {
   "cell_type": "code",
   "execution_count": null,
   "metadata": {},
   "outputs": [],
   "source": []
  },
  {
   "cell_type": "markdown",
   "metadata": {},
   "source": [
    "# Transferred the frequency's hub name"
   ]
  },
  {
   "cell_type": "code",
   "execution_count": 71,
   "metadata": {},
   "outputs": [
    {
     "name": "stdout",
     "output_type": "stream",
     "text": [
      "Can't find Budapest NPKK (OE)\n"
     ]
    }
   ],
   "source": [
    "result_freq = pd.read_excel(\"Database/Result_Freq.xlsx\")\n",
    "result_freq.replace(\"Ryton Gateway\", \"Ryton\", inplace = True)\n",
    "# export to current_network.csv\n",
    "match_name(result_freq)\n",
    "\n",
    "result_freq = result_freq.loc[:, [\"Org. GTW\", \"Dst. GTW\", \"Truck type\", \"Frequency\"]]\n",
    "result_freq.columns = [\"From\", \"To\", \"Truck type\", \"Frequency\"]\n",
    "result_freq.to_csv(\"Database/current_network.csv\")"
   ]
  },
  {
   "cell_type": "markdown",
   "metadata": {},
   "source": [
    "# When the truck type and current frequency changes"
   ]
  },
  {
   "cell_type": "code",
   "execution_count": null,
   "metadata": {},
   "outputs": [],
   "source": [
    "\n",
    "freq_current = pd.read_csv(\"Database/current_network.csv\")\n",
    "\n",
    "freq_current = freq_current.groupby([\"From\", \"To\", \"Truck type\"]).sum()\n",
    "freq_current = freq_current.reset_index()\n",
    "freq_current.to_csv(\"Database/current_network.csv\")"
   ]
  }
 ],
 "metadata": {
  "kernelspec": {
   "display_name": "Python 3",
   "language": "python",
   "name": "python3"
  },
  "language_info": {
   "codemirror_mode": {
    "name": "ipython",
    "version": 3
   },
   "file_extension": ".py",
   "mimetype": "text/x-python",
   "name": "python",
   "nbconvert_exporter": "python",
   "pygments_lexer": "ipython3",
   "version": "3.7.4"
  }
 },
 "nbformat": 4,
 "nbformat_minor": 2
}
