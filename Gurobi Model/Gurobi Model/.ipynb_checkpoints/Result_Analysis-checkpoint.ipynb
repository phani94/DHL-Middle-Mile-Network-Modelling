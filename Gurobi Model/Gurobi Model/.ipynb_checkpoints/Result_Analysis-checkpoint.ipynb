{
 "cells": [
  {
   "cell_type": "code",
   "execution_count": 30,
   "metadata": {},
   "outputs": [],
   "source": [
    "import numpy as np\n",
    "import pandas as pd"
   ]
  },
  {
   "cell_type": "code",
   "execution_count": 31,
   "metadata": {},
   "outputs": [],
   "source": [
    "def turn_to_df(solution, col_name = None):  # Here you could input the variable\n",
    "    num_col = len(list(solution.keys())[0])\n",
    "    key_list = list(solution.keys())\n",
    "    collect = []\n",
    "    for row in range(0, len(key_list )):\n",
    "        new_row = []\n",
    "        for col in range(0, num_col):\n",
    "            new_row.append(key_list[row][col])\n",
    "        new_row.append(solution[key_list[row]])\n",
    "    \n",
    "        collect.append(new_row)\n",
    "    return pd.DataFrame(collect, columns = col_name)\n"
   ]
  },
  {
   "cell_type": "code",
   "execution_count": 32,
   "metadata": {},
   "outputs": [],
   "source": [
    "hub_list = pd.read_csv('Database/Hub list.csv')\n",
    "hub_list.Ref_City = hub_list.Ref_City + \"-\" + hub_list.Country\n",
    "hub_ref = {}\n",
    "for city in hub_list.City.unique():\n",
    "    hub_ref[city] = hub_list[hub_list[\"City\"] == city][\"Ref_City\"].tolist()[0]\n"
   ]
  },
  {
   "cell_type": "code",
   "execution_count": 33,
   "metadata": {},
   "outputs": [],
   "source": [
    "# Simple Version\n",
    "masterfile = pd.read_excel(\"Database/Simple/Simple Routes.xlsx\", sheet_name = 0)\n",
    "\n",
    "# The following file works as a reference table to match the names of 2 sheets\n",
    "hub_list = pd.read_csv('Database/Hub list.csv')\n",
    "hub_list.Ref_City = hub_list.Ref_City + \"-\" + hub_list.Country\n",
    "hub_ref = {}\n",
    "for city in hub_list.City.unique():\n",
    "    hub_ref[city] = hub_list[hub_list[\"City\"] == city][\"Ref_City\"].tolist()[0]\n",
    "    \n",
    "\n",
    "def name_transform(city_name):\n",
    "    if city_name in hub_ref.keys():\n",
    "        #print(city_name, \" : \", hub_ref[city_name])\n",
    "        return hub_ref[city_name]\n",
    "    else:\n",
    "        print(city_name, \" not Found\")\n",
    "        return city_name\n"
   ]
  },
  {
   "cell_type": "markdown",
   "metadata": {},
   "source": [
    "# Read the input datasheet"
   ]
  },
  {
   "cell_type": "code",
   "execution_count": 34,
   "metadata": {},
   "outputs": [],
   "source": [
    "attri_name = [\"hub_direct\", \"hub_indirect\", \"country_direct\", \"country_indirect\",\n",
    "              \"route_cap\", \"freq\", \"start\", \"night\"]"
   ]
  },
  {
   "cell_type": "code",
   "execution_count": 35,
   "metadata": {},
   "outputs": [],
   "source": [
    "attri_dict = {}\n",
    "for key in attri_name:\n",
    "    attri_dict[key] = pd.read_csv(f\"Output/{key}_output.csv\")"
   ]
  },
  {
   "cell_type": "code",
   "execution_count": 36,
   "metadata": {
    "scrolled": true
   },
   "outputs": [],
   "source": [
    "night = attri_dict[\"night\"]\n",
    "freq = attri_dict[\"freq\"]"
   ]
  },
  {
   "cell_type": "markdown",
   "metadata": {},
   "source": [
    "## Import datasheet from database"
   ]
  },
  {
   "cell_type": "code",
   "execution_count": 37,
   "metadata": {
    "scrolled": true
   },
   "outputs": [],
   "source": [
    "\n",
    "# Import Truck Capacity\n",
    "truck_cap = pd.read_excel(\"Database/TruckVSCap.xlsx\", sheet_name = 0)\n",
    "T = truck_cap[\"Truck Type\"].tolist()\n",
    "\n",
    "C = {}\n",
    "for row in truck_cap.index:\n",
    "    C[truck_cap.loc[row, \"Truck Type\"]] = truck_cap.loc[row, \"Capacity\"]\n",
    "    "
   ]
  },
  {
   "cell_type": "code",
   "execution_count": 38,
   "metadata": {},
   "outputs": [
    {
     "name": "stdout",
     "output_type": "stream",
     "text": [
      "{}\n"
     ]
    }
   ],
   "source": [
    "used_hubs = masterfile.From.unique().tolist() +  masterfile.To.unique().tolist() # Not every hubs in the hub list is used\n",
    "used_hubs = list( dict.fromkeys(used_hubs) )  # Remove duplicate\n",
    "\n",
    "hub_list_used = [x for x in hub_list if x in used_hubs]\n",
    "\n",
    "hub_list_used = hub_list.set_index(\"Ref_City\")\n",
    "hub_list_used = hub_list_used.loc[hub_list_used.index.isin(used_hubs), :]\n",
    "hub_list_used.reset_index(inplace = True)\n",
    "\n",
    "hub_list_used[\"Country\"] = hub_list_used.apply(lambda row: row[\"Ref_City\"].split(\"-\")[-1], axis = 1) # To fill NA in country\n",
    "\n",
    "L = {}\n",
    "for country in hub_list_used.Country.unique():\n",
    "    hub_collect = hub_list_used[hub_list_used.loc[:, \"Country\"] == country][\"Ref_City\"].tolist()\n",
    "    L[country] = hub_collect\n",
    "print(L)\n",
    "\n",
    "H = hub_list_used.Ref_City.unique().tolist() # All hubs"
   ]
  },
  {
   "cell_type": "code",
   "execution_count": 39,
   "metadata": {},
   "outputs": [],
   "source": [
    "# Create the set of countries\n",
    "E = hub_list_used.Country.unique().tolist() # from the \"Hub list.csv\" file"
   ]
  },
  {
   "cell_type": "code",
   "execution_count": 40,
   "metadata": {},
   "outputs": [],
   "source": [
    "# Define tuplelist for the assign of variables\n",
    "\n",
    "mjk = [(m,j,k) for m in E for j in E for k in E if (m != j) & (j != k) & (k != m)]\n",
    "mk = [(m,k) for m in E for k in E if m != k]\n",
    "pq = [(p,q) for m,k in mk for p in L[m] for q in L[k]]\n",
    "piq =[(p,i,q) for (m,j,k) in mjk for p in L[m] for i in L[j] for q in L[k]]\n",
    "pqt = [(p,q,t) for p,q in pq for t in T]"
   ]
  },
  {
   "cell_type": "markdown",
   "metadata": {},
   "source": [
    "# Recommended Network - Weekly\n",
    "\n",
    "### 1. Cost\n",
    "### 2. Cost/kg"
   ]
  },
  {
   "cell_type": "code",
   "execution_count": 87,
   "metadata": {},
   "outputs": [],
   "source": [
    "# Import the cost file\n",
    "cost_file = pd.read_csv(\"Database/Costs.csv\")\n",
    "\n",
    "cost = {}\n",
    "for row in cost_file.index:\n",
    "    cost_key = (cost_file[\"From\"][row], cost_file[\"To\"][row], cost_file[\"Truck type\"][row])\n",
    "    cost[cost_key] = cost_file[\"Cost/kg\"][row]\n",
    "    \n",
    "# Route Capacity\n",
    "route_cap = attri_dict[\"route_cap\"]"
   ]
  },
  {
   "cell_type": "code",
   "execution_count": 97,
   "metadata": {},
   "outputs": [
    {
     "data": {
      "text/html": [
       "<div>\n",
       "<style scoped>\n",
       "    .dataframe tbody tr th:only-of-type {\n",
       "        vertical-align: middle;\n",
       "    }\n",
       "\n",
       "    .dataframe tbody tr th {\n",
       "        vertical-align: top;\n",
       "    }\n",
       "\n",
       "    .dataframe thead th {\n",
       "        text-align: right;\n",
       "    }\n",
       "</style>\n",
       "<table border=\"1\" class=\"dataframe\">\n",
       "  <thead>\n",
       "    <tr style=\"text-align: right;\">\n",
       "      <th></th>\n",
       "      <th>Unnamed: 0</th>\n",
       "      <th>Capacity</th>\n",
       "      <th>Costs</th>\n",
       "      <th>Distance</th>\n",
       "      <th>From</th>\n",
       "      <th>To</th>\n",
       "      <th>Truck type</th>\n",
       "      <th>Cost/kg</th>\n",
       "    </tr>\n",
       "  </thead>\n",
       "  <tbody>\n",
       "    <tr>\n",
       "      <th>0</th>\n",
       "      <td>0</td>\n",
       "      <td>8381.0</td>\n",
       "      <td>304.12495</td>\n",
       "      <td>198.409</td>\n",
       "      <td>Hub Graz-AT</td>\n",
       "      <td>Hub Wien I-AT</td>\n",
       "      <td>2 Swap Bodies</td>\n",
       "      <td>0.036287</td>\n",
       "    </tr>\n",
       "    <tr>\n",
       "      <th>1</th>\n",
       "      <td>1</td>\n",
       "      <td>8381.0</td>\n",
       "      <td>812.49820</td>\n",
       "      <td>1122.724</td>\n",
       "      <td>Hub Graz-AT</td>\n",
       "      <td>Brüssel-BE</td>\n",
       "      <td>2 Swap Bodies</td>\n",
       "      <td>0.096945</td>\n",
       "    </tr>\n",
       "    <tr>\n",
       "      <th>2</th>\n",
       "      <td>2</td>\n",
       "      <td>8381.0</td>\n",
       "      <td>718.49770</td>\n",
       "      <td>951.814</td>\n",
       "      <td>Hub Graz-AT</td>\n",
       "      <td>Sofia-BG</td>\n",
       "      <td>2 Swap Bodies</td>\n",
       "      <td>0.085729</td>\n",
       "    </tr>\n",
       "    <tr>\n",
       "      <th>3</th>\n",
       "      <td>3</td>\n",
       "      <td>8381.0</td>\n",
       "      <td>383.01365</td>\n",
       "      <td>341.843</td>\n",
       "      <td>Hub Graz-AT</td>\n",
       "      <td>Brno-CZ</td>\n",
       "      <td>2 Swap Bodies</td>\n",
       "      <td>0.045700</td>\n",
       "    </tr>\n",
       "    <tr>\n",
       "      <th>4</th>\n",
       "      <td>4</td>\n",
       "      <td>8381.0</td>\n",
       "      <td>468.26640</td>\n",
       "      <td>496.848</td>\n",
       "      <td>Hub Graz-AT</td>\n",
       "      <td>Ostrava-CZ</td>\n",
       "      <td>2 Swap Bodies</td>\n",
       "      <td>0.055872</td>\n",
       "    </tr>\n",
       "    <tr>\n",
       "      <th>...</th>\n",
       "      <td>...</td>\n",
       "      <td>...</td>\n",
       "      <td>...</td>\n",
       "      <td>...</td>\n",
       "      <td>...</td>\n",
       "      <td>...</td>\n",
       "      <td>...</td>\n",
       "      <td>...</td>\n",
       "    </tr>\n",
       "    <tr>\n",
       "      <th>12987</th>\n",
       "      <td>3243</td>\n",
       "      <td>2250.0</td>\n",
       "      <td>697.26320</td>\n",
       "      <td>1153.772</td>\n",
       "      <td>Zilina- Strecno-SK</td>\n",
       "      <td>Malmö-SE</td>\n",
       "      <td>Van</td>\n",
       "      <td>0.309895</td>\n",
       "    </tr>\n",
       "    <tr>\n",
       "      <th>12988</th>\n",
       "      <td>3244</td>\n",
       "      <td>2250.0</td>\n",
       "      <td>386.92640</td>\n",
       "      <td>636.544</td>\n",
       "      <td>Zilina- Strecno-SK</td>\n",
       "      <td>Ljubljana-SI</td>\n",
       "      <td>Van</td>\n",
       "      <td>0.171967</td>\n",
       "    </tr>\n",
       "    <tr>\n",
       "      <th>12989</th>\n",
       "      <td>3245</td>\n",
       "      <td>2250.0</td>\n",
       "      <td>126.74720</td>\n",
       "      <td>202.912</td>\n",
       "      <td>Zilina- Strecno-SK</td>\n",
       "      <td>Bratislava - Raca-SK</td>\n",
       "      <td>Van</td>\n",
       "      <td>0.056332</td>\n",
       "    </tr>\n",
       "    <tr>\n",
       "      <th>12990</th>\n",
       "      <td>3246</td>\n",
       "      <td>2250.0</td>\n",
       "      <td>131.54780</td>\n",
       "      <td>210.913</td>\n",
       "      <td>Zilina- Strecno-SK</td>\n",
       "      <td>Bratislava - Petrzalka-SK</td>\n",
       "      <td>Van</td>\n",
       "      <td>0.058466</td>\n",
       "    </tr>\n",
       "    <tr>\n",
       "      <th>12991</th>\n",
       "      <td>3247</td>\n",
       "      <td>2250.0</td>\n",
       "      <td>5.00000</td>\n",
       "      <td>0.000</td>\n",
       "      <td>Zilina- Strecno-SK</td>\n",
       "      <td>Zilina- Strecno-SK</td>\n",
       "      <td>Van</td>\n",
       "      <td>0.002222</td>\n",
       "    </tr>\n",
       "  </tbody>\n",
       "</table>\n",
       "<p>12992 rows × 8 columns</p>\n",
       "</div>"
      ],
      "text/plain": [
       "       Unnamed: 0  Capacity      Costs  Distance                From  \\\n",
       "0               0    8381.0  304.12495   198.409         Hub Graz-AT   \n",
       "1               1    8381.0  812.49820  1122.724         Hub Graz-AT   \n",
       "2               2    8381.0  718.49770   951.814         Hub Graz-AT   \n",
       "3               3    8381.0  383.01365   341.843         Hub Graz-AT   \n",
       "4               4    8381.0  468.26640   496.848         Hub Graz-AT   \n",
       "...           ...       ...        ...       ...                 ...   \n",
       "12987        3243    2250.0  697.26320  1153.772  Zilina- Strecno-SK   \n",
       "12988        3244    2250.0  386.92640   636.544  Zilina- Strecno-SK   \n",
       "12989        3245    2250.0  126.74720   202.912  Zilina- Strecno-SK   \n",
       "12990        3246    2250.0  131.54780   210.913  Zilina- Strecno-SK   \n",
       "12991        3247    2250.0    5.00000     0.000  Zilina- Strecno-SK   \n",
       "\n",
       "                              To     Truck type   Cost/kg  \n",
       "0                  Hub Wien I-AT  2 Swap Bodies  0.036287  \n",
       "1                     Brüssel-BE  2 Swap Bodies  0.096945  \n",
       "2                       Sofia-BG  2 Swap Bodies  0.085729  \n",
       "3                        Brno-CZ  2 Swap Bodies  0.045700  \n",
       "4                     Ostrava-CZ  2 Swap Bodies  0.055872  \n",
       "...                          ...            ...       ...  \n",
       "12987                   Malmö-SE            Van  0.309895  \n",
       "12988               Ljubljana-SI            Van  0.171967  \n",
       "12989       Bratislava - Raca-SK            Van  0.056332  \n",
       "12990  Bratislava - Petrzalka-SK            Van  0.058466  \n",
       "12991         Zilina- Strecno-SK            Van  0.002222  \n",
       "\n",
       "[12992 rows x 8 columns]"
      ]
     },
     "execution_count": 97,
     "metadata": {},
     "output_type": "execute_result"
    }
   ],
   "source": [
    "cost_file"
   ]
  },
  {
   "cell_type": "code",
   "execution_count": 88,
   "metadata": {
    "scrolled": true
   },
   "outputs": [],
   "source": [
    "freq[\"all_cap\"] = freq.apply(lambda row: row[\"3\"] * C[row[\"2\"]], axis = 1) # calculate the capacity of each route\n",
    "freq[\"all_cost\"] = freq.apply(lambda row: cost[(row[\"0\"], row[\"1\"], row[\"2\"])] * row[\"3\"], axis = 1)"
   ]
  },
  {
   "cell_type": "code",
   "execution_count": 89,
   "metadata": {
    "scrolled": true
   },
   "outputs": [],
   "source": [
    "# Cost / kg (Recommended) # if all the spaces are filled with co-loading opportunities\n",
    "ckg_co = freq[\"all_cost\"].sum() / freq[\"all_cap\"].sum()\n",
    "\n",
    "# Cost / demands # if no co-loading opportunities\n",
    "ckg_no_co = freq[\"all_cost\"].sum() / route_cap[\"2\"].sum()"
   ]
  },
  {
   "cell_type": "code",
   "execution_count": 90,
   "metadata": {},
   "outputs": [
    {
     "name": "stdout",
     "output_type": "stream",
     "text": [
      "The overall cost is  2201.649839645367\n",
      "The cost/kg (no co-loading) is  0.0003258037088404467\n"
     ]
    }
   ],
   "source": [
    "print(\"The overall cost is \",freq[\"all_cost\"].sum())\n",
    "print(\"The cost/kg (no co-loading) is \",ckg_no_co)"
   ]
  },
  {
   "cell_type": "markdown",
   "metadata": {},
   "source": [
    "## Travel Time"
   ]
  },
  {
   "cell_type": "code",
   "execution_count": 91,
   "metadata": {},
   "outputs": [],
   "source": [
    "tt_file = pd.read_csv(\"Database/travel time.csv\")\n",
    "TT = {}\n",
    "for row in tt_file.index:\n",
    "    key = (tt_file.loc[row, \"From\"], tt_file.loc[row, \"To\"])\n",
    "    value = tt_file.loc[row, \"est_tt\"]\n",
    "    \n",
    "    TT[key] = value"
   ]
  },
  {
   "cell_type": "code",
   "execution_count": 92,
   "metadata": {
    "scrolled": true
   },
   "outputs": [],
   "source": [
    "freq[\"Travel Time\"] = freq.apply(lambda row: TT[(row[\"0\"], row[\"1\"])], axis = 1)"
   ]
  },
  {
   "cell_type": "code",
   "execution_count": 93,
   "metadata": {},
   "outputs": [
    {
     "name": "stdout",
     "output_type": "stream",
     "text": [
      "The average Travel Time of the current model is  19.99404829487021\n"
     ]
    }
   ],
   "source": [
    "average_tt_route = (freq[\"Travel Time\"] * freq[\"3\"]).sum() / freq[\"3\"].sum()\n",
    "\n",
    "\n",
    "print(\"The average Travel Time of the current model is \", average_tt_route)"
   ]
  },
  {
   "cell_type": "code",
   "execution_count": null,
   "metadata": {
    "scrolled": true
   },
   "outputs": [],
   "source": []
  },
  {
   "cell_type": "markdown",
   "metadata": {},
   "source": [
    "# Current Network"
   ]
  },
  {
   "cell_type": "code",
   "execution_count": 94,
   "metadata": {},
   "outputs": [
    {
     "name": "stdout",
     "output_type": "stream",
     "text": [
      "['Trailer' '2 swap bodies' 'SEMI TRAILER' '1 swap body' 'van' 'trailer'\n",
      " 'Van' 'Sea Container' 'Cargo 50 m3' 'Van 22m3' '4 swap bodies'\n",
      " 'Van 15 m3']\n",
      "      Truck Type  Capacity\n",
      "0  2 Swap Bodies      8381\n",
      "1      Swap Body      4191\n",
      "2        Trailer      7650\n",
      "3            Van      2250\n"
     ]
    }
   ],
   "source": [
    "\n",
    "freq_current = pd.read_csv(\"Database/current_network.csv\")\n",
    "print(freq_current[\"Truck type\"].unique())\n",
    "print(truck_cap)\n",
    "# The following section work as a formatting part. To avoid different naming issues\n",
    "freq_current.replace(\"trailer\", \"Trailer\", inplace = True)\n",
    "freq_current.replace(\"2 swap bodies\", \"2 Swap Bodies\", inplace = True)\n",
    "freq_current.replace(\"van\", \"Van\", inplace = True)\n",
    "freq_current.replace(\"1 swap body\", \"Swap Body\", inplace = True)\n",
    "freq_current.replace(\"SEMI TRAILER\", \"Swap Body\", inplace = True)\n",
    "freq_current.replace(\"Cargo 50 m3\", \"Swap Body\", inplace = True)\n",
    "freq_current.replace(\"Sea Container\", \"2 Swap Bodies\", inplace = True)\n",
    "freq_current.replace(\"Van 15 m3\", \"Van\", inplace = True)\n",
    "freq_current.replace(\"Van 22m3\", \"Van\", inplace = True)\n",
    "freq_current.replace(\"4 swap bodies\", \"2 Swap Bodies\", inplace = True)\n",
    "\n",
    "F_ = {}\n",
    "for row in freq_current.index:\n",
    "    key = (freq_current.loc[row, \"From\"], freq_current.loc[row, \"To\"], freq_current.loc[row, \"Truck type\"])\n",
    "    value = freq_current.loc[row, \"Frequency\"]\n",
    "    \n",
    "    F_[key] = value\n",
    "    \n",
    "for target in pqt:\n",
    "    if target not in F_.keys():\n",
    "        F_[target] = 0\n",
    "        print(target)"
   ]
  },
  {
   "cell_type": "code",
   "execution_count": 95,
   "metadata": {},
   "outputs": [
    {
     "data": {
      "text/html": [
       "<div>\n",
       "<style scoped>\n",
       "    .dataframe tbody tr th:only-of-type {\n",
       "        vertical-align: middle;\n",
       "    }\n",
       "\n",
       "    .dataframe tbody tr th {\n",
       "        vertical-align: top;\n",
       "    }\n",
       "\n",
       "    .dataframe thead th {\n",
       "        text-align: right;\n",
       "    }\n",
       "</style>\n",
       "<table border=\"1\" class=\"dataframe\">\n",
       "  <thead>\n",
       "    <tr style=\"text-align: right;\">\n",
       "      <th></th>\n",
       "      <th>Unnamed: 0</th>\n",
       "      <th>Capacity</th>\n",
       "      <th>Costs</th>\n",
       "      <th>Distance</th>\n",
       "      <th>From</th>\n",
       "      <th>To</th>\n",
       "      <th>Truck type</th>\n",
       "      <th>Cost/kg</th>\n",
       "    </tr>\n",
       "  </thead>\n",
       "  <tbody>\n",
       "    <tr>\n",
       "      <th>0</th>\n",
       "      <td>0</td>\n",
       "      <td>8381.0</td>\n",
       "      <td>304.12495</td>\n",
       "      <td>198.409</td>\n",
       "      <td>Hub Graz-AT</td>\n",
       "      <td>Hub Wien I-AT</td>\n",
       "      <td>2 Swap Bodies</td>\n",
       "      <td>0.036287</td>\n",
       "    </tr>\n",
       "    <tr>\n",
       "      <th>1</th>\n",
       "      <td>1</td>\n",
       "      <td>8381.0</td>\n",
       "      <td>812.49820</td>\n",
       "      <td>1122.724</td>\n",
       "      <td>Hub Graz-AT</td>\n",
       "      <td>Brüssel-BE</td>\n",
       "      <td>2 Swap Bodies</td>\n",
       "      <td>0.096945</td>\n",
       "    </tr>\n",
       "    <tr>\n",
       "      <th>2</th>\n",
       "      <td>2</td>\n",
       "      <td>8381.0</td>\n",
       "      <td>718.49770</td>\n",
       "      <td>951.814</td>\n",
       "      <td>Hub Graz-AT</td>\n",
       "      <td>Sofia-BG</td>\n",
       "      <td>2 Swap Bodies</td>\n",
       "      <td>0.085729</td>\n",
       "    </tr>\n",
       "    <tr>\n",
       "      <th>3</th>\n",
       "      <td>3</td>\n",
       "      <td>8381.0</td>\n",
       "      <td>383.01365</td>\n",
       "      <td>341.843</td>\n",
       "      <td>Hub Graz-AT</td>\n",
       "      <td>Brno-CZ</td>\n",
       "      <td>2 Swap Bodies</td>\n",
       "      <td>0.045700</td>\n",
       "    </tr>\n",
       "    <tr>\n",
       "      <th>4</th>\n",
       "      <td>4</td>\n",
       "      <td>8381.0</td>\n",
       "      <td>468.26640</td>\n",
       "      <td>496.848</td>\n",
       "      <td>Hub Graz-AT</td>\n",
       "      <td>Ostrava-CZ</td>\n",
       "      <td>2 Swap Bodies</td>\n",
       "      <td>0.055872</td>\n",
       "    </tr>\n",
       "    <tr>\n",
       "      <th>...</th>\n",
       "      <td>...</td>\n",
       "      <td>...</td>\n",
       "      <td>...</td>\n",
       "      <td>...</td>\n",
       "      <td>...</td>\n",
       "      <td>...</td>\n",
       "      <td>...</td>\n",
       "      <td>...</td>\n",
       "    </tr>\n",
       "    <tr>\n",
       "      <th>12987</th>\n",
       "      <td>3243</td>\n",
       "      <td>2250.0</td>\n",
       "      <td>697.26320</td>\n",
       "      <td>1153.772</td>\n",
       "      <td>Zilina- Strecno-SK</td>\n",
       "      <td>Malmö-SE</td>\n",
       "      <td>Van</td>\n",
       "      <td>0.309895</td>\n",
       "    </tr>\n",
       "    <tr>\n",
       "      <th>12988</th>\n",
       "      <td>3244</td>\n",
       "      <td>2250.0</td>\n",
       "      <td>386.92640</td>\n",
       "      <td>636.544</td>\n",
       "      <td>Zilina- Strecno-SK</td>\n",
       "      <td>Ljubljana-SI</td>\n",
       "      <td>Van</td>\n",
       "      <td>0.171967</td>\n",
       "    </tr>\n",
       "    <tr>\n",
       "      <th>12989</th>\n",
       "      <td>3245</td>\n",
       "      <td>2250.0</td>\n",
       "      <td>126.74720</td>\n",
       "      <td>202.912</td>\n",
       "      <td>Zilina- Strecno-SK</td>\n",
       "      <td>Bratislava - Raca-SK</td>\n",
       "      <td>Van</td>\n",
       "      <td>0.056332</td>\n",
       "    </tr>\n",
       "    <tr>\n",
       "      <th>12990</th>\n",
       "      <td>3246</td>\n",
       "      <td>2250.0</td>\n",
       "      <td>131.54780</td>\n",
       "      <td>210.913</td>\n",
       "      <td>Zilina- Strecno-SK</td>\n",
       "      <td>Bratislava - Petrzalka-SK</td>\n",
       "      <td>Van</td>\n",
       "      <td>0.058466</td>\n",
       "    </tr>\n",
       "    <tr>\n",
       "      <th>12991</th>\n",
       "      <td>3247</td>\n",
       "      <td>2250.0</td>\n",
       "      <td>5.00000</td>\n",
       "      <td>0.000</td>\n",
       "      <td>Zilina- Strecno-SK</td>\n",
       "      <td>Zilina- Strecno-SK</td>\n",
       "      <td>Van</td>\n",
       "      <td>0.002222</td>\n",
       "    </tr>\n",
       "  </tbody>\n",
       "</table>\n",
       "<p>12992 rows × 8 columns</p>\n",
       "</div>"
      ],
      "text/plain": [
       "       Unnamed: 0  Capacity      Costs  Distance                From  \\\n",
       "0               0    8381.0  304.12495   198.409         Hub Graz-AT   \n",
       "1               1    8381.0  812.49820  1122.724         Hub Graz-AT   \n",
       "2               2    8381.0  718.49770   951.814         Hub Graz-AT   \n",
       "3               3    8381.0  383.01365   341.843         Hub Graz-AT   \n",
       "4               4    8381.0  468.26640   496.848         Hub Graz-AT   \n",
       "...           ...       ...        ...       ...                 ...   \n",
       "12987        3243    2250.0  697.26320  1153.772  Zilina- Strecno-SK   \n",
       "12988        3244    2250.0  386.92640   636.544  Zilina- Strecno-SK   \n",
       "12989        3245    2250.0  126.74720   202.912  Zilina- Strecno-SK   \n",
       "12990        3246    2250.0  131.54780   210.913  Zilina- Strecno-SK   \n",
       "12991        3247    2250.0    5.00000     0.000  Zilina- Strecno-SK   \n",
       "\n",
       "                              To     Truck type   Cost/kg  \n",
       "0                  Hub Wien I-AT  2 Swap Bodies  0.036287  \n",
       "1                     Brüssel-BE  2 Swap Bodies  0.096945  \n",
       "2                       Sofia-BG  2 Swap Bodies  0.085729  \n",
       "3                        Brno-CZ  2 Swap Bodies  0.045700  \n",
       "4                     Ostrava-CZ  2 Swap Bodies  0.055872  \n",
       "...                          ...            ...       ...  \n",
       "12987                   Malmö-SE            Van  0.309895  \n",
       "12988               Ljubljana-SI            Van  0.171967  \n",
       "12989       Bratislava - Raca-SK            Van  0.056332  \n",
       "12990  Bratislava - Petrzalka-SK            Van  0.058466  \n",
       "12991         Zilina- Strecno-SK            Van  0.002222  \n",
       "\n",
       "[12992 rows x 8 columns]"
      ]
     },
     "execution_count": 95,
     "metadata": {},
     "output_type": "execute_result"
    }
   ],
   "source": [
    "cost_file"
   ]
  },
  {
   "cell_type": "code",
   "execution_count": 96,
   "metadata": {},
   "outputs": [
    {
     "name": "stdout",
     "output_type": "stream",
     "text": [
      "Can't find Slough-GB or Köln-DE in the cost file\n",
      "Can't find Slough-GB or Köln-DE in the cost file\n",
      "Can't find Slough-GB or Köln-DE in the cost file\n",
      "Can't find Slough-GB or Köln-DE in the cost file\n",
      "Can't find Slough-GB or Köln-DE in the cost file\n",
      "Can't find Ryton Gateway-GB or Köln-DE in the cost file\n",
      "Can't find Zaltbommel-NL or PZ 44 (Bochum) [im Bau]-DE in the cost file\n",
      "Can't find Zaltbommel-NL or Köln-DE in the cost file\n",
      "Can't find Zaltbommel-NL or Regensburg-DE in the cost file\n",
      "Can't find Göteborg-SE or Oslo-NO in the cost file\n",
      "Can't find Göteborg-SE or Oslo-NO in the cost file\n",
      "Can't find Göteborg-SE or Oslo-NO in the cost file\n",
      "Can't find Köln-DE or Brüssel-BE in the cost file\n",
      "Can't find Köln-DE or Brüssel-BE in the cost file\n",
      "Can't find Köln-DE or Brüssel-BE in the cost file\n",
      "Can't find Köln-DE or Bettembourg-LU in the cost file\n",
      "Can't find Köln-DE or Bettembourg-LU in the cost file\n",
      "Can't find Köln-DE or Bettembourg-LU in the cost file\n",
      "Can't find Hagenbrunn-AT or Zabrze-PL in the cost file\n",
      "Can't find Hagenbrunn-AT or Brno-CZ in the cost file\n",
      "Can't find Köln-DE or Dublin-IE in the cost file\n",
      "Can't find Köln-DE or Dublin-IE in the cost file\n",
      "Can't find Zaltbommel-NL or Dublin-IE in the cost file\n",
      "Can't find Regensburg-DE or Ljubljana-SI in the cost file\n",
      "Can't find Regensburg-DE or Ivanka pri Dunaji-SK in the cost file\n",
      "Can't find Wien 1-AT or Regensburg-DE in the cost file\n",
      "Can't find Wien 1-AT or Regensburg-DE in the cost file\n",
      "Can't find Hagenbrunn-AT or Regensburg-DE in the cost file\n",
      "Can't find Allhaming-AT or Regensburg-DE in the cost file\n",
      "Can't find Allhaming-AT or Regensburg-DE in the cost file\n",
      "Can't find Allhaming-AT or Regensburg-DE in the cost file\n",
      "Can't find Allhaming-AT or Regensburg-DE in the cost file\n",
      "Can't find Allhaming-AT or Regensburg-DE in the cost file\n",
      "Can't find Enns-AT or Regensburg-DE in the cost file\n",
      "Can't find Wernberg-AT or Regensburg-DE in the cost file\n",
      "Can't find Regensburg-DE or Wien 1-AT in the cost file\n",
      "Can't find Regensburg-DE or Wien 1-AT in the cost file\n",
      "Can't find Regensburg-DE or Wien 1-AT in the cost file\n",
      "Can't find Regensburg-DE or Wien 1-AT in the cost file\n",
      "Can't find Regensburg-DE or Wien 1-AT in the cost file\n",
      "Can't find Regensburg-DE or Liesing-AT in the cost file\n",
      "Can't find Regensburg-DE or Liesing-AT in the cost file\n",
      "Can't find Regensburg-DE or Hagenbrunn-AT in the cost file\n",
      "Can't find Regensburg-DE or Hagenbrunn-AT in the cost file\n",
      "Can't find Regensburg-DE or Hagenbrunn-AT in the cost file\n",
      "Can't find Regensburg-DE or Hagenbrunn-AT in the cost file\n",
      "Can't find Regensburg-DE or Hagenbrunn-AT in the cost file\n",
      "Can't find Regensburg-DE or Hagenbrunn-AT in the cost file\n",
      "Can't find Regensburg-DE or Hub Wien II-AT in the cost file\n",
      "Can't find Regensburg-DE or Hub Wien II-AT in the cost file\n",
      "Can't find Regensburg-DE or Allhaming-AT in the cost file\n",
      "Can't find Regensburg-DE or Allhaming-AT in the cost file\n",
      "Can't find Regensburg-DE or Allhaming-AT in the cost file\n",
      "Can't find Regensburg-DE or Allhaming-AT in the cost file\n",
      "Can't find Regensburg-DE or Allhaming-AT in the cost file\n",
      "Can't find Regensburg-DE or Wals-AT in the cost file\n",
      "Can't find Regensburg-DE or Wals-AT in the cost file\n",
      "Can't find Regensburg-DE or Enns-AT in the cost file\n",
      "Can't find Regensburg-DE or Enns-AT in the cost file\n",
      "Can't find Regensburg-DE or Enns-AT in the cost file\n",
      "Can't find Regensburg-DE or Hub Graz-AT in the cost file\n",
      "Can't find Regensburg-DE or Hub Graz-AT in the cost file\n",
      "Can't find Regensburg-DE or Hub Graz-AT in the cost file\n",
      "Can't find Regensburg-DE or Hub Graz-AT in the cost file\n",
      "Can't find Regensburg-DE or Wundschuh-AT in the cost file\n",
      "Can't find Regensburg-DE or Wundschuh-AT in the cost file\n",
      "Can't find Regensburg-DE or Wernberg-AT in the cost file\n",
      "Can't find Regensburg-DE or Wernberg-AT in the cost file\n",
      "Can't find Regensburg-DE or Hall in Tirol-AT in the cost file\n",
      "Can't find Regensburg-DE or Hall in Tirol-AT in the cost file\n",
      "Can't find Zabrze-PL or Hagenbrunn-AT in the cost file\n",
      "Can't find Brno-CZ or Hagenbrunn-AT in the cost file\n",
      "Can't find Brno-CZ or Ivanka pri Dunaji-SK in the cost file\n",
      "Can't find Hradec Kralove-CZ or Strečno-SK in the cost file\n",
      "Can't find Olomouc-CZ or Strečno-SK in the cost file\n",
      "Can't find Ostrava-CZ or Strečno-SK in the cost file\n",
      "Can't find Ostrava-CZ or Strečno-SK in the cost file\n",
      "Can't find Ostrava-CZ or Strečno-SK in the cost file\n",
      "Can't find Ricany-CZ or Ivanka pri Dunaji-SK in the cost file\n",
      "Can't find Zlin-CZ or Strečno-SK in the cost file\n",
      "Can't find Ivanka pri Dunaji-SK or Ricany-CZ in the cost file\n",
      "Can't find Budapest NPKK (OE) or Regensburg-DE in the cost file\n",
      "Can't find Helsingborg-SE or PZ 24 (Neumünster)-DE in the cost file\n"
     ]
    }
   ],
   "source": [
    "freq_current[\"all_cap\"] = freq_current.apply(lambda row: row[\"Frequency\"] * C[row[\"Truck type\"]], axis = 1) # calculate the capacity of each route\n",
    "missing = []\n",
    "for row in freq_current.index:\n",
    "    ori = freq_current.loc[row, \"From\"]\n",
    "    dst = freq_current.loc[row, \"To\"]\n",
    "    if (freq_current.loc[row, \"From\"], freq_current.loc[row, \"To\"], freq_current.loc[row, \"Truck type\"]) in list(cost.keys()):\n",
    "        continue    \n",
    "    else:\n",
    "        if ori not in used_hubs:\n",
    "            missing.append(ori)\n",
    "            \n",
    "        if dst not in used_hubs:\n",
    "            missing.append(dst)\n",
    "            \n",
    "        \n",
    "        print(f\"Can't find {ori} or {dst} in the cost file\")\n",
    "    \n",
    "#    freq_current[\"all_cost\"] = freq_current.apply(lambda row: cost[(row[\"From\"], row[\"To\"], row[\"Truck type\"])] * row[\"Frequency\"], axis = 1)\n"
   ]
  },
  {
   "cell_type": "code",
   "execution_count": 102,
   "metadata": {},
   "outputs": [
    {
     "data": {
      "text/plain": [
       "array(['Wien 1-AT', 'Wien-AT', 'Brüssel-BE', 'Sofia-BG', 'Brno-CZ',\n",
       "       'Ostrava-CZ', 'Krupka-CZ', 'Plzen-CZ', 'Hradec Kralove-CZ',\n",
       "       'Speyer-DE', 'Köln-DE', 'Radefeld-DE', 'Feucht-DE', 'Lahr-DE',\n",
       "       'Regensburg-DE', 'Hamburg-DE', 'Dorsten-DE', 'Hagen-DE',\n",
       "       'Neuwied-DE', 'Krefeld-DE', 'Rüdersdorf-DE', 'Kolding-DK',\n",
       "       'Barcelona-ES', 'Madrid-ES', 'Vitoria-ES', 'Turku (Lieto)-FI',\n",
       "       'Vantaa-FI', 'Combs-la-Ville-FR', 'Slough-GB', 'Ryton Gateway-GB',\n",
       "       'Spata-GR', 'Zagreb-HR', 'OLK-HU', 'Budapest-HU', 'Portlaoise-IE',\n",
       "       'Kaunas-LT', 'Bettembourg-LU', 'EINDHOVEN-NL', 'Utrecht-NL',\n",
       "       'Zaltbommel-NL', 'Oslo-NO', 'Ełk-PL', 'Poznań-PL', 'Zabrze-PL',\n",
       "       'Koninko-PL', 'Wroclaw-PL', 'Bydgoszcz-PL', 'Lisbon-PT',\n",
       "       'Oradea-RO', 'Stockholm-SE', 'Helsingborg-SE', 'ARLÖV-SE',\n",
       "       'Malmö-SE', 'Ljubljana-SI', 'Bratislava Rača-SK',\n",
       "       'Bratislava Petržalka-SK', 'Strečno-SK', 'Allhaming-AT',\n",
       "       'Hagenbrunn-AT', 'Ivanka pri Dunaji-SK', 'Enns-AT', 'Göteborg-SE',\n",
       "       'Ricany-CZ', 'Olomouc-CZ', 'Dublin-IE', 'Hall in Tirol-AT',\n",
       "       'Hub Wien II-AT', 'Liesing-AT', 'Wals-AT', 'Wundschuh-AT',\n",
       "       'Wernberg-AT', 'PZ 44 (Bochum) [im Bau]-DE', 'Zlin-CZ'],\n",
       "      dtype=object)"
      ]
     },
     "execution_count": 102,
     "metadata": {},
     "output_type": "execute_result"
    }
   ],
   "source": [
    "#freq_current.From.unique()\n",
    "masterfile.From.unique()"
   ]
  },
  {
   "cell_type": "code",
   "execution_count": 84,
   "metadata": {
    "scrolled": true
   },
   "outputs": [
    {
     "data": {
      "text/plain": [
       "['Hub Graz-AT',\n",
       " 'Hub Graz-AT',\n",
       " 'Hub Graz-AT',\n",
       " 'Hub Graz-AT',\n",
       " 'Budapest NPKK (OE)',\n",
       " 'PZ 24 (Neumünster)-DE']"
      ]
     },
     "execution_count": 84,
     "metadata": {},
     "output_type": "execute_result"
    }
   ],
   "source": [
    "missing"
   ]
  },
  {
   "cell_type": "code",
   "execution_count": 352,
   "metadata": {},
   "outputs": [],
   "source": [
    "used_hubs = masterfile.From.unique().tolist() +  masterfile.To.unique().tolist() # Not every hubs in the hub list is used\n",
    "used_hubs = list( dict.fromkeys(used_hubs) )  # Remove duplicate"
   ]
  },
  {
   "cell_type": "code",
   "execution_count": 392,
   "metadata": {
    "scrolled": true
   },
   "outputs": [
    {
     "data": {
      "text/html": [
       "<div>\n",
       "<style scoped>\n",
       "    .dataframe tbody tr th:only-of-type {\n",
       "        vertical-align: middle;\n",
       "    }\n",
       "\n",
       "    .dataframe tbody tr th {\n",
       "        vertical-align: top;\n",
       "    }\n",
       "\n",
       "    .dataframe thead th {\n",
       "        text-align: right;\n",
       "    }\n",
       "</style>\n",
       "<table border=\"1\" class=\"dataframe\">\n",
       "  <thead>\n",
       "    <tr style=\"text-align: right;\">\n",
       "      <th></th>\n",
       "      <th>Unnamed: 0</th>\n",
       "      <th>City</th>\n",
       "      <th>Ref_City</th>\n",
       "      <th>Country</th>\n",
       "      <th>AAAAA</th>\n",
       "    </tr>\n",
       "  </thead>\n",
       "  <tbody>\n",
       "  </tbody>\n",
       "</table>\n",
       "</div>"
      ],
      "text/plain": [
       "Empty DataFrame\n",
       "Columns: [Unnamed: 0, City, Ref_City, Country, AAAAA]\n",
       "Index: []"
      ]
     },
     "execution_count": 392,
     "metadata": {},
     "output_type": "execute_result"
    }
   ],
   "source": [
    "hub_list[hub_list[\"Ref_City\"] == \"Eindhoven-NL\"]"
   ]
  },
  {
   "cell_type": "code",
   "execution_count": 393,
   "metadata": {},
   "outputs": [],
   "source": [
    "hub_list[\"Country\"] = hub_list.apply(lambda row: row.Ref_City.split(\"-\")[-1], axis = 1)\n",
    "hub_list.loc[:, [\"City\", \"Ref_City\", \"Country\"]].to_csv(\"Hub list.csv\")"
   ]
  },
  {
   "cell_type": "code",
   "execution_count": 391,
   "metadata": {},
   "outputs": [],
   "source": [
    "hub_list[\"Ref_City\"].replace(\"Hradec Kralove-CZ\", \"Hradec Kralove - Brezhrad-CZ\", inplace = True)\n",
    "hub_list[\"Ref_City\"].replace(\"Eindhoven-NL\", \"Eindhoven-Noord-NL\", inplace = True)\n",
    "hub_list[\"Ref_City\"].replace(\"Zilina-SK\", \"Zilina- Strecno-SK\", inplace = True)\n",
    "hub_list[\"Ref_City\"].replace(\"Lieto (Turku)-FI\", \"Lieto (Turku)-FL\", inplace = True)\n",
    "\n",
    "hub_list[\"Ref_City\"].replace('Stockholm -SE', \"Stockholm - Västberga-SE\", inplace = True)\n",
    "hub_list[\"Ref_City\"].replace('Vantaa (Helsinki)-FI', \"Vantaa (Helsinki)-FL\", inplace = True)\n",
    "\n",
    "hub_list[\"Ref_City\"].replace(\"Kalsdorf bei Graz-AT\", \"Hub Graz-AT\", inplace = True)\n",
    "\n",
    "\n",
    "hub_list[\"Ref_City\"].replace(\"PZ 93 (Regensburg)\", \"Regensburg\", inplace = True)\n",
    "hub_list[\"Ref_City\"].replace(\"Zilina- Strecno\", \"Strecno\", inplace = True)"
   ]
  },
  {
   "cell_type": "code",
   "execution_count": 101,
   "metadata": {},
   "outputs": [],
   "source": [
    "#masterfile[masterfile.From == \"Lieto (Turku)-FL\"]"
   ]
  },
  {
   "cell_type": "code",
   "execution_count": 365,
   "metadata": {},
   "outputs": [
    {
     "data": {
      "text/html": [
       "<div>\n",
       "<style scoped>\n",
       "    .dataframe tbody tr th:only-of-type {\n",
       "        vertical-align: middle;\n",
       "    }\n",
       "\n",
       "    .dataframe tbody tr th {\n",
       "        vertical-align: top;\n",
       "    }\n",
       "\n",
       "    .dataframe thead th {\n",
       "        text-align: right;\n",
       "    }\n",
       "</style>\n",
       "<table border=\"1\" class=\"dataframe\">\n",
       "  <thead>\n",
       "    <tr style=\"text-align: right;\">\n",
       "      <th></th>\n",
       "      <th>Unnamed: 0</th>\n",
       "      <th>City</th>\n",
       "      <th>Ref_City</th>\n",
       "      <th>Country</th>\n",
       "    </tr>\n",
       "  </thead>\n",
       "  <tbody>\n",
       "    <tr>\n",
       "      <th>0</th>\n",
       "      <td>0</td>\n",
       "      <td>Wien 1</td>\n",
       "      <td>Hub Wien I-AT</td>\n",
       "      <td>AT</td>\n",
       "    </tr>\n",
       "    <tr>\n",
       "      <th>1</th>\n",
       "      <td>1</td>\n",
       "      <td>Wien 2</td>\n",
       "      <td>Hub Wien II-AT</td>\n",
       "      <td>AT</td>\n",
       "    </tr>\n",
       "    <tr>\n",
       "      <th>2</th>\n",
       "      <td>2</td>\n",
       "      <td>Hub Linz</td>\n",
       "      <td>Hub Linz-AT</td>\n",
       "      <td>AT</td>\n",
       "    </tr>\n",
       "    <tr>\n",
       "      <th>3</th>\n",
       "      <td>3</td>\n",
       "      <td>Hub Graz</td>\n",
       "      <td>Hub Graz-AT</td>\n",
       "      <td>AT</td>\n",
       "    </tr>\n",
       "    <tr>\n",
       "      <th>4</th>\n",
       "      <td>4</td>\n",
       "      <td>Meiningen</td>\n",
       "      <td>Meiningen-AT</td>\n",
       "      <td>AT</td>\n",
       "    </tr>\n",
       "    <tr>\n",
       "      <th>...</th>\n",
       "      <td>...</td>\n",
       "      <td>...</td>\n",
       "      <td>...</td>\n",
       "      <td>...</td>\n",
       "    </tr>\n",
       "    <tr>\n",
       "      <th>460</th>\n",
       "      <td>460</td>\n",
       "      <td>Milan</td>\n",
       "      <td>Milan-IT</td>\n",
       "      <td>IT</td>\n",
       "    </tr>\n",
       "    <tr>\n",
       "      <th>461</th>\n",
       "      <td>461</td>\n",
       "      <td>Verona</td>\n",
       "      <td>Verona-IT</td>\n",
       "      <td>IT</td>\n",
       "    </tr>\n",
       "    <tr>\n",
       "      <th>462</th>\n",
       "      <td>462</td>\n",
       "      <td>Napoli</td>\n",
       "      <td>Napoli-IT</td>\n",
       "      <td>IT</td>\n",
       "    </tr>\n",
       "    <tr>\n",
       "      <th>463</th>\n",
       "      <td>463</td>\n",
       "      <td>Pesaro</td>\n",
       "      <td>Pesaro-IT</td>\n",
       "      <td>IT</td>\n",
       "    </tr>\n",
       "    <tr>\n",
       "      <th>464</th>\n",
       "      <td>464</td>\n",
       "      <td>Tallinn</td>\n",
       "      <td>Tallinn-EE</td>\n",
       "      <td>EE</td>\n",
       "    </tr>\n",
       "  </tbody>\n",
       "</table>\n",
       "<p>465 rows × 4 columns</p>\n",
       "</div>"
      ],
      "text/plain": [
       "     Unnamed: 0       City        Ref_City Country\n",
       "0             0     Wien 1   Hub Wien I-AT      AT\n",
       "1             1     Wien 2  Hub Wien II-AT      AT\n",
       "2             2   Hub Linz     Hub Linz-AT      AT\n",
       "3             3   Hub Graz     Hub Graz-AT      AT\n",
       "4             4  Meiningen    Meiningen-AT      AT\n",
       "..          ...        ...             ...     ...\n",
       "460         460      Milan        Milan-IT      IT\n",
       "461         461     Verona       Verona-IT      IT\n",
       "462         462     Napoli       Napoli-IT      IT\n",
       "463         463     Pesaro       Pesaro-IT      IT\n",
       "464         464    Tallinn      Tallinn-EE      EE\n",
       "\n",
       "[465 rows x 4 columns]"
      ]
     },
     "execution_count": 365,
     "metadata": {},
     "output_type": "execute_result"
    }
   ],
   "source": [
    "hub_list"
   ]
  },
  {
   "cell_type": "code",
   "execution_count": 369,
   "metadata": {},
   "outputs": [],
   "source": []
  },
  {
   "cell_type": "code",
   "execution_count": 381,
   "metadata": {},
   "outputs": [],
   "source": [
    "\n",
    "\n"
   ]
  },
  {
   "cell_type": "code",
   "execution_count": null,
   "metadata": {},
   "outputs": [],
   "source": [
    "masterfile.From"
   ]
  }
 ],
 "metadata": {
  "kernelspec": {
   "display_name": "Python 3",
   "language": "python",
   "name": "python3"
  },
  "language_info": {
   "codemirror_mode": {
    "name": "ipython",
    "version": 3
   },
   "file_extension": ".py",
   "mimetype": "text/x-python",
   "name": "python",
   "nbconvert_exporter": "python",
   "pygments_lexer": "ipython3",
   "version": "3.7.4"
  }
 },
 "nbformat": 4,
 "nbformat_minor": 2
}
