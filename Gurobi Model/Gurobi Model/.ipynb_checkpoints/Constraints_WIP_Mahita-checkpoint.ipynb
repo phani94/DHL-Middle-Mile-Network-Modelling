{
 "cells": [
  {
   "cell_type": "code",
   "execution_count": null,
   "metadata": {},
   "outputs": [],
   "source": [
    "model.addConstr((Spq + TTpq - Npq * 24, GRB.LESS_EQUAL, Hpq - PreSOS1BigM (1 - (xpq + (quicksum(x1pqi for i in range(len(Lk)))) + (quicksum(x1ipq for i in range(len(Lk)))))) for q in Lj for p in Lm for m,j in E if m!=j), \"Hub Cut Off Time\")\n",
    "model.addConstr((Spq + TTpq - Npq * 24, GRB.GREATER_EQUAL, Oq - PreSO12BigM (1 - (xpq + (quicksum(x1pqi for i in range(len(Lk)))) + (quicksum(x1ipq for i in range(len(Lk))))))  for q in Lj for p in Lm for m,j in E if m!=j), \"Hub Open Time\")\n",
    "\n",
    "model.addConstr(((quicksum((Fpqt * Costpqt) for p in range(len(Lm)), for q in range(len(Lj)), for t in range(len(T)))) + (quicksum((F1pqt * Ct) for p in range(len(Lm)), for q in range(len(Lj)), for t in range(len(T)))),GRB.LESS_EQUAL, (quicksum((F1pqt * Costpqt) for p in range(len(Lm)), for q in range(len(Lj)), for t in range(len(T)))) + (quicksum((Fpqt * Ct) for p in range(len(Lm)), for q in range(len(Lj)), for t in range(len(T)))) * 1.05 for m, j, k in E if m!=j if j!=k if k!=m), \"Cost Constraint\")"
   ]
  }
 ],
 "metadata": {
  "kernelspec": {
   "display_name": "Python 3",
   "language": "python",
   "name": "python3"
  },
  "language_info": {
   "codemirror_mode": {
    "name": "ipython",
    "version": 3
   },
   "file_extension": ".py",
   "mimetype": "text/x-python",
   "name": "python",
   "nbconvert_exporter": "python",
   "pygments_lexer": "ipython3",
   "version": "3.7.4"
  }
 },
 "nbformat": 4,
 "nbformat_minor": 2
}
