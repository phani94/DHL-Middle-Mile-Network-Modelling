{
 "cells": [
  {
   "cell_type": "code",
   "execution_count": 5,
   "metadata": {},
   "outputs": [],
   "source": [
    "import pandas as pd\n",
    "\n",
    "#distances = pd.read_excel(\"Simple Routes.xlsx\", sheet_name = 0)\n",
    "distances = pd.read_excel(\"../Database/Simple/Simple Routes.xlsx\")\n",
    "#distances.columns = [\"\", 'Origin Country', 'Destination Country', 'From', 'To', 'Distance', 'Time Format', 'Time', 'Duration']\n",
    "schedule = pd.read_csv(\"raw data/tn_rs.csv\") # Read the current network (Used/Nonused)\n"
   ]
  },
  {
   "cell_type": "code",
   "execution_count": 9,
   "metadata": {},
   "outputs": [],
   "source": [
    "schedule.replace(\"Ryton Gateway\", \"Ryton\", inplace = True)\n"
   ]
  },
  {
   "cell_type": "code",
   "execution_count": 11,
   "metadata": {},
   "outputs": [],
   "source": [
    "ref_table = pd.read_csv(\"../Database/Hub list.csv\")\n",
    "ref_table[\"Masterfile_name\"] = ref_table.Ref_City + \"-\"+ ref_table.Country"
   ]
  },
  {
   "cell_type": "code",
   "execution_count": 12,
   "metadata": {},
   "outputs": [],
   "source": [
    "costs = schedule.loc[:, [\"Org. GTW\", \"Dst. GTW\", \"Truck type\", \"Distance in km\", \"Costs\"]]\n",
    "existing_costs = costs[costs.Costs != 0] # Get rid of the missing values"
   ]
  },
  {
   "cell_type": "code",
   "execution_count": 13,
   "metadata": {},
   "outputs": [
    {
     "name": "stderr",
     "output_type": "stream",
     "text": [
      "/Users/yi/opt/anaconda3/lib/python3.7/site-packages/pandas/core/frame.py:4172: SettingWithCopyWarning: \n",
      "A value is trying to be set on a copy of a slice from a DataFrame\n",
      "\n",
      "See the caveats in the documentation: https://pandas.pydata.org/pandas-docs/stable/user_guide/indexing.html#returning-a-view-versus-a-copy\n",
      "  method=method,\n"
     ]
    }
   ],
   "source": [
    "existing_costs.replace(\"van\", \"Van\", inplace = True)\n",
    "existing_costs.replace(\"trailer\", \"Trailer\", inplace = True)\n",
    "existing_costs.replace(\"2 swap bodies\", \"2 Swap Bodies\", inplace = True)"
   ]
  },
  {
   "cell_type": "code",
   "execution_count": 14,
   "metadata": {},
   "outputs": [],
   "source": [
    "existing_costs.groupby(\"Truck type\").count()\n",
    "truck_type = existing_costs.groupby(\"Truck type\").count().index"
   ]
  },
  {
   "cell_type": "code",
   "execution_count": null,
   "metadata": {},
   "outputs": [],
   "source": []
  },
  {
   "cell_type": "code",
   "execution_count": 15,
   "metadata": {},
   "outputs": [
    {
     "name": "stdout",
     "output_type": "stream",
     "text": [
      "0.0\n",
      "0\n"
     ]
    }
   ],
   "source": [
    "# Gather the list of cities\n",
    "\n",
    "hub_list_in_GS =  ref_table[\"City\"].tolist()\n",
    "org_list = schedule[\"Org. GTW\"].unique().tolist()\n",
    "\n",
    "hub_ref = {}\n",
    "count = 0\n",
    "for x in org_list:\n",
    "    for y in hub_list_in_GS:\n",
    "        if x in y:\n",
    "            msname = ref_table[ref_table[\"City\"] == y][\"Masterfile_name\"]\n",
    "            hub_ref[x] =  msname.values[0]\n",
    "            break\n",
    "    \n",
    "    else:\n",
    "        print(f\"{x} is not in the list\")\n",
    "        count = count+1\n",
    " \n",
    "print(count / len(org_list))\n",
    "        \n",
    "count = 0\n",
    "des_list = schedule[\"Dst. GTW\"].unique().tolist()\n",
    "for x in des_list:\n",
    "    for y in hub_list_in_GS:\n",
    "        if x in y:\n",
    "            msname = ref_table[ref_table[\"City\"] == y][\"Masterfile_name\"]\n",
    "            hub_ref[x] =  msname.values[0]\n",
    "            break\n",
    "    \n",
    "    else:\n",
    "        print(f\"{x} is not in the list\")\n",
    "        count = count+1\n",
    "        \n",
    "print(count)"
   ]
  },
  {
   "cell_type": "code",
   "execution_count": 16,
   "metadata": {},
   "outputs": [],
   "source": [
    "dist_col_name = \"Distance\"\n",
    "time_col_name = \"Duration\"\n",
    "\n",
    "\n",
    "def find_dist(org, dst):\n",
    "    if org in hub_ref.keys():\n",
    "        org = hub_ref[org]\n",
    "    else:\n",
    "        print(f\"in the route of {org} and {dst}, {org} can't find\")\n",
    "    if dst in hub_ref.keys():\n",
    "        dst = hub_ref[dst]\n",
    "    else:\n",
    "        print(f\"in the route of {org} and {dst}, {dst} can't find\")\n",
    "        \n",
    "    km = distances.loc[(distances[\"From\"] == org) & (distances[\"To\"] == dst), dist_col_name]\n",
    "    time = distances.loc[(distances[\"From\"] == org) & (distances[\"To\"] == dst), time_col_name]\n",
    "    return [km, time]"
   ]
  },
  {
   "cell_type": "code",
   "execution_count": 17,
   "metadata": {},
   "outputs": [],
   "source": [
    "for row in existing_costs.index:\n",
    "    org = existing_costs.loc[row, \"Org. GTW\"]\n",
    "    dst = existing_costs.loc[row, \"Dst. GTW\"]\n",
    "    ans = find_dist(org, dst)\n",
    "\n",
    "    if len(ans[0]) != 0:\n",
    "        existing_costs.loc[row, \"bing distance\"] = ans[0].values[0]\n",
    "        existing_costs.loc[row, \"bing driving time\"] = ans[1].values[0]"
   ]
  },
  {
   "cell_type": "code",
   "execution_count": 18,
   "metadata": {},
   "outputs": [
    {
     "name": "stderr",
     "output_type": "stream",
     "text": [
      "/Users/yi/opt/anaconda3/lib/python3.7/site-packages/ipykernel_launcher.py:4: SettingWithCopyWarning: \n",
      "A value is trying to be set on a copy of a slice from a DataFrame.\n",
      "Try using .loc[row_indexer,col_indexer] = value instead\n",
      "\n",
      "See the caveats in the documentation: https://pandas.pydata.org/pandas-docs/stable/user_guide/indexing.html#returning-a-view-versus-a-copy\n",
      "  after removing the cwd from sys.path.\n"
     ]
    }
   ],
   "source": [
    "import numpy as np\n",
    "existing_costs[\"distance\"] = existing_costs.apply(lambda row: row[\"bing distance\"] \n",
    "                                                  if row[\"Distance in km\"] != row[\"Distance in km\"] else row[\"Distance in km\"], \n",
    "                                                  axis = 1\n",
    "                                                 )"
   ]
  },
  {
   "cell_type": "code",
   "execution_count": 19,
   "metadata": {},
   "outputs": [],
   "source": [
    "existing_costs.dropna(subset = [\"distance\"], axis = 0)\n",
    "existing_costs = existing_costs[existing_costs.distance < 9000]"
   ]
  },
  {
   "cell_type": "code",
   "execution_count": null,
   "metadata": {},
   "outputs": [],
   "source": []
  },
  {
   "cell_type": "code",
   "execution_count": 20,
   "metadata": {},
   "outputs": [],
   "source": [
    "def model(a, b, dist):\n",
    "    est_costs = a*dist + b\n",
    "    return est_costs\n",
    "\n",
    "def test_type(truck, dataset_all):\n",
    "    dataset = dataset_all[dataset_all[\"Truck type\"] == truck]\n",
    "    grid_search = [(x/20, y*5) for x in range(0, 15) for y in range(0, 40)]\n",
    "    record = []\n",
    "    for a, b in grid_search:\n",
    "        dataset[\"est_costs\"] = dataset.apply(lambda row: model(a, b, row.distance), axis = 1)\n",
    "        sme = sum((dataset[\"est_costs\"] - dataset[\"Costs\"])**2)\n",
    "        record.append([a, b, sme])\n",
    "    \n",
    "    df_record = pd.DataFrame(record)\n",
    "    best_set = df_record[df_record[2] == df_record[2].min()].values.tolist()[0]\n",
    "    # only output the best set\n",
    "    \n",
    "    return best_set\n",
    "    \n",
    "    \n",
    "    "
   ]
  },
  {
   "cell_type": "code",
   "execution_count": 21,
   "metadata": {},
   "outputs": [
    {
     "name": "stderr",
     "output_type": "stream",
     "text": [
      "/Users/yi/opt/anaconda3/lib/python3.7/site-packages/ipykernel_launcher.py:10: SettingWithCopyWarning: \n",
      "A value is trying to be set on a copy of a slice from a DataFrame.\n",
      "Try using .loc[row_indexer,col_indexer] = value instead\n",
      "\n",
      "See the caveats in the documentation: https://pandas.pydata.org/pandas-docs/stable/user_guide/indexing.html#returning-a-view-versus-a-copy\n",
      "  # Remove the CWD from sys.path while we load stuff.\n"
     ]
    },
    {
     "name": "stdout",
     "output_type": "stream",
     "text": [
      "2 Swap Bodies model's best set is 0.7, 195.0, with SME: 61266.81999999999\n",
      "SEMI TRAILER model's best set is 0.7, 5.0, with SME: 22337.61000000001\n",
      "Sea Container model's best set is 0.7, 195.0, with SME: 349895.9104\n",
      "Trailer model's best set is 0.7, 195.0, with SME: 30466935.41581072\n",
      "Van model's best set is 0.6, 5.0, with SME: 14615.0\n"
     ]
    }
   ],
   "source": [
    "best = {}\n",
    "for truck in truck_type:\n",
    "    best[truck] = test_type(truck, existing_costs)\n",
    "    print(f\"{truck} model's best set is {best[truck][0]}, {best[truck][1]}, with SME: {best[truck][2]}\")"
   ]
  },
  {
   "cell_type": "code",
   "execution_count": 22,
   "metadata": {},
   "outputs": [],
   "source": [
    "for_join = existing_costs.loc[:, [\"Org. GTW\", \"Dst. GTW\",\"Truck type\", \"distance\", \"Costs\"]]\n",
    "t_type = pd.DataFrame(truck_type)\n",
    "\n",
    "joined_compare = pd.concat([for_join, t_type], axis = 1, join = \"inner\")"
   ]
  },
  {
   "cell_type": "code",
   "execution_count": 23,
   "metadata": {},
   "outputs": [],
   "source": [
    "cost_predict = pd.DataFrame(columns = [\"Org. GTW\", \"Dst. GTW\", \"distance\", \"Costs\", \"Truck type\"]) \n",
    "for truck in truck_type:\n",
    "    (a,b,c) = best[truck]\n",
    "    add = existing_costs.loc[:, [\"Org. GTW\", \"Dst. GTW\", \"distance\"]].copy()\n",
    "    add[\"Costs\"] = add.apply(lambda row: model(a, b, row.distance), axis = 1)\n",
    "    add[\"Truck type\"] = truck\n",
    "    \n",
    "    cost_predict = cost_predict.append(add)"
   ]
  },
  {
   "cell_type": "code",
   "execution_count": 29,
   "metadata": {},
   "outputs": [
    {
     "name": "stderr",
     "output_type": "stream",
     "text": [
      "UsageError: Line magic function `%matplitlib` not found.\n"
     ]
    },
    {
     "data": {
      "image/png": "[encoded data removed]",
      "text/plain": [
       "<Figure size 1440x720 with 2 Axes>"
      ]
     },
     "metadata": {
      "needs_background": "light"
     },
     "output_type": "display_data"
    }
   ],
   "source": [
    "import seaborn as sns\n",
    "import matplotlib.pyplot as plt\n",
    "\n",
    "fig = plt.figure(figsize = (20,10))\n",
    "fig = plt.subplot(1,2,1)\n",
    "sns.scatterplot(data = existing_costs, x = \"distance\", y = \"Costs\", hue = \"Truck type\")\n",
    "\n",
    "fig = plt.subplot(1,2,2)\n",
    "sns.scatterplot(data = cost_predict, x = \"distance\", y = \"Costs\", hue = \"Truck type\")\n",
    "\n",
    "\n",
    "%matplitlib inline"
   ]
  },
  {
   "cell_type": "markdown",
   "metadata": {},
   "source": [
    "# Implement the equation to all the routes using all the truck types"
   ]
  },
  {
   "cell_type": "code",
   "execution_count": 27,
   "metadata": {},
   "outputs": [],
   "source": [
    "# Prediction of the costs\n",
    "truck_cap = pd.read_excel(\"../Database/TruckVSCap.xlsx\", sheet_name = 0)\n",
    "truck_cap\n",
    "best[\"Swap Body\"] =  best[\"SEMI TRAILER\"]  # Assume Semi Trailer has the same cost as Swap body\n",
    "\n",
    "truck_cap_d = {}\n",
    "for row in truck_cap.index:\n",
    "    truck_cap_d[truck_cap.loc[row, \"Truck Type\"]] = truck_cap.loc[row, \"Capacity\"]"
   ]
  },
  {
   "cell_type": "code",
   "execution_count": 28,
   "metadata": {},
   "outputs": [],
   "source": [
    "cost_for_all = pd.DataFrame(columns = [\"From\", \"To\", \"Distance\", ])\n",
    "\n",
    "for truck in truck_cap_d.keys():\n",
    "    (a,b,c) = best[truck]\n",
    "    add = distances.loc[:, [\"From\", \"To\", \"Distance\"]].copy()\n",
    "    add[\"Costs\"] = add.apply(lambda row: model(a, b, row.Distance), axis = 1)\n",
    "    add[\"Truck type\"] = truck\n",
    "    add[\"Capacity\"] = truck_cap_d[truck]\n",
    "    \n",
    "    cost_for_all = cost_for_all.append(add)\n",
    "\n",
    "cost_for_all[\"Cost/kg\"] = cost_for_all[\"Costs\"] / cost_for_all[\"Capacity\"]"
   ]
  },
  {
   "cell_type": "code",
   "execution_count": 30,
   "metadata": {},
   "outputs": [],
   "source": [
    "cost_for_all.to_csv(\"../Database/Costs.csv\")"
   ]
  },
  {
   "cell_type": "code",
   "execution_count": null,
   "metadata": {},
   "outputs": [],
   "source": []
  }
 ],
 "metadata": {
  "kernelspec": {
   "display_name": "Python 3",
   "language": "python",
   "name": "python3"
  },
  "language_info": {
   "codemirror_mode": {
    "name": "ipython",
    "version": 3
   },
   "file_extension": ".py",
   "mimetype": "text/x-python",
   "name": "python",
   "nbconvert_exporter": "python",
   "pygments_lexer": "ipython3",
   "version": "3.7.4"
  }
 },
 "nbformat": 4,
 "nbformat_minor": 2
}
