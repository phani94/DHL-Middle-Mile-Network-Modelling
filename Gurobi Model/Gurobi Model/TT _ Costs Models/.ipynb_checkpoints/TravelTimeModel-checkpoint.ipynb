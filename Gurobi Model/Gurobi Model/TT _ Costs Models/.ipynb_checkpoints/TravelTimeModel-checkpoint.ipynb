{
 "cells": [
  {
   "cell_type": "code",
   "execution_count": 28,
   "metadata": {},
   "outputs": [],
   "source": [
    "import pandas as pd\n",
    "import numpy as np\n",
    "\n",
    "def turn_to_hr(target):\n",
    "    time = target.hour + target.minute/60\n",
    "    return (time)\n",
    "\n",
    "def turn_to_hr_str(target):\n",
    "    time = int(target.split(\":\")[0]) + int(target.split(\":\")[1])/60\n",
    "    return time"
   ]
  },
  {
   "cell_type": "code",
   "execution_count": 29,
   "metadata": {},
   "outputs": [
    {
     "data": {
      "text/plain": [
       "'\\nref_table = pd.read_csv(\"Hubs Compare Table.csv\")\\nref_table.dropna(how = \"all\", axis = 1, inplace = True)\\nref_table.columns = [\"GS_Country\", \"GS_Hub\",\"M_Country\", \"M_Hub\" ]\\nref_table = ref_table.drop(0, axis = 0)\\n'"
      ]
     },
     "execution_count": 29,
     "metadata": {},
     "output_type": "execute_result"
    }
   ],
   "source": [
    "'''\n",
    "ref_table = pd.read_csv(\"Hubs Compare Table.csv\")\n",
    "ref_table.dropna(how = \"all\", axis = 1, inplace = True)\n",
    "ref_table.columns = [\"GS_Country\", \"GS_Hub\",\"M_Country\", \"M_Hub\" ]\n",
    "ref_table = ref_table.drop(0, axis = 0)\n",
    "'''"
   ]
  },
  {
   "cell_type": "code",
   "execution_count": 30,
   "metadata": {},
   "outputs": [
    {
     "data": {
      "text/html": [
       "<div>\n",
       "<style scoped>\n",
       "    .dataframe tbody tr th:only-of-type {\n",
       "        vertical-align: middle;\n",
       "    }\n",
       "\n",
       "    .dataframe tbody tr th {\n",
       "        vertical-align: top;\n",
       "    }\n",
       "\n",
       "    .dataframe thead th {\n",
       "        text-align: right;\n",
       "    }\n",
       "</style>\n",
       "<table border=\"1\" class=\"dataframe\">\n",
       "  <thead>\n",
       "    <tr style=\"text-align: right;\">\n",
       "      <th></th>\n",
       "      <th>Unnamed: 0</th>\n",
       "      <th>City</th>\n",
       "      <th>Ref_City</th>\n",
       "      <th>Country</th>\n",
       "    </tr>\n",
       "  </thead>\n",
       "  <tbody>\n",
       "    <tr>\n",
       "      <th>0</th>\n",
       "      <td>0</td>\n",
       "      <td>Wien 1</td>\n",
       "      <td>Wien 1-AT</td>\n",
       "      <td>AT</td>\n",
       "    </tr>\n",
       "    <tr>\n",
       "      <th>1</th>\n",
       "      <td>1</td>\n",
       "      <td>Wien 2</td>\n",
       "      <td>Hub Wien II-AT</td>\n",
       "      <td>AT</td>\n",
       "    </tr>\n",
       "    <tr>\n",
       "      <th>2</th>\n",
       "      <td>2</td>\n",
       "      <td>Hub Linz</td>\n",
       "      <td>Hub Linz-AT</td>\n",
       "      <td>AT</td>\n",
       "    </tr>\n",
       "    <tr>\n",
       "      <th>3</th>\n",
       "      <td>3</td>\n",
       "      <td>Hub Graz</td>\n",
       "      <td>Hub Graz-AT</td>\n",
       "      <td>AT</td>\n",
       "    </tr>\n",
       "    <tr>\n",
       "      <th>4</th>\n",
       "      <td>4</td>\n",
       "      <td>Meiningen</td>\n",
       "      <td>Meiningen-AT</td>\n",
       "      <td>AT</td>\n",
       "    </tr>\n",
       "    <tr>\n",
       "      <th>...</th>\n",
       "      <td>...</td>\n",
       "      <td>...</td>\n",
       "      <td>...</td>\n",
       "      <td>...</td>\n",
       "    </tr>\n",
       "    <tr>\n",
       "      <th>467</th>\n",
       "      <td>467</td>\n",
       "      <td>Ricany</td>\n",
       "      <td>Ricany - Jazlovice-CZ</td>\n",
       "      <td>CZ</td>\n",
       "    </tr>\n",
       "    <tr>\n",
       "      <th>468</th>\n",
       "      <td>468</td>\n",
       "      <td>NPKK</td>\n",
       "      <td>Budapest NPKK (OE)-HU</td>\n",
       "      <td>HU</td>\n",
       "    </tr>\n",
       "    <tr>\n",
       "      <th>469</th>\n",
       "      <td>469</td>\n",
       "      <td>Hall in Tirol</td>\n",
       "      <td>Hall in Tirol-AT</td>\n",
       "      <td>AT</td>\n",
       "    </tr>\n",
       "    <tr>\n",
       "      <th>470</th>\n",
       "      <td>470</td>\n",
       "      <td>Hub Wien II</td>\n",
       "      <td>Hub Wien II-AT</td>\n",
       "      <td>AT</td>\n",
       "    </tr>\n",
       "    <tr>\n",
       "      <th>471</th>\n",
       "      <td>471</td>\n",
       "      <td>PZ 44 (Bochum) [im Bau]</td>\n",
       "      <td>PZ 44 (Bochum) [im Bau]-DE</td>\n",
       "      <td>DE</td>\n",
       "    </tr>\n",
       "  </tbody>\n",
       "</table>\n",
       "<p>472 rows × 4 columns</p>\n",
       "</div>"
      ],
      "text/plain": [
       "     Unnamed: 0                     City                    Ref_City Country\n",
       "0             0                   Wien 1                   Wien 1-AT      AT\n",
       "1             1                   Wien 2              Hub Wien II-AT      AT\n",
       "2             2                 Hub Linz                 Hub Linz-AT      AT\n",
       "3             3                 Hub Graz                 Hub Graz-AT      AT\n",
       "4             4                Meiningen                Meiningen-AT      AT\n",
       "..          ...                      ...                         ...     ...\n",
       "467         467                   Ricany       Ricany - Jazlovice-CZ      CZ\n",
       "468         468                     NPKK       Budapest NPKK (OE)-HU      HU\n",
       "469         469            Hall in Tirol            Hall in Tirol-AT      AT\n",
       "470         470              Hub Wien II              Hub Wien II-AT      AT\n",
       "471         471  PZ 44 (Bochum) [im Bau]  PZ 44 (Bochum) [im Bau]-DE      DE\n",
       "\n",
       "[472 rows x 4 columns]"
      ]
     },
     "execution_count": 30,
     "metadata": {},
     "output_type": "execute_result"
    }
   ],
   "source": [
    "ref_table"
   ]
  },
  {
   "cell_type": "code",
   "execution_count": 52,
   "metadata": {},
   "outputs": [],
   "source": [
    "ref_table = pd.read_csv(\"../Database/Hub list.csv\")\n",
    "#ref_table[\"Masterfile_name\"] = ref_table.Ref_City + \"-\"+ ref_table.Country\n",
    "\n"
   ]
  },
  {
   "cell_type": "code",
   "execution_count": 53,
   "metadata": {},
   "outputs": [],
   "source": [
    "# Read files \n",
    "\n",
    "#distances = pd.read_excel(\"Simple Routes.xlsx\", sheet_name = 0)\n",
    "distances = pd.read_excel(\"../Database/Simple/Simple Routes.xlsx\")\n",
    "#distances.columns = [\"\", 'Origin Country', 'Destination Country', 'From', 'To', 'Distance', 'Time Format', 'Time', 'Duration']\n",
    "schedule = pd.read_csv(\"raw data/tn_rs.csv\") # Read the current network (Used/Nonused)\n",
    "schedule.replace(\"Ryton Gateway\", \"Ryton\", inplace = True)\n"
   ]
  },
  {
   "cell_type": "code",
   "execution_count": 54,
   "metadata": {},
   "outputs": [
    {
     "name": "stdout",
     "output_type": "stream",
     "text": [
      "there are 5329 rows in the distacnes file\n"
     ]
    }
   ],
   "source": [
    "print(f\"there are {len(distances)} rows in the distacnes file\")"
   ]
  },
  {
   "cell_type": "code",
   "execution_count": 55,
   "metadata": {},
   "outputs": [
    {
     "name": "stdout",
     "output_type": "stream",
     "text": [
      "0.0\n",
      "0\n"
     ]
    }
   ],
   "source": [
    "# Gather the list of cities\n",
    "\n",
    "hub_list_in_GS =  ref_table[\"City\"].tolist()\n",
    "org_list = schedule[\"Org. GTW\"].unique().tolist()\n",
    "\n",
    "hub_ref = {}\n",
    "count = 0\n",
    "for x in org_list:\n",
    "    for y in hub_list_in_GS:\n",
    "        if x in y:\n",
    "            msname = ref_table[ref_table[\"City\"] == y][\"Ref_City\"]\n",
    "            hub_ref[x] =  msname.values[0]\n",
    "            break\n",
    "    \n",
    "    else:\n",
    "        print(f\"{x} is not in the list\")\n",
    "        count = count+1\n",
    " \n",
    "print(count / len(org_list))\n",
    "        \n",
    "count = 0\n",
    "des_list = schedule[\"Dst. GTW\"].unique().tolist()\n",
    "for x in des_list:\n",
    "    for y in hub_list_in_GS:\n",
    "        if x in y:\n",
    "            msname = ref_table[ref_table[\"City\"] == y][\"Ref_City\"]\n",
    "            hub_ref[x] =  msname.values[0]\n",
    "            break\n",
    "    \n",
    "    else:\n",
    "        print(f\"{x} is not in the list\")\n",
    "        count = count+1\n",
    "        \n",
    "print(count)"
   ]
  },
  {
   "cell_type": "code",
   "execution_count": null,
   "metadata": {},
   "outputs": [],
   "source": []
  },
  {
   "cell_type": "code",
   "execution_count": null,
   "metadata": {},
   "outputs": [],
   "source": []
  },
  {
   "cell_type": "code",
   "execution_count": 56,
   "metadata": {},
   "outputs": [],
   "source": [
    "schedule[\"agg\"] = schedule[\"Org. GTW\"] + schedule[\"Dst. GTW\"]"
   ]
  },
  {
   "cell_type": "code",
   "execution_count": 57,
   "metadata": {},
   "outputs": [],
   "source": [
    "for x in schedule.index:\n",
    "    a = schedule.loc[x, \"Distance in km\"]\n",
    "    if type(a) == str:\n",
    "        schedule.loc[x, \"Distance in km\"] = 0"
   ]
  },
  {
   "cell_type": "code",
   "execution_count": 58,
   "metadata": {},
   "outputs": [],
   "source": [
    "schedule[\"Speed\"] = schedule[\"Distance in km\"] / schedule[\"Travel time\"]\n",
    "schedule = schedule[schedule.Speed <= 100] # Get rid of those columns with impossible values"
   ]
  },
  {
   "cell_type": "code",
   "execution_count": 59,
   "metadata": {},
   "outputs": [],
   "source": [
    "# In the current schedule, 1 route usually has several rows because of the different schedule arrangement.\n",
    "# Only choose the row that is the most reasonable.\n",
    "list_for_df = []\n",
    "for agg in schedule[\"agg\"].unique():\n",
    "    agg_info = schedule[schedule[\"agg\"] == agg]\n",
    "    pick = agg_info[agg_info[\"Speed\"] == agg_info[\"Speed\"].max()]\n",
    "    #list_for_df.append([agg_info[\"Org. GTW\"].unique()[0], agg_info[\"Dst. GTW\"].unique()[0], agg_info[\"Travel time\"].median() , agg_info[\"Distance in km\"].median()])\n",
    "    list_for_df.append([pick[\"Org. GTW\"].tolist()[0], pick[\"Dst. GTW\"].tolist()[0], pick[\"Travel time\"].tolist()[0] , pick[\"Distance in km\"].tolist()[0]])"
   ]
  },
  {
   "cell_type": "code",
   "execution_count": 60,
   "metadata": {},
   "outputs": [
    {
     "data": {
      "text/plain": [
       "64.16666666666667"
      ]
     },
     "execution_count": 60,
     "metadata": {},
     "output_type": "execute_result"
    }
   ],
   "source": [
    "agg_info[\"Speed\"].max()"
   ]
  },
  {
   "cell_type": "code",
   "execution_count": 61,
   "metadata": {},
   "outputs": [],
   "source": [
    "# To delete the duplicated routes, we create a new dataset called \"compare\"\n",
    "\n",
    "compare = pd.DataFrame(list_for_df, columns = [\"Org. GTW\", \"Dst. GTW\", \"Travel time\", \"Distance in km\"])\n",
    "compare[\"bing distance\"] = \"\"\n",
    "compare[\"bing driving time\"] = \"\""
   ]
  },
  {
   "cell_type": "code",
   "execution_count": 62,
   "metadata": {},
   "outputs": [
    {
     "data": {
      "text/html": [
       "<div>\n",
       "<style scoped>\n",
       "    .dataframe tbody tr th:only-of-type {\n",
       "        vertical-align: middle;\n",
       "    }\n",
       "\n",
       "    .dataframe tbody tr th {\n",
       "        vertical-align: top;\n",
       "    }\n",
       "\n",
       "    .dataframe thead th {\n",
       "        text-align: right;\n",
       "    }\n",
       "</style>\n",
       "<table border=\"1\" class=\"dataframe\">\n",
       "  <thead>\n",
       "    <tr style=\"text-align: right;\">\n",
       "      <th></th>\n",
       "      <th>Org. GTW</th>\n",
       "      <th>Dst. GTW</th>\n",
       "      <th>Travel time</th>\n",
       "      <th>Distance in km</th>\n",
       "      <th>bing distance</th>\n",
       "      <th>bing driving time</th>\n",
       "    </tr>\n",
       "  </thead>\n",
       "  <tbody>\n",
       "    <tr>\n",
       "      <th>0</th>\n",
       "      <td>Ostrava</td>\n",
       "      <td>Zabrze</td>\n",
       "      <td>2.000000</td>\n",
       "      <td>82</td>\n",
       "      <td></td>\n",
       "      <td></td>\n",
       "    </tr>\n",
       "    <tr>\n",
       "      <th>1</th>\n",
       "      <td>Plzen</td>\n",
       "      <td>Feucht</td>\n",
       "      <td>3.000000</td>\n",
       "      <td>190</td>\n",
       "      <td></td>\n",
       "      <td></td>\n",
       "    </tr>\n",
       "    <tr>\n",
       "      <th>2</th>\n",
       "      <td>Speyer</td>\n",
       "      <td>Barcelona</td>\n",
       "      <td>16.000000</td>\n",
       "      <td>1233</td>\n",
       "      <td></td>\n",
       "      <td></td>\n",
       "    </tr>\n",
       "    <tr>\n",
       "      <th>3</th>\n",
       "      <td>Speyer</td>\n",
       "      <td>Madrid</td>\n",
       "      <td>24.000000</td>\n",
       "      <td>1816</td>\n",
       "      <td></td>\n",
       "      <td></td>\n",
       "    </tr>\n",
       "    <tr>\n",
       "      <th>4</th>\n",
       "      <td>Speyer</td>\n",
       "      <td>Vitoria</td>\n",
       "      <td>55.500000</td>\n",
       "      <td>1452</td>\n",
       "      <td></td>\n",
       "      <td></td>\n",
       "    </tr>\n",
       "    <tr>\n",
       "      <th>...</th>\n",
       "      <td>...</td>\n",
       "      <td>...</td>\n",
       "      <td>...</td>\n",
       "      <td>...</td>\n",
       "      <td>...</td>\n",
       "      <td>...</td>\n",
       "    </tr>\n",
       "    <tr>\n",
       "      <th>72</th>\n",
       "      <td>Zlin</td>\n",
       "      <td>Strečno</td>\n",
       "      <td>1.500000</td>\n",
       "      <td>130</td>\n",
       "      <td></td>\n",
       "      <td></td>\n",
       "    </tr>\n",
       "    <tr>\n",
       "      <th>73</th>\n",
       "      <td>Ivanka pri Dunaji</td>\n",
       "      <td>Ricany - Jazlovice</td>\n",
       "      <td>5.516667</td>\n",
       "      <td>330</td>\n",
       "      <td></td>\n",
       "      <td></td>\n",
       "    </tr>\n",
       "    <tr>\n",
       "      <th>74</th>\n",
       "      <td>Brno</td>\n",
       "      <td>OLK</td>\n",
       "      <td>8.000000</td>\n",
       "      <td>320</td>\n",
       "      <td></td>\n",
       "      <td></td>\n",
       "    </tr>\n",
       "    <tr>\n",
       "      <th>75</th>\n",
       "      <td>NPKK</td>\n",
       "      <td>Regensburg</td>\n",
       "      <td>9.000000</td>\n",
       "      <td>700</td>\n",
       "      <td></td>\n",
       "      <td></td>\n",
       "    </tr>\n",
       "    <tr>\n",
       "      <th>76</th>\n",
       "      <td>Kaunas</td>\n",
       "      <td>Radefeld</td>\n",
       "      <td>18.000000</td>\n",
       "      <td>1155</td>\n",
       "      <td></td>\n",
       "      <td></td>\n",
       "    </tr>\n",
       "  </tbody>\n",
       "</table>\n",
       "<p>77 rows × 6 columns</p>\n",
       "</div>"
      ],
      "text/plain": [
       "             Org. GTW            Dst. GTW  Travel time  Distance in km  \\\n",
       "0             Ostrava              Zabrze     2.000000              82   \n",
       "1               Plzen              Feucht     3.000000             190   \n",
       "2              Speyer           Barcelona    16.000000            1233   \n",
       "3              Speyer              Madrid    24.000000            1816   \n",
       "4              Speyer             Vitoria    55.500000            1452   \n",
       "..                ...                 ...          ...             ...   \n",
       "72               Zlin             Strečno     1.500000             130   \n",
       "73  Ivanka pri Dunaji  Ricany - Jazlovice     5.516667             330   \n",
       "74               Brno                 OLK     8.000000             320   \n",
       "75               NPKK          Regensburg     9.000000             700   \n",
       "76             Kaunas            Radefeld    18.000000            1155   \n",
       "\n",
       "   bing distance bing driving time  \n",
       "0                                   \n",
       "1                                   \n",
       "2                                   \n",
       "3                                   \n",
       "4                                   \n",
       "..           ...               ...  \n",
       "72                                  \n",
       "73                                  \n",
       "74                                  \n",
       "75                                  \n",
       "76                                  \n",
       "\n",
       "[77 rows x 6 columns]"
      ]
     },
     "execution_count": 62,
     "metadata": {},
     "output_type": "execute_result"
    }
   ],
   "source": [
    "compare"
   ]
  },
  {
   "cell_type": "code",
   "execution_count": 63,
   "metadata": {},
   "outputs": [],
   "source": [
    "dist_col_name = \"Distance\"\n",
    "time_col_name = \"Duration\"\n",
    "\n",
    "\n",
    "def find_dist(org, dst):\n",
    "    if org in hub_ref.keys():\n",
    "        org = hub_ref[org]\n",
    "    else:\n",
    "        print(f\"in the route of {org} and {dst}, {org} can't find\")\n",
    "    if dst in hub_ref.keys():\n",
    "        dst = hub_ref[dst]\n",
    "    else:\n",
    "        print(f\"in the route of {org} and {dst}, {dst} can't find\")\n",
    "        \n",
    "    km = distances.loc[(distances[\"From\"] == org) & (distances[\"To\"] == dst), dist_col_name]\n",
    "    time = distances.loc[(distances[\"From\"] == org) & (distances[\"To\"] == dst), time_col_name]\n",
    "    return [km, time]"
   ]
  },
  {
   "cell_type": "code",
   "execution_count": 64,
   "metadata": {},
   "outputs": [
    {
     "data": {
      "text/plain": [
       "{'Ostrava': 'Ostrava-CZ',\n",
       " 'Plzen': 'Plzen 1-CZ',\n",
       " 'Speyer': 'PZ 67 (Speyer)-DE',\n",
       " 'Barcelona': 'Barcelona-ES',\n",
       " 'Combs-la-Ville': 'Combs la ville-FR',\n",
       " 'Slough': 'Slough-GB',\n",
       " 'Ryton': 'Ryton Gateway-GB',\n",
       " 'Zaltbommel': 'Zaltbommel-NL',\n",
       " 'EINDHOVEN': 'Eindhoven-Noord-NL',\n",
       " 'Ełk': 'Suwałki (Ełk)-PL',\n",
       " 'Poznań': 'Poznań-PL',\n",
       " 'Zabrze': 'Zabrze-PL',\n",
       " 'Göteborg': 'Göteborg-SE',\n",
       " 'Stockholm': 'Stockholm - Västberga-SE',\n",
       " 'Helsingborg': 'Helsingborg-SE',\n",
       " 'Turku (Lieto)': 'Lieto (Turku)-FL',\n",
       " 'Köln': 'Köln-DE',\n",
       " 'Dorsten': 'PZ 46 (Dorsten)-DE',\n",
       " 'Hagenbrunn': 'Hagenbrunn-AT',\n",
       " 'Radefeld': 'PZ 04 (Radefeld/Leipzig)-DE',\n",
       " 'Feucht': 'PZ 90 (Feucht/Nürnberg)-DE',\n",
       " 'Lahr': 'PZ 77 (Lahr)-DE',\n",
       " 'Regensburg': 'Regensburg-DE',\n",
       " 'Hamburg': 'PZ 21 (Hamburg)-DE',\n",
       " 'Ljubljana': 'Ljubljana-SI',\n",
       " 'Wien 1': 'Wien 1-AT',\n",
       " 'Allhaming': 'Allhaming-AT',\n",
       " 'Enns': 'Enns-AT',\n",
       " 'Wernberg': 'Wernberg-AT',\n",
       " 'Brno': 'Brno-CZ',\n",
       " 'Hradec Kralove - Brezhrad': 'Hradec Kralove-CZ',\n",
       " 'Olomouc': 'Olomouc-CZ',\n",
       " 'Ricany - Jazlovice': 'Ricany-CZ',\n",
       " 'Zlin': 'Zlin-CZ',\n",
       " 'Ivanka pri Dunaji': 'Ivanka pri Dunaji-SK',\n",
       " 'NPKK': 'Budapest NPKK (OE)-HU',\n",
       " 'Kaunas': 'Kaunas-LT',\n",
       " 'Madrid': 'Madrid-ES',\n",
       " 'Vitoria': 'Araba (Vitoria)-ES',\n",
       " 'Lisbon': 'Lisboa-PT',\n",
       " 'Bochum': 'PZ 44 (Bochum) [im Bau]-DE',\n",
       " 'Krefeld': 'PZ 47 (Krefeld)-DE',\n",
       " 'Neuwied': 'PZ 08 (Neumark)-DE',\n",
       " 'COMBS LA VILLE': 'Combs la ville-FR',\n",
       " 'Koninko': 'Koninko-PL',\n",
       " 'ARLÖV': 'Arlöv-SE',\n",
       " 'Rüdersdorf': 'PZ 15 (Rüdersdorf)-DE',\n",
       " 'Oslo': 'Oslo-NO',\n",
       " 'Eindhoven': 'Eindhoven-Noord-NL',\n",
       " 'Brüssel': 'Brüssel-BE',\n",
       " 'Bettembourg': 'Bettembourg-LU',\n",
       " 'Wroclaw': 'Wrocław-PL',\n",
       " 'Bydgoszcz': 'Bydgoszcz (Solec Kujawski)-PL',\n",
       " 'Dublin': 'Dublin-IE',\n",
       " 'Spata': 'Spata-GR',\n",
       " 'Oradea': 'Oradea-RO',\n",
       " 'Budapest': 'Budapest NPKK (OE)-HU',\n",
       " 'Sofia': 'Sofia-BG',\n",
       " 'Zagreb': 'Zagreb-HR',\n",
       " 'Krupka': 'Krupka 1-CZ',\n",
       " 'Vantaa': 'Vantaa (Helsinki)-FL',\n",
       " 'Malmö': 'Malmö-SE',\n",
       " 'Kolding': 'Kolding-DK',\n",
       " 'Liesing': 'Liesing-AT',\n",
       " 'Wien 2': 'Hub Wien II-AT',\n",
       " 'Wals': 'Wals-AT',\n",
       " 'Kalsdorf': 'Hub Graz-AT',\n",
       " 'Wundschuh': 'Wundschuh-AT',\n",
       " 'Hall': 'Hallein-AT',\n",
       " 'Strečno': 'Strečno-SK',\n",
       " 'OLK': 'Budapest OLK-HU',\n",
       " 'Neumünster': 'PZ 24 (Neumünster)-DE'}"
      ]
     },
     "execution_count": 64,
     "metadata": {},
     "output_type": "execute_result"
    }
   ],
   "source": [
    "hub_ref"
   ]
  },
  {
   "cell_type": "code",
   "execution_count": 65,
   "metadata": {},
   "outputs": [
    {
     "data": {
      "text/html": [
       "<div>\n",
       "<style scoped>\n",
       "    .dataframe tbody tr th:only-of-type {\n",
       "        vertical-align: middle;\n",
       "    }\n",
       "\n",
       "    .dataframe tbody tr th {\n",
       "        vertical-align: top;\n",
       "    }\n",
       "\n",
       "    .dataframe thead th {\n",
       "        text-align: right;\n",
       "    }\n",
       "</style>\n",
       "<table border=\"1\" class=\"dataframe\">\n",
       "  <thead>\n",
       "    <tr style=\"text-align: right;\">\n",
       "      <th></th>\n",
       "      <th>Origin Country</th>\n",
       "      <th>Destination Country</th>\n",
       "      <th>From</th>\n",
       "      <th>To</th>\n",
       "      <th>Distance</th>\n",
       "      <th>Duration</th>\n",
       "    </tr>\n",
       "  </thead>\n",
       "  <tbody>\n",
       "    <tr>\n",
       "      <th>0</th>\n",
       "      <td>AT</td>\n",
       "      <td>AT</td>\n",
       "      <td>Wien 1-AT</td>\n",
       "      <td>Wien 1-AT</td>\n",
       "      <td>0.000</td>\n",
       "      <td>0.000000</td>\n",
       "    </tr>\n",
       "    <tr>\n",
       "      <th>1</th>\n",
       "      <td>AT</td>\n",
       "      <td>AT</td>\n",
       "      <td>Wien 1-AT</td>\n",
       "      <td>Wien-AT</td>\n",
       "      <td>198.409</td>\n",
       "      <td>1.883333</td>\n",
       "    </tr>\n",
       "    <tr>\n",
       "      <th>2</th>\n",
       "      <td>AT</td>\n",
       "      <td>BE</td>\n",
       "      <td>Wien 1-AT</td>\n",
       "      <td>Brüssel-BE</td>\n",
       "      <td>1122.724</td>\n",
       "      <td>9.450000</td>\n",
       "    </tr>\n",
       "    <tr>\n",
       "      <th>3</th>\n",
       "      <td>AT</td>\n",
       "      <td>BG</td>\n",
       "      <td>Wien 1-AT</td>\n",
       "      <td>Sofia-BG</td>\n",
       "      <td>951.814</td>\n",
       "      <td>9.333333</td>\n",
       "    </tr>\n",
       "    <tr>\n",
       "      <th>4</th>\n",
       "      <td>AT</td>\n",
       "      <td>CZ</td>\n",
       "      <td>Wien 1-AT</td>\n",
       "      <td>Brno-CZ</td>\n",
       "      <td>341.843</td>\n",
       "      <td>3.450000</td>\n",
       "    </tr>\n",
       "    <tr>\n",
       "      <th>...</th>\n",
       "      <td>...</td>\n",
       "      <td>...</td>\n",
       "      <td>...</td>\n",
       "      <td>...</td>\n",
       "      <td>...</td>\n",
       "      <td>...</td>\n",
       "    </tr>\n",
       "    <tr>\n",
       "      <th>5324</th>\n",
       "      <td>CZ</td>\n",
       "      <td>AT</td>\n",
       "      <td>Zlin-CZ</td>\n",
       "      <td>Wals-AT</td>\n",
       "      <td>521.451</td>\n",
       "      <td>4.883333</td>\n",
       "    </tr>\n",
       "    <tr>\n",
       "      <th>5325</th>\n",
       "      <td>CZ</td>\n",
       "      <td>AT</td>\n",
       "      <td>Zlin-CZ</td>\n",
       "      <td>Wundschuh-AT</td>\n",
       "      <td>421.029</td>\n",
       "      <td>4.066667</td>\n",
       "    </tr>\n",
       "    <tr>\n",
       "      <th>5326</th>\n",
       "      <td>CZ</td>\n",
       "      <td>AT</td>\n",
       "      <td>Zlin-CZ</td>\n",
       "      <td>Wernberg-AT</td>\n",
       "      <td>567.374</td>\n",
       "      <td>5.400000</td>\n",
       "    </tr>\n",
       "    <tr>\n",
       "      <th>5327</th>\n",
       "      <td>CZ</td>\n",
       "      <td>DE</td>\n",
       "      <td>Zlin-CZ</td>\n",
       "      <td>PZ 44 (Bochum) [im Bau]-DE</td>\n",
       "      <td>968.880</td>\n",
       "      <td>8.283333</td>\n",
       "    </tr>\n",
       "    <tr>\n",
       "      <th>5328</th>\n",
       "      <td>CZ</td>\n",
       "      <td>CZ</td>\n",
       "      <td>Zlin-CZ</td>\n",
       "      <td>Zlin-CZ</td>\n",
       "      <td>0.000</td>\n",
       "      <td>0.000000</td>\n",
       "    </tr>\n",
       "  </tbody>\n",
       "</table>\n",
       "<p>5329 rows × 6 columns</p>\n",
       "</div>"
      ],
      "text/plain": [
       "     Origin Country Destination Country       From  \\\n",
       "0                AT                  AT  Wien 1-AT   \n",
       "1                AT                  AT  Wien 1-AT   \n",
       "2                AT                  BE  Wien 1-AT   \n",
       "3                AT                  BG  Wien 1-AT   \n",
       "4                AT                  CZ  Wien 1-AT   \n",
       "...             ...                 ...        ...   \n",
       "5324             CZ                  AT    Zlin-CZ   \n",
       "5325             CZ                  AT    Zlin-CZ   \n",
       "5326             CZ                  AT    Zlin-CZ   \n",
       "5327             CZ                  DE    Zlin-CZ   \n",
       "5328             CZ                  CZ    Zlin-CZ   \n",
       "\n",
       "                              To  Distance  Duration  \n",
       "0                      Wien 1-AT     0.000  0.000000  \n",
       "1                        Wien-AT   198.409  1.883333  \n",
       "2                     Brüssel-BE  1122.724  9.450000  \n",
       "3                       Sofia-BG   951.814  9.333333  \n",
       "4                        Brno-CZ   341.843  3.450000  \n",
       "...                          ...       ...       ...  \n",
       "5324                     Wals-AT   521.451  4.883333  \n",
       "5325                Wundschuh-AT   421.029  4.066667  \n",
       "5326                 Wernberg-AT   567.374  5.400000  \n",
       "5327  PZ 44 (Bochum) [im Bau]-DE   968.880  8.283333  \n",
       "5328                     Zlin-CZ     0.000  0.000000  \n",
       "\n",
       "[5329 rows x 6 columns]"
      ]
     },
     "execution_count": 65,
     "metadata": {},
     "output_type": "execute_result"
    }
   ],
   "source": [
    "distances"
   ]
  },
  {
   "cell_type": "code",
   "execution_count": 66,
   "metadata": {
    "scrolled": true
   },
   "outputs": [],
   "source": [
    "for row in compare.index:\n",
    "    org = compare.loc[row, \"Org. GTW\"]\n",
    "    dst = compare.loc[row, \"Dst. GTW\"]\n",
    "    ans = find_dist(org, dst)\n",
    "\n",
    "    if len(ans[0]) != 0:\n",
    "        compare.loc[row, \"bing distance\"] = ans[0].values[0]\n",
    "        compare.loc[row, \"bing driving time\"] = ans[1].values[0]"
   ]
  },
  {
   "cell_type": "code",
   "execution_count": 67,
   "metadata": {},
   "outputs": [
    {
     "data": {
      "text/html": [
       "<div>\n",
       "<style scoped>\n",
       "    .dataframe tbody tr th:only-of-type {\n",
       "        vertical-align: middle;\n",
       "    }\n",
       "\n",
       "    .dataframe tbody tr th {\n",
       "        vertical-align: top;\n",
       "    }\n",
       "\n",
       "    .dataframe thead th {\n",
       "        text-align: right;\n",
       "    }\n",
       "</style>\n",
       "<table border=\"1\" class=\"dataframe\">\n",
       "  <thead>\n",
       "    <tr style=\"text-align: right;\">\n",
       "      <th></th>\n",
       "      <th>Origin Country</th>\n",
       "      <th>Destination Country</th>\n",
       "      <th>From</th>\n",
       "      <th>To</th>\n",
       "      <th>Distance</th>\n",
       "      <th>Duration</th>\n",
       "    </tr>\n",
       "  </thead>\n",
       "  <tbody>\n",
       "    <tr>\n",
       "      <th>1022</th>\n",
       "      <td>DE</td>\n",
       "      <td>AT</td>\n",
       "      <td>Regensburg-DE</td>\n",
       "      <td>Wien 1-AT</td>\n",
       "      <td>407.709</td>\n",
       "      <td>3.666667</td>\n",
       "    </tr>\n",
       "  </tbody>\n",
       "</table>\n",
       "</div>"
      ],
      "text/plain": [
       "     Origin Country Destination Country           From         To  Distance  \\\n",
       "1022             DE                  AT  Regensburg-DE  Wien 1-AT   407.709   \n",
       "\n",
       "      Duration  \n",
       "1022  3.666667  "
      ]
     },
     "execution_count": 67,
     "metadata": {},
     "output_type": "execute_result"
    }
   ],
   "source": [
    "distances.loc[(distances[\"From\"] == hub_ref[\"Regensburg\"]) & (distances[\"To\"] == hub_ref[\"Wien 1\"]), :]"
   ]
  },
  {
   "cell_type": "code",
   "execution_count": 68,
   "metadata": {},
   "outputs": [
    {
     "name": "stdout",
     "output_type": "stream",
     "text": [
      "37 out of 172 are covered\n"
     ]
    }
   ],
   "source": [
    "compare_found = compare[compare[\"bing distance\"] != \"\"].sort_values(\"Distance in km\")\n",
    "print(f\"{len(compare_found)} out of {len(schedule)} are covered\")"
   ]
  },
  {
   "cell_type": "code",
   "execution_count": 69,
   "metadata": {},
   "outputs": [],
   "source": [
    "import seaborn as sns\n",
    "import matplotlib.pyplot as plt"
   ]
  },
  {
   "cell_type": "code",
   "execution_count": 71,
   "metadata": {
    "scrolled": true
   },
   "outputs": [
    {
     "data": {
      "text/plain": [
       "<matplotlib.axes._subplots.AxesSubplot at 0x1a18b40710>"
      ]
     },
     "execution_count": 71,
     "metadata": {},
     "output_type": "execute_result"
    },
    {
     "data": {
      "image/png": "[encoded data removed]",
      "text/plain": [
       "<Figure size 432x288 with 2 Axes>"
      ]
     },
     "metadata": {
      "needs_background": "light"
     },
     "output_type": "display_data"
    }
   ],
   "source": [
    "fix = plt.subplot(2,1,1)\n",
    "sns.scatterplot(x = \"bing driving time\", y = \"Travel time\", data = compare_found)\n",
    "\n",
    "fix = plt.subplot(2,1,2)\n",
    "sns.scatterplot(x = \"bing distance\", y = \"Travel time\", data = compare_found)\n",
    "\n",
    "#%matplotlib inline"
   ]
  },
  {
   "cell_type": "markdown",
   "metadata": {},
   "source": [
    "# Using simple equations to model the travel time using the driving time.\n",
    "Minimize the MSE"
   ]
  },
  {
   "cell_type": "code",
   "execution_count": 72,
   "metadata": {},
   "outputs": [],
   "source": [
    "compare.dropna(how = \"any\", inplace = True)\n",
    "\n",
    "def tt_est(daily_max, rest, offset, dt_offset, driving_time):\n",
    "    # daily_max # assume 12 at this moment\n",
    "    # rest # assume the bus driver have to rest at least 8 hours between 2 days\n",
    "    # offset # assume the bus need to drive out and in to the hub, and it takes time\n",
    "    # dt_offset # adjust the speed.\n",
    "    driving_time = driving_time*dt_offset\n",
    "    hour = driving_time % daily_max\n",
    "    ext_hour = driving_time //daily_max* (rest+daily_max)  # Calculate the time it need for every extended day\n",
    "    \n",
    "    return hour + ext_hour + offset # 1 means the buffer time\n",
    "\n",
    "def cal_mse(df):\n",
    "    return sum((df[\"est_tt\"] - df[\"Travel time\"])**2)\n",
    "\n"
   ]
  },
  {
   "cell_type": "code",
   "execution_count": 73,
   "metadata": {},
   "outputs": [],
   "source": [
    "compare = compare[compare[\"bing driving time\"] != \"\"]"
   ]
  },
  {
   "cell_type": "code",
   "execution_count": 74,
   "metadata": {},
   "outputs": [
    {
     "name": "stdout",
     "output_type": "stream",
     "text": [
      "19872.00642638889\n"
     ]
    },
    {
     "name": "stderr",
     "output_type": "stream",
     "text": [
      "/Users/yi/opt/anaconda3/lib/python3.7/site-packages/ipykernel_launcher.py:1: SettingWithCopyWarning: \n",
      "A value is trying to be set on a copy of a slice from a DataFrame.\n",
      "Try using .loc[row_indexer,col_indexer] = value instead\n",
      "\n",
      "See the caveats in the documentation: https://pandas.pydata.org/pandas-docs/stable/user_guide/indexing.html#returning-a-view-versus-a-copy\n",
      "  \"\"\"Entry point for launching an IPython kernel.\n"
     ]
    },
    {
     "data": {
      "text/plain": [
       "<matplotlib.axes._subplots.AxesSubplot at 0x1a18ed3b90>"
      ]
     },
     "execution_count": 74,
     "metadata": {},
     "output_type": "execute_result"
    },
    {
     "data": {
      "image/png": "[encoded data removed]",
      "text/plain": [
       "<Figure size 432x288 with 1 Axes>"
      ]
     },
     "metadata": {
      "needs_background": "light"
     },
     "output_type": "display_data"
    }
   ],
   "source": [
    "\n",
    "compare[\"est_tt\"] = compare.apply(lambda row: tt_est(14,7,0.5,1.45,row[\"bing driving time\"]), axis = 1)\n",
    "print(cal_mse(compare))\n",
    "\n",
    "# Visualize\n",
    "set1 = compare.loc[:, [\"bing driving time\", \"est_tt\"]]\n",
    "set1.columns = [\"dt\", \"tt\"] \n",
    "set2 = compare.loc[:, [\"bing driving time\", \"Travel time\"]]\n",
    "set2.columns = [\"dt\", \"tt\"]\n",
    "plot_dataset = pd.concat([set1.assign(dataset='Estimation'), set2.assign(dataset='Actual')])\n",
    "plot_dataset\n",
    "sns.scatterplot(data = plot_dataset , x = \"dt\", y = \"tt\", hue = \"dataset\")"
   ]
  },
  {
   "cell_type": "code",
   "execution_count": null,
   "metadata": {},
   "outputs": [],
   "source": []
  },
  {
   "cell_type": "code",
   "execution_count": null,
   "metadata": {},
   "outputs": [],
   "source": []
  },
  {
   "cell_type": "code",
   "execution_count": 75,
   "metadata": {
    "scrolled": true
   },
   "outputs": [
    {
     "name": "stderr",
     "output_type": "stream",
     "text": [
      "/Users/yi/opt/anaconda3/lib/python3.7/site-packages/ipykernel_launcher.py:8: SettingWithCopyWarning: \n",
      "A value is trying to be set on a copy of a slice from a DataFrame.\n",
      "Try using .loc[row_indexer,col_indexer] = value instead\n",
      "\n",
      "See the caveats in the documentation: https://pandas.pydata.org/pandas-docs/stable/user_guide/indexing.html#returning-a-view-versus-a-copy\n",
      "  \n"
     ]
    }
   ],
   "source": [
    "dm = [x for x in range(10, 15)]\n",
    "rest = [x for x in range(8, 12)]\n",
    "offset = [x/2 for x in range(0, 4)]\n",
    "dt_offset = [x/10 for x in range(10, 15)]\n",
    "grid_search = [(a, b, c, d) for a in dm for b in rest for c in offset for d in dt_offset]\n",
    "gs_result = []\n",
    "for a, b, c, d in grid_search: \n",
    "    compare[\"est_tt\"] = compare.apply(lambda row: tt_est(a,b,c,d,row[\"bing driving time\"]), axis = 1)\n",
    "    gs_result.append([a, b, d, d, cal_mse(compare)])"
   ]
  },
  {
   "cell_type": "code",
   "execution_count": 76,
   "metadata": {},
   "outputs": [],
   "source": [
    "gs_result = pd.DataFrame(gs_result)\n",
    "best_set = gs_result.loc[gs_result[4] == gs_result[4].min(), 0:3].values.tolist()[0]"
   ]
  },
  {
   "cell_type": "code",
   "execution_count": 77,
   "metadata": {},
   "outputs": [
    {
     "name": "stderr",
     "output_type": "stream",
     "text": [
      "/Users/yi/opt/anaconda3/lib/python3.7/site-packages/ipykernel_launcher.py:3: SettingWithCopyWarning: \n",
      "A value is trying to be set on a copy of a slice from a DataFrame.\n",
      "Try using .loc[row_indexer,col_indexer] = value instead\n",
      "\n",
      "See the caveats in the documentation: https://pandas.pydata.org/pandas-docs/stable/user_guide/indexing.html#returning-a-view-versus-a-copy\n",
      "  This is separate from the ipykernel package so we can avoid doing imports until\n"
     ]
    }
   ],
   "source": [
    "# using the best set to train the rest of the data\n",
    "a, b, c, d = best_set\n",
    "compare[\"est_tt\"] = compare.apply(lambda row: tt_est(a,b,c,d,row[\"bing driving time\"]), axis = 1)"
   ]
  },
  {
   "cell_type": "code",
   "execution_count": 78,
   "metadata": {},
   "outputs": [
    {
     "data": {
      "text/plain": [
       "<matplotlib.axes._subplots.AxesSubplot at 0x1a18f03810>"
      ]
     },
     "execution_count": 78,
     "metadata": {},
     "output_type": "execute_result"
    },
    {
     "data": {
      "image/png": "[encoded data removed]",
      "text/plain": [
       "<Figure size 432x288 with 1 Axes>"
      ]
     },
     "metadata": {
      "needs_background": "light"
     },
     "output_type": "display_data"
    }
   ],
   "source": [
    "# Visualize\n",
    "set1 = compare.loc[:, [\"bing driving time\", \"est_tt\"]]\n",
    "set1.columns = [\"dt\", \"tt\"] \n",
    "set2 = compare.loc[:, [\"bing driving time\", \"Travel time\"]]\n",
    "set2.columns = [\"dt\", \"tt\"]\n",
    "plot_dataset = pd.concat([set1.assign(dataset='Estimation'), set2.assign(dataset='Actual')])\n",
    "plot_dataset\n",
    "sns.scatterplot(data = plot_dataset , x = \"dt\", y = \"tt\", hue = \"dataset\")"
   ]
  },
  {
   "cell_type": "code",
   "execution_count": null,
   "metadata": {},
   "outputs": [],
   "source": []
  },
  {
   "cell_type": "code",
   "execution_count": null,
   "metadata": {},
   "outputs": [],
   "source": []
  },
  {
   "cell_type": "code",
   "execution_count": null,
   "metadata": {
    "scrolled": true
   },
   "outputs": [],
   "source": []
  },
  {
   "cell_type": "code",
   "execution_count": 79,
   "metadata": {},
   "outputs": [],
   "source": [
    "# Calculate the estimated travel time\n",
    "distances[\"est_tt\"] = 0\n",
    "distances[\"est_tt\"] = distances.apply(lambda row: tt_est(a,b,c,d,row[\"Duration\"]), axis = 1)"
   ]
  },
  {
   "cell_type": "code",
   "execution_count": 80,
   "metadata": {},
   "outputs": [
    {
     "data": {
      "text/plain": [
       "<matplotlib.axes._subplots.AxesSubplot at 0x1040c4c90>"
      ]
     },
     "execution_count": 80,
     "metadata": {},
     "output_type": "execute_result"
    },
    {
     "data": {
      "image/png": "[encoded data removed]",
      "text/plain": [
       "<Figure size 432x288 with 1 Axes>"
      ]
     },
     "metadata": {
      "needs_background": "light"
     },
     "output_type": "display_data"
    }
   ],
   "source": [
    "sns.scatterplot(data = distances, x = \"Duration\", y = \"est_tt\")"
   ]
  },
  {
   "cell_type": "code",
   "execution_count": 82,
   "metadata": {},
   "outputs": [],
   "source": [
    "distances.to_csv(\"../Database/travel time.csv\")"
   ]
  },
  {
   "cell_type": "code",
   "execution_count": null,
   "metadata": {},
   "outputs": [],
   "source": []
  },
  {
   "cell_type": "markdown",
   "metadata": {},
   "source": [
    "# Using KNN to model the travle time ## Failed"
   ]
  },
  {
   "cell_type": "code",
   "execution_count": 199,
   "metadata": {},
   "outputs": [],
   "source": [
    "# Convert the dataframe to join with the distances file\n",
    "df_to_join = compare.iloc[:, 0:3].copy()\n",
    "df_to_join.columns = [\"From\", \"To\", \"Travel time\"]\n",
    "\n",
    "df_to_join.From = df_to_join.apply(lambda row: hub_ref[row.From] if row.From in hub_ref.keys() else row.From, axis = 1)\n",
    "df_to_join.To = df_to_join.apply(lambda row: hub_ref[row.To] if row.To in hub_ref.keys() else row.To, axis = 1)"
   ]
  },
  {
   "cell_type": "code",
   "execution_count": 212,
   "metadata": {},
   "outputs": [],
   "source": [
    "inter_distances = distances[distances[\"Origin Country\"] != distances[\"Destination Country\"]] # Get rid of the routes traveling in the same country\n",
    "df_with_tt = pd.merge(inter_distances, df_to_join, on = [\"From\", \"To\"], how = \"left\")"
   ]
  },
  {
   "cell_type": "code",
   "execution_count": 219,
   "metadata": {},
   "outputs": [],
   "source": [
    "tt_and_distances = df_with_tt.loc[:, [\"Distance Km\", \"Travel time\"]]"
   ]
  },
  {
   "cell_type": "code",
   "execution_count": 217,
   "metadata": {},
   "outputs": [],
   "source": [
    "import pylab as pl\n",
    "from matplotlib.pyplot import figure\n",
    "import numpy as np\n",
    "import math"
   ]
  },
  {
   "cell_type": "code",
   "execution_count": 220,
   "metadata": {},
   "outputs": [
    {
     "data": {
      "text/plain": [
       "array([[656.309,   7.   ],\n",
       "       [749.381,  24.25 ],\n",
       "       [641.489,  14.625],\n",
       "       ...,\n",
       "       [455.309,   6.   ],\n",
       "       [258.545,   6.25 ],\n",
       "       [258.66 ,   6.25 ]])"
      ]
     },
     "execution_count": 220,
     "metadata": {},
     "output_type": "execute_result"
    }
   ],
   "source": [
    "# USING KNN ALGO TO PREDICT MISSING Travel time BASED ON DISTANCE VALUE\n",
    "\n",
    "from sklearn.linear_model import LinearRegression\n",
    "from sklearn.model_selection import KFold\n",
    "from sklearn.metrics import r2_score\n",
    "import numpy as np\n",
    "import sklearn.impute \n",
    "\n",
    "imputer = sklearn.impute.KNNImputer(n_neighbors=2, weights=\"uniform\")\n",
    "#result = imputer.fit_transform(tt_and_distances)\n",
    "\n",
    "result #"
   ]
  },
  {
   "cell_type": "code",
   "execution_count": 223,
   "metadata": {},
   "outputs": [],
   "source": [
    "new_tt = pd.DataFrame(result, columns = [\"Distances km\", \"New_TT\"])"
   ]
  },
  {
   "cell_type": "code",
   "execution_count": 225,
   "metadata": {},
   "outputs": [],
   "source": [
    "df_with_tt[\"New_TT\"] = new_tt[\"New_TT\"]"
   ]
  },
  {
   "cell_type": "code",
   "execution_count": 226,
   "metadata": {},
   "outputs": [
    {
     "data": {
      "text/html": [
       "<div>\n",
       "<style scoped>\n",
       "    .dataframe tbody tr th:only-of-type {\n",
       "        vertical-align: middle;\n",
       "    }\n",
       "\n",
       "    .dataframe tbody tr th {\n",
       "        vertical-align: top;\n",
       "    }\n",
       "\n",
       "    .dataframe thead th {\n",
       "        text-align: right;\n",
       "    }\n",
       "</style>\n",
       "<table border=\"1\" class=\"dataframe\">\n",
       "  <thead>\n",
       "    <tr style=\"text-align: right;\">\n",
       "      <th></th>\n",
       "      <th>Origin Country</th>\n",
       "      <th>Destination Country</th>\n",
       "      <th>From</th>\n",
       "      <th>To</th>\n",
       "      <th>Distance Km</th>\n",
       "      <th>Time</th>\n",
       "      <th></th>\n",
       "      <th>Travel time</th>\n",
       "      <th>New_TT</th>\n",
       "    </tr>\n",
       "  </thead>\n",
       "  <tbody>\n",
       "    <tr>\n",
       "      <td>0</td>\n",
       "      <td>AT</td>\n",
       "      <td>DE</td>\n",
       "      <td>Hub Graz-AT</td>\n",
       "      <td>PZ 01 (Ottendorf-Okrilla)-DE</td>\n",
       "      <td>656.309</td>\n",
       "      <td>06:50:00</td>\n",
       "      <td>NaN</td>\n",
       "      <td>NaN</td>\n",
       "      <td>7.000</td>\n",
       "    </tr>\n",
       "    <tr>\n",
       "      <td>1</td>\n",
       "      <td>AT</td>\n",
       "      <td>DE</td>\n",
       "      <td>Hub Graz-AT</td>\n",
       "      <td>PZ 04 (Radefeld/Leipzig)-DE</td>\n",
       "      <td>749.381</td>\n",
       "      <td>06:25:00</td>\n",
       "      <td>NaN</td>\n",
       "      <td>NaN</td>\n",
       "      <td>24.250</td>\n",
       "    </tr>\n",
       "    <tr>\n",
       "      <td>2</td>\n",
       "      <td>AT</td>\n",
       "      <td>DE</td>\n",
       "      <td>Hub Graz-AT</td>\n",
       "      <td>PZ 08 (Neumark)-DE</td>\n",
       "      <td>641.489</td>\n",
       "      <td>05:40:00</td>\n",
       "      <td>NaN</td>\n",
       "      <td>NaN</td>\n",
       "      <td>14.625</td>\n",
       "    </tr>\n",
       "    <tr>\n",
       "      <td>3</td>\n",
       "      <td>AT</td>\n",
       "      <td>DE</td>\n",
       "      <td>Hub Graz-AT</td>\n",
       "      <td>PZ 14 (Börnicke)-DE</td>\n",
       "      <td>917.102</td>\n",
       "      <td>07:49:00</td>\n",
       "      <td>NaN</td>\n",
       "      <td>NaN</td>\n",
       "      <td>23.625</td>\n",
       "    </tr>\n",
       "    <tr>\n",
       "      <td>4</td>\n",
       "      <td>AT</td>\n",
       "      <td>DE</td>\n",
       "      <td>Hub Graz-AT</td>\n",
       "      <td>PZ 15 (Rüdersdorf)-DE</td>\n",
       "      <td>942.471</td>\n",
       "      <td>07:58:00</td>\n",
       "      <td>NaN</td>\n",
       "      <td>NaN</td>\n",
       "      <td>23.625</td>\n",
       "    </tr>\n",
       "    <tr>\n",
       "      <td>...</td>\n",
       "      <td>...</td>\n",
       "      <td>...</td>\n",
       "      <td>...</td>\n",
       "      <td>...</td>\n",
       "      <td>...</td>\n",
       "      <td>...</td>\n",
       "      <td>...</td>\n",
       "      <td>...</td>\n",
       "      <td>...</td>\n",
       "    </tr>\n",
       "    <tr>\n",
       "      <td>111929</td>\n",
       "      <td>HU</td>\n",
       "      <td>SI</td>\n",
       "      <td>Budapest OLK-HU</td>\n",
       "      <td>Ljubljana-SI</td>\n",
       "      <td>454.150</td>\n",
       "      <td>04:15:00</td>\n",
       "      <td>NaN</td>\n",
       "      <td>NaN</td>\n",
       "      <td>6.000</td>\n",
       "    </tr>\n",
       "    <tr>\n",
       "      <td>111930</td>\n",
       "      <td>SI</td>\n",
       "      <td>HU</td>\n",
       "      <td>Ljubljana-SI</td>\n",
       "      <td>Budapest NPKK (OE)-HU</td>\n",
       "      <td>491.141</td>\n",
       "      <td>04:32:00</td>\n",
       "      <td>NaN</td>\n",
       "      <td>NaN</td>\n",
       "      <td>13.750</td>\n",
       "    </tr>\n",
       "    <tr>\n",
       "      <td>111931</td>\n",
       "      <td>SI</td>\n",
       "      <td>HU</td>\n",
       "      <td>Ljubljana-SI</td>\n",
       "      <td>Budapest OLK-HU</td>\n",
       "      <td>455.309</td>\n",
       "      <td>04:14:00</td>\n",
       "      <td>NaN</td>\n",
       "      <td>NaN</td>\n",
       "      <td>6.000</td>\n",
       "    </tr>\n",
       "    <tr>\n",
       "      <td>111932</td>\n",
       "      <td>LV</td>\n",
       "      <td>LT</td>\n",
       "      <td>Riga-LV</td>\n",
       "      <td>Kaunas-LT</td>\n",
       "      <td>258.545</td>\n",
       "      <td>03:57:00</td>\n",
       "      <td>NaN</td>\n",
       "      <td>NaN</td>\n",
       "      <td>6.250</td>\n",
       "    </tr>\n",
       "    <tr>\n",
       "      <td>111933</td>\n",
       "      <td>LT</td>\n",
       "      <td>LV</td>\n",
       "      <td>Kaunas-LT</td>\n",
       "      <td>Riga-LV</td>\n",
       "      <td>258.660</td>\n",
       "      <td>03:56:00</td>\n",
       "      <td>NaN</td>\n",
       "      <td>NaN</td>\n",
       "      <td>6.250</td>\n",
       "    </tr>\n",
       "  </tbody>\n",
       "</table>\n",
       "<p>111934 rows × 9 columns</p>\n",
       "</div>"
      ],
      "text/plain": [
       "       Origin Country Destination Country             From  \\\n",
       "0                  AT                  DE      Hub Graz-AT   \n",
       "1                  AT                  DE      Hub Graz-AT   \n",
       "2                  AT                  DE      Hub Graz-AT   \n",
       "3                  AT                  DE      Hub Graz-AT   \n",
       "4                  AT                  DE      Hub Graz-AT   \n",
       "...               ...                 ...              ...   \n",
       "111929             HU                  SI  Budapest OLK-HU   \n",
       "111930             SI                  HU     Ljubljana-SI   \n",
       "111931             SI                  HU     Ljubljana-SI   \n",
       "111932             LV                  LT          Riga-LV   \n",
       "111933             LT                  LV        Kaunas-LT   \n",
       "\n",
       "                                  To  Distance Km      Time      Travel time  \\\n",
       "0       PZ 01 (Ottendorf-Okrilla)-DE      656.309  06:50:00 NaN          NaN   \n",
       "1        PZ 04 (Radefeld/Leipzig)-DE      749.381  06:25:00 NaN          NaN   \n",
       "2                 PZ 08 (Neumark)-DE      641.489  05:40:00 NaN          NaN   \n",
       "3                PZ 14 (Börnicke)-DE      917.102  07:49:00 NaN          NaN   \n",
       "4              PZ 15 (Rüdersdorf)-DE      942.471  07:58:00 NaN          NaN   \n",
       "...                              ...          ...       ...  ..          ...   \n",
       "111929                  Ljubljana-SI      454.150  04:15:00 NaN          NaN   \n",
       "111930         Budapest NPKK (OE)-HU      491.141  04:32:00 NaN          NaN   \n",
       "111931               Budapest OLK-HU      455.309  04:14:00 NaN          NaN   \n",
       "111932                     Kaunas-LT      258.545  03:57:00 NaN          NaN   \n",
       "111933                       Riga-LV      258.660  03:56:00 NaN          NaN   \n",
       "\n",
       "        New_TT  \n",
       "0        7.000  \n",
       "1       24.250  \n",
       "2       14.625  \n",
       "3       23.625  \n",
       "4       23.625  \n",
       "...        ...  \n",
       "111929   6.000  \n",
       "111930  13.750  \n",
       "111931   6.000  \n",
       "111932   6.250  \n",
       "111933   6.250  \n",
       "\n",
       "[111934 rows x 9 columns]"
      ]
     },
     "execution_count": 226,
     "metadata": {},
     "output_type": "execute_result"
    }
   ],
   "source": [
    "df_with_tt"
   ]
  },
  {
   "cell_type": "code",
   "execution_count": 313,
   "metadata": {},
   "outputs": [
    {
     "data": {
      "text/plain": [
       "<matplotlib.axes._subplots.AxesSubplot at 0x1196431d0>"
      ]
     },
     "execution_count": 313,
     "metadata": {},
     "output_type": "execute_result"
    },
    {
     "data": {
      "image/png": "[encoded data removed]",
      "text/plain": [
       "<Figure size 432x288 with 1 Axes>"
      ]
     },
     "metadata": {
      "needs_background": "light"
     },
     "output_type": "display_data"
    }
   ],
   "source": [
    "sns.scatterplot(x = \"Distance Km\", y = \"New_TT\", data = df_with_tt)"
   ]
  },
  {
   "cell_type": "code",
   "execution_count": null,
   "metadata": {},
   "outputs": [],
   "source": []
  }
 ],
 "metadata": {
  "kernelspec": {
   "display_name": "Python 3",
   "language": "python",
   "name": "python3"
  },
  "language_info": {
   "codemirror_mode": {
    "name": "ipython",
    "version": 3
   },
   "file_extension": ".py",
   "mimetype": "text/x-python",
   "name": "python",
   "nbconvert_exporter": "python",
   "pygments_lexer": "ipython3",
   "version": "3.7.4"
  }
 },
 "nbformat": 4,
 "nbformat_minor": 2
}
