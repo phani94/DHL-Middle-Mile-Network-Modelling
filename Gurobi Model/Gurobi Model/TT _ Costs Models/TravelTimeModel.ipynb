{
 "cells": [
  {
   "cell_type": "code",
   "execution_count": 165,
   "metadata": {},
   "outputs": [],
   "source": [
    "import pandas as pd\n",
    "import numpy as np\n",
    "\n",
    "def turn_to_hr(target):\n",
    "    time = target.hour + target.minute/60\n",
    "    return (time)\n",
    "\n",
    "def turn_to_hr_str(target):\n",
    "    time = int(target.split(\":\")[0]) + int(target.split(\":\")[1])/60\n",
    "    return time"
   ]
  },
  {
   "cell_type": "code",
   "execution_count": 166,
   "metadata": {},
   "outputs": [
    {
     "data": {
      "text/plain": [
       "'\\nref_table = pd.read_csv(\"Hubs Compare Table.csv\")\\nref_table.dropna(how = \"all\", axis = 1, inplace = True)\\nref_table.columns = [\"GS_Country\", \"GS_Hub\",\"M_Country\", \"M_Hub\" ]\\nref_table = ref_table.drop(0, axis = 0)\\n'"
      ]
     },
     "execution_count": 166,
     "metadata": {},
     "output_type": "execute_result"
    }
   ],
   "source": [
    "'''\n",
    "ref_table = pd.read_csv(\"Hubs Compare Table.csv\")\n",
    "ref_table.dropna(how = \"all\", axis = 1, inplace = True)\n",
    "ref_table.columns = [\"GS_Country\", \"GS_Hub\",\"M_Country\", \"M_Hub\" ]\n",
    "ref_table = ref_table.drop(0, axis = 0)\n",
    "'''"
   ]
  },
  {
   "cell_type": "code",
   "execution_count": 219,
   "metadata": {},
   "outputs": [],
   "source": [
    "ref_table = pd.read_csv(\"../Database/Hub list.csv\")\n",
    "ref_table[\"Ref_City\"] = ref_table.Ref_City + \"-\"+ ref_table.Country\n",
    "\n"
   ]
  },
  {
   "cell_type": "code",
   "execution_count": 220,
   "metadata": {},
   "outputs": [],
   "source": [
    "# Read files \n",
    "\n",
    "#distances = pd.read_excel(\"Simple Routes.xlsx\", sheet_name = 0)\n",
    "distances = pd.read_excel(\"../Database/Simple/Simple Routes.xlsx\")\n",
    "#distances.columns = [\"\", 'Origin Country', 'Destination Country', 'From', 'To', 'Distance', 'Time Format', 'Time', 'Duration']\n",
    "schedule = pd.read_csv(\"raw data/tn_rs.csv\") # Read the current network (Used/Nonused)\n",
    "schedule.replace(\"Ryton Gateway\", \"Ryton\", inplace = True)\n"
   ]
  },
  {
   "cell_type": "code",
   "execution_count": 221,
   "metadata": {},
   "outputs": [
    {
     "name": "stdout",
     "output_type": "stream",
     "text": [
      "there are 5476 rows in the distacnes file\n"
     ]
    }
   ],
   "source": [
    "print(f\"there are {len(distances)} rows in the distacnes file\")"
   ]
  },
  {
   "cell_type": "code",
   "execution_count": 222,
   "metadata": {},
   "outputs": [
    {
     "name": "stdout",
     "output_type": "stream",
     "text": [
      "0.0\n",
      "0\n"
     ]
    }
   ],
   "source": [
    "# Gather the list of cities\n",
    "\n",
    "hub_list_in_GS =  ref_table[\"City\"].tolist()\n",
    "org_list = schedule[\"Org. GTW\"].unique().tolist()\n",
    "\n",
    "hub_ref = {}\n",
    "count = 0\n",
    "for x in org_list:\n",
    "    for y in hub_list_in_GS:\n",
    "        if x in y:\n",
    "            msname = ref_table[ref_table[\"City\"] == y][\"Ref_City\"]\n",
    "            hub_ref[x] =  msname.values[0]\n",
    "            break\n",
    "    \n",
    "    else:\n",
    "        print(f\"{x} is not in the list\")\n",
    "        count = count+1\n",
    " \n",
    "print(count / len(org_list))\n",
    "        \n",
    "count = 0\n",
    "des_list = schedule[\"Dst. GTW\"].unique().tolist()\n",
    "for x in des_list:\n",
    "    for y in hub_list_in_GS:\n",
    "        if x in y:\n",
    "            msname = ref_table[ref_table[\"City\"] == y][\"Ref_City\"]\n",
    "            hub_ref[x] =  msname.values[0]\n",
    "            break\n",
    "    \n",
    "    else:\n",
    "        print(f\"{x} is not in the list\")\n",
    "        count = count+1\n",
    "        \n",
    "print(count)"
   ]
  },
  {
   "cell_type": "code",
   "execution_count": null,
   "metadata": {},
   "outputs": [],
   "source": []
  },
  {
   "cell_type": "code",
   "execution_count": null,
   "metadata": {},
   "outputs": [],
   "source": []
  },
  {
   "cell_type": "code",
   "execution_count": 223,
   "metadata": {},
   "outputs": [],
   "source": [
    "schedule[\"agg\"] = schedule[\"Org. GTW\"] + schedule[\"Dst. GTW\"]"
   ]
  },
  {
   "cell_type": "code",
   "execution_count": 224,
   "metadata": {},
   "outputs": [],
   "source": [
    "for x in schedule.index:\n",
    "    a = schedule.loc[x, \"Distance in km\"]\n",
    "    if type(a) == str:\n",
    "        schedule.loc[x, \"Distance in km\"] = 0"
   ]
  },
  {
   "cell_type": "code",
   "execution_count": 225,
   "metadata": {},
   "outputs": [],
   "source": [
    "schedule[\"Speed\"] = schedule[\"Distance in km\"] / schedule[\"Travel time\"]\n",
    "schedule = schedule[schedule.Speed <= 100] # Get rid of those columns with impossible values"
   ]
  },
  {
   "cell_type": "code",
   "execution_count": 226,
   "metadata": {},
   "outputs": [],
   "source": [
    "# In the current schedule, 1 route usually has several rows because of the different schedule arrangement.\n",
    "# Only choose the row that is the most reasonable.\n",
    "list_for_df = []\n",
    "for agg in schedule[\"agg\"].unique():\n",
    "    agg_info = schedule[schedule[\"agg\"] == agg]\n",
    "    pick = agg_info[agg_info[\"Speed\"] == agg_info[\"Speed\"].max()]\n",
    "    #list_for_df.append([agg_info[\"Org. GTW\"].unique()[0], agg_info[\"Dst. GTW\"].unique()[0], agg_info[\"Travel time\"].median() , agg_info[\"Distance in km\"].median()])\n",
    "    list_for_df.append([pick[\"Org. GTW\"].tolist()[0], pick[\"Dst. GTW\"].tolist()[0], pick[\"Travel time\"].tolist()[0] , pick[\"Distance in km\"].tolist()[0]])"
   ]
  },
  {
   "cell_type": "code",
   "execution_count": 227,
   "metadata": {},
   "outputs": [
    {
     "data": {
      "text/plain": [
       "64.16666666666667"
      ]
     },
     "execution_count": 227,
     "metadata": {},
     "output_type": "execute_result"
    }
   ],
   "source": [
    "agg_info[\"Speed\"].max()"
   ]
  },
  {
   "cell_type": "code",
   "execution_count": 228,
   "metadata": {},
   "outputs": [],
   "source": [
    "# To delete the duplicated routes, we create a new dataset called \"compare\"\n",
    "\n",
    "compare = pd.DataFrame(list_for_df, columns = [\"Org. GTW\", \"Dst. GTW\", \"Travel time\", \"Distance in km\"])\n",
    "compare[\"bing distance\"] = \"\"\n",
    "compare[\"bing driving time\"] = \"\""
   ]
  },
  {
   "cell_type": "code",
   "execution_count": 229,
   "metadata": {},
   "outputs": [
    {
     "data": {
      "text/html": [
       "<div>\n",
       "<style scoped>\n",
       "    .dataframe tbody tr th:only-of-type {\n",
       "        vertical-align: middle;\n",
       "    }\n",
       "\n",
       "    .dataframe tbody tr th {\n",
       "        vertical-align: top;\n",
       "    }\n",
       "\n",
       "    .dataframe thead th {\n",
       "        text-align: right;\n",
       "    }\n",
       "</style>\n",
       "<table border=\"1\" class=\"dataframe\">\n",
       "  <thead>\n",
       "    <tr style=\"text-align: right;\">\n",
       "      <th></th>\n",
       "      <th>Org. GTW</th>\n",
       "      <th>Dst. GTW</th>\n",
       "      <th>Travel time</th>\n",
       "      <th>Distance in km</th>\n",
       "      <th>bing distance</th>\n",
       "      <th>bing driving time</th>\n",
       "    </tr>\n",
       "  </thead>\n",
       "  <tbody>\n",
       "    <tr>\n",
       "      <th>0</th>\n",
       "      <td>Ostrava</td>\n",
       "      <td>Zabrze</td>\n",
       "      <td>2.000000</td>\n",
       "      <td>82</td>\n",
       "      <td></td>\n",
       "      <td></td>\n",
       "    </tr>\n",
       "    <tr>\n",
       "      <th>1</th>\n",
       "      <td>Plzen</td>\n",
       "      <td>Feucht</td>\n",
       "      <td>3.000000</td>\n",
       "      <td>190</td>\n",
       "      <td></td>\n",
       "      <td></td>\n",
       "    </tr>\n",
       "    <tr>\n",
       "      <th>2</th>\n",
       "      <td>Speyer</td>\n",
       "      <td>Barcelona</td>\n",
       "      <td>16.000000</td>\n",
       "      <td>1233</td>\n",
       "      <td></td>\n",
       "      <td></td>\n",
       "    </tr>\n",
       "    <tr>\n",
       "      <th>3</th>\n",
       "      <td>Speyer</td>\n",
       "      <td>Madrid</td>\n",
       "      <td>24.000000</td>\n",
       "      <td>1816</td>\n",
       "      <td></td>\n",
       "      <td></td>\n",
       "    </tr>\n",
       "    <tr>\n",
       "      <th>4</th>\n",
       "      <td>Speyer</td>\n",
       "      <td>Vitoria</td>\n",
       "      <td>55.500000</td>\n",
       "      <td>1452</td>\n",
       "      <td></td>\n",
       "      <td></td>\n",
       "    </tr>\n",
       "    <tr>\n",
       "      <th>...</th>\n",
       "      <td>...</td>\n",
       "      <td>...</td>\n",
       "      <td>...</td>\n",
       "      <td>...</td>\n",
       "      <td>...</td>\n",
       "      <td>...</td>\n",
       "    </tr>\n",
       "    <tr>\n",
       "      <th>72</th>\n",
       "      <td>Zlin</td>\n",
       "      <td>Strečno</td>\n",
       "      <td>1.500000</td>\n",
       "      <td>130</td>\n",
       "      <td></td>\n",
       "      <td></td>\n",
       "    </tr>\n",
       "    <tr>\n",
       "      <th>73</th>\n",
       "      <td>Ivanka pri Dunaji</td>\n",
       "      <td>Ricany - Jazlovice</td>\n",
       "      <td>5.516667</td>\n",
       "      <td>330</td>\n",
       "      <td></td>\n",
       "      <td></td>\n",
       "    </tr>\n",
       "    <tr>\n",
       "      <th>74</th>\n",
       "      <td>Brno</td>\n",
       "      <td>OLK</td>\n",
       "      <td>8.000000</td>\n",
       "      <td>320</td>\n",
       "      <td></td>\n",
       "      <td></td>\n",
       "    </tr>\n",
       "    <tr>\n",
       "      <th>75</th>\n",
       "      <td>NPKK</td>\n",
       "      <td>Regensburg</td>\n",
       "      <td>9.000000</td>\n",
       "      <td>700</td>\n",
       "      <td></td>\n",
       "      <td></td>\n",
       "    </tr>\n",
       "    <tr>\n",
       "      <th>76</th>\n",
       "      <td>Kaunas</td>\n",
       "      <td>Radefeld</td>\n",
       "      <td>18.000000</td>\n",
       "      <td>1155</td>\n",
       "      <td></td>\n",
       "      <td></td>\n",
       "    </tr>\n",
       "  </tbody>\n",
       "</table>\n",
       "<p>77 rows × 6 columns</p>\n",
       "</div>"
      ],
      "text/plain": [
       "             Org. GTW            Dst. GTW  Travel time  Distance in km  \\\n",
       "0             Ostrava              Zabrze     2.000000              82   \n",
       "1               Plzen              Feucht     3.000000             190   \n",
       "2              Speyer           Barcelona    16.000000            1233   \n",
       "3              Speyer              Madrid    24.000000            1816   \n",
       "4              Speyer             Vitoria    55.500000            1452   \n",
       "..                ...                 ...          ...             ...   \n",
       "72               Zlin             Strečno     1.500000             130   \n",
       "73  Ivanka pri Dunaji  Ricany - Jazlovice     5.516667             330   \n",
       "74               Brno                 OLK     8.000000             320   \n",
       "75               NPKK          Regensburg     9.000000             700   \n",
       "76             Kaunas            Radefeld    18.000000            1155   \n",
       "\n",
       "   bing distance bing driving time  \n",
       "0                                   \n",
       "1                                   \n",
       "2                                   \n",
       "3                                   \n",
       "4                                   \n",
       "..           ...               ...  \n",
       "72                                  \n",
       "73                                  \n",
       "74                                  \n",
       "75                                  \n",
       "76                                  \n",
       "\n",
       "[77 rows x 6 columns]"
      ]
     },
     "execution_count": 229,
     "metadata": {},
     "output_type": "execute_result"
    }
   ],
   "source": [
    "compare"
   ]
  },
  {
   "cell_type": "code",
   "execution_count": 230,
   "metadata": {},
   "outputs": [],
   "source": [
    "dist_col_name = \"Distance\"\n",
    "time_col_name = \"Duration\"\n",
    "\n",
    "\n",
    "def find_dist(org, dst):\n",
    "    if org in hub_ref.keys():\n",
    "        org = hub_ref[org]\n",
    "    else:\n",
    "        print(f\"in the route of {org} and {dst}, {org} can't find\")\n",
    "    if dst in hub_ref.keys():\n",
    "        dst = hub_ref[dst]\n",
    "    else:\n",
    "        print(f\"in the route of {org} and {dst}, {dst} can't find\")\n",
    "        \n",
    "    km = distances.loc[(distances[\"From\"] == org) & (distances[\"To\"] == dst), dist_col_name]\n",
    "    time = distances.loc[(distances[\"From\"] == org) & (distances[\"To\"] == dst), time_col_name]\n",
    "    return [km, time]"
   ]
  },
  {
   "cell_type": "code",
   "execution_count": 231,
   "metadata": {},
   "outputs": [
    {
     "data": {
      "text/html": [
       "<div>\n",
       "<style scoped>\n",
       "    .dataframe tbody tr th:only-of-type {\n",
       "        vertical-align: middle;\n",
       "    }\n",
       "\n",
       "    .dataframe tbody tr th {\n",
       "        vertical-align: top;\n",
       "    }\n",
       "\n",
       "    .dataframe thead th {\n",
       "        text-align: right;\n",
       "    }\n",
       "</style>\n",
       "<table border=\"1\" class=\"dataframe\">\n",
       "  <thead>\n",
       "    <tr style=\"text-align: right;\">\n",
       "      <th></th>\n",
       "      <th>Origin Country</th>\n",
       "      <th>Destination Country</th>\n",
       "      <th>From</th>\n",
       "      <th>To</th>\n",
       "      <th>Distance</th>\n",
       "      <th>Duration</th>\n",
       "    </tr>\n",
       "  </thead>\n",
       "  <tbody>\n",
       "    <tr>\n",
       "      <th>0</th>\n",
       "      <td>AT</td>\n",
       "      <td>AT</td>\n",
       "      <td>Hub Graz-AT</td>\n",
       "      <td>Hub Graz-AT</td>\n",
       "      <td>0.000</td>\n",
       "      <td>0.000000</td>\n",
       "    </tr>\n",
       "    <tr>\n",
       "      <th>1</th>\n",
       "      <td>AT</td>\n",
       "      <td>AT</td>\n",
       "      <td>Hub Graz-AT</td>\n",
       "      <td>Hub Wien I-AT</td>\n",
       "      <td>198.409</td>\n",
       "      <td>1.883333</td>\n",
       "    </tr>\n",
       "    <tr>\n",
       "      <th>2</th>\n",
       "      <td>AT</td>\n",
       "      <td>BE</td>\n",
       "      <td>Hub Graz-AT</td>\n",
       "      <td>Brüssel-BE</td>\n",
       "      <td>1122.724</td>\n",
       "      <td>9.450000</td>\n",
       "    </tr>\n",
       "    <tr>\n",
       "      <th>3</th>\n",
       "      <td>AT</td>\n",
       "      <td>BG</td>\n",
       "      <td>Hub Graz-AT</td>\n",
       "      <td>Sofia-BG</td>\n",
       "      <td>951.814</td>\n",
       "      <td>9.333333</td>\n",
       "    </tr>\n",
       "    <tr>\n",
       "      <th>4</th>\n",
       "      <td>AT</td>\n",
       "      <td>CZ</td>\n",
       "      <td>Hub Graz-AT</td>\n",
       "      <td>Brno-CZ</td>\n",
       "      <td>341.843</td>\n",
       "      <td>3.450000</td>\n",
       "    </tr>\n",
       "    <tr>\n",
       "      <th>...</th>\n",
       "      <td>...</td>\n",
       "      <td>...</td>\n",
       "      <td>...</td>\n",
       "      <td>...</td>\n",
       "      <td>...</td>\n",
       "      <td>...</td>\n",
       "    </tr>\n",
       "    <tr>\n",
       "      <th>5471</th>\n",
       "      <td>CZ</td>\n",
       "      <td>AT</td>\n",
       "      <td>Zlin-CZ</td>\n",
       "      <td>Wals-AT</td>\n",
       "      <td>422.419</td>\n",
       "      <td>4.033333</td>\n",
       "    </tr>\n",
       "    <tr>\n",
       "      <th>5472</th>\n",
       "      <td>CZ</td>\n",
       "      <td>AT</td>\n",
       "      <td>Zlin-CZ</td>\n",
       "      <td>Wundschuh-AT</td>\n",
       "      <td>421.029</td>\n",
       "      <td>4.066667</td>\n",
       "    </tr>\n",
       "    <tr>\n",
       "      <th>5473</th>\n",
       "      <td>CZ</td>\n",
       "      <td>AT</td>\n",
       "      <td>Zlin-CZ</td>\n",
       "      <td>Wernberg-AT</td>\n",
       "      <td>567.374</td>\n",
       "      <td>5.400000</td>\n",
       "    </tr>\n",
       "    <tr>\n",
       "      <th>5474</th>\n",
       "      <td>CZ</td>\n",
       "      <td>DE</td>\n",
       "      <td>Zlin-CZ</td>\n",
       "      <td>PZ 44 (Bochum) [im Bau]-DE</td>\n",
       "      <td>968.880</td>\n",
       "      <td>8.283333</td>\n",
       "    </tr>\n",
       "    <tr>\n",
       "      <th>5475</th>\n",
       "      <td>CZ</td>\n",
       "      <td>CZ</td>\n",
       "      <td>Zlin-CZ</td>\n",
       "      <td>Zlin-CZ</td>\n",
       "      <td>0.000</td>\n",
       "      <td>0.000000</td>\n",
       "    </tr>\n",
       "  </tbody>\n",
       "</table>\n",
       "<p>5476 rows × 6 columns</p>\n",
       "</div>"
      ],
      "text/plain": [
       "     Origin Country Destination Country         From  \\\n",
       "0                AT                  AT  Hub Graz-AT   \n",
       "1                AT                  AT  Hub Graz-AT   \n",
       "2                AT                  BE  Hub Graz-AT   \n",
       "3                AT                  BG  Hub Graz-AT   \n",
       "4                AT                  CZ  Hub Graz-AT   \n",
       "...             ...                 ...          ...   \n",
       "5471             CZ                  AT      Zlin-CZ   \n",
       "5472             CZ                  AT      Zlin-CZ   \n",
       "5473             CZ                  AT      Zlin-CZ   \n",
       "5474             CZ                  DE      Zlin-CZ   \n",
       "5475             CZ                  CZ      Zlin-CZ   \n",
       "\n",
       "                              To  Distance  Duration  \n",
       "0                    Hub Graz-AT     0.000  0.000000  \n",
       "1                  Hub Wien I-AT   198.409  1.883333  \n",
       "2                     Brüssel-BE  1122.724  9.450000  \n",
       "3                       Sofia-BG   951.814  9.333333  \n",
       "4                        Brno-CZ   341.843  3.450000  \n",
       "...                          ...       ...       ...  \n",
       "5471                     Wals-AT   422.419  4.033333  \n",
       "5472                Wundschuh-AT   421.029  4.066667  \n",
       "5473                 Wernberg-AT   567.374  5.400000  \n",
       "5474  PZ 44 (Bochum) [im Bau]-DE   968.880  8.283333  \n",
       "5475                     Zlin-CZ     0.000  0.000000  \n",
       "\n",
       "[5476 rows x 6 columns]"
      ]
     },
     "execution_count": 231,
     "metadata": {},
     "output_type": "execute_result"
    }
   ],
   "source": [
    "distances"
   ]
  },
  {
   "cell_type": "code",
   "execution_count": 232,
   "metadata": {
    "scrolled": true
   },
   "outputs": [],
   "source": [
    "for row in compare.index:\n",
    "    org = compare.loc[row, \"Org. GTW\"]\n",
    "    dst = compare.loc[row, \"Dst. GTW\"]\n",
    "    ans = find_dist(org, dst)\n",
    "\n",
    "    if len(ans[0]) != 0:\n",
    "        compare.loc[row, \"bing distance\"] = ans[0].values[0]\n",
    "        compare.loc[row, \"bing driving time\"] = ans[1].values[0]"
   ]
  },
  {
   "cell_type": "code",
   "execution_count": 233,
   "metadata": {},
   "outputs": [
    {
     "data": {
      "text/html": [
       "<div>\n",
       "<style scoped>\n",
       "    .dataframe tbody tr th:only-of-type {\n",
       "        vertical-align: middle;\n",
       "    }\n",
       "\n",
       "    .dataframe tbody tr th {\n",
       "        vertical-align: top;\n",
       "    }\n",
       "\n",
       "    .dataframe thead th {\n",
       "        text-align: right;\n",
       "    }\n",
       "</style>\n",
       "<table border=\"1\" class=\"dataframe\">\n",
       "  <thead>\n",
       "    <tr style=\"text-align: right;\">\n",
       "      <th></th>\n",
       "      <th>Origin Country</th>\n",
       "      <th>Destination Country</th>\n",
       "      <th>From</th>\n",
       "      <th>To</th>\n",
       "      <th>Distance</th>\n",
       "      <th>Duration</th>\n",
       "    </tr>\n",
       "  </thead>\n",
       "  <tbody>\n",
       "    <tr>\n",
       "      <th>1037</th>\n",
       "      <td>DE</td>\n",
       "      <td>AT</td>\n",
       "      <td>PZ 93 (Regensburg)-DE</td>\n",
       "      <td>Hub Wien I-AT</td>\n",
       "      <td>396.523</td>\n",
       "      <td>3.45</td>\n",
       "    </tr>\n",
       "  </tbody>\n",
       "</table>\n",
       "</div>"
      ],
      "text/plain": [
       "     Origin Country Destination Country                   From             To  \\\n",
       "1037             DE                  AT  PZ 93 (Regensburg)-DE  Hub Wien I-AT   \n",
       "\n",
       "      Distance  Duration  \n",
       "1037   396.523      3.45  "
      ]
     },
     "execution_count": 233,
     "metadata": {},
     "output_type": "execute_result"
    }
   ],
   "source": [
    "distances.loc[(distances[\"From\"] == hub_ref[\"Regensburg\"]) & (distances[\"To\"] == hub_ref[\"Wien 1\"]), :]"
   ]
  },
  {
   "cell_type": "code",
   "execution_count": 234,
   "metadata": {},
   "outputs": [
    {
     "name": "stdout",
     "output_type": "stream",
     "text": [
      "76 out of 172 are covered\n"
     ]
    }
   ],
   "source": [
    "compare_found = compare[compare[\"bing distance\"] != \"\"].sort_values(\"Distance in km\")\n",
    "print(f\"{len(compare_found)} out of {len(schedule)} are covered\")"
   ]
  },
  {
   "cell_type": "code",
   "execution_count": 235,
   "metadata": {},
   "outputs": [],
   "source": [
    "import seaborn as sns\n",
    "import matplotlib.pyplot as plt"
   ]
  },
  {
   "cell_type": "code",
   "execution_count": 236,
   "metadata": {
    "scrolled": true
   },
   "outputs": [
    {
     "data": {
      "text/plain": [
       "<matplotlib.axes._subplots.AxesSubplot at 0x1a19d58290>"
      ]
     },
     "execution_count": 236,
     "metadata": {},
     "output_type": "execute_result"
    },
    {
     "data": {
      "image/png": "[encoded data removed]",
      "text/plain": [
       "<Figure size 432x288 with 2 Axes>"
      ]
     },
     "metadata": {
      "needs_background": "light"
     },
     "output_type": "display_data"
    }
   ],
   "source": [
    "fix = plt.subplot(2,1,1)\n",
    "sns.scatterplot(x = \"bing driving time\", y = \"Travel time\", data = compare_found)\n",
    "\n",
    "fix = plt.subplot(2,1,2)\n",
    "sns.scatterplot(x = \"bing distance\", y = \"Travel time\", data = compare_found)\n",
    "\n",
    "#%matplotlib inline"
   ]
  },
  {
   "cell_type": "markdown",
   "metadata": {},
   "source": [
    "# Using simple equations to model the travel time using the driving time.\n",
    "Minimize the MSE"
   ]
  },
  {
   "cell_type": "code",
   "execution_count": 237,
   "metadata": {},
   "outputs": [],
   "source": [
    "compare.dropna(how = \"any\", inplace = True)\n",
    "\n",
    "def tt_est(daily_max, rest, offset, dt_offset, driving_time):\n",
    "    # daily_max # assume 12 at this moment\n",
    "    # rest # assume the bus driver have to rest at least 8 hours between 2 days\n",
    "    # offset # assume the bus need to drive out and in to the hub, and it takes time\n",
    "    # dt_offset # adjust the speed.\n",
    "    driving_time = driving_time*dt_offset\n",
    "    hour = driving_time % daily_max\n",
    "    ext_hour = driving_time //daily_max* (rest+daily_max)  # Calculate the time it need for every extended day\n",
    "    \n",
    "    return hour + ext_hour + offset # 1 means the buffer time\n",
    "\n",
    "def cal_mse(df):\n",
    "    return sum((df[\"est_tt\"] - df[\"Travel time\"])**2)\n",
    "\n"
   ]
  },
  {
   "cell_type": "code",
   "execution_count": 238,
   "metadata": {},
   "outputs": [],
   "source": [
    "compare = compare[compare[\"bing driving time\"] != \"\"]"
   ]
  },
  {
   "cell_type": "code",
   "execution_count": 239,
   "metadata": {},
   "outputs": [
    {
     "data": {
      "text/html": [
       "<div>\n",
       "<style scoped>\n",
       "    .dataframe tbody tr th:only-of-type {\n",
       "        vertical-align: middle;\n",
       "    }\n",
       "\n",
       "    .dataframe tbody tr th {\n",
       "        vertical-align: top;\n",
       "    }\n",
       "\n",
       "    .dataframe thead th {\n",
       "        text-align: right;\n",
       "    }\n",
       "</style>\n",
       "<table border=\"1\" class=\"dataframe\">\n",
       "  <thead>\n",
       "    <tr style=\"text-align: right;\">\n",
       "      <th></th>\n",
       "      <th>Org. GTW</th>\n",
       "      <th>Dst. GTW</th>\n",
       "      <th>Travel time</th>\n",
       "      <th>Distance in km</th>\n",
       "      <th>bing distance</th>\n",
       "      <th>bing driving time</th>\n",
       "    </tr>\n",
       "  </thead>\n",
       "  <tbody>\n",
       "    <tr>\n",
       "      <th>0</th>\n",
       "      <td>Ostrava</td>\n",
       "      <td>Zabrze</td>\n",
       "      <td>2.000000</td>\n",
       "      <td>82</td>\n",
       "      <td>80.536</td>\n",
       "      <td>0.883333</td>\n",
       "    </tr>\n",
       "    <tr>\n",
       "      <th>1</th>\n",
       "      <td>Plzen</td>\n",
       "      <td>Feucht</td>\n",
       "      <td>3.000000</td>\n",
       "      <td>190</td>\n",
       "      <td>189.205</td>\n",
       "      <td>1.71667</td>\n",
       "    </tr>\n",
       "    <tr>\n",
       "      <th>2</th>\n",
       "      <td>Speyer</td>\n",
       "      <td>Barcelona</td>\n",
       "      <td>16.000000</td>\n",
       "      <td>1233</td>\n",
       "      <td>1230.86</td>\n",
       "      <td>11.0667</td>\n",
       "    </tr>\n",
       "    <tr>\n",
       "      <th>3</th>\n",
       "      <td>Speyer</td>\n",
       "      <td>Madrid</td>\n",
       "      <td>24.000000</td>\n",
       "      <td>1816</td>\n",
       "      <td>1797.45</td>\n",
       "      <td>16.3167</td>\n",
       "    </tr>\n",
       "    <tr>\n",
       "      <th>4</th>\n",
       "      <td>Speyer</td>\n",
       "      <td>Vitoria</td>\n",
       "      <td>55.500000</td>\n",
       "      <td>1452</td>\n",
       "      <td>1436.76</td>\n",
       "      <td>13.05</td>\n",
       "    </tr>\n",
       "    <tr>\n",
       "      <th>...</th>\n",
       "      <td>...</td>\n",
       "      <td>...</td>\n",
       "      <td>...</td>\n",
       "      <td>...</td>\n",
       "      <td>...</td>\n",
       "      <td>...</td>\n",
       "    </tr>\n",
       "    <tr>\n",
       "      <th>72</th>\n",
       "      <td>Zlin</td>\n",
       "      <td>Strečno</td>\n",
       "      <td>1.500000</td>\n",
       "      <td>130</td>\n",
       "      <td>140.749</td>\n",
       "      <td>2.2</td>\n",
       "    </tr>\n",
       "    <tr>\n",
       "      <th>73</th>\n",
       "      <td>Ivanka pri Dunaji</td>\n",
       "      <td>Ricany - Jazlovice</td>\n",
       "      <td>5.516667</td>\n",
       "      <td>330</td>\n",
       "      <td>331.7</td>\n",
       "      <td>3.13333</td>\n",
       "    </tr>\n",
       "    <tr>\n",
       "      <th>74</th>\n",
       "      <td>Brno</td>\n",
       "      <td>OLK</td>\n",
       "      <td>8.000000</td>\n",
       "      <td>320</td>\n",
       "      <td>317.376</td>\n",
       "      <td>3.03333</td>\n",
       "    </tr>\n",
       "    <tr>\n",
       "      <th>75</th>\n",
       "      <td>NPKK</td>\n",
       "      <td>Regensburg</td>\n",
       "      <td>9.000000</td>\n",
       "      <td>700</td>\n",
       "      <td>671.789</td>\n",
       "      <td>5.9</td>\n",
       "    </tr>\n",
       "    <tr>\n",
       "      <th>76</th>\n",
       "      <td>Kaunas</td>\n",
       "      <td>Radefeld</td>\n",
       "      <td>18.000000</td>\n",
       "      <td>1155</td>\n",
       "      <td>1149.21</td>\n",
       "      <td>10.7333</td>\n",
       "    </tr>\n",
       "  </tbody>\n",
       "</table>\n",
       "<p>76 rows × 6 columns</p>\n",
       "</div>"
      ],
      "text/plain": [
       "             Org. GTW            Dst. GTW  Travel time  Distance in km  \\\n",
       "0             Ostrava              Zabrze     2.000000              82   \n",
       "1               Plzen              Feucht     3.000000             190   \n",
       "2              Speyer           Barcelona    16.000000            1233   \n",
       "3              Speyer              Madrid    24.000000            1816   \n",
       "4              Speyer             Vitoria    55.500000            1452   \n",
       "..                ...                 ...          ...             ...   \n",
       "72               Zlin             Strečno     1.500000             130   \n",
       "73  Ivanka pri Dunaji  Ricany - Jazlovice     5.516667             330   \n",
       "74               Brno                 OLK     8.000000             320   \n",
       "75               NPKK          Regensburg     9.000000             700   \n",
       "76             Kaunas            Radefeld    18.000000            1155   \n",
       "\n",
       "   bing distance bing driving time  \n",
       "0         80.536          0.883333  \n",
       "1        189.205           1.71667  \n",
       "2        1230.86           11.0667  \n",
       "3        1797.45           16.3167  \n",
       "4        1436.76             13.05  \n",
       "..           ...               ...  \n",
       "72       140.749               2.2  \n",
       "73         331.7           3.13333  \n",
       "74       317.376           3.03333  \n",
       "75       671.789               5.9  \n",
       "76       1149.21           10.7333  \n",
       "\n",
       "[76 rows x 6 columns]"
      ]
     },
     "execution_count": 239,
     "metadata": {},
     "output_type": "execute_result"
    }
   ],
   "source": [
    "compare"
   ]
  },
  {
   "cell_type": "code",
   "execution_count": 240,
   "metadata": {},
   "outputs": [
    {
     "name": "stdout",
     "output_type": "stream",
     "text": [
      "22439.872259722226\n"
     ]
    },
    {
     "name": "stderr",
     "output_type": "stream",
     "text": [
      "/Users/yi/opt/anaconda3/lib/python3.7/site-packages/ipykernel_launcher.py:1: SettingWithCopyWarning: \n",
      "A value is trying to be set on a copy of a slice from a DataFrame.\n",
      "Try using .loc[row_indexer,col_indexer] = value instead\n",
      "\n",
      "See the caveats in the documentation: https://pandas.pydata.org/pandas-docs/stable/user_guide/indexing.html#returning-a-view-versus-a-copy\n",
      "  \"\"\"Entry point for launching an IPython kernel.\n"
     ]
    },
    {
     "data": {
      "text/plain": [
       "<matplotlib.axes._subplots.AxesSubplot at 0x1a1a0a9510>"
      ]
     },
     "execution_count": 240,
     "metadata": {},
     "output_type": "execute_result"
    },
    {
     "data": {
      "image/png": "[encoded data removed]",
      "text/plain": [
       "<Figure size 432x288 with 1 Axes>"
      ]
     },
     "metadata": {
      "needs_background": "light"
     },
     "output_type": "display_data"
    }
   ],
   "source": [
    "\n",
    "compare[\"est_tt\"] = compare.apply(lambda row: tt_est(14,7,0.5,1.45,row[\"bing driving time\"]), axis = 1)\n",
    "print(cal_mse(compare))\n",
    "\n",
    "# Visualize\n",
    "set1 = compare.loc[:, [\"bing driving time\", \"est_tt\"]]\n",
    "set1.columns = [\"dt\", \"tt\"] \n",
    "set2 = compare.loc[:, [\"bing driving time\", \"Travel time\"]]\n",
    "set2.columns = [\"dt\", \"tt\"]\n",
    "plot_dataset = pd.concat([set1.assign(dataset='Estimation'), set2.assign(dataset='Actual')])\n",
    "plot_dataset\n",
    "sns.scatterplot(data = plot_dataset , x = \"dt\", y = \"tt\", hue = \"dataset\")"
   ]
  },
  {
   "cell_type": "code",
   "execution_count": null,
   "metadata": {},
   "outputs": [],
   "source": []
  },
  {
   "cell_type": "code",
   "execution_count": null,
   "metadata": {},
   "outputs": [],
   "source": []
  },
  {
   "cell_type": "code",
   "execution_count": 241,
   "metadata": {
    "scrolled": true
   },
   "outputs": [
    {
     "name": "stderr",
     "output_type": "stream",
     "text": [
      "/Users/yi/opt/anaconda3/lib/python3.7/site-packages/ipykernel_launcher.py:8: SettingWithCopyWarning: \n",
      "A value is trying to be set on a copy of a slice from a DataFrame.\n",
      "Try using .loc[row_indexer,col_indexer] = value instead\n",
      "\n",
      "See the caveats in the documentation: https://pandas.pydata.org/pandas-docs/stable/user_guide/indexing.html#returning-a-view-versus-a-copy\n",
      "  \n"
     ]
    }
   ],
   "source": [
    "dm = [x for x in range(10, 15)]\n",
    "rest = [x for x in range(8, 12)]\n",
    "offset = [x/2 for x in range(0, 4)]\n",
    "dt_offset = [x/10 for x in range(10, 15)]\n",
    "grid_search = [(a, b, c, d) for a in dm for b in rest for c in offset for d in dt_offset]\n",
    "gs_result = []\n",
    "for a, b, c, d in grid_search: \n",
    "    compare[\"est_tt\"] = compare.apply(lambda row: tt_est(a,b,c,d,row[\"bing driving time\"]), axis = 1)\n",
    "    gs_result.append([a, b, d, d, cal_mse(compare)])"
   ]
  },
  {
   "cell_type": "code",
   "execution_count": 242,
   "metadata": {},
   "outputs": [],
   "source": [
    "gs_result = pd.DataFrame(gs_result)\n",
    "best_set = gs_result.loc[gs_result[4] == gs_result[4].min(), 0:3].values.tolist()[0]"
   ]
  },
  {
   "cell_type": "code",
   "execution_count": 243,
   "metadata": {},
   "outputs": [
    {
     "name": "stderr",
     "output_type": "stream",
     "text": [
      "/Users/yi/opt/anaconda3/lib/python3.7/site-packages/ipykernel_launcher.py:3: SettingWithCopyWarning: \n",
      "A value is trying to be set on a copy of a slice from a DataFrame.\n",
      "Try using .loc[row_indexer,col_indexer] = value instead\n",
      "\n",
      "See the caveats in the documentation: https://pandas.pydata.org/pandas-docs/stable/user_guide/indexing.html#returning-a-view-versus-a-copy\n",
      "  This is separate from the ipykernel package so we can avoid doing imports until\n"
     ]
    }
   ],
   "source": [
    "# using the best set to train the rest of the data\n",
    "a, b, c, d = best_set\n",
    "compare[\"est_tt\"] = compare.apply(lambda row: tt_est(a,b,c,d,row[\"bing driving time\"]), axis = 1)"
   ]
  },
  {
   "cell_type": "code",
   "execution_count": 244,
   "metadata": {},
   "outputs": [
    {
     "data": {
      "text/plain": [
       "<matplotlib.axes._subplots.AxesSubplot at 0x1a1a0c17d0>"
      ]
     },
     "execution_count": 244,
     "metadata": {},
     "output_type": "execute_result"
    },
    {
     "data": {
      "image/png": "[encoded data removed]",
      "text/plain": [
       "<Figure size 432x288 with 1 Axes>"
      ]
     },
     "metadata": {
      "needs_background": "light"
     },
     "output_type": "display_data"
    }
   ],
   "source": [
    "# Visualize\n",
    "set1 = compare.loc[:, [\"bing driving time\", \"est_tt\"]]\n",
    "set1.columns = [\"dt\", \"tt\"] \n",
    "set2 = compare.loc[:, [\"bing driving time\", \"Travel time\"]]\n",
    "set2.columns = [\"dt\", \"tt\"]\n",
    "plot_dataset = pd.concat([set1.assign(dataset='Estimation'), set2.assign(dataset='Actual')])\n",
    "plot_dataset\n",
    "sns.scatterplot(data = plot_dataset , x = \"dt\", y = \"tt\", hue = \"dataset\")"
   ]
  },
  {
   "cell_type": "code",
   "execution_count": 245,
   "metadata": {},
   "outputs": [],
   "source": [
    "# Calculate the estimated travel time\n",
    "distances[\"est_tt\"] = 0\n",
    "distances[\"est_tt\"] = distances.apply(lambda row: tt_est(a,b,c,d,row[\"Duration\"]), axis = 1)"
   ]
  },
  {
   "cell_type": "code",
   "execution_count": 246,
   "metadata": {},
   "outputs": [
    {
     "data": {
      "text/plain": [
       "<matplotlib.axes._subplots.AxesSubplot at 0x1a1a098690>"
      ]
     },
     "execution_count": 246,
     "metadata": {},
     "output_type": "execute_result"
    },
    {
     "data": {
      "image/png": "[encoded data removed]",
      "text/plain": [
       "<Figure size 432x288 with 1 Axes>"
      ]
     },
     "metadata": {
      "needs_background": "light"
     },
     "output_type": "display_data"
    }
   ],
   "source": [
    "sns.scatterplot(data = distances, x = \"Duration\", y = \"est_tt\")"
   ]
  },
  {
   "cell_type": "code",
   "execution_count": 247,
   "metadata": {},
   "outputs": [],
   "source": [
    "distances.to_csv(\"../Database/travel time.csv\")"
   ]
  },
  {
   "cell_type": "code",
   "execution_count": 249,
   "metadata": {},
   "outputs": [
    {
     "data": {
      "text/plain": [
       "array(['Hub Graz-AT', 'Hub Wien I-AT', 'Brüssel-BE', 'Sofia-BG',\n",
       "       'Brno-CZ', 'Ostrava-CZ', 'Krupka 1-CZ', 'Plzen 1-CZ',\n",
       "       'Hradec Kralove - Brezhrad-CZ', 'PZ 67 (Speyer)-DE',\n",
       "       'PZ 50 (Köln)-DE', 'PZ 04 (Radefeld/Leipzig)-DE',\n",
       "       'PZ 90 (Feucht/Nürnberg)-DE', 'PZ 77 (Lahr)-DE',\n",
       "       'PZ 93 (Regensburg)-DE', 'PZ 21 (Hamburg)-DE',\n",
       "       'PZ 46 (Dorsten)-DE', 'PZ 58 (Hagen)-DE', 'PZ 08 (Neumark)-DE',\n",
       "       'PZ 47 (Krefeld)-DE', 'PZ 15 (Rüdersdorf)-DE', 'Kolding-DK',\n",
       "       'Barcelona-ES', 'Madrid-ES', 'Araba (Vitoria)-ES',\n",
       "       'Lieto (Turku)-FL', 'Vantaa (Helsinki)-FL', 'Combs la ville-FR',\n",
       "       'Slough-GB', 'Ryton Gateway-GB', 'Spata-GR', 'Zagreb-HR',\n",
       "       'Budapest OLK-HU', 'Budapest NPKK (OE)-HU', 'Portlaoise-IE',\n",
       "       'Kaunas-LT', 'Bettembourg-LU', 'Eindhoven-Noord-NL',\n",
       "       'Utrecht-West + Centrum-NL', 'Zaltbommel-NL', 'Oslo-NO',\n",
       "       'Suwałki (Ełk)-PL', 'Poznań-PL', 'Zabrze-PL', 'Koninko-PL',\n",
       "       'Wrocław-PL', 'Bydgoszcz (Solec Kujawski)-PL', 'Lisboa-PT',\n",
       "       'Oradea-RO', 'Stockholm - Västberga-SE', 'Helsingborg-SE',\n",
       "       'Arlöv-SE', 'Malmö-SE', 'Ljubljana-SI', 'Bratislava - Raca-SK',\n",
       "       'Bratislava - Petrzalka-SK', 'Zilina- Strecno-SK', 'Allhaming-AT',\n",
       "       'Hagenbrunn-AT', 'Ivanka pri Dunaji-SK', 'Enns-AT', 'Göteborg-SE',\n",
       "       'PZ 24 (Neumünster)-DE', 'Ricany -CZ', 'Olomouc-CZ', 'Dublin-IE',\n",
       "       'Hall in Tirol-AT', 'Hub Wien II-AT', 'Liesing-AT', 'Wals-AT',\n",
       "       'Wundschuh-AT', 'Wernberg-AT', 'PZ 44 (Bochum) [im Bau]-DE',\n",
       "       'Zlin-CZ'], dtype=object)"
      ]
     },
     "execution_count": 249,
     "metadata": {},
     "output_type": "execute_result"
    }
   ],
   "source": [
    "distances.From.unique()"
   ]
  },
  {
   "cell_type": "code",
   "execution_count": null,
   "metadata": {},
   "outputs": [],
   "source": []
  }
 ],
 "metadata": {
  "kernelspec": {
   "display_name": "Python 3",
   "language": "python",
   "name": "python3"
  },
  "language_info": {
   "codemirror_mode": {
    "name": "ipython",
    "version": 3
   },
   "file_extension": ".py",
   "mimetype": "text/x-python",
   "name": "python",
   "nbconvert_exporter": "python",
   "pygments_lexer": "ipython3",
   "version": "3.7.4"
  }
 },
 "nbformat": 4,
 "nbformat_minor": 2
}
