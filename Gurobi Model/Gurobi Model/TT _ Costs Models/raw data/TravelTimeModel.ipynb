{
 "cells": [
  {
   "cell_type": "code",
   "execution_count": 121,
   "metadata": {},
   "outputs": [],
   "source": [
    "import pandas as pd\n",
    "import numpy as np\n",
    "\n",
    "def turn_to_hr(target):\n",
    "    time = target.hour + target.minute/60\n",
    "    return (time)\n",
    "\n",
    "def turn_to_hr_str(target):\n",
    "    time = int(target.split(\":\")[0]) + int(target.split(\":\")[1])/60\n",
    "    return time"
   ]
  },
  {
   "cell_type": "code",
   "execution_count": 81,
   "metadata": {},
   "outputs": [],
   "source": [
    "'''\n",
    "ref_table = pd.read_csv(\"Hubs Compare Table.csv\")\n",
    "ref_table.dropna(how = \"all\", axis = 1, inplace = True)\n",
    "ref_table.columns = [\"GS_Country\", \"GS_Hub\",\"M_Country\", \"M_Hub\" ]\n",
    "ref_table = ref_table.drop(0, axis = 0)\n",
    "'''"
   ]
  },
  {
   "cell_type": "code",
   "execution_count": 153,
   "metadata": {},
   "outputs": [],
   "source": [
    "ref_table = pd.read_csv(\"Hub list.csv\")\n",
    "ref_table[\"Masterfile_name\"] = ref_table.Ref_City + \"-\"+ ref_table.Country\n",
    "\n"
   ]
  },
  {
   "cell_type": "code",
   "execution_count": 241,
   "metadata": {},
   "outputs": [],
   "source": [
    "# Read files \n",
    "\n",
    "#distances = pd.read_excel(\"Simple Routes.xlsx\", sheet_name = 0)\n",
    "distances = pd.read_csv(\"inter_distances.csv\")\n",
    "distances.columns = [\"\", 'Origin Country', 'Destination Country', 'From', 'To', 'Distance', 'Time Format', 'Time', 'Duration']\n",
    "schedule = pd.read_csv(\"tn_rs.csv\") # Read the current network (Used/Nonused)\n",
    "schedule.replace(\"Ryton Gateway\", \"Ryton\", inplace = True)\n"
   ]
  },
  {
   "cell_type": "code",
   "execution_count": 242,
   "metadata": {},
   "outputs": [
    {
     "name": "stdout",
     "output_type": "stream",
     "text": [
      "there are 461487 rows in the distacnes file\n"
     ]
    }
   ],
   "source": [
    "print(f\"there are {len(distances)} rows in the distacnes file\")"
   ]
  },
  {
   "cell_type": "code",
   "execution_count": 280,
   "metadata": {},
   "outputs": [
    {
     "name": "stdout",
     "output_type": "stream",
     "text": [
      "NPKK is not in the list\n",
      "0.03225806451612903\n",
      "COMBS LA VILLE is not in the list\n",
      "1\n"
     ]
    }
   ],
   "source": [
    "# Gather the list of cities\n",
    "\n",
    "hub_list_in_GS =  ref_table[\"City\"].tolist()\n",
    "org_list = schedule[\"Org. GTW\"].unique().tolist()\n",
    "\n",
    "hub_ref = {}\n",
    "count = 0\n",
    "for x in org_list:\n",
    "    for y in hub_list_in_GS:\n",
    "        if x in y:\n",
    "            msname = ref_table[ref_table[\"City\"] == y][\"Masterfile_name\"]\n",
    "            hub_ref[x] =  msname.values[0]\n",
    "            break\n",
    "    \n",
    "    else:\n",
    "        print(f\"{x} is not in the list\")\n",
    "        count = count+1\n",
    " \n",
    "print(count / len(org_list))\n",
    "        \n",
    "count = 0\n",
    "des_list = schedule[\"Dst. GTW\"].unique().tolist()\n",
    "for x in des_list:\n",
    "    for y in hub_list_in_GS:\n",
    "        if x in y:\n",
    "            msname = ref_table[ref_table[\"City\"] == y][\"Masterfile_name\"]\n",
    "            hub_ref[x] =  msname.values[0]\n",
    "            break\n",
    "    \n",
    "    else:\n",
    "        print(f\"{x} is not in the list\")\n",
    "        count = count+1\n",
    "        \n",
    "print(count)"
   ]
  },
  {
   "cell_type": "code",
   "execution_count": null,
   "metadata": {},
   "outputs": [],
   "source": []
  },
  {
   "cell_type": "code",
   "execution_count": null,
   "metadata": {},
   "outputs": [],
   "source": []
  },
  {
   "cell_type": "code",
   "execution_count": 281,
   "metadata": {},
   "outputs": [],
   "source": [
    "schedule[\"agg\"] = schedule[\"Org. GTW\"] + schedule[\"Dst. GTW\"]"
   ]
  },
  {
   "cell_type": "code",
   "execution_count": 282,
   "metadata": {},
   "outputs": [],
   "source": [
    "for x in schedule.index:\n",
    "    a = schedule.loc[x, \"Distance in km\"]\n",
    "    if type(a) == str:\n",
    "        schedule.loc[x, \"Distance in km\"] = 0"
   ]
  },
  {
   "cell_type": "code",
   "execution_count": 283,
   "metadata": {},
   "outputs": [],
   "source": [
    "schedule[\"Speed\"] = schedule[\"Distance in km\"] / schedule[\"Travel time\"]\n",
    "schedule = schedule[schedule.Speed <= 100] # Get rid of those columns with impossible values"
   ]
  },
  {
   "cell_type": "code",
   "execution_count": 284,
   "metadata": {},
   "outputs": [],
   "source": [
    "# In the current schedule, 1 route usually has several rows because of the different schedule arrangement.\n",
    "# Only choose the row that is the most reasonable.\n",
    "list_for_df = []\n",
    "for agg in schedule[\"agg\"].unique():\n",
    "    agg_info = schedule[schedule[\"agg\"] == agg]\n",
    "    pick = agg_info[agg_info[\"Speed\"] == agg_info[\"Speed\"].max()]\n",
    "    #list_for_df.append([agg_info[\"Org. GTW\"].unique()[0], agg_info[\"Dst. GTW\"].unique()[0], agg_info[\"Travel time\"].median() , agg_info[\"Distance in km\"].median()])\n",
    "    list_for_df.append([pick[\"Org. GTW\"].tolist()[0], pick[\"Dst. GTW\"].tolist()[0], pick[\"Travel time\"].tolist()[0] , pick[\"Distance in km\"].tolist()[0]])"
   ]
  },
  {
   "cell_type": "code",
   "execution_count": 285,
   "metadata": {},
   "outputs": [
    {
     "data": {
      "text/plain": [
       "64.16666666666667"
      ]
     },
     "execution_count": 285,
     "metadata": {},
     "output_type": "execute_result"
    }
   ],
   "source": [
    "agg_info[\"Speed\"].max()"
   ]
  },
  {
   "cell_type": "code",
   "execution_count": 286,
   "metadata": {},
   "outputs": [],
   "source": [
    "# To delete the duplicated routes, we create a new dataset called \"compare\"\n",
    "\n",
    "compare = pd.DataFrame(list_for_df, columns = [\"Org. GTW\", \"Dst. GTW\", \"Travel time\", \"Distance in km\"])\n",
    "compare[\"bing distance\"] = \"\"\n",
    "compare[\"bing driving time\"] = \"\""
   ]
  },
  {
   "cell_type": "code",
   "execution_count": 287,
   "metadata": {},
   "outputs": [],
   "source": [
    "dist_col_name = \"Distance\"\n",
    "time_col_name = \"Duration\"\n",
    "\n",
    "\n",
    "def find_dist(org, dst):\n",
    "    if org in hub_ref.keys():\n",
    "        org = hub_ref[org]\n",
    "    else:\n",
    "        print(f\"in the route of {org} and {dst}, {org} can't find\")\n",
    "    if dst in hub_ref.keys():\n",
    "        dst = hub_ref[dst]\n",
    "    else:\n",
    "        print(f\"in the route of {org} and {dst}, {dst} can't find\")\n",
    "        \n",
    "    km = distances.loc[(distances[\"From\"] == org) & (distances[\"To\"] == dst), dist_col_name]\n",
    "    time = distances.loc[(distances[\"From\"] == org) & (distances[\"To\"] == dst), time_col_name]\n",
    "    return [km, time]"
   ]
  },
  {
   "cell_type": "code",
   "execution_count": 288,
   "metadata": {
    "scrolled": true
   },
   "outputs": [
    {
     "name": "stdout",
     "output_type": "stream",
     "text": [
      "in the route of Eindhoven-Noord-NL and COMBS LA VILLE, COMBS LA VILLE can't find\n",
      "in the route of PZ 77 (Lahr)-DE and COMBS LA VILLE, COMBS LA VILLE can't find\n",
      "in the route of NPKK and Regensburg, NPKK can't find\n"
     ]
    }
   ],
   "source": [
    "for row in compare.index:\n",
    "    org = compare.loc[row, \"Org. GTW\"]\n",
    "    dst = compare.loc[row, \"Dst. GTW\"]\n",
    "    ans = find_dist(org, dst)\n",
    "\n",
    "    if len(ans[0]) != 0:\n",
    "        compare.loc[row, \"bing distance\"] = ans[0].values[0]\n",
    "        compare.loc[row, \"bing driving time\"] = ans[1].values[0]"
   ]
  },
  {
   "cell_type": "code",
   "execution_count": 289,
   "metadata": {},
   "outputs": [
    {
     "data": {
      "text/html": [
       "<div>\n",
       "<style scoped>\n",
       "    .dataframe tbody tr th:only-of-type {\n",
       "        vertical-align: middle;\n",
       "    }\n",
       "\n",
       "    .dataframe tbody tr th {\n",
       "        vertical-align: top;\n",
       "    }\n",
       "\n",
       "    .dataframe thead th {\n",
       "        text-align: right;\n",
       "    }\n",
       "</style>\n",
       "<table border=\"1\" class=\"dataframe\">\n",
       "  <thead>\n",
       "    <tr style=\"text-align: right;\">\n",
       "      <th></th>\n",
       "      <th></th>\n",
       "      <th>Origin Country</th>\n",
       "      <th>Destination Country</th>\n",
       "      <th>From</th>\n",
       "      <th>To</th>\n",
       "      <th>Distance</th>\n",
       "      <th>Time Format</th>\n",
       "      <th>Time</th>\n",
       "      <th>Duration</th>\n",
       "    </tr>\n",
       "  </thead>\n",
       "  <tbody>\n",
       "  </tbody>\n",
       "</table>\n",
       "</div>"
      ],
      "text/plain": [
       "Empty DataFrame\n",
       "Columns: [, Origin Country, Destination Country, From, To, Distance, Time Format, Time, Duration]\n",
       "Index: []"
      ]
     },
     "execution_count": 289,
     "metadata": {},
     "output_type": "execute_result"
    }
   ],
   "source": [
    "distances.loc[(distances[\"From\"] == hub_ref[\"Regensburg\"]) & (distances[\"To\"] == hub_ref[\"Wien 1\"]), :]"
   ]
  },
  {
   "cell_type": "code",
   "execution_count": 290,
   "metadata": {},
   "outputs": [
    {
     "name": "stdout",
     "output_type": "stream",
     "text": [
      "58 out of 172 are covered\n"
     ]
    }
   ],
   "source": [
    "compare_found = compare[compare[\"bing distance\"] != \"\"].sort_values(\"Distance in km\")\n",
    "print(f\"{len(compare_found)} out of {len(schedule)} are covered\")"
   ]
  },
  {
   "cell_type": "code",
   "execution_count": 291,
   "metadata": {},
   "outputs": [],
   "source": [
    "import seaborn as sns\n",
    "import matplotlib.pyplot as plt"
   ]
  },
  {
   "cell_type": "code",
   "execution_count": 292,
   "metadata": {
    "scrolled": true
   },
   "outputs": [
    {
     "data": {
      "text/plain": [
       "<matplotlib.axes._subplots.AxesSubplot at 0x1a343ce9d0>"
      ]
     },
     "execution_count": 292,
     "metadata": {},
     "output_type": "execute_result"
    },
    {
     "data": {
      "image/png": "[encoded data removed]",
      "text/plain": [
       "<Figure size 432x288 with 2 Axes>"
      ]
     },
     "metadata": {
      "needs_background": "light"
     },
     "output_type": "display_data"
    }
   ],
   "source": [
    "fix = plt.subplot(2,1,1)\n",
    "sns.scatterplot(x = \"bing driving time\", y = \"Travel time\", data = compare_found)\n",
    "\n",
    "fix = plt.subplot(2,1,2)\n",
    "sns.scatterplot(x = \"bing distance\", y = \"Travel time\", data = compare_found)\n"
   ]
  },
  {
   "cell_type": "markdown",
   "metadata": {},
   "source": [
    "# Using simple equations to model the travel time using the driving time.\n",
    "Minimize the MSE"
   ]
  },
  {
   "cell_type": "code",
   "execution_count": 293,
   "metadata": {},
   "outputs": [],
   "source": [
    "compare.dropna(how = \"any\", inplace = True)\n",
    "\n",
    "def tt_est(daily_max, rest, offset, dt_offset, driving_time):\n",
    "    # daily_max # assume 12 at this moment\n",
    "    # rest # assume the bus driver have to rest at least 8 hours between 2 days\n",
    "    # offset # assume the bus need to drive out and in to the hub, and it takes time\n",
    "    # dt_offset # adjust the speed.\n",
    "    driving_time = driving_time*dt_offset\n",
    "    hour = driving_time % daily_max\n",
    "    ext_hour = driving_time //daily_max* (rest+daily_max)  # Calculate the time it need for every extended day\n",
    "    \n",
    "    return hour + ext_hour + offset # 1 means the buffer time\n",
    "\n",
    "def cal_mse(df):\n",
    "    return sum((df[\"est_tt\"] - df[\"Travel time\"])**2)\n",
    "\n"
   ]
  },
  {
   "cell_type": "code",
   "execution_count": 309,
   "metadata": {},
   "outputs": [],
   "source": [
    "compare = compare[compare[\"bing driving time\"] != \"\"]"
   ]
  },
  {
   "cell_type": "code",
   "execution_count": 310,
   "metadata": {},
   "outputs": [
    {
     "name": "stdout",
     "output_type": "stream",
     "text": [
      "2688.879685416667\n"
     ]
    },
    {
     "name": "stderr",
     "output_type": "stream",
     "text": [
      "/Users/yi/opt/anaconda3/lib/python3.7/site-packages/ipykernel_launcher.py:1: SettingWithCopyWarning: \n",
      "A value is trying to be set on a copy of a slice from a DataFrame.\n",
      "Try using .loc[row_indexer,col_indexer] = value instead\n",
      "\n",
      "See the caveats in the documentation: http://pandas.pydata.org/pandas-docs/stable/user_guide/indexing.html#returning-a-view-versus-a-copy\n",
      "  \"\"\"Entry point for launching an IPython kernel.\n"
     ]
    },
    {
     "data": {
      "text/plain": [
       "<matplotlib.axes._subplots.AxesSubplot at 0x1a34375110>"
      ]
     },
     "execution_count": 310,
     "metadata": {},
     "output_type": "execute_result"
    },
    {
     "data": {
      "image/png": "[encoded data removed]",
      "text/plain": [
       "<Figure size 432x288 with 1 Axes>"
      ]
     },
     "metadata": {
      "needs_background": "light"
     },
     "output_type": "display_data"
    }
   ],
   "source": [
    "\n",
    "compare[\"est_tt\"] = compare.apply(lambda row: tt_est(14,7,0.5,1.45,row[\"bing driving time\"]), axis = 1)\n",
    "print(cal_mse(compare))\n",
    "\n",
    "# Visualize\n",
    "set1 = compare.loc[:, [\"bing driving time\", \"est_tt\"]]\n",
    "set1.columns = [\"dt\", \"tt\"] \n",
    "set2 = compare.loc[:, [\"bing driving time\", \"Travel time\"]]\n",
    "set2.columns = [\"dt\", \"tt\"]\n",
    "plot_dataset = pd.concat([set1.assign(dataset='Estimation'), set2.assign(dataset='Actual')])\n",
    "plot_dataset\n",
    "sns.scatterplot(data = plot_dataset , x = \"dt\", y = \"tt\", hue = \"dataset\")"
   ]
  },
  {
   "cell_type": "code",
   "execution_count": null,
   "metadata": {},
   "outputs": [],
   "source": []
  },
  {
   "cell_type": "code",
   "execution_count": null,
   "metadata": {},
   "outputs": [],
   "source": []
  },
  {
   "cell_type": "code",
   "execution_count": 311,
   "metadata": {
    "scrolled": true
   },
   "outputs": [
    {
     "name": "stderr",
     "output_type": "stream",
     "text": [
      "/Users/yi/opt/anaconda3/lib/python3.7/site-packages/ipykernel_launcher.py:8: SettingWithCopyWarning: \n",
      "A value is trying to be set on a copy of a slice from a DataFrame.\n",
      "Try using .loc[row_indexer,col_indexer] = value instead\n",
      "\n",
      "See the caveats in the documentation: http://pandas.pydata.org/pandas-docs/stable/user_guide/indexing.html#returning-a-view-versus-a-copy\n",
      "  \n"
     ]
    }
   ],
   "source": [
    "dm = [x for x in range(10, 15)]\n",
    "rest = [x for x in range(8, 12)]\n",
    "offset = [x/2 for x in range(0, 4)]\n",
    "dt_offset = [x/10 for x in range(10, 15)]\n",
    "grid_search = [(a, b, c, d) for a in dm for b in rest for c in offset for d in dt_offset]\n",
    "gs_result = []\n",
    "for a, b, c, d in grid_search: \n",
    "    compare[\"est_tt\"] = compare.apply(lambda row: tt_est(a,b,c,d,row[\"bing driving time\"]), axis = 1)\n",
    "    gs_result.append([a, b, d, d, cal_mse(compare)])"
   ]
  },
  {
   "cell_type": "code",
   "execution_count": 312,
   "metadata": {},
   "outputs": [],
   "source": [
    "gs_result = pd.DataFrame(gs_result)\n",
    "best_set = gs_result.loc[gs_result[4] == gs_result[4].min(), 0:3].values.tolist()[0]"
   ]
  },
  {
   "cell_type": "code",
   "execution_count": 313,
   "metadata": {},
   "outputs": [
    {
     "name": "stderr",
     "output_type": "stream",
     "text": [
      "/Users/yi/opt/anaconda3/lib/python3.7/site-packages/ipykernel_launcher.py:3: SettingWithCopyWarning: \n",
      "A value is trying to be set on a copy of a slice from a DataFrame.\n",
      "Try using .loc[row_indexer,col_indexer] = value instead\n",
      "\n",
      "See the caveats in the documentation: http://pandas.pydata.org/pandas-docs/stable/user_guide/indexing.html#returning-a-view-versus-a-copy\n",
      "  This is separate from the ipykernel package so we can avoid doing imports until\n"
     ]
    }
   ],
   "source": [
    "# using the best set to train the rest of the data\n",
    "a, b, c, d = best_set\n",
    "compare[\"est_tt\"] = compare.apply(lambda row: tt_est(a,b,c,d,row[\"bing driving time\"]), axis = 1)"
   ]
  },
  {
   "cell_type": "code",
   "execution_count": 314,
   "metadata": {},
   "outputs": [
    {
     "data": {
      "text/plain": [
       "<matplotlib.axes._subplots.AxesSubplot at 0x1a343b7790>"
      ]
     },
     "execution_count": 314,
     "metadata": {},
     "output_type": "execute_result"
    },
    {
     "data": {
      "image/png": "[encoded data removed]",
      "text/plain": [
       "<Figure size 432x288 with 1 Axes>"
      ]
     },
     "metadata": {
      "needs_background": "light"
     },
     "output_type": "display_data"
    }
   ],
   "source": [
    "# Visualize\n",
    "set1 = compare.loc[:, [\"bing driving time\", \"est_tt\"]]\n",
    "set1.columns = [\"dt\", \"tt\"] \n",
    "set2 = compare.loc[:, [\"bing driving time\", \"Travel time\"]]\n",
    "set2.columns = [\"dt\", \"tt\"]\n",
    "plot_dataset = pd.concat([set1.assign(dataset='Estimation'), set2.assign(dataset='Actual')])\n",
    "plot_dataset\n",
    "sns.scatterplot(data = plot_dataset , x = \"dt\", y = \"tt\", hue = \"dataset\")"
   ]
  },
  {
   "cell_type": "code",
   "execution_count": null,
   "metadata": {},
   "outputs": [],
   "source": []
  },
  {
   "cell_type": "code",
   "execution_count": null,
   "metadata": {},
   "outputs": [],
   "source": []
  },
  {
   "cell_type": "code",
   "execution_count": null,
   "metadata": {
    "scrolled": true
   },
   "outputs": [],
   "source": []
  },
  {
   "cell_type": "code",
   "execution_count": 315,
   "metadata": {},
   "outputs": [],
   "source": [
    "# Calculate the estimated travel time\n",
    "distances[\"est_tt\"] = 0\n",
    "distances[\"est_tt\"] = distances.apply(lambda row: tt_est(a,b,c,d,row[\"Duration\"]), axis = 1)"
   ]
  },
  {
   "cell_type": "code",
   "execution_count": 316,
   "metadata": {},
   "outputs": [
    {
     "data": {
      "text/plain": [
       "<matplotlib.axes._subplots.AxesSubplot at 0x1a371f3ad0>"
      ]
     },
     "execution_count": 316,
     "metadata": {},
     "output_type": "execute_result"
    },
    {
     "data": {
      "image/png": "[encoded data removed]",
      "text/plain": [
       "<Figure size 432x288 with 1 Axes>"
      ]
     },
     "metadata": {
      "needs_background": "light"
     },
     "output_type": "display_data"
    }
   ],
   "source": [
    "sns.scatterplot(data = distances, x = \"Duration\", y = \"est_tt\")"
   ]
  },
  {
   "cell_type": "code",
   "execution_count": 317,
   "metadata": {},
   "outputs": [],
   "source": [
    "distances.to_csv(\"travel time.csv\")"
   ]
  },
  {
   "cell_type": "code",
   "execution_count": null,
   "metadata": {},
   "outputs": [],
   "source": []
  },
  {
   "cell_type": "markdown",
   "metadata": {},
   "source": [
    "# Using KNN to model the travle time ## Failed"
   ]
  },
  {
   "cell_type": "code",
   "execution_count": 199,
   "metadata": {},
   "outputs": [],
   "source": [
    "# Convert the dataframe to join with the distances file\n",
    "df_to_join = compare.iloc[:, 0:3].copy()\n",
    "df_to_join.columns = [\"From\", \"To\", \"Travel time\"]\n",
    "\n",
    "df_to_join.From = df_to_join.apply(lambda row: hub_ref[row.From] if row.From in hub_ref.keys() else row.From, axis = 1)\n",
    "df_to_join.To = df_to_join.apply(lambda row: hub_ref[row.To] if row.To in hub_ref.keys() else row.To, axis = 1)"
   ]
  },
  {
   "cell_type": "code",
   "execution_count": 212,
   "metadata": {},
   "outputs": [],
   "source": [
    "inter_distances = distances[distances[\"Origin Country\"] != distances[\"Destination Country\"]] # Get rid of the routes traveling in the same country\n",
    "df_with_tt = pd.merge(inter_distances, df_to_join, on = [\"From\", \"To\"], how = \"left\")"
   ]
  },
  {
   "cell_type": "code",
   "execution_count": 219,
   "metadata": {},
   "outputs": [],
   "source": [
    "tt_and_distances = df_with_tt.loc[:, [\"Distance Km\", \"Travel time\"]]"
   ]
  },
  {
   "cell_type": "code",
   "execution_count": 217,
   "metadata": {},
   "outputs": [],
   "source": [
    "import pylab as pl\n",
    "from matplotlib.pyplot import figure\n",
    "import numpy as np\n",
    "import math"
   ]
  },
  {
   "cell_type": "code",
   "execution_count": 220,
   "metadata": {},
   "outputs": [
    {
     "data": {
      "text/plain": [
       "array([[656.309,   7.   ],\n",
       "       [749.381,  24.25 ],\n",
       "       [641.489,  14.625],\n",
       "       ...,\n",
       "       [455.309,   6.   ],\n",
       "       [258.545,   6.25 ],\n",
       "       [258.66 ,   6.25 ]])"
      ]
     },
     "execution_count": 220,
     "metadata": {},
     "output_type": "execute_result"
    }
   ],
   "source": [
    "# USING KNN ALGO TO PREDICT MISSING Travel time BASED ON DISTANCE VALUE\n",
    "\n",
    "from sklearn.linear_model import LinearRegression\n",
    "from sklearn.model_selection import KFold\n",
    "from sklearn.metrics import r2_score\n",
    "import numpy as np\n",
    "import sklearn.impute \n",
    "\n",
    "imputer = sklearn.impute.KNNImputer(n_neighbors=2, weights=\"uniform\")\n",
    "#result = imputer.fit_transform(tt_and_distances)\n",
    "\n",
    "result #"
   ]
  },
  {
   "cell_type": "code",
   "execution_count": 223,
   "metadata": {},
   "outputs": [],
   "source": [
    "new_tt = pd.DataFrame(result, columns = [\"Distances km\", \"New_TT\"])"
   ]
  },
  {
   "cell_type": "code",
   "execution_count": 225,
   "metadata": {},
   "outputs": [],
   "source": [
    "df_with_tt[\"New_TT\"] = new_tt[\"New_TT\"]"
   ]
  },
  {
   "cell_type": "code",
   "execution_count": 226,
   "metadata": {},
   "outputs": [
    {
     "data": {
      "text/html": [
       "<div>\n",
       "<style scoped>\n",
       "    .dataframe tbody tr th:only-of-type {\n",
       "        vertical-align: middle;\n",
       "    }\n",
       "\n",
       "    .dataframe tbody tr th {\n",
       "        vertical-align: top;\n",
       "    }\n",
       "\n",
       "    .dataframe thead th {\n",
       "        text-align: right;\n",
       "    }\n",
       "</style>\n",
       "<table border=\"1\" class=\"dataframe\">\n",
       "  <thead>\n",
       "    <tr style=\"text-align: right;\">\n",
       "      <th></th>\n",
       "      <th>Origin Country</th>\n",
       "      <th>Destination Country</th>\n",
       "      <th>From</th>\n",
       "      <th>To</th>\n",
       "      <th>Distance Km</th>\n",
       "      <th>Time</th>\n",
       "      <th></th>\n",
       "      <th>Travel time</th>\n",
       "      <th>New_TT</th>\n",
       "    </tr>\n",
       "  </thead>\n",
       "  <tbody>\n",
       "    <tr>\n",
       "      <td>0</td>\n",
       "      <td>AT</td>\n",
       "      <td>DE</td>\n",
       "      <td>Hub Graz-AT</td>\n",
       "      <td>PZ 01 (Ottendorf-Okrilla)-DE</td>\n",
       "      <td>656.309</td>\n",
       "      <td>06:50:00</td>\n",
       "      <td>NaN</td>\n",
       "      <td>NaN</td>\n",
       "      <td>7.000</td>\n",
       "    </tr>\n",
       "    <tr>\n",
       "      <td>1</td>\n",
       "      <td>AT</td>\n",
       "      <td>DE</td>\n",
       "      <td>Hub Graz-AT</td>\n",
       "      <td>PZ 04 (Radefeld/Leipzig)-DE</td>\n",
       "      <td>749.381</td>\n",
       "      <td>06:25:00</td>\n",
       "      <td>NaN</td>\n",
       "      <td>NaN</td>\n",
       "      <td>24.250</td>\n",
       "    </tr>\n",
       "    <tr>\n",
       "      <td>2</td>\n",
       "      <td>AT</td>\n",
       "      <td>DE</td>\n",
       "      <td>Hub Graz-AT</td>\n",
       "      <td>PZ 08 (Neumark)-DE</td>\n",
       "      <td>641.489</td>\n",
       "      <td>05:40:00</td>\n",
       "      <td>NaN</td>\n",
       "      <td>NaN</td>\n",
       "      <td>14.625</td>\n",
       "    </tr>\n",
       "    <tr>\n",
       "      <td>3</td>\n",
       "      <td>AT</td>\n",
       "      <td>DE</td>\n",
       "      <td>Hub Graz-AT</td>\n",
       "      <td>PZ 14 (Börnicke)-DE</td>\n",
       "      <td>917.102</td>\n",
       "      <td>07:49:00</td>\n",
       "      <td>NaN</td>\n",
       "      <td>NaN</td>\n",
       "      <td>23.625</td>\n",
       "    </tr>\n",
       "    <tr>\n",
       "      <td>4</td>\n",
       "      <td>AT</td>\n",
       "      <td>DE</td>\n",
       "      <td>Hub Graz-AT</td>\n",
       "      <td>PZ 15 (Rüdersdorf)-DE</td>\n",
       "      <td>942.471</td>\n",
       "      <td>07:58:00</td>\n",
       "      <td>NaN</td>\n",
       "      <td>NaN</td>\n",
       "      <td>23.625</td>\n",
       "    </tr>\n",
       "    <tr>\n",
       "      <td>...</td>\n",
       "      <td>...</td>\n",
       "      <td>...</td>\n",
       "      <td>...</td>\n",
       "      <td>...</td>\n",
       "      <td>...</td>\n",
       "      <td>...</td>\n",
       "      <td>...</td>\n",
       "      <td>...</td>\n",
       "      <td>...</td>\n",
       "    </tr>\n",
       "    <tr>\n",
       "      <td>111929</td>\n",
       "      <td>HU</td>\n",
       "      <td>SI</td>\n",
       "      <td>Budapest OLK-HU</td>\n",
       "      <td>Ljubljana-SI</td>\n",
       "      <td>454.150</td>\n",
       "      <td>04:15:00</td>\n",
       "      <td>NaN</td>\n",
       "      <td>NaN</td>\n",
       "      <td>6.000</td>\n",
       "    </tr>\n",
       "    <tr>\n",
       "      <td>111930</td>\n",
       "      <td>SI</td>\n",
       "      <td>HU</td>\n",
       "      <td>Ljubljana-SI</td>\n",
       "      <td>Budapest NPKK (OE)-HU</td>\n",
       "      <td>491.141</td>\n",
       "      <td>04:32:00</td>\n",
       "      <td>NaN</td>\n",
       "      <td>NaN</td>\n",
       "      <td>13.750</td>\n",
       "    </tr>\n",
       "    <tr>\n",
       "      <td>111931</td>\n",
       "      <td>SI</td>\n",
       "      <td>HU</td>\n",
       "      <td>Ljubljana-SI</td>\n",
       "      <td>Budapest OLK-HU</td>\n",
       "      <td>455.309</td>\n",
       "      <td>04:14:00</td>\n",
       "      <td>NaN</td>\n",
       "      <td>NaN</td>\n",
       "      <td>6.000</td>\n",
       "    </tr>\n",
       "    <tr>\n",
       "      <td>111932</td>\n",
       "      <td>LV</td>\n",
       "      <td>LT</td>\n",
       "      <td>Riga-LV</td>\n",
       "      <td>Kaunas-LT</td>\n",
       "      <td>258.545</td>\n",
       "      <td>03:57:00</td>\n",
       "      <td>NaN</td>\n",
       "      <td>NaN</td>\n",
       "      <td>6.250</td>\n",
       "    </tr>\n",
       "    <tr>\n",
       "      <td>111933</td>\n",
       "      <td>LT</td>\n",
       "      <td>LV</td>\n",
       "      <td>Kaunas-LT</td>\n",
       "      <td>Riga-LV</td>\n",
       "      <td>258.660</td>\n",
       "      <td>03:56:00</td>\n",
       "      <td>NaN</td>\n",
       "      <td>NaN</td>\n",
       "      <td>6.250</td>\n",
       "    </tr>\n",
       "  </tbody>\n",
       "</table>\n",
       "<p>111934 rows × 9 columns</p>\n",
       "</div>"
      ],
      "text/plain": [
       "       Origin Country Destination Country             From  \\\n",
       "0                  AT                  DE      Hub Graz-AT   \n",
       "1                  AT                  DE      Hub Graz-AT   \n",
       "2                  AT                  DE      Hub Graz-AT   \n",
       "3                  AT                  DE      Hub Graz-AT   \n",
       "4                  AT                  DE      Hub Graz-AT   \n",
       "...               ...                 ...              ...   \n",
       "111929             HU                  SI  Budapest OLK-HU   \n",
       "111930             SI                  HU     Ljubljana-SI   \n",
       "111931             SI                  HU     Ljubljana-SI   \n",
       "111932             LV                  LT          Riga-LV   \n",
       "111933             LT                  LV        Kaunas-LT   \n",
       "\n",
       "                                  To  Distance Km      Time      Travel time  \\\n",
       "0       PZ 01 (Ottendorf-Okrilla)-DE      656.309  06:50:00 NaN          NaN   \n",
       "1        PZ 04 (Radefeld/Leipzig)-DE      749.381  06:25:00 NaN          NaN   \n",
       "2                 PZ 08 (Neumark)-DE      641.489  05:40:00 NaN          NaN   \n",
       "3                PZ 14 (Börnicke)-DE      917.102  07:49:00 NaN          NaN   \n",
       "4              PZ 15 (Rüdersdorf)-DE      942.471  07:58:00 NaN          NaN   \n",
       "...                              ...          ...       ...  ..          ...   \n",
       "111929                  Ljubljana-SI      454.150  04:15:00 NaN          NaN   \n",
       "111930         Budapest NPKK (OE)-HU      491.141  04:32:00 NaN          NaN   \n",
       "111931               Budapest OLK-HU      455.309  04:14:00 NaN          NaN   \n",
       "111932                     Kaunas-LT      258.545  03:57:00 NaN          NaN   \n",
       "111933                       Riga-LV      258.660  03:56:00 NaN          NaN   \n",
       "\n",
       "        New_TT  \n",
       "0        7.000  \n",
       "1       24.250  \n",
       "2       14.625  \n",
       "3       23.625  \n",
       "4       23.625  \n",
       "...        ...  \n",
       "111929   6.000  \n",
       "111930  13.750  \n",
       "111931   6.000  \n",
       "111932   6.250  \n",
       "111933   6.250  \n",
       "\n",
       "[111934 rows x 9 columns]"
      ]
     },
     "execution_count": 226,
     "metadata": {},
     "output_type": "execute_result"
    }
   ],
   "source": [
    "df_with_tt"
   ]
  },
  {
   "cell_type": "code",
   "execution_count": 313,
   "metadata": {},
   "outputs": [
    {
     "data": {
      "text/plain": [
       "<matplotlib.axes._subplots.AxesSubplot at 0x1196431d0>"
      ]
     },
     "execution_count": 313,
     "metadata": {},
     "output_type": "execute_result"
    },
    {
     "data": {
      "image/png": "[encoded data removed]",
      "text/plain": [
       "<Figure size 432x288 with 1 Axes>"
      ]
     },
     "metadata": {
      "needs_background": "light"
     },
     "output_type": "display_data"
    }
   ],
   "source": [
    "sns.scatterplot(x = \"Distance Km\", y = \"New_TT\", data = df_with_tt)"
   ]
  },
  {
   "cell_type": "code",
   "execution_count": null,
   "metadata": {},
   "outputs": [],
   "source": []
  }
 ],
 "metadata": {
  "kernelspec": {
   "display_name": "Python 3",
   "language": "python",
   "name": "python3"
  },
  "language_info": {
   "codemirror_mode": {
    "name": "ipython",
    "version": 3
   },
   "file_extension": ".py",
   "mimetype": "text/x-python",
   "name": "python",
   "nbconvert_exporter": "python",
   "pygments_lexer": "ipython3",
   "version": "3.7.4"
  }
 },
 "nbformat": 4,
 "nbformat_minor": 2
}
