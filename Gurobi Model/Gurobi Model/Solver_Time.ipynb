{
 "cells": [
  {
   "cell_type": "code",
   "execution_count": 1,
   "metadata": {},
   "outputs": [],
   "source": [
    "from gurobipy import Model, GRB, quicksum, tuplelist\n",
    "import numpy as np\n",
    "import pandas as pd"
   ]
  },
  {
   "cell_type": "code",
   "execution_count": 2,
   "metadata": {},
   "outputs": [],
   "source": [
    "# The following file works as a reference table to match the names of 2 sheets\n",
    "hub_list = pd.read_csv('Database/Hub list.csv')\n",
    "hub_list.Ref_City = hub_list.Ref_City + \"-\" + hub_list.Country\n",
    "\n",
    "# drop duplicates\n",
    "hub_list.drop_duplicates(subset = \"Ref_City\", keep='first', inplace=True)\n",
    "\n",
    "\n",
    "hub_ref = {}\n",
    "for row in hub_list.index:\n",
    "    hub_ref[hub_list.loc[row, \"City\"]] = hub_list.loc[row, \"Ref_City\"]\n",
    "\n",
    "    \n",
    "    \n",
    "def name_transform(city_name):\n",
    "    if city_name in hub_ref.keys():\n",
    "        return hub_ref[city_name]\n",
    "    else:\n",
    "        return city_name\n",
    "    \n",
    "    \n",
    "\n"
   ]
  },
  {
   "cell_type": "markdown",
   "metadata": {},
   "source": [
    "# Data Preparation"
   ]
  },
  {
   "cell_type": "markdown",
   "metadata": {},
   "source": [
    "## 1. Used Routes:"
   ]
  },
  {
   "cell_type": "code",
   "execution_count": 3,
   "metadata": {},
   "outputs": [],
   "source": [
    "used_routes = pd.read_csv(\"Output/freq_output.csv\")\n",
    "used_routes.columns = [\"\", \"Origin\", \"Destination\", \"Truck Type\", \"Freq\"]\n",
    "used_routes = used_routes[used_routes[\"Freq\"] > 0]\n",
    "\n",
    "used_routes_gb = used_routes.groupby([\"Origin\", \"Destination\"]).count()[\"Truck Type\"].reset_index()\n",
    "\n",
    "route_list = list(zip(used_routes_gb.Origin.tolist(), used_routes_gb.Destination.tolist()))\n",
    "used_hubs = used_routes_gb.Origin.tolist() + used_routes_gb.Destination.tolist()\n",
    "used_hubs = list( dict.fromkeys(used_hubs))"
   ]
  },
  {
   "cell_type": "code",
   "execution_count": 4,
   "metadata": {},
   "outputs": [],
   "source": [
    "hub_list_used = hub_list.set_index(\"Ref_City\")\n",
    "hub_list_used = hub_list_used.loc[hub_list_used.index.isin(used_hubs), :]\n",
    "hub_list_used.reset_index(inplace = True)\n"
   ]
  },
  {
   "cell_type": "markdown",
   "metadata": {},
   "source": [
    "## 2. Travel time (TT)\n",
    "Total transportation time from hub p ∈ H to q ∈ H"
   ]
  },
  {
   "cell_type": "code",
   "execution_count": 5,
   "metadata": {},
   "outputs": [],
   "source": [
    "tt_file = pd.read_csv(\"Database/travel time.csv\")\n",
    "TT = {}\n",
    "for row in tt_file.index:\n",
    "    key = (tt_file.loc[row, \"From\"], tt_file.loc[row, \"To\"])\n",
    "    value = tt_file.loc[row, \"est_tt\"]\n",
    "    \n",
    "    TT[key] = value"
   ]
  },
  {
   "cell_type": "markdown",
   "metadata": {},
   "source": [
    "## 3. Hub Open & Cut-off time\n",
    "- Op = Hub opened time for hub p ∈ H\n",
    "- COp  = Hub cut off time for hub p ∈ H\n",
    "- Close  = Hub close time for hub p ∈ H"
   ]
  },
  {
   "cell_type": "code",
   "execution_count": 6,
   "metadata": {},
   "outputs": [],
   "source": [
    "hub_info = pd.read_csv(\"Database/hub_info.csv\")\n",
    "merged_hub_info = hub_list_used.merge(hub_info[[\"Hub\", \"Open\", \"Cut-off\", \"Close\"]], left_on = \"Ref_City\", right_on = \"Hub\", how = \"left\")\n",
    "\n",
    "merged_hub_info[\"Open\"].fillna(merged_hub_info[\"Open\"].mode().values[0], inplace = True)\n",
    "merged_hub_info[\"Close\"].fillna(merged_hub_info[\"Close\"].mode().values[0], inplace = True)\n",
    "merged_hub_info[\"Cut-off\"].fillna(merged_hub_info[\"Cut-off\"].mode().values[0], inplace = True)\n",
    "# to replace certain mistakes:\n",
    "# merged_hub_info[\"Cut-off\"] = merged_hub_info.apply(lambda row: row[\"Cut-off\"] if row[\"Cut-off\"] < 10 else row[\"Cut-off\"], axis = 1)\n",
    "\n",
    "O = {} # Open time\n",
    "for row in merged_hub_info.index:\n",
    "    key = merged_hub_info.loc[row, \"Ref_City\"]\n",
    "    value = merged_hub_info.loc[row, \"Open\"]\n",
    "    O[key] = value\n",
    "\n",
    "CO = {} # Cut-off time\n",
    "for row in merged_hub_info.index:\n",
    "    key = merged_hub_info.loc[row, \"Ref_City\"]\n",
    "    value = merged_hub_info.loc[row, \"Cut-off\"]\n",
    "    CO[key] =  value\n",
    "    \n",
    "Close = {} # Close time\n",
    "for row in merged_hub_info.index:\n",
    "    key = merged_hub_info.loc[row, \"Ref_City\"]\n",
    "    value = merged_hub_info.loc[row, \"Close\"]\n",
    "    Close[key] =  value\n"
   ]
  },
  {
   "cell_type": "markdown",
   "metadata": {},
   "source": [
    "# Model"
   ]
  },
  {
   "cell_type": "code",
   "execution_count": 7,
   "metadata": {},
   "outputs": [
    {
     "name": "stdout",
     "output_type": "stream",
     "text": [
      "Using license file /Users/yi/gurobi.lic\n",
      "Academic license - for non-commercial use only\n"
     ]
    }
   ],
   "source": [
    "model = Model(\"DHL\")"
   ]
  },
  {
   "cell_type": "code",
   "execution_count": 8,
   "metadata": {},
   "outputs": [],
   "source": [
    "S = model.addVars(route_list , vtype=GRB.CONTINUOUS, name='Spq')         # Start time from hub p\n",
    "\n",
    "N = model.addVars(route_list , vtype=GRB.INTEGER, name='Npq')         # Night Needed from hub p to hub q\n",
    "\n",
    "J = model.addVars(route_list , vtype=GRB.CONTINUOUS, name='Npq') # Penalty when it can not arrive the hub on time\n"
   ]
  },
  {
   "cell_type": "code",
   "execution_count": 9,
   "metadata": {},
   "outputs": [],
   "source": [
    "model.update()\n",
    "\n",
    "# Minimize the travel time for each route\n",
    "model.setObjective(quicksum(J[p,q] for p, q in route_list),  GRB.MINIMIZE)\n"
   ]
  },
  {
   "cell_type": "code",
   "execution_count": 10,
   "metadata": {},
   "outputs": [
    {
     "data": {
      "text/plain": [
       "{('Araba (Vitoria)-ES', 'Brüssel-BE'): <gurobi.Constr *Awaiting Model Update*>,\n",
       " ('Araba (Vitoria)-ES',\n",
       "  'Eindhoven-Noord-NL'): <gurobi.Constr *Awaiting Model Update*>,\n",
       " ('Araba (Vitoria)-ES', 'Lisboa-PT'): <gurobi.Constr *Awaiting Model Update*>,\n",
       " ('Araba (Vitoria)-ES', 'Slough-GB'): <gurobi.Constr *Awaiting Model Update*>,\n",
       " ('Barcelona-ES', 'Helsingborg-SE'): <gurobi.Constr *Awaiting Model Update*>,\n",
       " ('Barcelona-ES', 'Hub Wien I-AT'): <gurobi.Constr *Awaiting Model Update*>,\n",
       " ('Barcelona-ES', 'PZ 77 (Lahr)-DE'): <gurobi.Constr *Awaiting Model Update*>,\n",
       " ('Bettembourg-LU', 'Ljubljana-SI'): <gurobi.Constr *Awaiting Model Update*>,\n",
       " ('Brno-CZ', 'Budapest OLK-HU'): <gurobi.Constr *Awaiting Model Update*>,\n",
       " ('Brno-CZ', 'Hagenbrunn-AT'): <gurobi.Constr *Awaiting Model Update*>,\n",
       " ('Brno-CZ', 'Ivanka pri Dunaji-SK'): <gurobi.Constr *Awaiting Model Update*>,\n",
       " ('Brüssel-BE', 'Araba (Vitoria)-ES'): <gurobi.Constr *Awaiting Model Update*>,\n",
       " ('Brüssel-BE', 'Combs la ville-FR'): <gurobi.Constr *Awaiting Model Update*>,\n",
       " ('Brüssel-BE', 'Eindhoven-Noord-NL'): <gurobi.Constr *Awaiting Model Update*>,\n",
       " ('Brüssel-BE', 'Kolding-DK'): <gurobi.Constr *Awaiting Model Update*>,\n",
       " ('Brüssel-BE', 'PZ 47 (Krefeld)-DE'): <gurobi.Constr *Awaiting Model Update*>,\n",
       " ('Brüssel-BE', 'PZ 67 (Speyer)-DE'): <gurobi.Constr *Awaiting Model Update*>,\n",
       " ('Brüssel-BE', 'PZ 77 (Lahr)-DE'): <gurobi.Constr *Awaiting Model Update*>,\n",
       " ('Brüssel-BE',\n",
       "  'PZ 93 (Regensburg)-DE'): <gurobi.Constr *Awaiting Model Update*>,\n",
       " ('Brüssel-BE', 'Poznań-PL'): <gurobi.Constr *Awaiting Model Update*>,\n",
       " ('Brüssel-BE', 'Slough-GB'): <gurobi.Constr *Awaiting Model Update*>,\n",
       " ('Brüssel-BE', 'Wals-AT'): <gurobi.Constr *Awaiting Model Update*>,\n",
       " ('Budapest OLK-HU', 'Brno-CZ'): <gurobi.Constr *Awaiting Model Update*>,\n",
       " ('Budapest OLK-HU', 'Hub Wien I-AT'): <gurobi.Constr *Awaiting Model Update*>,\n",
       " ('Budapest OLK-HU',\n",
       "  'Ivanka pri Dunaji-SK'): <gurobi.Constr *Awaiting Model Update*>,\n",
       " ('Budapest OLK-HU',\n",
       "  'PZ 90 (Feucht/Nürnberg)-DE'): <gurobi.Constr *Awaiting Model Update*>,\n",
       " ('Budapest OLK-HU',\n",
       "  'PZ 93 (Regensburg)-DE'): <gurobi.Constr *Awaiting Model Update*>,\n",
       " ('Budapest OLK-HU', 'Wrocław-PL'): <gurobi.Constr *Awaiting Model Update*>,\n",
       " ('Eindhoven-Noord-NL',\n",
       "  'Araba (Vitoria)-ES'): <gurobi.Constr *Awaiting Model Update*>,\n",
       " ('Eindhoven-Noord-NL',\n",
       "  'Bettembourg-LU'): <gurobi.Constr *Awaiting Model Update*>,\n",
       " ('Eindhoven-Noord-NL', 'Brüssel-BE'): <gurobi.Constr *Awaiting Model Update*>,\n",
       " ('Eindhoven-Noord-NL',\n",
       "  'Budapest OLK-HU'): <gurobi.Constr *Awaiting Model Update*>,\n",
       " ('Eindhoven-Noord-NL',\n",
       "  'Combs la ville-FR'): <gurobi.Constr *Awaiting Model Update*>,\n",
       " ('Eindhoven-Noord-NL', 'Dublin-IE'): <gurobi.Constr *Awaiting Model Update*>,\n",
       " ('Eindhoven-Noord-NL',\n",
       "  'Ivanka pri Dunaji-SK'): <gurobi.Constr *Awaiting Model Update*>,\n",
       " ('Eindhoven-Noord-NL', 'Kaunas-LT'): <gurobi.Constr *Awaiting Model Update*>,\n",
       " ('Eindhoven-Noord-NL', 'Kolding-DK'): <gurobi.Constr *Awaiting Model Update*>,\n",
       " ('Eindhoven-Noord-NL',\n",
       "  'Krupka 1-CZ'): <gurobi.Constr *Awaiting Model Update*>,\n",
       " ('Eindhoven-Noord-NL',\n",
       "  'Lieto (Turku)-FL'): <gurobi.Constr *Awaiting Model Update*>,\n",
       " ('Eindhoven-Noord-NL', 'Lisboa-PT'): <gurobi.Constr *Awaiting Model Update*>,\n",
       " ('Eindhoven-Noord-NL',\n",
       "  'Ljubljana-SI'): <gurobi.Constr *Awaiting Model Update*>,\n",
       " ('Eindhoven-Noord-NL',\n",
       "  'PZ 47 (Krefeld)-DE'): <gurobi.Constr *Awaiting Model Update*>,\n",
       " ('Eindhoven-Noord-NL', 'Slough-GB'): <gurobi.Constr *Awaiting Model Update*>,\n",
       " ('Eindhoven-Noord-NL', 'Spata-GR'): <gurobi.Constr *Awaiting Model Update*>,\n",
       " ('Eindhoven-Noord-NL', 'Wals-AT'): <gurobi.Constr *Awaiting Model Update*>,\n",
       " ('Göteborg-SE', 'Oslo-NO'): <gurobi.Constr *Awaiting Model Update*>,\n",
       " ('Hagenbrunn-AT', 'Brno-CZ'): <gurobi.Constr *Awaiting Model Update*>,\n",
       " ('Hagenbrunn-AT', 'Zabrze-PL'): <gurobi.Constr *Awaiting Model Update*>,\n",
       " ('Helsingborg-SE', 'Barcelona-ES'): <gurobi.Constr *Awaiting Model Update*>,\n",
       " ('Helsingborg-SE', 'Brno-CZ'): <gurobi.Constr *Awaiting Model Update*>,\n",
       " ('Helsingborg-SE', 'Poznań-PL'): <gurobi.Constr *Awaiting Model Update*>,\n",
       " ('Hub Wien I-AT', 'Brno-CZ'): <gurobi.Constr *Awaiting Model Update*>,\n",
       " ('Hub Wien I-AT', 'Budapest OLK-HU'): <gurobi.Constr *Awaiting Model Update*>,\n",
       " ('Hub Wien I-AT',\n",
       "  'Ivanka pri Dunaji-SK'): <gurobi.Constr *Awaiting Model Update*>,\n",
       " ('Hub Wien I-AT', 'Ljubljana-SI'): <gurobi.Constr *Awaiting Model Update*>,\n",
       " ('Hub Wien I-AT', 'Oradea-RO'): <gurobi.Constr *Awaiting Model Update*>,\n",
       " ('Hub Wien I-AT',\n",
       "  'PZ 90 (Feucht/Nürnberg)-DE'): <gurobi.Constr *Awaiting Model Update*>,\n",
       " ('Hub Wien I-AT', 'Sofia-BG'): <gurobi.Constr *Awaiting Model Update*>,\n",
       " ('Hub Wien I-AT', 'Zagreb-HR'): <gurobi.Constr *Awaiting Model Update*>,\n",
       " ('Ivanka pri Dunaji-SK', 'Brno-CZ'): <gurobi.Constr *Awaiting Model Update*>,\n",
       " ('Kaunas-LT', 'Lieto (Turku)-FL'): <gurobi.Constr *Awaiting Model Update*>,\n",
       " ('Kolding-DK', 'Malmö-SE'): <gurobi.Constr *Awaiting Model Update*>,\n",
       " ('Krupka 1-CZ',\n",
       "  'Eindhoven-Noord-NL'): <gurobi.Constr *Awaiting Model Update*>,\n",
       " ('Krupka 1-CZ',\n",
       "  'PZ 04 (Radefeld/Leipzig)-DE'): <gurobi.Constr *Awaiting Model Update*>,\n",
       " ('Krupka 1-CZ',\n",
       "  'PZ 15 (Rüdersdorf)-DE'): <gurobi.Constr *Awaiting Model Update*>,\n",
       " ('Lieto (Turku)-FL', 'Brüssel-BE'): <gurobi.Constr *Awaiting Model Update*>,\n",
       " ('Lieto (Turku)-FL',\n",
       "  'Eindhoven-Noord-NL'): <gurobi.Constr *Awaiting Model Update*>,\n",
       " ('Lieto (Turku)-FL',\n",
       "  'Helsingborg-SE'): <gurobi.Constr *Awaiting Model Update*>,\n",
       " ('Lieto (Turku)-FL', 'Kolding-DK'): <gurobi.Constr *Awaiting Model Update*>,\n",
       " ('Lieto (Turku)-FL',\n",
       "  'PZ 21 (Hamburg)-DE'): <gurobi.Constr *Awaiting Model Update*>,\n",
       " ('Lieto (Turku)-FL',\n",
       "  'Stockholm - Västberga-SE'): <gurobi.Constr *Awaiting Model Update*>,\n",
       " ('Lisboa-PT', 'Eindhoven-Noord-NL'): <gurobi.Constr *Awaiting Model Update*>,\n",
       " ('Lisboa-PT', 'PZ 50 (Köln)-DE'): <gurobi.Constr *Awaiting Model Update*>,\n",
       " ('Lisboa-PT', 'PZ 77 (Lahr)-DE'): <gurobi.Constr *Awaiting Model Update*>,\n",
       " ('Lisboa-PT',\n",
       "  'PZ 90 (Feucht/Nürnberg)-DE'): <gurobi.Constr *Awaiting Model Update*>,\n",
       " ('Lisboa-PT', 'Slough-GB'): <gurobi.Constr *Awaiting Model Update*>,\n",
       " ('Ljubljana-SI',\n",
       "  'PZ 90 (Feucht/Nürnberg)-DE'): <gurobi.Constr *Awaiting Model Update*>,\n",
       " ('Ljubljana-SI', 'Wernberg-AT'): <gurobi.Constr *Awaiting Model Update*>,\n",
       " ('Malmö-SE', 'Eindhoven-Noord-NL'): <gurobi.Constr *Awaiting Model Update*>,\n",
       " ('Malmö-SE', 'Kolding-DK'): <gurobi.Constr *Awaiting Model Update*>,\n",
       " ('Malmö-SE', 'Krupka 1-CZ'): <gurobi.Constr *Awaiting Model Update*>,\n",
       " ('Malmö-SE', 'PZ 21 (Hamburg)-DE'): <gurobi.Constr *Awaiting Model Update*>,\n",
       " ('Malmö-SE', 'Slough-GB'): <gurobi.Constr *Awaiting Model Update*>,\n",
       " ('Malmö-SE', 'Wals-AT'): <gurobi.Constr *Awaiting Model Update*>,\n",
       " ('Ostrava-CZ', 'Zabrze-PL'): <gurobi.Constr *Awaiting Model Update*>,\n",
       " ('PZ 04 (Radefeld/Leipzig)-DE',\n",
       "  'Krupka 1-CZ'): <gurobi.Constr *Awaiting Model Update*>,\n",
       " ('PZ 15 (Rüdersdorf)-DE',\n",
       "  'Malmö-SE'): <gurobi.Constr *Awaiting Model Update*>,\n",
       " ('PZ 15 (Rüdersdorf)-DE',\n",
       "  'Poznań-PL'): <gurobi.Constr *Awaiting Model Update*>,\n",
       " ('PZ 21 (Hamburg)-DE', 'Kolding-DK'): <gurobi.Constr *Awaiting Model Update*>,\n",
       " ('PZ 21 (Hamburg)-DE', 'Oslo-NO'): <gurobi.Constr *Awaiting Model Update*>,\n",
       " ('PZ 24 (Neumünster)-DE',\n",
       "  'Malmö-SE'): <gurobi.Constr *Awaiting Model Update*>,\n",
       " ('PZ 47 (Krefeld)-DE', 'Brüssel-BE'): <gurobi.Constr *Awaiting Model Update*>,\n",
       " ('PZ 47 (Krefeld)-DE',\n",
       "  'Eindhoven-Noord-NL'): <gurobi.Constr *Awaiting Model Update*>,\n",
       " ('PZ 47 (Krefeld)-DE', 'Slough-GB'): <gurobi.Constr *Awaiting Model Update*>,\n",
       " ('PZ 50 (Köln)-DE',\n",
       "  'Bettembourg-LU'): <gurobi.Constr *Awaiting Model Update*>,\n",
       " ('PZ 50 (Köln)-DE',\n",
       "  'Combs la ville-FR'): <gurobi.Constr *Awaiting Model Update*>,\n",
       " ('PZ 50 (Köln)-DE',\n",
       "  'Helsingborg-SE'): <gurobi.Constr *Awaiting Model Update*>,\n",
       " ('PZ 50 (Köln)-DE', 'Lisboa-PT'): <gurobi.Constr *Awaiting Model Update*>,\n",
       " ('PZ 67 (Speyer)-DE', 'Plzen 1-CZ'): <gurobi.Constr *Awaiting Model Update*>,\n",
       " ('PZ 77 (Lahr)-DE', 'Barcelona-ES'): <gurobi.Constr *Awaiting Model Update*>,\n",
       " ('PZ 90 (Feucht/Nürnberg)-DE',\n",
       "  'Brüssel-BE'): <gurobi.Constr *Awaiting Model Update*>,\n",
       " ('PZ 90 (Feucht/Nürnberg)-DE',\n",
       "  'Budapest OLK-HU'): <gurobi.Constr *Awaiting Model Update*>,\n",
       " ('PZ 90 (Feucht/Nürnberg)-DE',\n",
       "  'Eindhoven-Noord-NL'): <gurobi.Constr *Awaiting Model Update*>,\n",
       " ('PZ 90 (Feucht/Nürnberg)-DE',\n",
       "  'Hub Wien I-AT'): <gurobi.Constr *Awaiting Model Update*>,\n",
       " ('PZ 90 (Feucht/Nürnberg)-DE',\n",
       "  'Oradea-RO'): <gurobi.Constr *Awaiting Model Update*>,\n",
       " ('PZ 90 (Feucht/Nürnberg)-DE',\n",
       "  'Poznań-PL'): <gurobi.Constr *Awaiting Model Update*>,\n",
       " ('PZ 90 (Feucht/Nürnberg)-DE',\n",
       "  'Sofia-BG'): <gurobi.Constr *Awaiting Model Update*>,\n",
       " ('PZ 90 (Feucht/Nürnberg)-DE',\n",
       "  'Zagreb-HR'): <gurobi.Constr *Awaiting Model Update*>,\n",
       " ('PZ 93 (Regensburg)-DE',\n",
       "  'Budapest OLK-HU'): <gurobi.Constr *Awaiting Model Update*>,\n",
       " ('PZ 93 (Regensburg)-DE',\n",
       "  'Ivanka pri Dunaji-SK'): <gurobi.Constr *Awaiting Model Update*>,\n",
       " ('PZ 93 (Regensburg)-DE',\n",
       "  'Ljubljana-SI'): <gurobi.Constr *Awaiting Model Update*>,\n",
       " ('PZ 93 (Regensburg)-DE',\n",
       "  'Sofia-BG'): <gurobi.Constr *Awaiting Model Update*>,\n",
       " ('PZ 93 (Regensburg)-DE', 'Wals-AT'): <gurobi.Constr *Awaiting Model Update*>,\n",
       " ('Plzen 1-CZ', 'Barcelona-ES'): <gurobi.Constr *Awaiting Model Update*>,\n",
       " ('Poznań-PL', 'Brüssel-BE'): <gurobi.Constr *Awaiting Model Update*>,\n",
       " ('Poznań-PL', 'Dublin-IE'): <gurobi.Constr *Awaiting Model Update*>,\n",
       " ('Poznań-PL', 'Eindhoven-Noord-NL'): <gurobi.Constr *Awaiting Model Update*>,\n",
       " ('Poznań-PL', 'Kaunas-LT'): <gurobi.Constr *Awaiting Model Update*>,\n",
       " ('Poznań-PL', 'Kolding-DK'): <gurobi.Constr *Awaiting Model Update*>,\n",
       " ('Poznań-PL', 'Malmö-SE'): <gurobi.Constr *Awaiting Model Update*>,\n",
       " ('Poznań-PL',\n",
       "  'PZ 15 (Rüdersdorf)-DE'): <gurobi.Constr *Awaiting Model Update*>,\n",
       " ('Poznań-PL', 'Slough-GB'): <gurobi.Constr *Awaiting Model Update*>,\n",
       " ('Slough-GB', 'Araba (Vitoria)-ES'): <gurobi.Constr *Awaiting Model Update*>,\n",
       " ('Slough-GB', 'Bettembourg-LU'): <gurobi.Constr *Awaiting Model Update*>,\n",
       " ('Slough-GB', 'Brüssel-BE'): <gurobi.Constr *Awaiting Model Update*>,\n",
       " ('Slough-GB', 'Budapest OLK-HU'): <gurobi.Constr *Awaiting Model Update*>,\n",
       " ('Slough-GB', 'Combs la ville-FR'): <gurobi.Constr *Awaiting Model Update*>,\n",
       " ('Slough-GB', 'Dublin-IE'): <gurobi.Constr *Awaiting Model Update*>,\n",
       " ('Slough-GB', 'Eindhoven-Noord-NL'): <gurobi.Constr *Awaiting Model Update*>,\n",
       " ('Slough-GB',\n",
       "  'Ivanka pri Dunaji-SK'): <gurobi.Constr *Awaiting Model Update*>,\n",
       " ('Slough-GB', 'PZ 47 (Krefeld)-DE'): <gurobi.Constr *Awaiting Model Update*>,\n",
       " ('Slough-GB', 'Wals-AT'): <gurobi.Constr *Awaiting Model Update*>,\n",
       " ('Sofia-BG', 'Budapest OLK-HU'): <gurobi.Constr *Awaiting Model Update*>,\n",
       " ('Sofia-BG', 'Hub Wien I-AT'): <gurobi.Constr *Awaiting Model Update*>,\n",
       " ('Sofia-BG', 'Kaunas-LT'): <gurobi.Constr *Awaiting Model Update*>,\n",
       " ('Sofia-BG', 'Wrocław-PL'): <gurobi.Constr *Awaiting Model Update*>,\n",
       " ('Stockholm - Västberga-SE',\n",
       "  'Lieto (Turku)-FL'): <gurobi.Constr *Awaiting Model Update*>,\n",
       " ('Suwałki (Ełk)-PL', 'Kaunas-LT'): <gurobi.Constr *Awaiting Model Update*>,\n",
       " ('Suwałki (Ełk)-PL', 'Ostrava-CZ'): <gurobi.Constr *Awaiting Model Update*>,\n",
       " ('Suwałki (Ełk)-PL',\n",
       "  'Vantaa (Helsinki)-FL'): <gurobi.Constr *Awaiting Model Update*>,\n",
       " ('Vantaa (Helsinki)-FL',\n",
       "  'Hub Wien I-AT'): <gurobi.Constr *Awaiting Model Update*>,\n",
       " ('Vantaa (Helsinki)-FL',\n",
       "  'Suwałki (Ełk)-PL'): <gurobi.Constr *Awaiting Model Update*>,\n",
       " ('Wals-AT', 'Oradea-RO'): <gurobi.Constr *Awaiting Model Update*>,\n",
       " ('Wals-AT', 'PZ 93 (Regensburg)-DE'): <gurobi.Constr *Awaiting Model Update*>,\n",
       " ('Wals-AT', 'Sofia-BG'): <gurobi.Constr *Awaiting Model Update*>,\n",
       " ('Wals-AT', 'Zagreb-HR'): <gurobi.Constr *Awaiting Model Update*>,\n",
       " ('Wrocław-PL', 'Barcelona-ES'): <gurobi.Constr *Awaiting Model Update*>,\n",
       " ('Wrocław-PL', 'Bettembourg-LU'): <gurobi.Constr *Awaiting Model Update*>,\n",
       " ('Wrocław-PL', 'Lisboa-PT'): <gurobi.Constr *Awaiting Model Update*>,\n",
       " ('Zabrze-PL', 'Budapest OLK-HU'): <gurobi.Constr *Awaiting Model Update*>,\n",
       " ('Zabrze-PL', 'Hagenbrunn-AT'): <gurobi.Constr *Awaiting Model Update*>,\n",
       " ('Zabrze-PL', 'Ljubljana-SI'): <gurobi.Constr *Awaiting Model Update*>,\n",
       " ('Zabrze-PL', 'Oradea-RO'): <gurobi.Constr *Awaiting Model Update*>,\n",
       " ('Zabrze-PL', 'Ostrava-CZ'): <gurobi.Constr *Awaiting Model Update*>,\n",
       " ('Zabrze-PL', 'Sofia-BG'): <gurobi.Constr *Awaiting Model Update*>,\n",
       " ('Zabrze-PL', 'Zagreb-HR'): <gurobi.Constr *Awaiting Model Update*>,\n",
       " ('Zabrze-PL', 'Zilina- Strecno-SK'): <gurobi.Constr *Awaiting Model Update*>,\n",
       " ('Zaltbommel-NL', 'Malmö-SE'): <gurobi.Constr *Awaiting Model Update*>,\n",
       " ('Zaltbommel-NL', 'Poznań-PL'): <gurobi.Constr *Awaiting Model Update*>}"
      ]
     },
     "execution_count": 10,
     "metadata": {},
     "output_type": "execute_result"
    }
   ],
   "source": [
    "model.addConstrs((S[p,q] + TT[p,q] - N[p,q] * 24 + J[p,q]  <=  \n",
    "                 CO[q] for p,q in route_list), \"Hub Cut Off Time\")\n",
    "\n",
    "model.addConstrs((S[p,q] + TT[p,q] - N[p,q] * 24 + J[p,q] >=  \n",
    "                 O[q] for p,q in route_list), \"Hub Open Time\")\n",
    "\n",
    "model.addConstrs((S[p,q]<=  \n",
    "                 Close[p] for p,q in route_list), \"Hub Close Time for departure\")\n",
    "model.addConstrs((S[p,q] >=  \n",
    "                 O[p] for p,q in route_list), \"Hub Open Time for departure\")\n"
   ]
  },
  {
   "cell_type": "code",
   "execution_count": 11,
   "metadata": {},
   "outputs": [
    {
     "name": "stdout",
     "output_type": "stream",
     "text": [
      "\n",
      "Statistics for model DHL :\n",
      "  Linear constraint matrix    : 636 Constrs, 477 Vars, 1272 NZs\n",
      "  Variable types              : 318 Continuous, 159 Integer\n",
      "  Matrix coefficient range    : [ 1, 24 ]\n",
      "  Objective coefficient range : [ 1, 1 ]\n",
      "  Variable bound range        : [ 0, 0 ]\n",
      "  RHS coefficient range       : [ 0.00333333, 56.57 ]\n"
     ]
    }
   ],
   "source": [
    "model.update()\n",
    "model.printStats()"
   ]
  },
  {
   "cell_type": "code",
   "execution_count": 12,
   "metadata": {},
   "outputs": [
    {
     "name": "stdout",
     "output_type": "stream",
     "text": [
      "Changed value of parameter TimeLimit to 300.0\n",
      "   Prev: inf  Min: 0.0  Max: inf  Default: inf\n",
      "Gurobi Optimizer version 9.0.2 build v9.0.2rc0 (mac64)\n",
      "Optimize a model with 636 rows, 477 columns and 1272 nonzeros\n",
      "Model fingerprint: 0xc7ee97bf\n",
      "Variable types: 318 continuous, 159 integer (0 binary)\n",
      "Coefficient statistics:\n",
      "  Matrix range     [1e+00, 2e+01]\n",
      "  Objective range  [1e+00, 1e+00]\n",
      "  Bounds range     [0e+00, 0e+00]\n",
      "  RHS range        [3e-03, 6e+01]\n",
      "Found heuristic solution: objective 482.0133333\n",
      "Presolve removed 634 rows and 474 columns\n",
      "Presolve time: 0.06s\n",
      "Presolved: 2 rows, 3 columns, 6 nonzeros\n",
      "Found heuristic solution: objective 13.8033333\n",
      "Variable types: 2 continuous, 1 integer (0 binary)\n",
      "\n",
      "Root relaxation: objective 4.933333e-01, 1 iterations, 0.00 seconds\n",
      "\n",
      "    Nodes    |    Current Node    |     Objective Bounds      |     Work\n",
      " Expl Unexpl |  Obj  Depth IntInf | Incumbent    BestBd   Gap | It/Node Time\n",
      "\n",
      "*    0     0               0       0.4933333    0.49333  0.00%     -    0s\n",
      "\n",
      "Explored 0 nodes (1 simplex iterations) in 0.15 seconds\n",
      "Thread count was 4 (of 4 available processors)\n",
      "\n",
      "Solution count 2: 0.493333 482.013 \n",
      "\n",
      "Optimal solution found (tolerance 1.00e-04)\n",
      "Best objective 4.933333333333e-01, best bound 4.933333333333e-01, gap 0.0000%\n"
     ]
    }
   ],
   "source": [
    "timeLimit = 300\n",
    "model.Params.TimeLimit = timeLimit - model.getAttr(GRB.Attr.Runtime)\n",
    "model.optimize()"
   ]
  },
  {
   "cell_type": "code",
   "execution_count": 13,
   "metadata": {},
   "outputs": [],
   "source": [
    "def turn_to_df(Var, col_name = None):  # Here you could input the variable\n",
    "    solution = model.getAttr('x_', Var)\n",
    "    num_col = len(solution.keys()[0])\n",
    "    collect = []\n",
    "    for row in range(0, len(solution)):\n",
    "        new_row = []\n",
    "        for col in range(0, num_col):\n",
    "            new_row.append(solution.keys()[row][col])\n",
    "        new_row.append(solution[solution.keys()[row]])\n",
    "    \n",
    "        collect.append(new_row)\n",
    "    return pd.DataFrame(collect, columns = col_name)\n",
    "\n"
   ]
  },
  {
   "cell_type": "code",
   "execution_count": 14,
   "metadata": {},
   "outputs": [],
   "source": [
    "Start = turn_to_df(S, [\"Ori_Hub\", \"Dest_Hub\", \"Time\"])\n",
    "Night = turn_to_df(N, [\"Ori_Hub\", \"Dest_Hub\", \"Nights\"])\n",
    "Penalty = turn_to_df(J, [\"Ori_Hub\", \"Dest_Hub\", \"Extra Hour\"])\n",
    "\n"
   ]
  },
  {
   "cell_type": "code",
   "execution_count": 15,
   "metadata": {},
   "outputs": [],
   "source": [
    "attri_name = [\"start\", \"night\", \"penalty\"]\n",
    "all_result = [Start, Night, Penalty]\n",
    "\n",
    "for row in range(0, len(attri_name)):\n",
    "    all_result[row].to_csv(f\"Output/{attri_name[row]}_output.csv\")"
   ]
  },
  {
   "cell_type": "code",
   "execution_count": 16,
   "metadata": {},
   "outputs": [
    {
     "data": {
      "text/html": [
       "<div>\n",
       "<style scoped>\n",
       "    .dataframe tbody tr th:only-of-type {\n",
       "        vertical-align: middle;\n",
       "    }\n",
       "\n",
       "    .dataframe tbody tr th {\n",
       "        vertical-align: top;\n",
       "    }\n",
       "\n",
       "    .dataframe thead th {\n",
       "        text-align: right;\n",
       "    }\n",
       "</style>\n",
       "<table border=\"1\" class=\"dataframe\">\n",
       "  <thead>\n",
       "    <tr style=\"text-align: right;\">\n",
       "      <th></th>\n",
       "      <th>Ori_Hub</th>\n",
       "      <th>Dest_Hub</th>\n",
       "      <th>Extra Hour</th>\n",
       "    </tr>\n",
       "  </thead>\n",
       "  <tbody>\n",
       "    <tr>\n",
       "      <th>45</th>\n",
       "      <td>Göteborg-SE</td>\n",
       "      <td>Oslo-NO</td>\n",
       "      <td>0.493333</td>\n",
       "    </tr>\n",
       "  </tbody>\n",
       "</table>\n",
       "</div>"
      ],
      "text/plain": [
       "        Ori_Hub Dest_Hub  Extra Hour\n",
       "45  Göteborg-SE  Oslo-NO    0.493333"
      ]
     },
     "execution_count": 16,
     "metadata": {},
     "output_type": "execute_result"
    }
   ],
   "source": [
    "Penalty[Penalty[\"Extra Hour\"] > 0]"
   ]
  }
 ],
 "metadata": {
  "kernelspec": {
   "display_name": "Python 3",
   "language": "python",
   "name": "python3"
  },
  "language_info": {
   "codemirror_mode": {
    "name": "ipython",
    "version": 3
   },
   "file_extension": ".py",
   "mimetype": "text/x-python",
   "name": "python",
   "nbconvert_exporter": "python",
   "pygments_lexer": "ipython3",
   "version": "3.7.4"
  }
 },
 "nbformat": 4,
 "nbformat_minor": 2
}
